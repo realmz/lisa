{
 "cells": [
  {
   "cell_type": "markdown",
   "metadata": {},
   "source": [
    "# Kernel Functions Profiling"
   ]
  },
  {
   "cell_type": "code",
   "execution_count": 1,
   "metadata": {
    "collapsed": true
   },
   "outputs": [],
   "source": [
    "import logging\n",
    "reload(logging)\n",
    "logging.basicConfig(\n",
    "    format='%(asctime)-9s %(levelname)-8s: %(message)s',\n",
    "    datefmt='%I:%M:%S')\n",
    "\n",
    "# Enable logging at INFO level\n",
    "logging.getLogger().setLevel(logging.INFO)"
   ]
  },
  {
   "cell_type": "code",
   "execution_count": 2,
   "metadata": {
    "collapsed": true
   },
   "outputs": [],
   "source": [
    "# Generate plots inline\n",
    "%matplotlib inline\n",
    "\n",
    "import json\n",
    "import os\n",
    "\n",
    "# Support to access the remote target\n",
    "import devlib\n",
    "from env import TestEnv\n",
    "\n",
    "# RTApp configurator for generation of PERIODIC tasks\n",
    "from wlgen import RTA, Ramp\n",
    "\n",
    "# Support for trace events analysis\n",
    "from trace import Trace"
   ]
  },
  {
   "cell_type": "markdown",
   "metadata": {},
   "source": [
    "# Target Configuration"
   ]
  },
  {
   "cell_type": "code",
   "execution_count": 3,
   "metadata": {
    "collapsed": true
   },
   "outputs": [],
   "source": [
    "# Setup target configuration\n",
    "my_conf = {\n",
    "\n",
    "    \"platform\"    : 'android',\n",
    "    \"board\"       : \"hikey960\",\n",
    "    \"device\" : \"0123456789ABCDEF\",\n",
    "    \n",
    "    \"ANDROID_HOME\" : \"/home/lisa/android-sdk\",\n",
    "    \"rtapp-calib\" : {\"0\": 302, \"1\": 302, \"2\": 304, \"3\": 304, \"4\": 136, \"5\": 137, \"6\": 136, \"7\": 136},\n",
    "\n",
    "     \"emeter\" : {\n",
    "        \"instrument\" : \"acme\",\n",
    "        \"conf\" : {\n",
    "            # Absolute path to the iio-capture binary on the host\n",
    "            'iio-capture' : '/usr/bin/iio-capture',\n",
    "            # Default host name of the BeagleBone Black\n",
    "            'ip_address'     : '10.169.36.36',\n",
    "        },\n",
    "        \"channel_map\" : {\n",
    "            \"Device0\" : 0, # iio:device0\n",
    "            \"Device1\" : 1, # iio:device0\n",
    "        }\n",
    "    },  \n",
    "\n",
    "    # Folder where all the results will be collected\n",
    "    \"results_dir\" : \"TraceAnalysis_FunctionsProfiling\",\n",
    "\n",
    "    # Define devlib modules to load\n",
    "    \"exclude_modules\" : [ 'hwmon' ],\n",
    "\n",
    "    # FTrace events to collect for all the tests configuration which have\n",
    "    # the \"ftrace\" flag enabled\n",
    "    \"ftrace\"  : {\n",
    "        \"functions\" : [\n",
    "            \"pick_next_task_fair\",\n",
    "            \"select_task_rq_fair\",\n",
    "            \"enqueue_task_fair\",\n",
    "            \"update_curr_fair\",\n",
    "            \"dequeue_task_fair\",\n",
    "            \n",
    "            # for tests\n",
    "            \"scheduler_timeout\",\n",
    "            \"tick_sched_timer\",\n",
    "            \"tick_sched_do_timer\",\n",
    "            \"schedtune_cpu_boost\",\n",
    "            \"schedtune_task_boost\",\n",
    "            \"schedtune_prefer_idle\",\n",
    "            \"schedtune_enqueue_task\",\n",
    "            \"schedtune_dequeue_task\",\n",
    "        ],\n",
    "        \n",
    "         \"buffsize\" : 100 * 1024,\n",
    "    },\n",
    "\n",
    "    # Tools required by the experiments\n",
    "    \"tools\"   : [ 'trace-cmd', 'rt-app' ],\n",
    "    \n",
    "\n",
    "}"
   ]
  },
  {
   "cell_type": "code",
   "execution_count": 4,
   "metadata": {
    "scrolled": false
   },
   "outputs": [
    {
     "name": "stderr",
     "output_type": "stream",
     "text": [
      "09:24:40  INFO    : Using base path: /home/lisa/lisa-github\n",
      "09:24:40  INFO    : Loading custom (inline) target configuration\n",
      "09:24:40  INFO    : External tools using:\n",
      "09:24:40  INFO    :    ANDROID_HOME: /home/lisa/android-sdk\n",
      "09:24:40  INFO    :    CATAPULT_HOME: /home/lisa/lisa-github/tools/catapult\n",
      "09:24:40  INFO    : Devlib modules to load: ['bl', 'cpuidle', 'cpufreq']\n",
      "09:24:40  INFO    : Connecting Android target [0123456789ABCDEF]\n",
      "09:24:40  INFO    : Connection settings:\n",
      "09:24:40  INFO    :    {'device': '0123456789ABCDEF'}\n",
      "09:24:40  INFO    : Initializing target workdir:\n",
      "09:24:40  INFO    :    /data/local/tmp/devlib-target\n",
      "09:24:42  INFO    : Attempting to read energy model from target\n",
      "09:24:44  INFO    : Topology:\n",
      "09:24:44  INFO    :    [[0, 1, 2, 3], [4, 5, 6, 7]]\n",
      "09:24:44  INFO    : Loading default EM:\n",
      "09:24:44  INFO    :    /home/lisa/lisa-github/libs/utils/platforms/hikey960.json\n",
      "09:24:44  WARNING : Function [scheduler_timeout] not available for profiling\n",
      "09:24:44  WARNING : Function [tick_sched_do_timer] not available for profiling\n",
      "09:24:44  INFO    : Enabled tracepoints:\n",
      "09:24:44  INFO    :    sched:*\n",
      "09:24:44  INFO    : Kernel functions profiled:\n",
      "09:24:44  INFO    :    pick_next_task_fair\n",
      "09:24:44  INFO    :    select_task_rq_fair\n",
      "09:24:44  INFO    :    enqueue_task_fair\n",
      "09:24:44  INFO    :    update_curr_fair\n",
      "09:24:44  INFO    :    dequeue_task_fair\n",
      "09:24:44  INFO    :    scheduler_timeout\n",
      "09:24:44  INFO    :    tick_sched_timer\n",
      "09:24:44  INFO    :    tick_sched_do_timer\n",
      "09:24:44  INFO    :    schedtune_cpu_boost\n",
      "09:24:44  INFO    :    schedtune_task_boost\n",
      "09:24:44  INFO    :    schedtune_prefer_idle\n",
      "09:24:44  INFO    :    schedtune_enqueue_task\n",
      "09:24:44  INFO    :    schedtune_dequeue_task\n",
      "09:24:44  WARNING : Using configuration provided RTApp calibration\n",
      "09:24:44  INFO    : Using RT-App calibration values:\n",
      "09:24:44  INFO    :    {\"0\": 302, \"1\": 302, \"2\": 304, \"3\": 304, \"4\": 136, \"5\": 137, \"6\": 136, \"7\": 136}\n",
      "09:24:45  INFO    : ACME configuration:\n",
      "09:24:45  INFO    :     binary: /usr/bin/iio-capture\n",
      "09:24:45  INFO    :     device: 10.169.36.36\n",
      "09:24:45  INFO    :   channels:\n",
      "09:24:45  INFO    :      Device1 (iio:device1)\n",
      "09:24:45  INFO    :      Device0 (iio:device0)\n",
      "09:24:45  INFO    : Set results folder to:\n",
      "09:24:45  INFO    :    /home/lisa/lisa-github/results/TraceAnalysis_FunctionsProfiling\n",
      "09:24:45  INFO    : Experiment results available also in:\n",
      "09:24:45  INFO    :    /home/lisa/lisa-github/results_latest\n"
     ]
    }
   ],
   "source": [
    "# Initialize a test environment using:\n",
    "te = TestEnv(my_conf, wipe=False, force_new=True)\n",
    "target = te.target"
   ]
  },
  {
   "cell_type": "markdown",
   "metadata": {},
   "source": [
    "# Workload Execution and Functions Profiling Data Collection"
   ]
  },
  {
   "cell_type": "code",
   "execution_count": 5,
   "metadata": {
    "collapsed": true
   },
   "outputs": [],
   "source": [
    "def experiment(te):\n",
    "\n",
    "    # Create and RTApp RAMP task\n",
    "    rtapp = RTA(te.target, 'ramp', calibration=te.calibration())\n",
    "    rtapp.conf(kind='profile',\n",
    "               params={\n",
    "                    'ramp' : Ramp(\n",
    "                        start_pct =  60,\n",
    "                        end_pct   =  20,\n",
    "                        delta_pct =   5,\n",
    "                        time_s    =   0.5).get()\n",
    "              })\n",
    "\n",
    "    # FTrace the execution of this workload\n",
    "    te.ftrace.start()\n",
    "    rtapp.run(out_dir=te.res_dir)\n",
    "    te.ftrace.stop()\n",
    "\n",
    "    # Collect and keep track of the trace\n",
    "    trace_file = os.path.join(te.res_dir, 'trace.dat')\n",
    "    te.ftrace.get_trace(trace_file)\n",
    "    \n",
    "    # Collect and keep track of the Kernel Functions performance data\n",
    "    stats_file = os.path.join(te.res_dir, 'trace.stats')\n",
    "    te.ftrace.get_stats(stats_file)\n",
    "\n",
    "    # Dump platform descriptor\n",
    "    te.platform_dump(te.res_dir)"
   ]
  },
  {
   "cell_type": "code",
   "execution_count": 6,
   "metadata": {},
   "outputs": [
    {
     "name": "stderr",
     "output_type": "stream",
     "text": [
      "09:24:45  INFO    : Setup new workload ramp\n",
      "09:24:45  INFO    : Workload duration defined by longest task\n",
      "09:24:45  INFO    : Default policy: SCHED_OTHER\n",
      "09:24:45  INFO    : ------------------------\n",
      "09:24:45  INFO    : task [ramp], sched: using default policy\n",
      "09:24:45  INFO    :  | loops count: 1\n",
      "09:24:45  INFO    : + phase_000001: duration 0.500000 [s] (5 loops)\n",
      "09:24:45  INFO    : |  period   100000 [us], duty_cycle  60 %\n",
      "09:24:45  INFO    : |  run_time  60000 [us], sleep_time  40000 [us]\n",
      "09:24:45  INFO    : + phase_000002: duration 0.500000 [s] (5 loops)\n",
      "09:24:45  INFO    : |  period   100000 [us], duty_cycle  55 %\n",
      "09:24:45  INFO    : |  run_time  55000 [us], sleep_time  45000 [us]\n",
      "09:24:45  INFO    : + phase_000003: duration 0.500000 [s] (5 loops)\n",
      "09:24:45  INFO    : |  period   100000 [us], duty_cycle  50 %\n",
      "09:24:45  INFO    : |  run_time  50000 [us], sleep_time  50000 [us]\n",
      "09:24:45  INFO    : + phase_000004: duration 0.500000 [s] (5 loops)\n",
      "09:24:45  INFO    : |  period   100000 [us], duty_cycle  45 %\n",
      "09:24:45  INFO    : |  run_time  45000 [us], sleep_time  55000 [us]\n",
      "09:24:45  INFO    : + phase_000005: duration 0.500000 [s] (5 loops)\n",
      "09:24:45  INFO    : |  period   100000 [us], duty_cycle  40 %\n",
      "09:24:45  INFO    : |  run_time  40000 [us], sleep_time  60000 [us]\n",
      "09:24:45  INFO    : + phase_000006: duration 0.500000 [s] (5 loops)\n",
      "09:24:45  INFO    : |  period   100000 [us], duty_cycle  35 %\n",
      "09:24:45  INFO    : |  run_time  35000 [us], sleep_time  65000 [us]\n",
      "09:24:45  INFO    : + phase_000007: duration 0.500000 [s] (5 loops)\n",
      "09:24:45  INFO    : |  period   100000 [us], duty_cycle  30 %\n",
      "09:24:45  INFO    : |  run_time  30000 [us], sleep_time  70000 [us]\n",
      "09:24:45  INFO    : + phase_000008: duration 0.500000 [s] (5 loops)\n",
      "09:24:45  INFO    : |  period   100000 [us], duty_cycle  25 %\n",
      "09:24:45  INFO    : |  run_time  25000 [us], sleep_time  75000 [us]\n",
      "09:24:45  INFO    : + phase_000009: duration 0.500000 [s] (5 loops)\n",
      "09:24:45  INFO    : |  period   100000 [us], duty_cycle  20 %\n",
      "09:24:45  INFO    : |  run_time  20000 [us], sleep_time  80000 [us]\n"
     ]
    },
    {
     "name": "stdout",
     "output_type": "stream",
     "text": [
      "\n"
     ]
    },
    {
     "name": "stderr",
     "output_type": "stream",
     "text": [
      "09:24:48  INFO    : Workload execution START:\n",
      "09:24:48  INFO    :    /data/local/tmp/bin/rt-app /data/local/tmp/devlib-target/ramp_00.json 2>&1\n"
     ]
    }
   ],
   "source": [
    "experiment(te)"
   ]
  },
  {
   "cell_type": "markdown",
   "metadata": {},
   "source": [
    "# Parse Trace and Profiling Data"
   ]
  },
  {
   "cell_type": "code",
   "execution_count": 7,
   "metadata": {},
   "outputs": [
    {
     "name": "stderr",
     "output_type": "stream",
     "text": [
      "09:24:54  INFO    : Content of the output folder /home/lisa/lisa-github/results/TraceAnalysis_FunctionsProfiling\n"
     ]
    },
    {
     "name": "stdout",
     "output_type": "stream",
     "text": [
      "\u001b[01;34m/home/lisa/lisa-github/results/TraceAnalysis_FunctionsProfiling\u001b[00m\r\n",
      "|-- output.log\r\n",
      "|-- platform.json\r\n",
      "|-- ramp_00.json\r\n",
      "|-- rt-app-ramp-0.log\r\n",
      "|-- rt-app-ramp_1-0.log\r\n",
      "|-- rt-app-ramp_1-2.log\r\n",
      "|-- rt-app-ramp_2-3.log\r\n",
      "|-- trace.dat\r\n",
      "`-- trace.stats\r\n",
      "\r\n",
      "0 directories, 9 files\r\n"
     ]
    }
   ],
   "source": [
    "# Base folder where tests folder are located\n",
    "res_dir = te.res_dir\n",
    "logging.info('Content of the output folder %s', res_dir)\n",
    "!tree {res_dir}"
   ]
  },
  {
   "cell_type": "code",
   "execution_count": 8,
   "metadata": {},
   "outputs": [
    {
     "name": "stderr",
     "output_type": "stream",
     "text": [
      "09:24:55  INFO    : LITTLE cluster max capacity: 402\n"
     ]
    }
   ],
   "source": [
    "with open(os.path.join(res_dir, 'platform.json'), 'r') as fh:\n",
    "    platform = json.load(fh)\n",
    "#print json.dumps(platform, indent=4)\n",
    "logging.info('LITTLE cluster max capacity: %d',\n",
    "             platform['nrg_model']['little']['cpu']['cap_max'])"
   ]
  },
  {
   "cell_type": "code",
   "execution_count": 9,
   "metadata": {},
   "outputs": [
    {
     "name": "stderr",
     "output_type": "stream",
     "text": [
      "09:24:55  INFO    : Trace contains only functions stats\n"
     ]
    }
   ],
   "source": [
    "trace = Trace(platform, res_dir, events=[])"
   ]
  },
  {
   "cell_type": "code",
   "execution_count": 14,
   "metadata": {},
   "outputs": [
    {
     "ename": "NameError",
     "evalue": "name 'trappy' is not defined",
     "output_type": "error",
     "traceback": [
      "\u001b[0;31m\u001b[0m",
      "\u001b[0;31mNameError\u001b[0mTraceback (most recent call last)",
      "\u001b[0;32m<ipython-input-14-138130a504f3>\u001b[0m in \u001b[0;36m<module>\u001b[0;34m()\u001b[0m\n\u001b[0;32m----> 1\u001b[0;31m \u001b[0mtrappy\u001b[0m\u001b[0;34m.\u001b[0m\u001b[0mplotter\u001b[0m\u001b[0;34m.\u001b[0m\u001b[0mplot\u001b[0m\u001b[0;34m(\u001b[0m\u001b[0mres_dir\u001b[0m\u001b[0;34m)\u001b[0m\u001b[0;34m\u001b[0m\u001b[0m\n\u001b[0m",
      "\u001b[0;31mNameError\u001b[0m: name 'trappy' is not defined"
     ]
    }
   ],
   "source": [
    "import trappy\n",
    "\n",
    "# NOTE: The interactive trace visualization is available only if you run\n",
    "#       the workload to generate a new trace-file\n",
    "trappy.plotter.plot_trace(te.res_dir)"
   ]
  },
  {
   "cell_type": "markdown",
   "metadata": {},
   "source": [
    "# Report Functions Profiling Data"
   ]
  },
  {
   "cell_type": "code",
   "execution_count": 10,
   "metadata": {},
   "outputs": [
    {
     "data": {
      "text/html": [
       "<div>\n",
       "<style>\n",
       "    .dataframe thead tr:only-child th {\n",
       "        text-align: right;\n",
       "    }\n",
       "\n",
       "    .dataframe thead th {\n",
       "        text-align: left;\n",
       "    }\n",
       "\n",
       "    .dataframe tbody tr th {\n",
       "        vertical-align: top;\n",
       "    }\n",
       "</style>\n",
       "<table border=\"1\" class=\"dataframe\">\n",
       "  <thead>\n",
       "    <tr style=\"text-align: right;\">\n",
       "      <th></th>\n",
       "      <th></th>\n",
       "      <th>hits</th>\n",
       "      <th>avg</th>\n",
       "      <th>time</th>\n",
       "      <th>s_2</th>\n",
       "    </tr>\n",
       "  </thead>\n",
       "  <tbody>\n",
       "    <tr>\n",
       "      <th rowspan=\"2\" valign=\"top\">0</th>\n",
       "      <th>dequeue_task_fair</th>\n",
       "      <td>1143</td>\n",
       "      <td>8.480</td>\n",
       "      <td>9693.745</td>\n",
       "      <td>62.625</td>\n",
       "    </tr>\n",
       "    <tr>\n",
       "      <th>enqueue_task_fair</th>\n",
       "      <td>1233</td>\n",
       "      <td>11.247</td>\n",
       "      <td>13867.690</td>\n",
       "      <td>87.260</td>\n",
       "    </tr>\n",
       "    <tr>\n",
       "      <th rowspan=\"2\" valign=\"top\">1</th>\n",
       "      <th>dequeue_task_fair</th>\n",
       "      <td>126</td>\n",
       "      <td>13.566</td>\n",
       "      <td>1709.373</td>\n",
       "      <td>27.559</td>\n",
       "    </tr>\n",
       "    <tr>\n",
       "      <th>enqueue_task_fair</th>\n",
       "      <td>25</td>\n",
       "      <td>14.979</td>\n",
       "      <td>374.479</td>\n",
       "      <td>58.937</td>\n",
       "    </tr>\n",
       "    <tr>\n",
       "      <th rowspan=\"2\" valign=\"top\">2</th>\n",
       "      <th>dequeue_task_fair</th>\n",
       "      <td>578</td>\n",
       "      <td>8.023</td>\n",
       "      <td>4637.477</td>\n",
       "      <td>14.602</td>\n",
       "    </tr>\n",
       "    <tr>\n",
       "      <th>enqueue_task_fair</th>\n",
       "      <td>562</td>\n",
       "      <td>9.950</td>\n",
       "      <td>5592.193</td>\n",
       "      <td>15.169</td>\n",
       "    </tr>\n",
       "    <tr>\n",
       "      <th>3</th>\n",
       "      <th>dequeue_task_fair</th>\n",
       "      <td>89</td>\n",
       "      <td>7.040</td>\n",
       "      <td>626.569</td>\n",
       "      <td>18.755</td>\n",
       "    </tr>\n",
       "    <tr>\n",
       "      <th rowspan=\"2\" valign=\"top\">4</th>\n",
       "      <th>dequeue_task_fair</th>\n",
       "      <td>96</td>\n",
       "      <td>3.634</td>\n",
       "      <td>348.948</td>\n",
       "      <td>7.310</td>\n",
       "    </tr>\n",
       "    <tr>\n",
       "      <th>enqueue_task_fair</th>\n",
       "      <td>83</td>\n",
       "      <td>3.884</td>\n",
       "      <td>322.394</td>\n",
       "      <td>10.925</td>\n",
       "    </tr>\n",
       "    <tr>\n",
       "      <th rowspan=\"2\" valign=\"top\">5</th>\n",
       "      <th>dequeue_task_fair</th>\n",
       "      <td>118</td>\n",
       "      <td>2.961</td>\n",
       "      <td>349.484</td>\n",
       "      <td>5.252</td>\n",
       "    </tr>\n",
       "    <tr>\n",
       "      <th>enqueue_task_fair</th>\n",
       "      <td>27</td>\n",
       "      <td>4.861</td>\n",
       "      <td>131.247</td>\n",
       "      <td>6.990</td>\n",
       "    </tr>\n",
       "    <tr>\n",
       "      <th rowspan=\"2\" valign=\"top\">6</th>\n",
       "      <th>dequeue_task_fair</th>\n",
       "      <td>240</td>\n",
       "      <td>1.985</td>\n",
       "      <td>476.550</td>\n",
       "      <td>1.891</td>\n",
       "    </tr>\n",
       "    <tr>\n",
       "      <th>enqueue_task_fair</th>\n",
       "      <td>203</td>\n",
       "      <td>2.224</td>\n",
       "      <td>451.569</td>\n",
       "      <td>2.785</td>\n",
       "    </tr>\n",
       "    <tr>\n",
       "      <th rowspan=\"2\" valign=\"top\">7</th>\n",
       "      <th>dequeue_task_fair</th>\n",
       "      <td>168</td>\n",
       "      <td>5.887</td>\n",
       "      <td>989.069</td>\n",
       "      <td>8.595</td>\n",
       "    </tr>\n",
       "    <tr>\n",
       "      <th>enqueue_task_fair</th>\n",
       "      <td>170</td>\n",
       "      <td>10.876</td>\n",
       "      <td>1848.955</td>\n",
       "      <td>85.516</td>\n",
       "    </tr>\n",
       "  </tbody>\n",
       "</table>\n",
       "</div>"
      ],
      "text/plain": [
       "                     hits     avg       time     s_2\n",
       "0 dequeue_task_fair  1143   8.480   9693.745  62.625\n",
       "  enqueue_task_fair  1233  11.247  13867.690  87.260\n",
       "1 dequeue_task_fair   126  13.566   1709.373  27.559\n",
       "  enqueue_task_fair    25  14.979    374.479  58.937\n",
       "2 dequeue_task_fair   578   8.023   4637.477  14.602\n",
       "  enqueue_task_fair   562   9.950   5592.193  15.169\n",
       "3 dequeue_task_fair    89   7.040    626.569  18.755\n",
       "4 dequeue_task_fair    96   3.634    348.948   7.310\n",
       "  enqueue_task_fair    83   3.884    322.394  10.925\n",
       "5 dequeue_task_fair   118   2.961    349.484   5.252\n",
       "  enqueue_task_fair    27   4.861    131.247   6.990\n",
       "6 dequeue_task_fair   240   1.985    476.550   1.891\n",
       "  enqueue_task_fair   203   2.224    451.569   2.785\n",
       "7 dequeue_task_fair   168   5.887    989.069   8.595\n",
       "  enqueue_task_fair   170  10.876   1848.955  85.516"
      ]
     },
     "execution_count": 10,
     "metadata": {},
     "output_type": "execute_result"
    }
   ],
   "source": [
    "# Get the DataFrame for the specified list of kernel functions\n",
    "df = trace.data_frame.functions_stats(['enqueue_task_fair', 'dequeue_task_fair'])\n",
    "df"
   ]
  },
  {
   "cell_type": "code",
   "execution_count": 11,
   "metadata": {},
   "outputs": [
    {
     "data": {
      "text/html": [
       "<div>\n",
       "<style>\n",
       "    .dataframe thead tr:only-child th {\n",
       "        text-align: right;\n",
       "    }\n",
       "\n",
       "    .dataframe thead th {\n",
       "        text-align: left;\n",
       "    }\n",
       "\n",
       "    .dataframe tbody tr th {\n",
       "        vertical-align: top;\n",
       "    }\n",
       "</style>\n",
       "<table border=\"1\" class=\"dataframe\">\n",
       "  <thead>\n",
       "    <tr style=\"text-align: right;\">\n",
       "      <th></th>\n",
       "      <th></th>\n",
       "      <th>hits</th>\n",
       "      <th>avg</th>\n",
       "      <th>time</th>\n",
       "      <th>s_2</th>\n",
       "    </tr>\n",
       "  </thead>\n",
       "  <tbody>\n",
       "    <tr>\n",
       "      <th>0</th>\n",
       "      <th>select_task_rq_fair</th>\n",
       "      <td>1233</td>\n",
       "      <td>10.899</td>\n",
       "      <td>13439.070</td>\n",
       "      <td>141.801</td>\n",
       "    </tr>\n",
       "    <tr>\n",
       "      <th>1</th>\n",
       "      <th>select_task_rq_fair</th>\n",
       "      <td>24</td>\n",
       "      <td>8.094</td>\n",
       "      <td>194.272</td>\n",
       "      <td>153.865</td>\n",
       "    </tr>\n",
       "    <tr>\n",
       "      <th>2</th>\n",
       "      <th>select_task_rq_fair</th>\n",
       "      <td>547</td>\n",
       "      <td>14.018</td>\n",
       "      <td>7668.223</td>\n",
       "      <td>28.302</td>\n",
       "    </tr>\n",
       "    <tr>\n",
       "      <th>4</th>\n",
       "      <th>select_task_rq_fair</th>\n",
       "      <td>85</td>\n",
       "      <td>4.417</td>\n",
       "      <td>375.517</td>\n",
       "      <td>36.314</td>\n",
       "    </tr>\n",
       "    <tr>\n",
       "      <th>5</th>\n",
       "      <th>select_task_rq_fair</th>\n",
       "      <td>29</td>\n",
       "      <td>4.903</td>\n",
       "      <td>142.190</td>\n",
       "      <td>49.440</td>\n",
       "    </tr>\n",
       "    <tr>\n",
       "      <th>6</th>\n",
       "      <th>select_task_rq_fair</th>\n",
       "      <td>177</td>\n",
       "      <td>1.833</td>\n",
       "      <td>324.475</td>\n",
       "      <td>7.925</td>\n",
       "    </tr>\n",
       "    <tr>\n",
       "      <th>7</th>\n",
       "      <th>select_task_rq_fair</th>\n",
       "      <td>150</td>\n",
       "      <td>8.812</td>\n",
       "      <td>1321.873</td>\n",
       "      <td>109.342</td>\n",
       "    </tr>\n",
       "  </tbody>\n",
       "</table>\n",
       "</div>"
      ],
      "text/plain": [
       "                       hits     avg       time      s_2\n",
       "0 select_task_rq_fair  1233  10.899  13439.070  141.801\n",
       "1 select_task_rq_fair    24   8.094    194.272  153.865\n",
       "2 select_task_rq_fair   547  14.018   7668.223   28.302\n",
       "4 select_task_rq_fair    85   4.417    375.517   36.314\n",
       "5 select_task_rq_fair    29   4.903    142.190   49.440\n",
       "6 select_task_rq_fair   177   1.833    324.475    7.925\n",
       "7 select_task_rq_fair   150   8.812   1321.873  109.342"
      ]
     },
     "execution_count": 11,
     "metadata": {},
     "output_type": "execute_result"
    }
   ],
   "source": [
    "# Get the DataFrame for the single specified kernel function\n",
    "df = trace.data_frame.functions_stats('select_task_rq_fair')\n",
    "df"
   ]
  },
  {
   "cell_type": "markdown",
   "metadata": {},
   "source": [
    "# Plot Functions Profiling Data"
   ]
  },
  {
   "cell_type": "code",
   "execution_count": 12,
   "metadata": {},
   "outputs": [
    {
     "data": {
      "image/png": "[encoded data removed]",
      "text/plain": [
       "<matplotlib.figure.Figure at 0x7f399411ae90>"
      ]
     },
     "metadata": {},
     "output_type": "display_data"
    },
    {
     "data": {
      "image/png": "[encoded data removed]",
      "text/plain": [
       "<matplotlib.figure.Figure at 0x7f3967d3cd90>"
      ]
     },
     "metadata": {},
     "output_type": "display_data"
    }
   ],
   "source": [
    "# Plot Average and Total execution time for the specified\n",
    "# list of kernel functions\n",
    "trace.analysis.functions.plotProfilingStats(\n",
    "    functions = [\n",
    "        'select_task_rq_fair',\n",
    "        'enqueue_task_fair',\n",
    "        'dequeue_task_fair'\n",
    "    ],\n",
    "    metrics = [\n",
    "        'avg',\n",
    "        'time',\n",
    "    ]\n",
    ")"
   ]
  },
  {
   "cell_type": "code",
   "execution_count": 13,
   "metadata": {},
   "outputs": [
    {
     "data": {
      "image/png": "[encoded data removed]",
      "text/plain": [
       "<matplotlib.figure.Figure at 0x7f39940d32d0>"
      ]
     },
     "metadata": {},
     "output_type": "display_data"
    }
   ],
   "source": [
    "# Plot Average execution time for the single specified kernel function\n",
    "trace.analysis.functions.plotProfilingStats(\n",
    "    functions = [\n",
    "            \"scheduler_timeout\",\n",
    "            \"schedtune_dequeue_task\",\n",
    "            \"schedtune_task_boost\",        \n",
    "                ]\n",
    ")"
   ]
  },
  {
   "cell_type": "code",
   "execution_count": null,
   "metadata": {
    "collapsed": true
   },
   "outputs": [],
   "source": []
  },
  {
   "cell_type": "code",
   "execution_count": null,
   "metadata": {
    "collapsed": true
   },
   "outputs": [],
   "source": []
  },
  {
   "cell_type": "code",
   "execution_count": null,
   "metadata": {
    "collapsed": true
   },
   "outputs": [],
   "source": []
  }
 ],
 "metadata": {
  "kernelspec": {
   "display_name": "Python 2",
   "language": "python",
   "name": "python2"
  },
  "language_info": {
   "codemirror_mode": {
    "name": "ipython",
    "version": 2
   },
   "file_extension": ".py",
   "mimetype": "text/x-python",
   "name": "python",
   "nbconvert_exporter": "python",
   "pygments_lexer": "ipython2",
   "version": "2.7.12"
  },
  "toc": {
   "toc_cell": false,
   "toc_number_sections": true,
   "toc_threshold": 6,
   "toc_window_display": false
  }
 },
 "nbformat": 4,
 "nbformat_minor": 1
}
