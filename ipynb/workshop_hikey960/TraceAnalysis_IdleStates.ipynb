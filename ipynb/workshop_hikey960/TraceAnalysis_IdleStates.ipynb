{
 "cells": [
  {
   "cell_type": "markdown",
   "metadata": {
    "collapsed": true
   },
   "source": [
    "# Idle States Residency Analysis"
   ]
  },
  {
   "cell_type": "markdown",
   "metadata": {},
   "source": [
    "This notebook shows the features provided by the idle state analysis module. It will be necessary to collect the following events:\n",
    "\n",
    " - `cpu_idle`, to filter out intervals of time in which the CPU is idle\n",
    " - `sched_switch`, to recognise tasks on kernelshark"
   ]
  },
  {
   "cell_type": "code",
   "execution_count": 1,
   "metadata": {
    "collapsed": true,
    "run_control": {
     "marked": false
    }
   },
   "outputs": [],
   "source": [
    "import logging\n",
    "reload(logging)\n",
    "log_fmt = '%(asctime)-9s %(levelname)-8s: %(message)s'\n",
    "logging.basicConfig(format=log_fmt)\n",
    "\n",
    "# Change to info once the notebook runs ok\n",
    "logging.getLogger().setLevel(logging.INFO)"
   ]
  },
  {
   "cell_type": "code",
   "execution_count": 2,
   "metadata": {
    "collapsed": true,
    "run_control": {
     "marked": false
    }
   },
   "outputs": [],
   "source": [
    "%matplotlib inline\n",
    "\n",
    "import os\n",
    "\n",
    "# Support to access the remote target\n",
    "from env import TestEnv\n",
    "\n",
    "# Support to configure and run RTApp based workloads\n",
    "from wlgen import RTA, Ramp\n",
    "\n",
    "# Support for trace events analysis\n",
    "from trace import Trace"
   ]
  },
  {
   "cell_type": "markdown",
   "metadata": {},
   "source": [
    "# Target Configuration"
   ]
  },
  {
   "cell_type": "markdown",
   "metadata": {},
   "source": [
    "Our target is a Juno R2 development board running Linux."
   ]
  },
  {
   "cell_type": "code",
   "execution_count": 3,
   "metadata": {
    "collapsed": true,
    "run_control": {
     "marked": false
    }
   },
   "outputs": [],
   "source": [
    "# Setup a target configuration\n",
    "my_conf = {\n",
    "    \n",
    "    \"platform\"    : 'android',\n",
    "    \"board\"       : \"hikey960\",\n",
    "    \"device\" : \"0123456789ABCDEF\",\n",
    "    \n",
    "    \"ANDROID_HOME\" : \"/home/lisa/android-sdk\",\n",
    "    \"rtapp-calib\" : {\"0\": 302, \"1\": 302, \"2\": 304, \"3\": 304, \"4\": 136, \"5\": 137, \"6\": 136, \"7\": 136},\n",
    "\n",
    "     \"emeter\" : {\n",
    "        \"instrument\" : \"acme\",\n",
    "        \"conf\" : {\n",
    "            # Absolute path to the iio-capture binary on the host\n",
    "            'iio-capture' : '/usr/bin/iio-capture',\n",
    "            # Default host name of the BeagleBone Black\n",
    "            'ip_address'     : '10.169.36.36',\n",
    "        },\n",
    "        \"channel_map\" : {\n",
    "            \"Device0\" : 0, # iio:device0\n",
    "            \"Device1\" : 1, # iio:device0\n",
    "        }\n",
    "    },  \n",
    "\n",
    "    \n",
    "    \"results_dir\" : \"CPUIdleAnalysis\",\n",
    "    \n",
    "    # RTApp calibration values (comment to let LISA do a calibration run)\n",
    "\n",
    "    # Tools required by the experiments\n",
    "    \"tools\"   : ['rt-app', 'trace-cmd'],\n",
    "    \"modules\" : ['bl', 'cpufreq'],\n",
    "    \"exclude_modules\" : ['hwmon'],\n",
    "    \n",
    "    # FTrace events to collect for all the tests configuration which have\n",
    "    # the \"ftrace\" flag enabled\n",
    "    \"ftrace\"  : {\n",
    "         \"events\" : [\n",
    "            \"cpu_idle\",\n",
    "            \"sched_switch\"\n",
    "         ],\n",
    "         \"buffsize\" : 10 * 1024,\n",
    "    },\n",
    "}"
   ]
  },
  {
   "cell_type": "markdown",
   "metadata": {},
   "source": [
    "# Tests execution"
   ]
  },
  {
   "cell_type": "code",
   "execution_count": 4,
   "metadata": {
    "run_control": {
     "marked": false
    },
    "scrolled": true
   },
   "outputs": [
    {
     "name": "stderr",
     "output_type": "stream",
     "text": [
      "2017-08-25 09:31:22,681 INFO    : Using base path: /home/lisa/lisa-github\n",
      "2017-08-25 09:31:22,683 INFO    : Loading custom (inline) target configuration\n",
      "2017-08-25 09:31:22,685 INFO    : External tools using:\n",
      "2017-08-25 09:31:22,686 INFO    :    ANDROID_HOME: /home/lisa/android-sdk\n",
      "2017-08-25 09:31:22,687 INFO    :    CATAPULT_HOME: /home/lisa/lisa-github/tools/catapult\n",
      "2017-08-25 09:31:22,689 INFO    : Devlib modules to load: ['bl', 'cpuidle', 'cpufreq']\n",
      "2017-08-25 09:31:22,690 INFO    : Connecting Android target [0123456789ABCDEF]\n",
      "2017-08-25 09:31:22,691 INFO    : Connection settings:\n",
      "2017-08-25 09:31:22,691 INFO    :    {'device': '0123456789ABCDEF'}\n",
      "2017-08-25 09:31:23,183 INFO    : Initializing target workdir:\n",
      "2017-08-25 09:31:23,185 INFO    :    /data/local/tmp/devlib-target\n",
      "2017-08-25 09:31:25,322 INFO    : Attempting to read energy model from target\n",
      "2017-08-25 09:31:27,586 INFO    : Topology:\n",
      "2017-08-25 09:31:27,588 INFO    :    [[0, 1, 2, 3], [4, 5, 6, 7]]\n",
      "2017-08-25 09:31:27,672 INFO    : Loading default EM:\n",
      "2017-08-25 09:31:27,674 INFO    :    /home/lisa/lisa-github/libs/utils/platforms/hikey960.json\n",
      "2017-08-25 09:31:28,040 INFO    : Enabled tracepoints:\n",
      "2017-08-25 09:31:28,042 INFO    :    cpu_idle\n",
      "2017-08-25 09:31:28,043 INFO    :    sched_switch\n",
      "2017-08-25 09:31:28,044 WARNING : Using configuration provided RTApp calibration\n",
      "2017-08-25 09:31:28,045 INFO    : Using RT-App calibration values:\n",
      "2017-08-25 09:31:28,046 INFO    :    {\"0\": 302, \"1\": 302, \"2\": 304, \"3\": 304, \"4\": 136, \"5\": 137, \"6\": 136, \"7\": 136}\n",
      "2017-08-25 09:31:28,047 INFO    : ACME configuration:\n",
      "2017-08-25 09:31:28,048 INFO    :     binary: /usr/bin/iio-capture\n",
      "2017-08-25 09:31:28,049 INFO    :     device: 10.169.36.36\n",
      "2017-08-25 09:31:28,051 INFO    :   channels:\n",
      "2017-08-25 09:31:28,051 INFO    :      Device1 (iio:device1)\n",
      "2017-08-25 09:31:28,052 INFO    :      Device0 (iio:device0)\n",
      "2017-08-25 09:31:28,061 INFO    : Set results folder to:\n",
      "2017-08-25 09:31:28,062 INFO    :    /home/lisa/lisa-github/results/CPUIdleAnalysis\n",
      "2017-08-25 09:31:28,063 INFO    : Experiment results available also in:\n",
      "2017-08-25 09:31:28,066 INFO    :    /home/lisa/lisa-github/results_latest\n"
     ]
    }
   ],
   "source": [
    "# Initialize a test environment\n",
    "te = TestEnv(my_conf, wipe=False, force_new=True)\n",
    "target = te.target"
   ]
  },
  {
   "cell_type": "markdown",
   "metadata": {},
   "source": [
    "# Workload configuration and execution"
   ]
  },
  {
   "cell_type": "code",
   "execution_count": 5,
   "metadata": {
    "collapsed": true,
    "scrolled": true
   },
   "outputs": [],
   "source": [
    "def experiment(te):\n",
    "\n",
    "    # Create RTApp RAMP task\n",
    "    rtapp = RTA(te.target, 'ramp', calibration=te.calibration())\n",
    "    rtapp.conf(kind='profile',\n",
    "               params={\n",
    "                    'ramp' : Ramp(\n",
    "                        start_pct =  60,\n",
    "                        end_pct   =  20,\n",
    "                        delta_pct =   5,\n",
    "                        time_s    =   0.5).get()\n",
    "              })\n",
    "\n",
    "    # FTrace the execution of this workload\n",
    "    te.ftrace.start()\n",
    "    rtapp.run(out_dir=te.res_dir)\n",
    "    te.ftrace.stop()\n",
    "\n",
    "    # Collect and keep track of the trace\n",
    "    trace_file = os.path.join(te.res_dir, 'trace.dat')\n",
    "    te.ftrace.get_trace(trace_file)\n",
    "\n",
    "    # Dump platform descriptor\n",
    "    te.platform_dump(te.res_dir)"
   ]
  },
  {
   "cell_type": "code",
   "execution_count": 6,
   "metadata": {
    "run_control": {
     "marked": false
    },
    "scrolled": true
   },
   "outputs": [
    {
     "name": "stderr",
     "output_type": "stream",
     "text": [
      "2017-08-25 09:31:30,881 INFO    : Setup new workload ramp\n",
      "2017-08-25 09:31:30,950 INFO    : Workload duration defined by longest task\n",
      "2017-08-25 09:31:30,952 INFO    : Default policy: SCHED_OTHER\n",
      "2017-08-25 09:31:30,953 INFO    : ------------------------\n",
      "2017-08-25 09:31:30,954 INFO    : task [ramp], sched: using default policy\n",
      "2017-08-25 09:31:30,955 INFO    :  | loops count: 1\n",
      "2017-08-25 09:31:30,957 INFO    : + phase_000001: duration 0.500000 [s] (5 loops)\n",
      "2017-08-25 09:31:30,957 INFO    : |  period   100000 [us], duty_cycle  60 %\n",
      "2017-08-25 09:31:30,958 INFO    : |  run_time  60000 [us], sleep_time  40000 [us]\n",
      "2017-08-25 09:31:30,959 INFO    : + phase_000002: duration 0.500000 [s] (5 loops)\n",
      "2017-08-25 09:31:30,960 INFO    : |  period   100000 [us], duty_cycle  55 %\n",
      "2017-08-25 09:31:30,961 INFO    : |  run_time  55000 [us], sleep_time  45000 [us]\n",
      "2017-08-25 09:31:30,962 INFO    : + phase_000003: duration 0.500000 [s] (5 loops)\n",
      "2017-08-25 09:31:30,962 INFO    : |  period   100000 [us], duty_cycle  50 %\n",
      "2017-08-25 09:31:30,963 INFO    : |  run_time  50000 [us], sleep_time  50000 [us]\n",
      "2017-08-25 09:31:30,964 INFO    : + phase_000004: duration 0.500000 [s] (5 loops)\n",
      "2017-08-25 09:31:30,965 INFO    : |  period   100000 [us], duty_cycle  45 %\n",
      "2017-08-25 09:31:30,966 INFO    : |  run_time  45000 [us], sleep_time  55000 [us]\n",
      "2017-08-25 09:31:30,967 INFO    : + phase_000005: duration 0.500000 [s] (5 loops)\n",
      "2017-08-25 09:31:30,968 INFO    : |  period   100000 [us], duty_cycle  40 %\n",
      "2017-08-25 09:31:30,969 INFO    : |  run_time  40000 [us], sleep_time  60000 [us]\n",
      "2017-08-25 09:31:30,969 INFO    : + phase_000006: duration 0.500000 [s] (5 loops)\n",
      "2017-08-25 09:31:30,970 INFO    : |  period   100000 [us], duty_cycle  35 %\n",
      "2017-08-25 09:31:30,971 INFO    : |  run_time  35000 [us], sleep_time  65000 [us]\n",
      "2017-08-25 09:31:30,972 INFO    : + phase_000007: duration 0.500000 [s] (5 loops)\n",
      "2017-08-25 09:31:30,973 INFO    : |  period   100000 [us], duty_cycle  30 %\n",
      "2017-08-25 09:31:30,974 INFO    : |  run_time  30000 [us], sleep_time  70000 [us]\n",
      "2017-08-25 09:31:30,975 INFO    : + phase_000008: duration 0.500000 [s] (5 loops)\n",
      "2017-08-25 09:31:30,976 INFO    : |  period   100000 [us], duty_cycle  25 %\n",
      "2017-08-25 09:31:30,977 INFO    : |  run_time  25000 [us], sleep_time  75000 [us]\n",
      "2017-08-25 09:31:30,977 INFO    : + phase_000009: duration 0.500000 [s] (5 loops)\n",
      "2017-08-25 09:31:30,978 INFO    : |  period   100000 [us], duty_cycle  20 %\n",
      "2017-08-25 09:31:30,979 INFO    : |  run_time  20000 [us], sleep_time  80000 [us]\n",
      "2017-08-25 09:31:33,835 INFO    : Workload execution START:\n",
      "2017-08-25 09:31:33,837 INFO    :    /data/local/tmp/bin/rt-app /data/local/tmp/devlib-target/ramp_00.json 2>&1\n"
     ]
    },
    {
     "name": "stdout",
     "output_type": "stream",
     "text": [
      "\n"
     ]
    }
   ],
   "source": [
    "experiment(te)"
   ]
  },
  {
   "cell_type": "markdown",
   "metadata": {},
   "source": [
    "# Parse trace and analyse data"
   ]
  },
  {
   "cell_type": "code",
   "execution_count": 7,
   "metadata": {},
   "outputs": [
    {
     "name": "stderr",
     "output_type": "stream",
     "text": [
      "2017-08-25 09:31:41,687 INFO    : Content of the output folder /home/lisa/lisa-github/results/CPUIdleAnalysis\n"
     ]
    },
    {
     "name": "stdout",
     "output_type": "stream",
     "text": [
      "\u001b[01;34m/home/lisa/lisa-github/results/CPUIdleAnalysis\u001b[00m\r\n",
      "|-- output.log\r\n",
      "|-- platform.json\r\n",
      "|-- ramp_00.json\r\n",
      "|-- rt-app-ramp-0.log\r\n",
      "|-- rt-app-ramp_1-0.log\r\n",
      "|-- rt-app-ramp_1-2.log\r\n",
      "|-- rt-app-ramp_2-3.log\r\n",
      "`-- trace.dat\r\n",
      "\r\n",
      "0 directories, 8 files\r\n"
     ]
    }
   ],
   "source": [
    "# Base folder where tests folder are located\n",
    "res_dir = te.res_dir\n",
    "logging.info('Content of the output folder %s', res_dir)\n",
    "!tree {res_dir}"
   ]
  },
  {
   "cell_type": "code",
   "execution_count": 8,
   "metadata": {
    "collapsed": true,
    "run_control": {
     "marked": false
    }
   },
   "outputs": [],
   "source": [
    "trace = Trace(te.platform, res_dir, events=my_conf['ftrace']['events'])"
   ]
  },
  {
   "cell_type": "markdown",
   "metadata": {},
   "source": [
    "## Per-CPU Idle State Residency"
   ]
  },
  {
   "cell_type": "markdown",
   "metadata": {},
   "source": [
    "It is possible to get the residency in each idle state of a CPU or a cluster with the following commands:"
   ]
  },
  {
   "cell_type": "code",
   "execution_count": 9,
   "metadata": {
    "run_control": {
     "marked": false
    }
   },
   "outputs": [
    {
     "data": {
      "text/html": [
       "<div>\n",
       "<style>\n",
       "    .dataframe thead tr:only-child th {\n",
       "        text-align: right;\n",
       "    }\n",
       "\n",
       "    .dataframe thead th {\n",
       "        text-align: left;\n",
       "    }\n",
       "\n",
       "    .dataframe tbody tr th {\n",
       "        vertical-align: top;\n",
       "    }\n",
       "</style>\n",
       "<table border=\"1\" class=\"dataframe\">\n",
       "  <thead>\n",
       "    <tr style=\"text-align: right;\">\n",
       "      <th></th>\n",
       "      <th>time</th>\n",
       "    </tr>\n",
       "    <tr>\n",
       "      <th>idle_state</th>\n",
       "      <th></th>\n",
       "    </tr>\n",
       "  </thead>\n",
       "  <tbody>\n",
       "    <tr>\n",
       "      <th>0</th>\n",
       "      <td>0.055074</td>\n",
       "    </tr>\n",
       "    <tr>\n",
       "      <th>1</th>\n",
       "      <td>1.953339</td>\n",
       "    </tr>\n",
       "    <tr>\n",
       "      <th>2</th>\n",
       "      <td>3.572947</td>\n",
       "    </tr>\n",
       "    <tr>\n",
       "      <th>3</th>\n",
       "      <td>0.000000</td>\n",
       "    </tr>\n",
       "  </tbody>\n",
       "</table>\n",
       "</div>"
      ],
      "text/plain": [
       "                time\n",
       "idle_state          \n",
       "0           0.055074\n",
       "1           1.953339\n",
       "2           3.572947\n",
       "3           0.000000"
      ]
     },
     "execution_count": 9,
     "metadata": {},
     "output_type": "execute_result"
    }
   ],
   "source": [
    "# Idle state residency for CPU 3\n",
    "trace.data_frame.cpu_idle_state_residency(3)"
   ]
  },
  {
   "cell_type": "markdown",
   "metadata": {},
   "source": [
    "The `IdleAnalysis` module provide methods for plotting residency data."
   ]
  },
  {
   "cell_type": "code",
   "execution_count": 10,
   "metadata": {
    "collapsed": true
   },
   "outputs": [],
   "source": [
    "ia = trace.analysis.idle"
   ]
  },
  {
   "cell_type": "code",
   "execution_count": 16,
   "metadata": {},
   "outputs": [
    {
     "data": {
      "image/png": "[encoded data removed]",
      "text/plain": [
       "<matplotlib.figure.Figure at 0x7f40af0915d0>"
      ]
     },
     "metadata": {},
     "output_type": "display_data"
    }
   ],
   "source": [
    "# Actual time spent in each idle state\n",
    "ia.plotCPUIdleStateResidency([0, 1,2, 3, 4, 5,6,7])"
   ]
  },
  {
   "cell_type": "code",
   "execution_count": 12,
   "metadata": {
    "run_control": {
     "marked": false
    }
   },
   "outputs": [
    {
     "data": {
      "image/png": "[encoded data removed]",
      "text/plain": [
       "<matplotlib.figure.Figure at 0x7f40af124390>"
      ]
     },
     "metadata": {},
     "output_type": "display_data"
    }
   ],
   "source": [
    "# Percentage of time spent in each idle state\n",
    "ia.plotCPUIdleStateResidency([0,1,2,3,4,5,6,7], pct=True)"
   ]
  },
  {
   "cell_type": "markdown",
   "metadata": {},
   "source": [
    "## Per-cluster Idle State Residency"
   ]
  },
  {
   "cell_type": "code",
   "execution_count": 13,
   "metadata": {},
   "outputs": [
    {
     "data": {
      "text/html": [
       "<div>\n",
       "<style>\n",
       "    .dataframe thead tr:only-child th {\n",
       "        text-align: right;\n",
       "    }\n",
       "\n",
       "    .dataframe thead th {\n",
       "        text-align: left;\n",
       "    }\n",
       "\n",
       "    .dataframe tbody tr th {\n",
       "        vertical-align: top;\n",
       "    }\n",
       "</style>\n",
       "<table border=\"1\" class=\"dataframe\">\n",
       "  <thead>\n",
       "    <tr style=\"text-align: right;\">\n",
       "      <th></th>\n",
       "      <th>time</th>\n",
       "    </tr>\n",
       "    <tr>\n",
       "      <th>idle_state</th>\n",
       "      <th></th>\n",
       "    </tr>\n",
       "  </thead>\n",
       "  <tbody>\n",
       "    <tr>\n",
       "      <th>0</th>\n",
       "      <td>0.000000</td>\n",
       "    </tr>\n",
       "    <tr>\n",
       "      <th>1</th>\n",
       "      <td>0.192177</td>\n",
       "    </tr>\n",
       "    <tr>\n",
       "      <th>2</th>\n",
       "      <td>0.492755</td>\n",
       "    </tr>\n",
       "    <tr>\n",
       "      <th>3</th>\n",
       "      <td>2.572952</td>\n",
       "    </tr>\n",
       "  </tbody>\n",
       "</table>\n",
       "</div>"
      ],
      "text/plain": [
       "                time\n",
       "idle_state          \n",
       "0           0.000000\n",
       "1           0.192177\n",
       "2           0.492755\n",
       "3           2.572952"
      ]
     },
     "execution_count": 13,
     "metadata": {},
     "output_type": "execute_result"
    }
   ],
   "source": [
    "# Idle state residency for the big cluster\n",
    "trace.data_frame.cluster_idle_state_residency('big')"
   ]
  },
  {
   "cell_type": "code",
   "execution_count": 14,
   "metadata": {},
   "outputs": [
    {
     "data": {
      "image/png": "[encoded data removed]",
      "text/plain": [
       "<matplotlib.figure.Figure at 0x7f40aed0d210>"
      ]
     },
     "metadata": {},
     "output_type": "display_data"
    }
   ],
   "source": [
    "ia.plotClusterIdleStateResidency(['big', 'LITTLE'])"
   ]
  },
  {
   "cell_type": "code",
   "execution_count": 15,
   "metadata": {},
   "outputs": [
    {
     "data": {
      "image/png": "[encoded data removed]",
      "text/plain": [
       "<matplotlib.figure.Figure at 0x7f40aedd2290>"
      ]
     },
     "metadata": {},
     "output_type": "display_data"
    }
   ],
   "source": [
    "ia.plotClusterIdleStateResidency(['big', 'LITTLE'], pct=True)"
   ]
  },
  {
   "cell_type": "code",
   "execution_count": null,
   "metadata": {
    "collapsed": true
   },
   "outputs": [],
   "source": []
  }
 ],
 "metadata": {
  "kernelspec": {
   "display_name": "Python 2",
   "language": "python",
   "name": "python2"
  },
  "language_info": {
   "codemirror_mode": {
    "name": "ipython",
    "version": 2
   },
   "file_extension": ".py",
   "mimetype": "text/x-python",
   "name": "python",
   "nbconvert_exporter": "python",
   "pygments_lexer": "ipython2",
   "version": "2.7.12"
  },
  "toc": {
   "toc_cell": false,
   "toc_number_sections": true,
   "toc_threshold": 6,
   "toc_window_display": true
  }
 },
 "nbformat": 4,
 "nbformat_minor": 1
}
