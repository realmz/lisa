{
 "cells": [
  {
   "cell_type": "markdown",
   "metadata": {
    "collapsed": true
   },
   "source": [
    "# Idle States Residency Analysis"
   ]
  },
  {
   "cell_type": "markdown",
   "metadata": {},
   "source": [
    "This notebook shows the features provided by the idle state analysis module. It will be necessary to collect the following events:\n",
    "\n",
    " - `cpu_idle`, to filter out intervals of time in which the CPU is idle\n",
    " - `sched_switch`, to recognise tasks on kernelshark"
   ]
  },
  {
   "cell_type": "code",
   "execution_count": 1,
   "metadata": {
    "collapsed": false,
    "run_control": {
     "marked": false
    }
   },
   "outputs": [],
   "source": [
    "import logging\n",
    "reload(logging)\n",
    "log_fmt = '%(asctime)-9s %(levelname)-8s: %(message)s'\n",
    "logging.basicConfig(format=log_fmt)\n",
    "\n",
    "# Change to info once the notebook runs ok\n",
    "logging.getLogger().setLevel(logging.INFO)"
   ]
  },
  {
   "cell_type": "code",
   "execution_count": 2,
   "metadata": {
    "collapsed": false,
    "run_control": {
     "marked": false
    }
   },
   "outputs": [],
   "source": [
    "%matplotlib inline\n",
    "\n",
    "import os\n",
    "\n",
    "# Support to access the remote target\n",
    "from env import TestEnv\n",
    "\n",
    "# Support to configure and run RTApp based workloads\n",
    "from wlgen import RTA, Ramp\n",
    "\n",
    "# Support for trace events analysis\n",
    "from trace import Trace"
   ]
  },
  {
   "cell_type": "markdown",
   "metadata": {},
   "source": [
    "# Target Configuration"
   ]
  },
  {
   "cell_type": "markdown",
   "metadata": {},
   "source": [
    "Our target is a Juno R2 development board running Linux."
   ]
  },
  {
   "cell_type": "code",
   "execution_count": 3,
   "metadata": {
    "collapsed": false,
    "run_control": {
     "marked": false
    }
   },
   "outputs": [],
   "source": [
    "# Setup a target configuration\n",
    "my_conf = {\n",
    "    \n",
    "    # Target platform and board\n",
    "    \"platform\"    : 'android',\n",
    "    \"board\"       : 'juno',\n",
    "    \n",
    "    # Target board IP/MAC address\n",
    "    \"host\"        : '192.168.1.101',\n",
    "    \n",
    "    # Login credentials\n",
    "    \"username\"    : 'root',\n",
    "    \"password\"    : '',\n",
    "    \n",
    "    \"results_dir\" : \"CPUIdleAnalysis\",\n",
    "    \n",
    "    # RTApp calibration values (comment to let LISA do a calibration run)\n",
    "    \"rtapp-calib\" :  {\n",
    "        \"0\": 318, \"1\": 125, \"2\": 124, \"3\": 318, \"4\": 318, \"5\": 319\n",
    "    },\n",
    "    \n",
    "    # Tools required by the experiments\n",
    "    \"tools\"   : ['rt-app', 'trace-cmd'],\n",
    "    \"modules\" : ['bl', 'cpufreq'],\n",
    "    \"exclude_modules\" : ['hwmon'],\n",
    "    \n",
    "    # FTrace events to collect for all the tests configuration which have\n",
    "    # the \"ftrace\" flag enabled\n",
    "    \"ftrace\"  : {\n",
    "         \"events\" : [\n",
    "            \"cpu_idle\",\n",
    "            \"sched_switch\"\n",
    "         ],\n",
    "         \"buffsize\" : 10 * 1024,\n",
    "    },\n",
    "}"
   ]
  },
  {
   "cell_type": "markdown",
   "metadata": {},
   "source": [
    "# Tests execution"
   ]
  },
  {
   "cell_type": "code",
   "execution_count": 4,
   "metadata": {
    "collapsed": false,
    "run_control": {
     "marked": false
    },
    "scrolled": true
   },
   "outputs": [
    {
     "name": "stderr",
     "output_type": "stream",
     "text": [
      "2017-04-13 17:20:52,649 INFO    :         Target - Using base path: /data/lisa_fork/lisa\n",
      "2017-04-13 17:20:52,650 INFO    :         Target - Loading custom (inline) target configuration\n",
      "2017-04-13 17:20:52,652 INFO    :         Target - External tools using:\n",
      "2017-04-13 17:20:52,652 INFO    :         Target -    ANDROID_HOME: /home/zhifei/zyang/android-sdk-linux\n",
      "2017-04-13 17:20:52,653 INFO    :         Target -    CATAPULT_HOME: /data/lisa_fork/lisa/tools/catapult\n",
      "2017-04-13 17:20:52,659 INFO    :         Target - Devlib modules to load: ['bl', 'cpufreq']\n",
      "2017-04-13 17:20:52,660 INFO    :         Target - Connecting Android target [192.168.1.101:5555]\n",
      "2017-04-13 17:20:52,662 INFO    :         Target - Connection settings:\n",
      "2017-04-13 17:20:52,664 INFO    :         Target -    {'device': '192.168.1.101:5555'}\n",
      "2017-04-13 17:20:53,309 INFO    :         Target - Initializing target workdir:\n",
      "2017-04-13 17:20:53,313 INFO    :         Target -    /data/local/tmp/devlib-target\n",
      "2017-04-13 17:21:00,557 INFO    :         Target - Topology:\n",
      "2017-04-13 17:21:00,558 INFO    :         Target -    [[0, 3, 4, 5], [1, 2]]\n",
      "2017-04-13 17:21:00,713 INFO    :       Platform - Loading default EM:\n",
      "2017-04-13 17:21:00,717 INFO    :       Platform -    /data/lisa_fork/lisa/libs/utils/platforms/juno.json\n",
      "2017-04-13 17:21:01,751 INFO    :         FTrace - Enabled tracepoints:\n",
      "2017-04-13 17:21:01,754 INFO    :         FTrace -   cpu_idle\n",
      "2017-04-13 17:21:01,756 INFO    :         FTrace -   sched_switch\n",
      "2017-04-13 17:21:01,758 WARNING :         Target - Using configuration provided RTApp calibration\n",
      "2017-04-13 17:21:01,759 INFO    :         Target - Using RT-App calibration values:\n",
      "2017-04-13 17:21:01,761 INFO    :         Target -    {\"0\": 318, \"1\": 125, \"2\": 124, \"3\": 318, \"4\": 318, \"5\": 319}\n",
      "2017-04-13 17:21:01,762 INFO    :          HWMon - HWMON module not enabled\n",
      "2017-04-13 17:21:01,769 WARNING :          HWMon - Energy sampling disabled by configuration\n",
      "2017-04-13 17:21:01,772 INFO    :        TestEnv - Set results folder to:\n",
      "2017-04-13 17:21:01,774 INFO    :        TestEnv -    /data/lisa_fork/lisa/results/CPUIdleAnalysis\n",
      "2017-04-13 17:21:01,777 INFO    :        TestEnv - Experiment results available also in:\n",
      "2017-04-13 17:21:01,780 INFO    :        TestEnv -    /data/lisa_fork/lisa/results_latest\n"
     ]
    }
   ],
   "source": [
    "# Initialize a test environment\n",
    "te = TestEnv(my_conf, wipe=False, force_new=True)\n",
    "target = te.target"
   ]
  },
  {
   "cell_type": "markdown",
   "metadata": {},
   "source": [
    "# Workload configuration and execution"
   ]
  },
  {
   "cell_type": "code",
   "execution_count": 5,
   "metadata": {
    "collapsed": false,
    "scrolled": true
   },
   "outputs": [],
   "source": [
    "def experiment(te):\n",
    "\n",
    "    # Create RTApp RAMP task\n",
    "    rtapp = RTA(te.target, 'ramp', calibration=te.calibration())\n",
    "    rtapp.conf(kind='profile',\n",
    "               params={\n",
    "                    'ramp' : Ramp(\n",
    "                        start_pct =  60,\n",
    "                        end_pct   =  20,\n",
    "                        delta_pct =   5,\n",
    "                        time_s    =   0.5).get()\n",
    "              })\n",
    "\n",
    "    # FTrace the execution of this workload\n",
    "    te.ftrace.start()\n",
    "    rtapp.run(out_dir=te.res_dir)\n",
    "    te.ftrace.stop()\n",
    "\n",
    "    # Collect and keep track of the trace\n",
    "    trace_file = os.path.join(te.res_dir, 'trace.dat')\n",
    "    te.ftrace.get_trace(trace_file)\n",
    "\n",
    "    # Dump platform descriptor\n",
    "    te.platform_dump(te.res_dir)"
   ]
  },
  {
   "cell_type": "code",
   "execution_count": 6,
   "metadata": {
    "collapsed": false,
    "run_control": {
     "marked": false
    },
    "scrolled": true
   },
   "outputs": [
    {
     "name": "stderr",
     "output_type": "stream",
     "text": [
      "2017-04-13 17:21:14,563 INFO    :          WlGen - Setup new workload ramp\n",
      "2017-04-13 17:21:14,567 DEBUG   :          WlGen - Setup step [postrun] callback to [__postrun] function\n",
      "2017-04-13 17:21:14,568 DEBUG   :          WlGen - Configuring a profile-based workload...\n",
      "2017-04-13 17:21:14,570 DEBUG   :          RTApp - ref on big cpu: 1\n",
      "2017-04-13 17:21:14,573 INFO    :          RTApp - Workload duration defined by longest task\n",
      "2017-04-13 17:21:14,574 INFO    :          RTApp - Default policy: SCHED_OTHER\n",
      "2017-04-13 17:21:14,576 INFO    :          RTApp - ------------------------\n",
      "2017-04-13 17:21:14,578 INFO    :          RTApp - task [ramp], sched: using default policy\n",
      "2017-04-13 17:21:14,582 INFO    :          RTApp -  | calibration CPU: 1\n",
      "2017-04-13 17:21:14,583 INFO    :          RTApp -  | loops count: 1\n",
      "2017-04-13 17:21:14,585 INFO    :          RTApp - + phase_000001: duration 0.500000 [s] (5 loops)\n",
      "2017-04-13 17:21:14,586 INFO    :          RTApp - |  period   100000 [us], duty_cycle  60 %\n",
      "2017-04-13 17:21:14,588 INFO    :          RTApp - |  run_time  60000 [us], sleep_time  40000 [us]\n",
      "2017-04-13 17:21:14,590 INFO    :          RTApp - + phase_000002: duration 0.500000 [s] (5 loops)\n",
      "2017-04-13 17:21:14,591 INFO    :          RTApp - |  period   100000 [us], duty_cycle  55 %\n",
      "2017-04-13 17:21:14,593 INFO    :          RTApp - |  run_time  55000 [us], sleep_time  45000 [us]\n",
      "2017-04-13 17:21:14,594 INFO    :          RTApp - + phase_000003: duration 0.500000 [s] (5 loops)\n",
      "2017-04-13 17:21:14,596 INFO    :          RTApp - |  period   100000 [us], duty_cycle  50 %\n",
      "2017-04-13 17:21:14,597 INFO    :          RTApp - |  run_time  50000 [us], sleep_time  50000 [us]\n",
      "2017-04-13 17:21:14,599 INFO    :          RTApp - + phase_000004: duration 0.500000 [s] (5 loops)\n",
      "2017-04-13 17:21:14,600 INFO    :          RTApp - |  period   100000 [us], duty_cycle  45 %\n",
      "2017-04-13 17:21:14,601 INFO    :          RTApp - |  run_time  45000 [us], sleep_time  55000 [us]\n",
      "2017-04-13 17:21:14,603 INFO    :          RTApp - + phase_000005: duration 0.500000 [s] (5 loops)\n",
      "2017-04-13 17:21:14,604 INFO    :          RTApp - |  period   100000 [us], duty_cycle  40 %\n",
      "2017-04-13 17:21:14,607 INFO    :          RTApp - |  run_time  40000 [us], sleep_time  60000 [us]\n",
      "2017-04-13 17:21:14,607 INFO    :          RTApp - + phase_000006: duration 0.500000 [s] (5 loops)\n",
      "2017-04-13 17:21:14,610 INFO    :          RTApp - |  period   100000 [us], duty_cycle  35 %\n",
      "2017-04-13 17:21:14,611 INFO    :          RTApp - |  run_time  35000 [us], sleep_time  65000 [us]\n",
      "2017-04-13 17:21:14,613 INFO    :          RTApp - + phase_000007: duration 0.500000 [s] (5 loops)\n",
      "2017-04-13 17:21:14,615 INFO    :          RTApp - |  period   100000 [us], duty_cycle  30 %\n",
      "2017-04-13 17:21:14,616 INFO    :          RTApp - |  run_time  30000 [us], sleep_time  70000 [us]\n",
      "2017-04-13 17:21:14,619 INFO    :          RTApp - + phase_000008: duration 0.500000 [s] (5 loops)\n",
      "2017-04-13 17:21:14,629 INFO    :          RTApp - |  period   100000 [us], duty_cycle  25 %\n",
      "2017-04-13 17:21:14,630 INFO    :          RTApp - |  run_time  25000 [us], sleep_time  75000 [us]\n",
      "2017-04-13 17:21:14,632 INFO    :          RTApp - + phase_000009: duration 0.500000 [s] (5 loops)\n",
      "2017-04-13 17:21:14,633 INFO    :          RTApp - |  period   100000 [us], duty_cycle  20 %\n",
      "2017-04-13 17:21:14,635 INFO    :          RTApp - |  run_time  20000 [us], sleep_time  80000 [us]\n",
      "2017-04-13 17:21:14,636 DEBUG   : adb -s 192.168.1.101:5555 push 'ramp_00.json' '/data/local/tmp/devlib-target'\n",
      "2017-04-13 17:21:14,706 DEBUG   : adb -s 192.168.1.101:5555 shell \"echo 'echo 10240 > '\\\\''/sys/kernel/debug/tracing/buffer_size_kb'\\\\''' | su\"\n",
      "2017-04-13 17:21:14,796 DEBUG   : adb -s 192.168.1.101:5555 shell \"cat '/sys/kernel/debug/tracing/buffer_size_kb'\"\n",
      "2017-04-13 17:21:14,850 DEBUG   : adb -s 192.168.1.101:5555 shell \"echo '/data/local/tmp/bin/trace-cmd reset' | su\"\n",
      "2017-04-13 17:21:16,021 DEBUG   : adb -s 192.168.1.101:5555 shell \"echo '/data/local/tmp/bin/trace-cmd start -e cpu_idle -e sched_switch' | su\"\n",
      "2017-04-13 17:21:17,093 DEBUG   : adb -s 192.168.1.101:5555 shell \"echo 'echo TRACE_MARKER_START > '\\\\''/sys/kernel/debug/tracing/trace_marker'\\\\''' | su\"\n",
      "2017-04-13 17:21:17,172 DEBUG   : Trace CPUFreq frequencies\n",
      "2017-04-13 17:21:17,173 DEBUG   : adb -s 192.168.1.101:5555 shell \"echo '/data/local/tmp/bin/shutils cpufreq_trace_all_frequencies' | su\"\n",
      "2017-04-13 17:21:17,267 INFO    :          WlGen - Workload execution START:\n",
      "2017-04-13 17:21:17,269 INFO    :          WlGen -    /data/local/tmp/bin/rt-app /data/local/tmp/devlib-target/ramp_00.json 2>&1\n",
      "2017-04-13 17:21:17,272 DEBUG   : adb -s 192.168.1.101:5555 shell \"/data/local/tmp/bin/rt-app /data/local/tmp/devlib-target/ramp_00.json 2>&1\"\n",
      "2017-04-13 17:21:21,805 DEBUG   :          WlGen - Callback [postrun]...\n",
      "2017-04-13 17:21:21,811 DEBUG   :          RTApp - Pulling logfiles to [/data/lisa_fork/lisa/results/CPUIdleAnalysis]...\n",
      "2017-04-13 17:21:21,814 DEBUG   : adb -s 192.168.1.101:5555 shell ls '/data/local/tmp/devlib-target/*ramp*.log'\n",
      "2017-04-13 17:21:21,881 DEBUG   : adb -s 192.168.1.101:5555 pull '/data/local/tmp/devlib-target/rt-app-ramp-0.log' '/data/lisa_fork/lisa/results/CPUIdleAnalysis'\n",
      "2017-04-13 17:21:22,054 DEBUG   :          RTApp - Pulling JSON to [/data/lisa_fork/lisa/results/CPUIdleAnalysis]...\n",
      "2017-04-13 17:21:22,058 DEBUG   : adb -s 192.168.1.101:5555 pull '/data/local/tmp/devlib-target/ramp_00.json' '/data/lisa_fork/lisa/results/CPUIdleAnalysis'\n",
      "2017-04-13 17:21:22,220 DEBUG   :          RTApp - Saving output on [/data/lisa_fork/lisa/results/CPUIdleAnalysis/output.log]...\n",
      "2017-04-13 17:21:22,225 DEBUG   :          WlGen - Workload execution COMPLETED\n",
      "2017-04-13 17:21:22,229 DEBUG   : Trace CPUFreq frequencies\n",
      "2017-04-13 17:21:22,234 DEBUG   : adb -s 192.168.1.101:5555 shell \"echo '/data/local/tmp/bin/shutils cpufreq_trace_all_frequencies' | su\"\n",
      "2017-04-13 17:21:22,315 DEBUG   : adb -s 192.168.1.101:5555 shell \"echo 'echo TRACE_MARKER_STOP > '\\\\''/sys/kernel/debug/tracing/trace_marker'\\\\''' | su\"\n",
      "2017-04-13 17:21:22,385 DEBUG   : adb -s 192.168.1.101:5555 shell \"echo '/data/local/tmp/bin/trace-cmd stop' | su\"\n",
      "2017-04-13 17:21:22,460 DEBUG   : adb -s 192.168.1.101:5555 shell \"echo '/data/local/tmp/bin/trace-cmd extract -o /data/local/tmp/devlib-target/trace.dat' | su\"\n",
      "2017-04-13 17:21:23,821 DEBUG   : adb -s 192.168.1.101:5555 pull '/data/local/tmp/devlib-target/trace.dat' '/data/lisa_fork/lisa/results/CPUIdleAnalysis/trace.dat'\n",
      "2017-04-13 17:21:24,323 DEBUG   :       Platform - Dump platform descriptor in [/data/lisa_fork/lisa/results/CPUIdleAnalysis/platform.json]\n"
     ]
    }
   ],
   "source": [
    "experiment(te)"
   ]
  },
  {
   "cell_type": "markdown",
   "metadata": {},
   "source": [
    "# Parse trace and analyse data"
   ]
  },
  {
   "cell_type": "code",
   "execution_count": 7,
   "metadata": {
    "collapsed": false
   },
   "outputs": [
    {
     "name": "stderr",
     "output_type": "stream",
     "text": [
      "2017-04-13 17:21:24,350 INFO    : Content of the output folder /data/lisa_fork/lisa/results/CPUIdleAnalysis\n"
     ]
    },
    {
     "name": "stdout",
     "output_type": "stream",
     "text": [
      "\u001b[01;34m/data/lisa_fork/lisa/results/CPUIdleAnalysis\u001b[00m\r\n",
      "├── \u001b[01;35mcluster_idle_state_residency.png\u001b[00m\r\n",
      "├── \u001b[01;35mcpu_idle_state_residency.png\u001b[00m\r\n",
      "├── output.log\r\n",
      "├── platform.json\r\n",
      "├── ramp_00.json\r\n",
      "├── rt-app-ramp-0.log\r\n",
      "├── rt-app-ramp_1-0.log\r\n",
      "├── rt-app-ramp_1-1.log\r\n",
      "├── rt-app-ramp_2-2.log\r\n",
      "├── trace.dat\r\n",
      "├── trace.raw.txt\r\n",
      "└── trace.txt\r\n",
      "\r\n",
      "0 directories, 12 files\r\n"
     ]
    }
   ],
   "source": [
    "# Base folder where tests folder are located\n",
    "res_dir = te.res_dir\n",
    "logging.info('Content of the output folder %s', res_dir)\n",
    "!tree {res_dir}"
   ]
  },
  {
   "cell_type": "code",
   "execution_count": 8,
   "metadata": {
    "collapsed": false,
    "run_control": {
     "marked": false
    }
   },
   "outputs": [
    {
     "name": "stderr",
     "output_type": "stream",
     "text": [
      "2017-04-13 17:21:24,514 DEBUG   : Loading [sched] events from trace in [/data/lisa_fork/lisa/results/CPUIdleAnalysis]...\n",
      "2017-04-13 17:21:24,520 DEBUG   : Parsing events: ['cpu_idle', 'sched_switch']\n",
      "2017-04-13 17:21:24,525 INFO    : Parsing FTrace format...\n",
      "2017-04-13 17:21:24,930 DEBUG   : Events found on trace:\n",
      "2017-04-13 17:21:24,931 DEBUG   :  - sched_switch\n",
      "2017-04-13 17:21:24,932 DEBUG   :  - cpu_idle\n",
      "2017-04-13 17:21:24,934 DEBUG   : Lookup dataset for tasks...\n",
      "2017-04-13 17:21:24,937 INFO    : Collected events spans a 5.368 [s] time interval\n",
      "2017-04-13 17:21:24,938 INFO    : Set plots time range to (0.000000, 5.367658)[s]\n",
      "2017-04-13 17:21:24,940 DEBUG   : Registering [<trace.Trace object at 0x7f80de19e190>] local data frames\n",
      "2017-04-13 17:21:24,941 DEBUG   :    functions_stats\n",
      "2017-04-13 17:21:24,943 DEBUG   :    trace_event\n",
      "2017-04-13 17:21:24,943 DEBUG   :       Analysis - Analysis: /data/lisa_fork/lisa/libs/utils/analysis\n",
      "2017-04-13 17:21:24,945 DEBUG   :       Analysis - Syspath: ['/data/lisa_fork/lisa/libs/utils/analysis', '', '/data/lisa_fork/lisa/libs/bart', '/data/lisa_fork/lisa/libs/trappy', '/data/lisa_fork/lisa/libs/devlib', '/data/lisa_fork/lisa/libs/wlgen', '/data/lisa_fork/lisa/libs/utils', '/data/lisa_fork/lisa/ipynb/workshop', '/usr/lib/python2.7', '/usr/lib/python2.7/plat-x86_64-linux-gnu', '/usr/lib/python2.7/lib-tk', '/usr/lib/python2.7/lib-old', '/usr/lib/python2.7/lib-dynload', '/usr/local/lib/python2.7/dist-packages', '/usr/lib/python2.7/dist-packages', '/usr/local/lib/python2.7/dist-packages/IPython/extensions', '/home/zhifei/.ipython']\n",
      "2017-04-13 17:21:24,946 INFO    : Registering trace analysis modules:\n",
      "2017-04-13 17:21:24,948 DEBUG   :       Analysis - Filename: tasks_analysis\n",
      "2017-04-13 17:21:24,951 DEBUG   : Registering [<tasks_analysis.TasksAnalysis object at 0x7f80de1aaa90>] local data frames\n",
      "2017-04-13 17:21:24,954 DEBUG   :    rt_tasks\n",
      "2017-04-13 17:21:24,956 DEBUG   :    top_big_tasks\n",
      "2017-04-13 17:21:24,962 DEBUG   :    top_wakeup_tasks\n",
      "2017-04-13 17:21:24,963 DEBUG   :    trace_event\n",
      "2017-04-13 17:21:24,964 INFO    :    tasks\n",
      "2017-04-13 17:21:24,965 DEBUG   :       Analysis - Filename: idle_analysis\n",
      "2017-04-13 17:21:24,966 DEBUG   : Registering [<idle_analysis.IdleAnalysis object at 0x7f80de1aaf90>] local data frames\n",
      "2017-04-13 17:21:24,970 DEBUG   :    cluster_idle_state_residency\n",
      "2017-04-13 17:21:24,972 DEBUG   :    cpu_idle_state_residency\n",
      "2017-04-13 17:21:24,973 DEBUG   :    trace_event\n",
      "2017-04-13 17:21:24,973 INFO    :    idle\n",
      "2017-04-13 17:21:24,974 DEBUG   :       Analysis - Filename: latency_analysis\n",
      "2017-04-13 17:21:24,977 DEBUG   : Registering [<latency_analysis.LatencyAnalysis object at 0x7f80de19e710>] local data frames\n",
      "2017-04-13 17:21:24,980 DEBUG   :    latency_df\n",
      "2017-04-13 17:21:24,981 DEBUG   :    latency_preemption_df\n",
      "2017-04-13 17:21:24,981 DEBUG   :    latency_wakeup_df\n",
      "2017-04-13 17:21:24,982 DEBUG   :    trace_event\n",
      "2017-04-13 17:21:24,983 INFO    :    latency\n",
      "2017-04-13 17:21:24,983 DEBUG   :       Analysis - Filename: functions_analysis\n",
      "2017-04-13 17:21:24,984 DEBUG   : Registering [<functions_analysis.FunctionsAnalysis object at 0x7f80de19ef10>] local data frames\n",
      "2017-04-13 17:21:24,985 DEBUG   :    trace_event\n",
      "2017-04-13 17:21:24,986 INFO    :    functions\n",
      "2017-04-13 17:21:24,987 DEBUG   :       Analysis - Filename: frequency_analysis\n",
      "2017-04-13 17:21:24,988 DEBUG   : Registering [<frequency_analysis.FrequencyAnalysis object at 0x7f80dd14a810>] local data frames\n",
      "2017-04-13 17:21:24,989 DEBUG   :    cluster_frequency_residency\n",
      "2017-04-13 17:21:24,990 DEBUG   :    cpu_frequency_residency\n",
      "2017-04-13 17:21:24,991 DEBUG   :    trace_event\n",
      "2017-04-13 17:21:24,992 INFO    :    frequency\n",
      "2017-04-13 17:21:24,993 DEBUG   :       Analysis - Filename: status_analysis\n",
      "2017-04-13 17:21:24,993 DEBUG   : Registering [<status_analysis.StatusAnalysis object at 0x7f80dd14aa90>] local data frames\n",
      "2017-04-13 17:21:24,995 DEBUG   :    overutilized\n",
      "2017-04-13 17:21:24,995 DEBUG   :    trace_event\n",
      "2017-04-13 17:21:24,996 INFO    :    status\n",
      "2017-04-13 17:21:24,997 DEBUG   :       Analysis - Filename: eas_analysis\n",
      "2017-04-13 17:21:24,998 DEBUG   : Registering [<eas_analysis.EasAnalysis object at 0x7f80dd14afd0>] local data frames\n",
      "2017-04-13 17:21:24,999 DEBUG   :    trace_event\n",
      "2017-04-13 17:21:25,000 INFO    :    eas\n",
      "2017-04-13 17:21:25,001 DEBUG   :       Analysis - Filename: cpus_analysis\n",
      "2017-04-13 17:21:25,002 DEBUG   : Registering [<cpus_analysis.CpusAnalysis object at 0x7f80dd01f210>] local data frames\n",
      "2017-04-13 17:21:25,003 DEBUG   :    context_switches\n",
      "2017-04-13 17:21:25,003 DEBUG   :    trace_event\n",
      "2017-04-13 17:21:25,005 INFO    :    cpus\n"
     ]
    }
   ],
   "source": [
    "trace = Trace(te.platform, res_dir, events=my_conf['ftrace']['events'])"
   ]
  },
  {
   "cell_type": "markdown",
   "metadata": {},
   "source": [
    "## Per-CPU Idle State Residency"
   ]
  },
  {
   "cell_type": "markdown",
   "metadata": {},
   "source": [
    "It is possible to get the residency in each idle state of a CPU or a cluster with the following commands:"
   ]
  },
  {
   "cell_type": "code",
   "execution_count": 9,
   "metadata": {
    "collapsed": false,
    "run_control": {
     "marked": false
    }
   },
   "outputs": [
    {
     "data": {
      "text/html": [
       "<div>\n",
       "<table border=\"1\" class=\"dataframe\">\n",
       "  <thead>\n",
       "    <tr style=\"text-align: right;\">\n",
       "      <th></th>\n",
       "      <th>time</th>\n",
       "    </tr>\n",
       "    <tr>\n",
       "      <th>idle_state</th>\n",
       "      <th></th>\n",
       "    </tr>\n",
       "  </thead>\n",
       "  <tbody>\n",
       "    <tr>\n",
       "      <th>0</th>\n",
       "      <td>0.007986</td>\n",
       "    </tr>\n",
       "    <tr>\n",
       "      <th>1</th>\n",
       "      <td>0.088138</td>\n",
       "    </tr>\n",
       "    <tr>\n",
       "      <th>2</th>\n",
       "      <td>5.053175</td>\n",
       "    </tr>\n",
       "  </tbody>\n",
       "</table>\n",
       "</div>"
      ],
      "text/plain": [
       "                time\n",
       "idle_state          \n",
       "0           0.007986\n",
       "1           0.088138\n",
       "2           5.053175"
      ]
     },
     "execution_count": 9,
     "metadata": {},
     "output_type": "execute_result"
    }
   ],
   "source": [
    "# Idle state residency for CPU 3\n",
    "trace.data_frame.cpu_idle_state_residency(3)"
   ]
  },
  {
   "cell_type": "markdown",
   "metadata": {},
   "source": [
    "The `IdleAnalysis` module provide methods for plotting residency data."
   ]
  },
  {
   "cell_type": "code",
   "execution_count": 10,
   "metadata": {
    "collapsed": true
   },
   "outputs": [],
   "source": [
    "ia = trace.analysis.idle"
   ]
  },
  {
   "cell_type": "code",
   "execution_count": 11,
   "metadata": {
    "collapsed": false
   },
   "outputs": [
    {
     "data": {
      "image/png": "[encoded data removed]",
      "text/plain": [
       "<matplotlib.figure.Figure at 0x7f80dcfed390>"
      ]
     },
     "metadata": {},
     "output_type": "display_data"
    }
   ],
   "source": [
    "# Actual time spent in each idle state\n",
    "ia.plotCPUIdleStateResidency([0, 1,2, 3, 4, 5])"
   ]
  },
  {
   "cell_type": "code",
   "execution_count": 12,
   "metadata": {
    "collapsed": false,
    "run_control": {
     "marked": false
    }
   },
   "outputs": [
    {
     "data": {
      "image/png": "[encoded data removed]",
      "text/plain": [
       "<matplotlib.figure.Figure at 0x7f80dcbab510>"
      ]
     },
     "metadata": {},
     "output_type": "display_data"
    }
   ],
   "source": [
    "# Percentage of time spent in each idle state\n",
    "ia.plotCPUIdleStateResidency([0,1,2,3], pct=True)"
   ]
  },
  {
   "cell_type": "markdown",
   "metadata": {},
   "source": [
    "## Per-cluster Idle State Residency"
   ]
  },
  {
   "cell_type": "code",
   "execution_count": 13,
   "metadata": {
    "collapsed": false
   },
   "outputs": [
    {
     "data": {
      "text/html": [
       "<div>\n",
       "<table border=\"1\" class=\"dataframe\">\n",
       "  <thead>\n",
       "    <tr style=\"text-align: right;\">\n",
       "      <th></th>\n",
       "      <th>time</th>\n",
       "    </tr>\n",
       "    <tr>\n",
       "      <th>idle_state</th>\n",
       "      <th></th>\n",
       "    </tr>\n",
       "  </thead>\n",
       "  <tbody>\n",
       "    <tr>\n",
       "      <th>0</th>\n",
       "      <td>0.304614</td>\n",
       "    </tr>\n",
       "    <tr>\n",
       "      <th>1</th>\n",
       "      <td>0.344383</td>\n",
       "    </tr>\n",
       "    <tr>\n",
       "      <th>2</th>\n",
       "      <td>2.940861</td>\n",
       "    </tr>\n",
       "  </tbody>\n",
       "</table>\n",
       "</div>"
      ],
      "text/plain": [
       "                time\n",
       "idle_state          \n",
       "0           0.304614\n",
       "1           0.344383\n",
       "2           2.940861"
      ]
     },
     "execution_count": 13,
     "metadata": {},
     "output_type": "execute_result"
    }
   ],
   "source": [
    "# Idle state residency for the big cluster\n",
    "trace.data_frame.cluster_idle_state_residency('big')"
   ]
  },
  {
   "cell_type": "code",
   "execution_count": 14,
   "metadata": {
    "collapsed": false
   },
   "outputs": [
    {
     "data": {
      "image/png": "[encoded data removed]",
      "text/plain": [
       "<matplotlib.figure.Figure at 0x7fcc2de8b450>"
      ]
     },
     "metadata": {},
     "output_type": "display_data"
    }
   ],
   "source": [
    "ia.plotClusterIdleStateResidency(['big', 'LITTLE'])"
   ]
  },
  {
   "cell_type": "code",
   "execution_count": 15,
   "metadata": {
    "collapsed": false
   },
   "outputs": [
    {
     "data": {
      "image/png": "[encoded data removed]",
      "text/plain": [
       "<matplotlib.figure.Figure at 0x7fcc2db102d0>"
      ]
     },
     "metadata": {},
     "output_type": "display_data"
    }
   ],
   "source": [
    "ia.plotClusterIdleStateResidency(['big', 'LITTLE'], pct=True)"
   ]
  },
  {
   "cell_type": "code",
   "execution_count": null,
   "metadata": {
    "collapsed": true
   },
   "outputs": [],
   "source": []
  }
 ],
 "metadata": {
  "kernelspec": {
   "display_name": "Python 2",
   "language": "python",
   "name": "python2"
  },
  "language_info": {
   "codemirror_mode": {
    "name": "ipython",
    "version": 2
   },
   "file_extension": ".py",
   "mimetype": "text/x-python",
   "name": "python",
   "nbconvert_exporter": "python",
   "pygments_lexer": "ipython2",
   "version": "2.7.12"
  },
  "toc": {
   "toc_cell": false,
   "toc_number_sections": true,
   "toc_threshold": 6,
   "toc_window_display": true
  }
 },
 "nbformat": 4,
 "nbformat_minor": 0
}
