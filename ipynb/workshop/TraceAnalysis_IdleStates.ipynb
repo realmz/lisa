{
 "cells": [
  {
   "cell_type": "markdown",
   "metadata": {
    "collapsed": true
   },
   "source": [
    "# Idle States Residency Analysis"
   ]
  },
  {
   "cell_type": "markdown",
   "metadata": {},
   "source": [
    "This notebook shows the features provided by the idle state analysis module. It will be necessary to collect the following events:\n",
    "\n",
    " - `cpu_idle`, to filter out intervals of time in which the CPU is idle\n",
    " - `sched_switch`, to recognise tasks on kernelshark"
   ]
  },
  {
   "cell_type": "code",
   "execution_count": 1,
   "metadata": {
    "run_control": {
     "marked": false
    }
   },
   "outputs": [],
   "source": [
    "import logging\n",
    "reload(logging)\n",
    "log_fmt = '%(asctime)-9s %(levelname)-8s: %(message)s'\n",
    "logging.basicConfig(format=log_fmt)\n",
    "\n",
    "# Change to info once the notebook runs ok\n",
    "logging.getLogger().setLevel(logging.INFO)"
   ]
  },
  {
   "cell_type": "code",
   "execution_count": 2,
   "metadata": {
    "run_control": {
     "marked": false
    }
   },
   "outputs": [],
   "source": [
    "%matplotlib inline\n",
    "\n",
    "import os\n",
    "\n",
    "# Support to access the remote target\n",
    "from env import TestEnv\n",
    "\n",
    "# Support to configure and run RTApp based workloads\n",
    "from wlgen import RTA, Ramp\n",
    "\n",
    "# Support for trace events analysis\n",
    "from trace import Trace"
   ]
  },
  {
   "cell_type": "markdown",
   "metadata": {},
   "source": [
    "# Target Configuration"
   ]
  },
  {
   "cell_type": "markdown",
   "metadata": {},
   "source": [
    "Our target is a Juno R2 development board running Linux."
   ]
  },
  {
   "cell_type": "code",
   "execution_count": 3,
   "metadata": {
    "run_control": {
     "marked": false
    }
   },
   "outputs": [],
   "source": [
    "# Setup a target configuration\n",
    "my_conf = {\n",
    "    \n",
    "    \"platform\"    : 'android',\n",
    "    \"board\"       : \"hikey960\",\n",
    "    \"device\" : \"0123456789ABCDEF\",\n",
    "    \n",
    "    \"ANDROID_HOME\" : \"/media/build/workspace/android-sdk\",\n",
    "    \"rtapp-calib\" : {\"0\": 302, \"1\": 302, \"2\": 304, \"3\": 304, \"4\": 136, \"5\": 137, \"6\": 136, \"7\": 136},\n",
    "\n",
    "     \"emeter\" : {\n",
    "        \"instrument\" : \"acme\",\n",
    "        \"conf\" : {\n",
    "            # Absolute path to the iio-capture binary on the host\n",
    "            'iio-capture' : '/usr/bin/iio-capture',\n",
    "            # Default host name of the BeagleBone Black\n",
    "            'ip_address'     : 'baylibre-acme.local',\n",
    "        },\n",
    "        \"channel_map\" : {\n",
    "            \"Device0\" : 0, # iio:device0\n",
    "        }\n",
    "    },  \n",
    "    # Target board IP/MAC address\n",
    "    \"host\"        : '192.168.1.101',\n",
    "    \n",
    "    # Login credentials\n",
    "    \"username\"    : 'root',\n",
    "    \"password\"    : '',\n",
    "    \n",
    "    \"results_dir\" : \"CPUIdleAnalysis\",\n",
    "    \n",
    "    # RTApp calibration values (comment to let LISA do a calibration run)\n",
    "\n",
    "    # Tools required by the experiments\n",
    "    \"tools\"   : ['rt-app', 'trace-cmd'],\n",
    "    \"modules\" : ['bl', 'cpufreq'],\n",
    "    \"exclude_modules\" : ['hwmon'],\n",
    "    \n",
    "    # FTrace events to collect for all the tests configuration which have\n",
    "    # the \"ftrace\" flag enabled\n",
    "    \"ftrace\"  : {\n",
    "         \"events\" : [\n",
    "            \"cpu_idle\",\n",
    "            \"sched_switch\"\n",
    "         ],\n",
    "         \"buffsize\" : 10 * 1024,\n",
    "    },\n",
    "}"
   ]
  },
  {
   "cell_type": "markdown",
   "metadata": {},
   "source": [
    "# Tests execution"
   ]
  },
  {
   "cell_type": "code",
   "execution_count": 4,
   "metadata": {
    "run_control": {
     "marked": false
    },
    "scrolled": true
   },
   "outputs": [
    {
     "name": "stderr",
     "output_type": "stream",
     "text": [
      "2017-08-10 15:47:19,216 INFO    : Using base path: /media/build/workspace/lisa-github\n",
      "2017-08-10 15:47:19,219 INFO    : Loading custom (inline) target configuration\n",
      "2017-08-10 15:47:19,222 INFO    : External tools using:\n",
      "2017-08-10 15:47:19,222 INFO    :    ANDROID_HOME: /media/build/workspace/android-sdk\n",
      "2017-08-10 15:47:19,230 INFO    :    CATAPULT_HOME: /media/build/workspace/lisa-github/tools/catapult\n",
      "2017-08-10 15:47:19,232 INFO    : Devlib modules to load: ['bl', 'cpuidle', 'cpufreq']\n",
      "2017-08-10 15:47:19,232 INFO    : Connecting Android target [0123456789ABCDEF]\n",
      "2017-08-10 15:47:19,233 INFO    : Connection settings:\n",
      "2017-08-10 15:47:19,234 INFO    :    {'device': '0123456789ABCDEF'}\n",
      "2017-08-10 15:47:25,333 INFO    : Initializing target workdir:\n",
      "2017-08-10 15:47:25,334 INFO    :    /data/local/tmp/devlib-target\n",
      "2017-08-10 15:47:30,356 INFO    : Attempting to read energy model from target\n",
      "2017-08-10 15:47:35,036 INFO    : Topology:\n",
      "2017-08-10 15:47:35,040 INFO    :    [[0, 1, 2, 3], [4, 5, 6, 7]]\n",
      "2017-08-10 15:47:35,200 INFO    : Loading default EM:\n",
      "2017-08-10 15:47:35,203 INFO    :    /media/build/workspace/lisa-github/libs/utils/platforms/hikey960.json\n",
      "2017-08-10 15:47:36,040 INFO    : Enabled tracepoints:\n",
      "2017-08-10 15:47:36,041 INFO    :    cpu_idle\n",
      "2017-08-10 15:47:36,041 INFO    :    sched_switch\n",
      "2017-08-10 15:47:36,042 WARNING : Using configuration provided RTApp calibration\n",
      "2017-08-10 15:47:36,042 INFO    : Using RT-App calibration values:\n",
      "2017-08-10 15:47:36,043 INFO    :    {\"0\": 302, \"1\": 302, \"2\": 304, \"3\": 304, \"4\": 136, \"5\": 137, \"6\": 136, \"7\": 136}\n",
      "2017-08-10 15:47:36,044 INFO    : ACME configuration:\n",
      "2017-08-10 15:47:36,044 INFO    :     binary: /usr/bin/iio-capture\n",
      "2017-08-10 15:47:36,045 INFO    :     device: baylibre-acme.local\n",
      "2017-08-10 15:47:36,046 INFO    :   channels:\n",
      "2017-08-10 15:47:36,046 INFO    :      Device0 (iio:device0)\n",
      "2017-08-10 15:47:36,062 INFO    : Set results folder to:\n",
      "2017-08-10 15:47:36,063 INFO    :    /media/build/workspace/lisa-github/results/CPUIdleAnalysis\n",
      "2017-08-10 15:47:36,065 INFO    : Experiment results available also in:\n",
      "2017-08-10 15:47:36,069 INFO    :    /media/build/workspace/lisa-github/results_latest\n"
     ]
    }
   ],
   "source": [
    "# Initialize a test environment\n",
    "te = TestEnv(my_conf, wipe=False, force_new=True)\n",
    "target = te.target"
   ]
  },
  {
   "cell_type": "markdown",
   "metadata": {},
   "source": [
    "# Workload configuration and execution"
   ]
  },
  {
   "cell_type": "code",
   "execution_count": 5,
   "metadata": {
    "scrolled": true
   },
   "outputs": [],
   "source": [
    "def experiment(te):\n",
    "\n",
    "    # Create RTApp RAMP task\n",
    "    rtapp = RTA(te.target, 'ramp', calibration=te.calibration())\n",
    "    rtapp.conf(kind='profile',\n",
    "               params={\n",
    "                    'ramp' : Ramp(\n",
    "                        start_pct =  60,\n",
    "                        end_pct   =  20,\n",
    "                        delta_pct =   5,\n",
    "                        time_s    =   0.5).get()\n",
    "              })\n",
    "\n",
    "    # FTrace the execution of this workload\n",
    "    te.ftrace.start()\n",
    "    rtapp.run(out_dir=te.res_dir)\n",
    "    te.ftrace.stop()\n",
    "\n",
    "    # Collect and keep track of the trace\n",
    "    trace_file = os.path.join(te.res_dir, 'trace.dat')\n",
    "    te.ftrace.get_trace(trace_file)\n",
    "\n",
    "    # Dump platform descriptor\n",
    "    te.platform_dump(te.res_dir)"
   ]
  },
  {
   "cell_type": "code",
   "execution_count": 6,
   "metadata": {
    "run_control": {
     "marked": false
    },
    "scrolled": true
   },
   "outputs": [
    {
     "name": "stderr",
     "output_type": "stream",
     "text": [
      "2017-08-10 15:47:43,563 INFO    : Setup new workload ramp\n",
      "2017-08-10 15:47:43,701 INFO    : Workload duration defined by longest task\n",
      "2017-08-10 15:47:43,706 INFO    : Default policy: SCHED_OTHER\n",
      "2017-08-10 15:47:43,707 INFO    : ------------------------\n",
      "2017-08-10 15:47:43,708 INFO    : task [ramp], sched: using default policy\n",
      "2017-08-10 15:47:43,709 INFO    :  | loops count: 1\n",
      "2017-08-10 15:47:43,712 INFO    : + phase_000001: duration 0.500000 [s] (5 loops)\n",
      "2017-08-10 15:47:43,713 INFO    : |  period   100000 [us], duty_cycle  60 %\n",
      "2017-08-10 15:47:43,714 INFO    : |  run_time  60000 [us], sleep_time  40000 [us]\n",
      "2017-08-10 15:47:43,714 INFO    : + phase_000002: duration 0.500000 [s] (5 loops)\n",
      "2017-08-10 15:47:43,715 INFO    : |  period   100000 [us], duty_cycle  55 %\n",
      "2017-08-10 15:47:43,716 INFO    : |  run_time  55000 [us], sleep_time  45000 [us]\n",
      "2017-08-10 15:47:43,716 INFO    : + phase_000003: duration 0.500000 [s] (5 loops)\n",
      "2017-08-10 15:47:43,717 INFO    : |  period   100000 [us], duty_cycle  50 %\n",
      "2017-08-10 15:47:43,718 INFO    : |  run_time  50000 [us], sleep_time  50000 [us]\n",
      "2017-08-10 15:47:43,718 INFO    : + phase_000004: duration 0.500000 [s] (5 loops)\n",
      "2017-08-10 15:47:43,719 INFO    : |  period   100000 [us], duty_cycle  45 %\n",
      "2017-08-10 15:47:43,720 INFO    : |  run_time  45000 [us], sleep_time  55000 [us]\n",
      "2017-08-10 15:47:43,720 INFO    : + phase_000005: duration 0.500000 [s] (5 loops)\n",
      "2017-08-10 15:47:43,721 INFO    : |  period   100000 [us], duty_cycle  40 %\n",
      "2017-08-10 15:47:43,721 INFO    : |  run_time  40000 [us], sleep_time  60000 [us]\n",
      "2017-08-10 15:47:43,722 INFO    : + phase_000006: duration 0.500000 [s] (5 loops)\n",
      "2017-08-10 15:47:43,723 INFO    : |  period   100000 [us], duty_cycle  35 %\n",
      "2017-08-10 15:47:43,723 INFO    : |  run_time  35000 [us], sleep_time  65000 [us]\n",
      "2017-08-10 15:47:43,724 INFO    : + phase_000007: duration 0.500000 [s] (5 loops)\n",
      "2017-08-10 15:47:43,724 INFO    : |  period   100000 [us], duty_cycle  30 %\n",
      "2017-08-10 15:47:43,725 INFO    : |  run_time  30000 [us], sleep_time  70000 [us]\n",
      "2017-08-10 15:47:43,725 INFO    : + phase_000008: duration 0.500000 [s] (5 loops)\n",
      "2017-08-10 15:47:43,726 INFO    : |  period   100000 [us], duty_cycle  25 %\n",
      "2017-08-10 15:47:43,726 INFO    : |  run_time  25000 [us], sleep_time  75000 [us]\n",
      "2017-08-10 15:47:43,727 INFO    : + phase_000009: duration 0.500000 [s] (5 loops)\n",
      "2017-08-10 15:47:43,728 INFO    : |  period   100000 [us], duty_cycle  20 %\n",
      "2017-08-10 15:47:43,729 INFO    : |  run_time  20000 [us], sleep_time  80000 [us]\n",
      "2017-08-10 15:47:47,324 INFO    : Workload execution START:\n",
      "2017-08-10 15:47:47,326 INFO    :    /data/local/tmp/bin/rt-app /data/local/tmp/devlib-target/ramp_00.json 2>&1\n"
     ]
    },
    {
     "name": "stdout",
     "output_type": "stream",
     "text": [
      "\n"
     ]
    }
   ],
   "source": [
    "experiment(te)"
   ]
  },
  {
   "cell_type": "markdown",
   "metadata": {},
   "source": [
    "# Parse trace and analyse data"
   ]
  },
  {
   "cell_type": "code",
   "execution_count": 7,
   "metadata": {},
   "outputs": [
    {
     "name": "stderr",
     "output_type": "stream",
     "text": [
      "2017-08-10 15:47:59,612 INFO    : Content of the output folder /media/build/workspace/lisa-github/results/CPUIdleAnalysis\n"
     ]
    },
    {
     "name": "stdout",
     "output_type": "stream",
     "text": [
      "\u001b[01;34m/media/build/workspace/lisa-github/results/CPUIdleAnalysis\u001b[00m\r\n",
      "├── output.log\r\n",
      "├── platform.json\r\n",
      "├── ramp_00.json\r\n",
      "├── rt-app-ramp-0.log\r\n",
      "├── rt-app-ramp_1-2.log\r\n",
      "├── rt-app-ramp_2-3.log\r\n",
      "└── trace.dat\r\n",
      "\r\n",
      "0 directories, 7 files\r\n"
     ]
    }
   ],
   "source": [
    "# Base folder where tests folder are located\n",
    "res_dir = te.res_dir\n",
    "logging.info('Content of the output folder %s', res_dir)\n",
    "!tree {res_dir}"
   ]
  },
  {
   "cell_type": "code",
   "execution_count": 8,
   "metadata": {
    "run_control": {
     "marked": false
    }
   },
   "outputs": [],
   "source": [
    "trace = Trace(te.platform, res_dir, events=my_conf['ftrace']['events'])"
   ]
  },
  {
   "cell_type": "markdown",
   "metadata": {},
   "source": [
    "## Per-CPU Idle State Residency"
   ]
  },
  {
   "cell_type": "markdown",
   "metadata": {},
   "source": [
    "It is possible to get the residency in each idle state of a CPU or a cluster with the following commands:"
   ]
  },
  {
   "cell_type": "code",
   "execution_count": 9,
   "metadata": {
    "run_control": {
     "marked": false
    }
   },
   "outputs": [
    {
     "data": {
      "text/html": [
       "<div>\n",
       "<style>\n",
       "    .dataframe thead tr:only-child th {\n",
       "        text-align: right;\n",
       "    }\n",
       "\n",
       "    .dataframe thead th {\n",
       "        text-align: left;\n",
       "    }\n",
       "\n",
       "    .dataframe tbody tr th {\n",
       "        vertical-align: top;\n",
       "    }\n",
       "</style>\n",
       "<table border=\"1\" class=\"dataframe\">\n",
       "  <thead>\n",
       "    <tr style=\"text-align: right;\">\n",
       "      <th></th>\n",
       "      <th>time</th>\n",
       "    </tr>\n",
       "    <tr>\n",
       "      <th>idle_state</th>\n",
       "      <th></th>\n",
       "    </tr>\n",
       "  </thead>\n",
       "  <tbody>\n",
       "    <tr>\n",
       "      <th>0</th>\n",
       "      <td>0.013436</td>\n",
       "    </tr>\n",
       "    <tr>\n",
       "      <th>1</th>\n",
       "      <td>4.770241</td>\n",
       "    </tr>\n",
       "    <tr>\n",
       "      <th>2</th>\n",
       "      <td>1.522935</td>\n",
       "    </tr>\n",
       "    <tr>\n",
       "      <th>3</th>\n",
       "      <td>0.000000</td>\n",
       "    </tr>\n",
       "  </tbody>\n",
       "</table>\n",
       "</div>"
      ],
      "text/plain": [
       "                time\n",
       "idle_state          \n",
       "0           0.013436\n",
       "1           4.770241\n",
       "2           1.522935\n",
       "3           0.000000"
      ]
     },
     "execution_count": 9,
     "metadata": {},
     "output_type": "execute_result"
    }
   ],
   "source": [
    "# Idle state residency for CPU 3\n",
    "trace.data_frame.cpu_idle_state_residency(3)"
   ]
  },
  {
   "cell_type": "markdown",
   "metadata": {},
   "source": [
    "The `IdleAnalysis` module provide methods for plotting residency data."
   ]
  },
  {
   "cell_type": "code",
   "execution_count": 10,
   "metadata": {
    "collapsed": true
   },
   "outputs": [],
   "source": [
    "ia = trace.analysis.idle"
   ]
  },
  {
   "cell_type": "code",
   "execution_count": 11,
   "metadata": {},
   "outputs": [
    {
     "data": {
      "image/png": "[encoded data removed]",
      "text/plain": [
       "<matplotlib.figure.Figure at 0x7fdd64a8ced0>"
      ]
     },
     "metadata": {},
     "output_type": "display_data"
    }
   ],
   "source": [
    "# Actual time spent in each idle state\n",
    "ia.plotCPUIdleStateResidency([0, 1,2, 3, 4, 5])"
   ]
  },
  {
   "cell_type": "code",
   "execution_count": 12,
   "metadata": {
    "run_control": {
     "marked": false
    }
   },
   "outputs": [
    {
     "data": {
      "image/png": "[encoded data removed]",
      "text/plain": [
       "<matplotlib.figure.Figure at 0x7fdd65cd5ad0>"
      ]
     },
     "metadata": {},
     "output_type": "display_data"
    }
   ],
   "source": [
    "# Percentage of time spent in each idle state\n",
    "ia.plotCPUIdleStateResidency([0,1,2,3], pct=True)"
   ]
  },
  {
   "cell_type": "markdown",
   "metadata": {},
   "source": [
    "## Per-cluster Idle State Residency"
   ]
  },
  {
   "cell_type": "code",
   "execution_count": 13,
   "metadata": {},
   "outputs": [
    {
     "data": {
      "text/html": [
       "<div>\n",
       "<style>\n",
       "    .dataframe thead tr:only-child th {\n",
       "        text-align: right;\n",
       "    }\n",
       "\n",
       "    .dataframe thead th {\n",
       "        text-align: left;\n",
       "    }\n",
       "\n",
       "    .dataframe tbody tr th {\n",
       "        vertical-align: top;\n",
       "    }\n",
       "</style>\n",
       "<table border=\"1\" class=\"dataframe\">\n",
       "  <thead>\n",
       "    <tr style=\"text-align: right;\">\n",
       "      <th></th>\n",
       "      <th>time</th>\n",
       "    </tr>\n",
       "    <tr>\n",
       "      <th>idle_state</th>\n",
       "      <th></th>\n",
       "    </tr>\n",
       "  </thead>\n",
       "  <tbody>\n",
       "    <tr>\n",
       "      <th>0</th>\n",
       "      <td>0.000000</td>\n",
       "    </tr>\n",
       "    <tr>\n",
       "      <th>1</th>\n",
       "      <td>2.014813</td>\n",
       "    </tr>\n",
       "    <tr>\n",
       "      <th>2</th>\n",
       "      <td>0.958212</td>\n",
       "    </tr>\n",
       "    <tr>\n",
       "      <th>3</th>\n",
       "      <td>0.833439</td>\n",
       "    </tr>\n",
       "  </tbody>\n",
       "</table>\n",
       "</div>"
      ],
      "text/plain": [
       "                time\n",
       "idle_state          \n",
       "0           0.000000\n",
       "1           2.014813\n",
       "2           0.958212\n",
       "3           0.833439"
      ]
     },
     "execution_count": 13,
     "metadata": {},
     "output_type": "execute_result"
    }
   ],
   "source": [
    "# Idle state residency for the big cluster\n",
    "trace.data_frame.cluster_idle_state_residency('big')"
   ]
  },
  {
   "cell_type": "code",
   "execution_count": 14,
   "metadata": {},
   "outputs": [
    {
     "data": {
      "image/png": "[encoded data removed]",
      "text/plain": [
       "<matplotlib.figure.Figure at 0x7fdd6468b650>"
      ]
     },
     "metadata": {},
     "output_type": "display_data"
    }
   ],
   "source": [
    "ia.plotClusterIdleStateResidency(['big', 'LITTLE'])"
   ]
  },
  {
   "cell_type": "code",
   "execution_count": 15,
   "metadata": {},
   "outputs": [
    {
     "data": {
      "image/png": "[encoded data removed]",
      "text/plain": [
       "<matplotlib.figure.Figure at 0x7fcc2db102d0>"
      ]
     },
     "metadata": {},
     "output_type": "display_data"
    }
   ],
   "source": [
    "ia.plotClusterIdleStateResidency(['big', 'LITTLE'], pct=True)"
   ]
  },
  {
   "cell_type": "code",
   "execution_count": null,
   "metadata": {
    "collapsed": true
   },
   "outputs": [],
   "source": []
  }
 ],
 "metadata": {
  "kernelspec": {
   "display_name": "Python 2",
   "language": "python",
   "name": "python2"
  },
  "language_info": {
   "codemirror_mode": {
    "name": "ipython",
    "version": 2
   },
   "file_extension": ".py",
   "mimetype": "text/x-python",
   "name": "python",
   "nbconvert_exporter": "python",
   "pygments_lexer": "ipython2",
   "version": "2.7.12"
  },
  "toc": {
   "toc_cell": false,
   "toc_number_sections": true,
   "toc_threshold": 6,
   "toc_window_display": true
  }
 },
 "nbformat": 4,
 "nbformat_minor": 1
}
