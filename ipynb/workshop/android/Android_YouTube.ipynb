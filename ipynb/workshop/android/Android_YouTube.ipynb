{
 "cells": [
  {
   "cell_type": "markdown",
   "metadata": {},
   "source": [
    "# YouTube on Android\n",
    "\n",
    "The goal of this experiment is to run Youtube videos on a Pixel device running Android and collect results."
   ]
  },
  {
   "cell_type": "code",
   "execution_count": 1,
   "metadata": {},
   "outputs": [
    {
     "name": "stderr",
     "output_type": "stream",
     "text": [
      "2018-08-17 16:28:31,996 INFO    : root         : Using LISA logging configuration:\n",
      "2018-08-17 16:28:31,999 INFO    : root         :   /home/steven/lisa/lisa-github/logging.conf\n"
     ]
    }
   ],
   "source": [
    "from conf import LisaLogging\n",
    "import logging\n",
    "LisaLogging.setup(level=logging.DEBUG)"
   ]
  },
  {
   "cell_type": "code",
   "execution_count": 2,
   "metadata": {},
   "outputs": [
    {
     "name": "stdout",
     "output_type": "stream",
     "text": [
      "Populating the interactive namespace from numpy and matplotlib\n"
     ]
    },
    {
     "name": "stderr",
     "output_type": "stream",
     "text": [
      "2018-08-17 16:28:33,054 DEBUG   : JsonConf     : loading JSON...\n",
      "2018-08-17 16:28:33,056 DEBUG   : JsonConf     : Loaded JSON configuration:\n",
      "2018-08-17 16:28:33,058 DEBUG   : JsonConf     :    {u'nrg_model': {u'big': {u'cluster': {u'nrg_max': 112}, u'cpu': {u'cap_max': 1024, u'nrg_max': 670}}, u'little': {u'cluster': {u'nrg_max': 112}, u'cpu': {u'cap_max': 1024, u'nrg_max': 670}}}, u'board': {u'big_core': u'A53_1', u'cores': [u'A53_0', u'A53_0', u'A53_0', u'A53_0', u'A53_1', u'A53_1', u'A53_1', u'A53_1'], u'modules': [u'bl', u'cpufreq', u'cpuidle']}}\n",
      "2018-08-17 16:28:33,062 DEBUG   : JsonConf     : loading JSON...\n",
      "2018-08-17 16:28:33,064 DEBUG   : JsonConf     : Loaded JSON configuration:\n",
      "2018-08-17 16:28:33,065 DEBUG   : JsonConf     :    {u'board': {u'big_core': u'A57', u'cores': [u'A53', u'A53', u'A53', u'A53', u'A57', u'A57'], u'modules': [u'bl', u'cpufreq']}}\n",
      "2018-08-17 16:28:33,067 DEBUG   : JsonConf     : loading JSON...\n",
      "2018-08-17 16:28:33,069 DEBUG   : JsonConf     : Loaded JSON configuration:\n",
      "2018-08-17 16:28:33,071 DEBUG   : JsonConf     :    {u'nrg_model': {u'big': {u'cluster': {u'nrg_max': 96}, u'cpu': {u'cap_max': 1024, u'nrg_max': 1715}}, u'little': {u'cluster': {u'nrg_max': 52}, u'cpu': {u'cap_max': 763, u'nrg_max': 925}}}, u'board': {u'big_core': u'Gold', u'cores': [u'Silver', u'Silver', u'Gold', u'Gold'], u'modules': [u'bl', u'cpufreq']}}\n",
      "2018-08-17 16:28:33,073 DEBUG   : JsonConf     : loading JSON...\n",
      "2018-08-17 16:28:33,075 DEBUG   : JsonConf     : Loaded JSON configuration:\n",
      "2018-08-17 16:28:33,076 DEBUG   : JsonConf     :    {u'nrg_model': {u'big': {u'cluster': {u'nrg_max': 15200}, u'cpu': {u'cap_max': 1024, u'nrg_max': 6997}}, u'little': {u'cluster': {u'nrg_max': 4905}, u'cpu': {u'cap_max': 430, u'nrg_max': 1024}}}}\n",
      "2018-08-17 16:28:33,078 DEBUG   : JsonConf     : loading JSON...\n",
      "2018-08-17 16:28:33,079 DEBUG   : JsonConf     : Loaded JSON configuration:\n",
      "2018-08-17 16:28:33,081 DEBUG   : JsonConf     :    {u'nrg_model': {u'big': {u'cluster': {u'nrg_max': 252}, u'cpu': {u'cap_max': 1024, u'nrg_max': 1098}}, u'little': {u'cluster': {u'nrg_max': 220}, u'cpu': {u'cap_max': 591, u'nrg_max': 217}}}, u'board': {u'big_core': u'A72', u'cores': [u'A53', u'A53', u'A72', u'A72'], u'modules': [u'bl', u'cpufreq', u'cpuidle']}}\n",
      "2018-08-17 16:28:33,082 DEBUG   : JsonConf     : loading JSON...\n",
      "2018-08-17 16:28:33,084 DEBUG   : JsonConf     : Loaded JSON configuration:\n",
      "2018-08-17 16:28:33,085 DEBUG   : JsonConf     :    {u'nrg_model': {u'big': {u'cluster': {u'nrg_max': 78}, u'cpu': {u'cap_max': 1024, u'nrg_max': 1893}}, u'little': {u'cluster': {u'nrg_max': 56}, u'cpu': {u'cap_max': 472, u'nrg_max': 215}}}, u'board': {u'big_core': u'A72', u'cores': [u'A53', u'A53', u'A53', u'A53', u'A72', u'A72'], u'modules': [u'bl', u'cpufreq', u'cpuidle']}}\n",
      "2018-08-17 16:28:33,087 DEBUG   : JsonConf     : loading JSON...\n",
      "2018-08-17 16:28:33,088 DEBUG   : JsonConf     : Loaded JSON configuration:\n",
      "2018-08-17 16:28:33,089 DEBUG   : JsonConf     :    {u'abi': u'arm64', u'freqs': {u'big': [450000, 625000, 800000, 950000, 1100000], u'little': [450000, 575000, 700000, 775000, 850000]}, u'nrg_model': {u'big': {u'cluster': {u'nrg_max': 64}, u'cpu': {u'cap_max': 1024, u'nrg_max': 616}}, u'little': {u'cluster': {u'nrg_max': 57}, u'cpu': {u'cap_max': 447, u'nrg_max': 93}}}, u'clusters': {u'big': [1, 2], u'little': [0, 3, 4, 5]}, u'cpus_count': 6, u'topology': [[0, 3, 4, 5], [1, 2]]}\n",
      "2018-08-17 16:28:33,091 DEBUG   : JsonConf     : loading JSON...\n",
      "2018-08-17 16:28:33,092 DEBUG   : JsonConf     : Loaded JSON configuration:\n",
      "2018-08-17 16:28:33,094 DEBUG   : JsonConf     :    {u'board': {u'big_core': u'A15', u'cores': [u'A7', u'A7', u'A7', u'A7', u'A15', u'A15', u'A15', u'A15'], u'modules': [u'bl', u'cpufreq']}}\n",
      "2018-08-17 16:28:33,096 DEBUG   : JsonConf     : loading JSON...\n",
      "2018-08-17 16:28:33,099 DEBUG   : JsonConf     : Loaded JSON configuration:\n",
      "2018-08-17 16:28:33,104 DEBUG   : JsonConf     :    {u'abi': u'arm64', u'freqs': {u'1': [903000, 1421000, 1805000, 2112000, 2362000], u'0': [533000, 999000, 1402000, 1709000, 1844000]}, u'board': {u'big_core': u'A73', u'cores': [u'A53', u'A53', u'A53', u'A53', u'A73', u'A73', u'A73', u'A73'], u'modules': [u'bl', u'cpufreq', u'cpuidle']}, u'nrg_model': {u'big': {u'cluster': {u'nrg_max': 433}, u'cpu': {u'cap_max': 1024, u'nrg_max': 2848}}, u'little': {u'cluster': {u'nrg_max': 144}, u'cpu': {u'cap_max': 462, u'nrg_max': 502}}}, u'clusters': {u'1': [4, 5, 6, 7], u'0': [0, 1, 2, 3]}, u'cpus_count': 8, u'topology': [[0, 1, 2, 3], [4, 5, 6, 7]]}\n"
     ]
    }
   ],
   "source": [
    "%pylab inline\n",
    "\n",
    "import json\n",
    "import os\n",
    "\n",
    "# Support to access the remote target\n",
    "import devlib\n",
    "from env import TestEnv\n",
    "\n",
    "# Import support for Android devices\n",
    "from android import System, Screen, Workload\n",
    "\n",
    "# Support for trace events analysis\n",
    "from trace import Trace\n",
    "\n",
    "# Suport for FTrace events parsing and visualization\n",
    "import trappy\n",
    "\n",
    "import pandas as pd\n",
    "import sqlite3"
   ]
  },
  {
   "cell_type": "markdown",
   "metadata": {},
   "source": [
    "## Support Functions"
   ]
  },
  {
   "cell_type": "markdown",
   "metadata": {},
   "source": [
    "This function helps us run our experiments:"
   ]
  },
  {
   "cell_type": "code",
   "execution_count": 3,
   "metadata": {},
   "outputs": [],
   "source": [
    "def experiment():\n",
    "    \n",
    "    # Configure governor\n",
    "    target.cpufreq.set_all_governors('schedutil')\n",
    "\n",
    "    # Get workload\n",
    "    wload = Workload(te).getInstance(te, 'YouTube')\n",
    "    \n",
    "    # Run Youtube workload\n",
    "    wload.run(te.res_dir, 'https://youtu.be/XSGBVzeBUbk?t=45s',\n",
    "              video_duration_s=5, collect='ftrace')\n",
    "\n",
    "    # Dump platform descriptor\n",
    "    te.platform_dump(te.res_dir)"
   ]
  },
  {
   "cell_type": "markdown",
   "metadata": {},
   "source": [
    "## Test environment setup\n",
    "For more details on this please check out **examples/utils/testenv_example.ipynb**."
   ]
  },
  {
   "cell_type": "markdown",
   "metadata": {},
   "source": [
    "**devlib** requires the ANDROID_HOME environment variable configured to point to your local installation of the Android SDK. If you have not this variable configured in the shell used to start the notebook server, you need to run a cell to define where your Android SDK is installed or specify the ANDROID_HOME in your target configuration."
   ]
  },
  {
   "cell_type": "markdown",
   "metadata": {},
   "source": [
    "In case more than one Android device are conencted to the host, you must specify the ID of the device you want to target in **my_target_conf**. Run **adb devices** on your host to get the ID."
   ]
  },
  {
   "cell_type": "code",
   "execution_count": 4,
   "metadata": {},
   "outputs": [],
   "source": [
    "# Setup target configuration\n",
    "androidsdk_path=os.path.join(os.getcwd(), \"../../../../android-sdk\")\n",
    "my_conf = {\n",
    "    \"platform\"    : 'android',\n",
    "    \"board\"       : \"hikey960\",\n",
    "    \"device\" : \"0123456789ABCDEF\",\n",
    "    \n",
    "    \"ANDROID_HOME\" : androidsdk_path,\n",
    "    \"rtapp-calib\" : {\"0\": 302, \"1\": 302, \"2\": 304, \"3\": 304, \"4\": 136, \"5\": 137, \"6\": 136, \"7\": 136},\n",
    "\n",
    "     \"emeter\" : {\n",
    "        \"instrument\" : \"acme\",\n",
    "        \"conf\" : {\n",
    "            # Absolute path to the iio-capture binary on the host\n",
    "            'iio-capture' : '/usr/bin/iio-capture',\n",
    "            # Default host name of the BeagleBone Black\n",
    "            'ip_address'     : '10.65.34.1',\n",
    "        },\n",
    "        \"channel_map\" : {\n",
    "            \"Device0\" : 0, # iio:device0\n",
    "            \"Device1\" : 1, # iio:device0\n",
    "        }\n",
    "    },\n",
    "\n",
    "\n",
    "    # Folder where all the results will be collected\n",
    "    \"results_dir\" : \"Youtube_example\",\n",
    "\n",
    "    # Define devlib modules to load\n",
    "    \"modules\"     : [\n",
    "        'cpufreq',       # enable CPUFreq support\n",
    "    ],\n",
    "\n",
    "    # FTrace events to collect for all the tests configuration which have\n",
    "    # the \"ftrace\" flag enabled\n",
    "    \"ftrace\"  : {\n",
    "         \"events\" : [\n",
    "            \"sched_switch\",\n",
    "            \"sched_wakeup\",\n",
    "            \"sched_wakeup_new\",\n",
    "            \"sched_overutilized\",\n",
    "            \"sched_load_avg_cpu\",\n",
    "            \"sched_load_avg_task\",\n",
    "            \"cpu_capacity\",\n",
    "            \"cpu_frequency\",\n",
    "             \n",
    "            # Add here the events you wanna enable by hand\n",
    "            \"sched_energy_diff\",\n",
    "         ],\n",
    "         \"buffsize\" : 100 * 1024,\n",
    "    },\n",
    "\n",
    "    # Tools required by the experiments\n",
    "    \"tools\"   : [ 'trace-cmd', 'taskset' ],\n",
    "}"
   ]
  },
  {
   "cell_type": "code",
   "execution_count": 5,
   "metadata": {
    "scrolled": false
   },
   "outputs": [
    {
     "name": "stderr",
     "output_type": "stream",
     "text": [
      "2018-08-17 16:28:33,594 INFO    : TestEnv      : Using base path: /home/steven/lisa/lisa-github\n",
      "2018-08-17 16:28:33,596 INFO    : TestEnv      : Loading custom (inline) target configuration\n",
      "2018-08-17 16:28:33,598 WARNING : TestEnv      : Wipe previous contents of the results folder:\n",
      "2018-08-17 16:28:33,600 WARNING : TestEnv      :    /home/steven/lisa/lisa-github/results/Youtube_example\n",
      "2018-08-17 16:28:33,603 INFO    : TestEnv      : External tools using:\n",
      "2018-08-17 16:28:33,604 INFO    : TestEnv      :    ANDROID_HOME: /home/steven/lisa/lisa-github/ipynb/workshop/android/../../../../android-sdk\n",
      "2018-08-17 16:28:33,606 INFO    : TestEnv      :    CATAPULT_HOME: /home/steven/lisa/lisa-github/tools/catapult\n",
      "2018-08-17 16:28:33,608 INFO    : TestEnv      : Devlib modules to load: ['bl', 'cpuidle', 'cpufreq']\n",
      "2018-08-17 16:28:33,610 INFO    : TestEnv      : Connecting Android target [0123456789ABCDEF]\n",
      "2018-08-17 16:28:33,612 INFO    : TestEnv      : Connection settings:\n",
      "2018-08-17 16:28:33,614 INFO    : TestEnv      :    {'device': '0123456789ABCDEF'}\n",
      "2018-08-17 16:28:35,011 DEBUG   : cpuidle      : Adding cpu0 state 0: WFI ARM64 WFI\n",
      "2018-08-17 16:28:35,014 DEBUG   : cpuidle      : Adding cpu0 state 1: cpu-sleep cpu-sleep\n",
      "2018-08-17 16:28:35,016 DEBUG   : cpuidle      : Adding cpu0 state 2: cluster-sleep-0 cluster-sleep-0\n",
      "2018-08-17 16:28:35,018 DEBUG   : cpuidle      : Adding cpu1 state 0: WFI ARM64 WFI\n",
      "2018-08-17 16:28:35,020 DEBUG   : cpuidle      : Adding cpu1 state 1: cpu-sleep cpu-sleep\n",
      "2018-08-17 16:28:35,022 DEBUG   : cpuidle      : Adding cpu1 state 2: cluster-sleep-0 cluster-sleep-0\n",
      "2018-08-17 16:28:35,024 DEBUG   : cpuidle      : Adding cpu2 state 0: WFI ARM64 WFI\n",
      "2018-08-17 16:28:35,026 DEBUG   : cpuidle      : Adding cpu2 state 1: cpu-sleep cpu-sleep\n",
      "2018-08-17 16:28:35,028 DEBUG   : cpuidle      : Adding cpu2 state 2: cluster-sleep-0 cluster-sleep-0\n",
      "2018-08-17 16:28:35,029 DEBUG   : cpuidle      : Adding cpu3 state 0: WFI ARM64 WFI\n",
      "2018-08-17 16:28:35,032 DEBUG   : cpuidle      : Adding cpu3 state 1: cpu-sleep cpu-sleep\n",
      "2018-08-17 16:28:35,034 DEBUG   : cpuidle      : Adding cpu3 state 2: cluster-sleep-0 cluster-sleep-0\n",
      "2018-08-17 16:28:35,035 DEBUG   : cpuidle      : Adding cpu4 state 0: WFI ARM64 WFI\n",
      "2018-08-17 16:28:35,038 DEBUG   : cpuidle      : Adding cpu4 state 1: cpu-nap cpu-nap\n",
      "2018-08-17 16:28:35,040 DEBUG   : cpuidle      : Adding cpu4 state 2: cpu-sleep cpu-sleep\n",
      "2018-08-17 16:28:35,042 DEBUG   : cpuidle      : Adding cpu4 state 3: cluster-sleep-1 cluster-sleep-1\n",
      "2018-08-17 16:28:35,043 DEBUG   : cpuidle      : Adding cpu5 state 0: WFI ARM64 WFI\n",
      "2018-08-17 16:28:35,045 DEBUG   : cpuidle      : Adding cpu5 state 1: cpu-nap cpu-nap\n",
      "2018-08-17 16:28:35,047 DEBUG   : cpuidle      : Adding cpu5 state 2: cpu-sleep cpu-sleep\n",
      "2018-08-17 16:28:35,049 DEBUG   : cpuidle      : Adding cpu5 state 3: cluster-sleep-1 cluster-sleep-1\n",
      "2018-08-17 16:28:35,052 DEBUG   : cpuidle      : Adding cpu6 state 0: WFI ARM64 WFI\n",
      "2018-08-17 16:28:35,054 DEBUG   : cpuidle      : Adding cpu6 state 1: cpu-nap cpu-nap\n",
      "2018-08-17 16:28:35,055 DEBUG   : cpuidle      : Adding cpu6 state 2: cpu-sleep cpu-sleep\n",
      "2018-08-17 16:28:35,057 DEBUG   : cpuidle      : Adding cpu6 state 3: cluster-sleep-1 cluster-sleep-1\n",
      "2018-08-17 16:28:35,059 DEBUG   : cpuidle      : Adding cpu7 state 0: WFI ARM64 WFI\n",
      "2018-08-17 16:28:35,061 DEBUG   : cpuidle      : Adding cpu7 state 1: cpu-nap cpu-nap\n",
      "2018-08-17 16:28:35,063 DEBUG   : cpuidle      : Adding cpu7 state 2: cpu-sleep cpu-sleep\n",
      "2018-08-17 16:28:35,064 DEBUG   : cpuidle      : Adding cpu7 state 3: cluster-sleep-1 cluster-sleep-1\n",
      "2018-08-17 16:28:35,129 INFO    : TestEnv      : Initializing target workdir:\n",
      "2018-08-17 16:28:35,131 INFO    : TestEnv      :    /data/local/tmp/devlib-target\n",
      "2018-08-17 16:28:36,324 INFO    : TestEnv      : Attempting to read energy model from target\n",
      "2018-08-17 16:28:37,143 INFO    : TestEnv      : Topology:\n",
      "2018-08-17 16:28:37,147 INFO    : TestEnv      :    [[0, 1, 2, 3], [4, 5, 6, 7]]\n",
      "2018-08-17 16:28:37,244 INFO    : TestEnv      : Loading default EM:\n",
      "2018-08-17 16:28:37,247 INFO    : TestEnv      :    /home/steven/lisa/lisa-github/libs/utils/platforms/hikey960.json\n",
      "2018-08-17 16:28:37,248 DEBUG   : JsonConf     : loading JSON...\n",
      "2018-08-17 16:28:37,251 DEBUG   : JsonConf     : Loaded JSON configuration:\n",
      "2018-08-17 16:28:37,253 DEBUG   : JsonConf     :    {u'abi': u'arm64', u'freqs': {u'1': [903000, 1421000, 1805000, 2112000, 2362000], u'0': [533000, 999000, 1402000, 1709000, 1844000]}, u'board': {u'big_core': u'A73', u'cores': [u'A53', u'A53', u'A53', u'A53', u'A73', u'A73', u'A73', u'A73'], u'modules': [u'bl', u'cpufreq', u'cpuidle']}, u'nrg_model': {u'big': {u'cluster': {u'nrg_max': 433}, u'cpu': {u'cap_max': 1024, u'nrg_max': 2848}}, u'little': {u'cluster': {u'nrg_max': 144}, u'cpu': {u'cap_max': 462, u'nrg_max': 502}}}, u'clusters': {u'1': [4, 5, 6, 7], u'0': [0, 1, 2, 3]}, u'cpus_count': 8, u'topology': [[0, 1, 2, 3], [4, 5, 6, 7]]}\n",
      "2018-08-17 16:28:37,723 INFO    : TestEnv      : Enabled tracepoints:\n",
      "2018-08-17 16:28:37,725 INFO    : TestEnv      :    sched_switch\n",
      "2018-08-17 16:28:37,728 INFO    : TestEnv      :    sched_wakeup\n",
      "2018-08-17 16:28:37,730 INFO    : TestEnv      :    sched_wakeup_new\n",
      "2018-08-17 16:28:37,735 INFO    : TestEnv      :    sched_overutilized\n",
      "2018-08-17 16:28:37,737 INFO    : TestEnv      :    sched_load_avg_cpu\n",
      "2018-08-17 16:28:37,740 INFO    : TestEnv      :    sched_load_avg_task\n",
      "2018-08-17 16:28:37,742 INFO    : TestEnv      :    cpu_capacity\n",
      "2018-08-17 16:28:37,744 INFO    : TestEnv      :    cpu_frequency\n",
      "2018-08-17 16:28:37,746 INFO    : TestEnv      :    sched_energy_diff\n",
      "2018-08-17 16:28:37,748 DEBUG   : EnergyMeter  : using user-defined configuration\n",
      "2018-08-17 16:28:37,750 INFO    : EnergyMeter  : ACME configuration:\n",
      "2018-08-17 16:28:37,752 INFO    : EnergyMeter  :     binary: /usr/bin/iio-capture\n",
      "2018-08-17 16:28:37,754 INFO    : EnergyMeter  :     device: 10.65.34.1\n",
      "2018-08-17 16:28:37,756 INFO    : EnergyMeter  :   channels:\n",
      "2018-08-17 16:28:37,757 INFO    : EnergyMeter  :      Device1 (iio:device1)\n",
      "2018-08-17 16:28:37,760 INFO    : EnergyMeter  :      Device0 (iio:device0)\n",
      "2018-08-17 16:28:37,777 DEBUG   : EnergyMeter  : Results dir: /home/steven/lisa/lisa-github/results/Youtube_example\n",
      "2018-08-17 16:28:37,779 INFO    : TestEnv      : Set results folder to:\n",
      "2018-08-17 16:28:37,781 INFO    : TestEnv      :    /home/steven/lisa/lisa-github/results/Youtube_example\n",
      "2018-08-17 16:28:37,783 INFO    : TestEnv      : Experiment results available also in:\n",
      "2018-08-17 16:28:37,784 INFO    : TestEnv      :    /home/steven/lisa/lisa-github/results_latest\n"
     ]
    }
   ],
   "source": [
    "# Initialize a test environment using:\n",
    "te = TestEnv(my_conf)\n",
    "target = te.target"
   ]
  },
  {
   "cell_type": "code",
   "execution_count": 6,
   "metadata": {},
   "outputs": [],
   "source": [
    "# ADB ROOT is requried for systrace to be able to get the generated trace from the target\n",
    "!adb root"
   ]
  },
  {
   "cell_type": "markdown",
   "metadata": {},
   "source": [
    "## Workloads execution\n",
    "\n",
    "This is done using the **experiment** helper function defined above which is configured to run a **Youtube** experiment."
   ]
  },
  {
   "cell_type": "code",
   "execution_count": 9,
   "metadata": {
    "scrolled": true
   },
   "outputs": [
    {
     "name": "stderr",
     "output_type": "stream",
     "text": [
      "2018-08-17 16:32:16,018 DEBUG   : YouTube      : Workload created\n",
      "2018-08-17 16:32:16,021 INFO    : Screen       : Setting screen ON\n",
      "2018-08-17 16:32:18,162 INFO    : System       : am force-stop com.paraphron.youtube\n",
      "2018-08-17 16:32:19,016 INFO    : Screen       : Force manual orientation\n",
      "2018-08-17 16:32:19,019 INFO    : Screen       : Set orientation: PORTRAIT\n",
      "2018-08-17 16:32:20,558 INFO    : Screen       : Set brightness: 0%\n",
      "2018-08-17 16:32:22,607 INFO    : System       : am start -a android.intent.action.VIEW https://youtu.be/XSGBVzeBUbk?t=45s\n",
      "2018-08-17 16:32:23,958 INFO    : System       : input tap 875 875\n",
      "2018-08-17 16:32:24,267 INFO    : YouTube      : FTrace START\n",
      "2018-08-17 16:32:28,785 DEBUG   : FtraceCollector : Trace CPUFreq frequencies\n",
      "2018-08-17 16:32:28,848 DEBUG   : FtraceCollector : Trace CPUIdle states\n",
      "2018-08-17 16:32:28,962 INFO    : YouTube      : Play video for 5 [s]\n",
      "2018-08-17 16:32:33,971 DEBUG   : FtraceCollector : Trace CPUFreq frequencies\n",
      "2018-08-17 16:32:34,118 INFO    : YouTube      : FTrace STOP\n",
      "2018-08-17 16:32:37,827 INFO    : System       : am force-stop com.paraphron.youtube\n",
      "2018-08-17 16:32:38,613 INFO    : Screen       : Set orientation: AUTO\n",
      "2018-08-17 16:32:39,771 INFO    : Screen       : Set brightness: AUTO\n"
     ]
    }
   ],
   "source": [
    "# Intialize Workloads for this test environment\n",
    "results = experiment()"
   ]
  },
  {
   "cell_type": "markdown",
   "metadata": {},
   "source": [
    "## Benchmarks results"
   ]
  },
  {
   "cell_type": "code",
   "execution_count": null,
   "metadata": {},
   "outputs": [],
   "source": [
    "# Benchmark statistics\n",
    "db_file = os.path.join(te.res_dir, \"framestats.txt\")\n",
    "!sed '/Stats since/,/99th/!d;/99th/q' {db_file}\n",
    "\n",
    "# For all results:\n",
    "# !cat {results['db_file']}"
   ]
  },
  {
   "cell_type": "markdown",
   "metadata": {},
   "source": [
    "## Traces visualisation\n",
    "\n",
    "For more information on this please check **examples/trace_analysis/TraceAnalysis_TasksLatencies.ipynb**."
   ]
  },
  {
   "cell_type": "code",
   "execution_count": null,
   "metadata": {
    "scrolled": true
   },
   "outputs": [],
   "source": [
    "# Parse all traces\n",
    "platform_file = os.path.join(te.res_dir, 'platform.json')\n",
    "with open(platform_file, 'r') as fh:\n",
    "    platform = json.load(fh)\n",
    "trace_file = os.path.join(te.res_dir, 'trace.dat')\n",
    "trace = Trace(platform, trace_file, events=my_conf['ftrace']['events'])\n",
    "\n",
    "trappy.plotter.plot_trace(trace.ftrace)"
   ]
  },
  {
   "cell_type": "code",
   "execution_count": null,
   "metadata": {},
   "outputs": [],
   "source": [
    "try:\n",
    "    trace.analysis.frequency.plotClusterFrequencies();\n",
    "    logging.info('Plotting cluster frequencies for [sched]...')\n",
    "except: pass"
   ]
  },
  {
   "cell_type": "code",
   "execution_count": null,
   "metadata": {},
   "outputs": [],
   "source": [
    "df = trace.data_frame.trace_event('sched_energy_diff')"
   ]
  },
  {
   "cell_type": "code",
   "execution_count": null,
   "metadata": {},
   "outputs": [],
   "source": [
    "df.head()"
   ]
  },
  {
   "cell_type": "code",
   "execution_count": null,
   "metadata": {},
   "outputs": [],
   "source": []
  },
  {
   "cell_type": "code",
   "execution_count": null,
   "metadata": {},
   "outputs": [],
   "source": []
  }
 ],
 "metadata": {
  "kernelspec": {
   "display_name": "Python 2",
   "language": "python",
   "name": "python2"
  },
  "language_info": {
   "codemirror_mode": {
    "name": "ipython",
    "version": 2
   },
   "file_extension": ".py",
   "mimetype": "text/x-python",
   "name": "python",
   "nbconvert_exporter": "python",
   "pygments_lexer": "ipython2",
   "version": "2.7.6"
  },
  "toc": {
   "colors": {
    "hover_highlight": "#DAA520",
    "running_highlight": "#FF0000",
    "selected_highlight": "#FFD700"
   },
   "moveMenuLeft": true,
   "nav_menu": {
    "height": "118px",
    "width": "253px"
   },
   "navigate_menu": true,
   "number_sections": true,
   "sideBar": true,
   "threshold": 4,
   "toc_cell": false,
   "toc_number_sections": true,
   "toc_section_display": "block",
   "toc_threshold": 6,
   "toc_window_display": false
  }
 },
 "nbformat": 4,
 "nbformat_minor": 1
}
