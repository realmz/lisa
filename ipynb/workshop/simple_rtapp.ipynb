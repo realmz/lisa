{
 "cells": [
  {
   "cell_type": "code",
   "execution_count": 1,
   "metadata": {
    "collapsed": true
   },
   "outputs": [],
   "source": [
    "import logging\n",
    "reload(logging)\n",
    "logging.basicConfig(\n",
    "    format='%(asctime)-9s %(levelname)-8s: %(message)s',\n",
    "    datefmt='%I:%M:%S')\n",
    "\n",
    "# Enable logging at INFO level\n",
    "logging.getLogger().setLevel(logging.INFO)\n",
    "# Comment the follwing line to disable devlib debugging statements\n",
    "# logging.getLogger('ssh').setLevel(logging.DEBUG)"
   ]
  },
  {
   "cell_type": "code",
   "execution_count": 2,
   "metadata": {
    "collapsed": false
   },
   "outputs": [
    {
     "name": "stdout",
     "output_type": "stream",
     "text": [
      "Populating the interactive namespace from numpy and matplotlib\n"
     ]
    }
   ],
   "source": [
    "# Generate plots inline\n",
    "%pylab inline\n",
    "\n",
    "import json\n",
    "import os"
   ]
  },
  {
   "cell_type": "markdown",
   "metadata": {},
   "source": [
    "# Test environment setup"
   ]
  },
  {
   "cell_type": "code",
   "execution_count": 4,
   "metadata": {
    "collapsed": true
   },
   "outputs": [],
   "source": [
    "# Setup a target configuration\n",
    "my_target_conf = {\n",
    "    \n",
    "    # Define the kind of target platform to use for the experiments\n",
    "    \"platform\"    : 'android',  # Linux system, valid other options are:\n",
    "                              # android - access via ADB\n",
    "                              # linux   - access via SSH\n",
    "                              # host    - direct access\n",
    "    \n",
    "    # Preload settings for a specific target\n",
    "    \"board\"       : 'juno',   # load JUNO specific settings, e.g.\n",
    "                              # - HWMON based energy sampling\n",
    "                              # - Juno energy model\n",
    "                              # valid options are:\n",
    "                              # - juno  - JUNO Development Board\n",
    "                              # - tc2   - TC2 Development Board\n",
    "                              # - oak   - Mediatek MT63xx based target\n",
    "\n",
    "    # Define devlib module to load\n",
    "    #\"modules\"     : [\n",
    "    #    'bl',           # enable big.LITTLE support\n",
    "    #    'cpufreq'       # enable CPUFreq support\n",
    "    #],\n",
    "\n",
    "    # Account to access the remote target\n",
    "    \"host\"        : '10.169.36.55',\n",
    "    \"username\"    : 'root',\n",
    "    \"password\"    : '',\n",
    "\n",
    "    # Comment the following line to force rt-app calibration on your target\n",
    "    \"rtapp-calib\" : {\n",
    "        '0': 361, '1': 138, '2': 138, '3': 352, '4': 360, '5': 353\n",
    "    }\n",
    "\n",
    "}\n",
    "\n",
    "# Setup the required Test Environment supports\n",
    "my_tests_conf = {\n",
    "    \n",
    "    # Binary tools required to run this experiment\n",
    "    # These tools must be present in the tools/ folder for the architecture\n",
    "    #\"tools\"   : ['rt-app', 'taskset', 'trace-cmd'],\n",
    "    \n",
    "    # FTrace events end buffer configuration\n",
    "    \"ftrace\"  : {\n",
    "         \"events\" : [\n",
    "             \"sched_switch\",\n",
    "             \"cpu_frequency\"\n",
    "         ],\n",
    "         \"buffsize\" : 10240\n",
    "    },\n",
    "\n",
    "    \"results_dir\" : \"simple_rtapp\",\n",
    "}"
   ]
  },
  {
   "cell_type": "code",
   "execution_count": 5,
   "metadata": {
    "collapsed": false,
    "scrolled": false
   },
   "outputs": [
    {
     "name": "stderr",
     "output_type": "stream",
     "text": [
      "02:34:37  INFO    :         Target - Using base path: /data/lisa_fork/lisa\n",
      "02:34:37  INFO    :         Target - Loading custom (inline) target configuration\n",
      "02:34:37  INFO    :         Target - Loading custom (inline) test configuration\n",
      "02:34:37  INFO    :         Target - External tools using:\n",
      "02:34:37  INFO    :         Target -    ANDROID_HOME: /home/zhifei/zyang/android-sdk-linux\n",
      "02:34:37  INFO    :         Target -    CATAPULT_HOME: /data/lisa_fork/lisa/tools/catapult\n",
      "02:34:37  INFO    :         Target - Devlib modules to load: ['bl', 'hwmon', 'cpufreq']\n",
      "02:34:37  INFO    :         Target - Connecting Android target [10.169.36.55:5555]\n",
      "02:34:37  INFO    :         Target - Connection settings:\n",
      "02:34:37  INFO    :         Target -    {'device': '10.169.36.55:5555'}\n",
      "02:34:38  INFO    :         Target - Initializing target workdir:\n",
      "02:34:38  INFO    :         Target -    /data/local/tmp/devlib-target\n",
      "02:34:42  INFO    :         Target - Topology:\n",
      "02:34:42  INFO    :         Target -    [[0, 3, 4, 5], [1, 2]]\n",
      "02:34:42  INFO    :       Platform - Loading default EM:\n",
      "02:34:42  INFO    :       Platform -    /data/lisa_fork/lisa/libs/utils/platforms/juno.json\n",
      "02:34:43  INFO    :         FTrace - Enabled tracepoints:\n",
      "02:34:43  INFO    :         FTrace -   sched_switch\n",
      "02:34:43  INFO    :         FTrace -   cpu_frequency\n",
      "02:34:43  INFO    :          HWMon - Scanning for HWMON channels, may take some time...\n",
      "02:34:43  INFO    :          HWMon - Channels selected for energy sampling:\n",
      "02:34:43  INFO    :          HWMon -    BOARDBIG_energy\n",
      "02:34:43  INFO    :          HWMon -    BOARDLITTLE_energy\n",
      "02:34:43  INFO    :        TestEnv - Set results folder to:\n",
      "02:34:43  INFO    :        TestEnv -    /data/lisa_fork/lisa/results/simple_rtapp\n",
      "02:34:43  INFO    :        TestEnv - Experiment results available also in:\n",
      "02:34:43  INFO    :        TestEnv -    /data/lisa_fork/lisa/results_latest\n"
     ]
    }
   ],
   "source": [
    "# Support to access the remote target\n",
    "import devlib\n",
    "from env import TestEnv\n",
    "\n",
    "# Initialize a test environment using:\n",
    "# the provided target configuration (my_target_conf)\n",
    "# the provided test configuration   (my_test_conf)\n",
    "te = TestEnv(target_conf=my_target_conf, test_conf=my_tests_conf)\n",
    "target = te.target"
   ]
  },
  {
   "cell_type": "markdown",
   "metadata": {},
   "source": [
    "# Workload configuration"
   ]
  },
  {
   "cell_type": "code",
   "execution_count": 5,
   "metadata": {
    "collapsed": false
   },
   "outputs": [
    {
     "name": "stderr",
     "output_type": "stream",
     "text": [
      "06:29:40  INFO    :          WlGen - Setup new workload simple\n",
      "06:29:40  INFO    :          RTApp - Workload duration defined by longest task\n",
      "06:29:40  INFO    :          RTApp - Default policy: SCHED_OTHER\n",
      "06:29:40  INFO    :          RTApp - ------------------------\n",
      "06:29:40  INFO    :          RTApp - task [task_p20], sched: using default policy\n",
      "06:29:40  INFO    :          RTApp -  | calibration CPU: 1\n",
      "06:29:40  INFO    :          RTApp -  | loops count: 1\n",
      "06:29:40  INFO    :          RTApp -  | CPUs affinity: 0\n",
      "06:29:40  INFO    :          RTApp - + phase_000001: duration 5.000000 [s] (50 loops)\n",
      "06:29:40  INFO    :          RTApp - |  period   100000 [us], duty_cycle  20 %\n",
      "06:29:40  INFO    :          RTApp - |  run_time  20000 [us], sleep_time  80000 [us]\n",
      "06:29:40  INFO    :          RTApp - ------------------------\n",
      "06:29:40  INFO    :          RTApp - task [task_r20_5-60], sched: using default policy\n",
      "06:29:40  INFO    :          RTApp -  | calibration CPU: 1\n",
      "06:29:40  INFO    :          RTApp -  | loops count: 1\n",
      "06:29:40  INFO    :          RTApp -  | CPUs affinity: 5\n",
      "06:29:40  INFO    :          RTApp - + phase_000001: duration 1.000000 [s] (10 loops)\n",
      "06:29:40  INFO    :          RTApp - |  period   100000 [us], duty_cycle   5 %\n",
      "06:29:40  INFO    :          RTApp - |  run_time   5000 [us], sleep_time  95000 [us]\n",
      "06:29:40  INFO    :          RTApp - + phase_000002: duration 1.000000 [s] (10 loops)\n",
      "06:29:40  INFO    :          RTApp - |  period   100000 [us], duty_cycle  25 %\n",
      "06:29:40  INFO    :          RTApp - |  run_time  25000 [us], sleep_time  75000 [us]\n",
      "06:29:40  INFO    :          RTApp - + phase_000003: duration 1.000000 [s] (10 loops)\n",
      "06:29:40  INFO    :          RTApp - |  period   100000 [us], duty_cycle  45 %\n",
      "06:29:40  INFO    :          RTApp - |  run_time  45000 [us], sleep_time  55000 [us]\n",
      "06:29:40  INFO    :          RTApp - + phase_000004: duration 1.000000 [s] (10 loops)\n",
      "06:29:40  INFO    :          RTApp - |  period   100000 [us], duty_cycle  65 %\n",
      "06:29:40  INFO    :          RTApp - |  run_time  65000 [us], sleep_time  35000 [us]\n"
     ]
    }
   ],
   "source": [
    "# Support to configure and run RTApp based workloads\n",
    "from wlgen import RTA, Periodic, Ramp\n",
    "\n",
    "# Create a new RTApp workload generator using the calibration values\n",
    "# reported by the TestEnv module\n",
    "rtapp = RTA(target, 'simple', calibration=te.calibration())\n",
    "\n",
    "# Configure this RTApp instance to:\n",
    "rtapp.conf(\n",
    "    # 1. generate a \"profile based\" set of tasks\n",
    "    kind='profile',\n",
    "    \n",
    "    # 2. define the \"profile\" of each task\n",
    "    params={\n",
    "        \n",
    "        # 3. PERIODIC task with\n",
    "        'task_p20': Periodic(\n",
    "            period_ms=100,         # period\n",
    "            duty_cycle_pct=20,     # duty cycle\n",
    "            duration_s=5,          # duration    \n",
    "            cpus='0'               # pinned on CPU0\n",
    "        ).get(),\n",
    "        \n",
    "        # 4. RAMP task (i.e. increasing load) with\n",
    "        'task_r20_5-60': Ramp(\n",
    "            start_pct=5,           # intial load\n",
    "            end_pct=65,            # end load\n",
    "            delta_pct=20,          # load % increase...\n",
    "            time_s=1,              # ... every 1[s]\n",
    "            # pinned on last CPU of the target\n",
    "            cpus=str(len(target.core_names)-1)\n",
    "        ).get(),\n",
    "    },\n",
    "    \n",
    "    # 4. use this folder for task logfiles\n",
    "    run_dir=target.working_directory\n",
    "    \n",
    ");"
   ]
  },
  {
   "cell_type": "markdown",
   "metadata": {},
   "source": [
    "# Workload execution"
   ]
  },
  {
   "cell_type": "code",
   "execution_count": 6,
   "metadata": {
    "collapsed": false
   },
   "outputs": [
    {
     "name": "stderr",
     "output_type": "stream",
     "text": [
      "06:29:40  INFO    : #### Setup FTrace\n",
      "06:29:43  INFO    : #### Start energy sampling\n",
      "06:29:44  INFO    : #### Start RTApp execution\n",
      "06:29:44  INFO    :          WlGen - Workload execution START:\n",
      "06:29:44  INFO    :          WlGen -    /root/devlib-target/bin/rt-app /root/devlib-target/simple_00.json\n",
      "06:29:50  INFO    : #### Read energy consumption: /home/derkling/Code/lisa/results/20160225_182940/energy.json\n",
      "06:29:51  INFO    :   EnergyReport - Energy [             a53]: 9.734375\n",
      "06:29:51  INFO    :   EnergyReport - Energy [             a57]: 4.190309\n",
      "06:29:51  INFO    : #### Stop FTrace\n",
      "06:29:52  INFO    : #### Save FTrace: /home/derkling/Code/lisa/results/20160225_182940/trace.dat\n",
      "06:29:54  INFO    : #### Save platform description: /home/derkling/Code/lisa/results/20160225_182940/platform.json\n"
     ]
    }
   ],
   "source": [
    "logging.info('#### Setup FTrace')\n",
    "te.ftrace.start()\n",
    "\n",
    "logging.info('#### Start energy sampling')\n",
    "te.emeter.reset()\n",
    "\n",
    "logging.info('#### Start RTApp execution')\n",
    "rtapp.run(out_dir=te.res_dir, cgroup=\"\")\n",
    "\n",
    "logging.info('#### Read energy consumption: %s/energy.json', te.res_dir)\n",
    "nrg_report = te.emeter.report(out_dir=te.res_dir)\n",
    "\n",
    "logging.info('#### Stop FTrace')\n",
    "te.ftrace.stop()\n",
    "\n",
    "trace_file = os.path.join(te.res_dir, 'trace.dat')\n",
    "logging.info('#### Save FTrace: %s', trace_file)\n",
    "te.ftrace.get_trace(trace_file)\n",
    "\n",
    "logging.info('#### Save platform description: %s/platform.json', te.res_dir)\n",
    "(plt, plt_file) = te.platform_dump(te.res_dir)"
   ]
  },
  {
   "cell_type": "markdown",
   "metadata": {},
   "source": [
    "# Collected results"
   ]
  },
  {
   "cell_type": "code",
   "execution_count": 7,
   "metadata": {
    "collapsed": false
   },
   "outputs": [
    {
     "name": "stderr",
     "output_type": "stream",
     "text": [
      "06:29:54  INFO    : Content of the output folder /home/derkling/Code/lisa/results/20160225_182940\n"
     ]
    },
    {
     "name": "stdout",
     "output_type": "stream",
     "text": [
      "total 4064\r\n",
      "drwxrwxr-x  2 derkling derkling    4096 Feb 25 18:29 .\r\n",
      "drwxrwxr-x 99 derkling derkling    4096 Feb 25 18:29 ..\r\n",
      "-rw-rw-r--  1 derkling derkling      52 Feb 25 18:29 energy.json\r\n",
      "-rw-rw-r--  1 derkling derkling     450 Feb 25 18:29 output.log\r\n",
      "-rw-rw-r--  1 derkling derkling    1075 Feb 25 18:29 platform.json\r\n",
      "-rw-r--r--  1 derkling derkling    6360 Feb 25 18:29 rt-app-task_p20-0.log\r\n",
      "-rw-r--r--  1 derkling derkling    6360 Feb 25 18:29 rt-app-task_p20-3.log\r\n",
      "-rw-r--r--  1 derkling derkling    5120 Feb 25 18:29 rt-app-task_r20_5-60-1.log\r\n",
      "-rw-r--r--  1 derkling derkling    3880 Feb 25 18:29 rt-app-task_r20_5-60-3.log\r\n",
      "-rw-r--r--  1 derkling derkling    3880 Feb 25 18:29 rt-app-task_r20_5-60-6.log\r\n",
      "-rw-r--r--  1 derkling derkling    1831 Feb 25 18:29 simple_00.json\r\n",
      "-rw-r--r--  1 derkling derkling 4104192 Feb 25 18:29 trace.dat\r\n"
     ]
    }
   ],
   "source": [
    "# All data are produced in the output folder defined by the TestEnv module\n",
    "logging.info('Content of the output folder %s', te.res_dir)\n",
    "!ls -la {te.res_dir}"
   ]
  },
  {
   "cell_type": "code",
   "execution_count": 8,
   "metadata": {
    "collapsed": false
   },
   "outputs": [
    {
     "name": "stderr",
     "output_type": "stream",
     "text": [
      "06:29:54  INFO    : Generated RTApp JSON file:\n"
     ]
    },
    {
     "name": "stdout",
     "output_type": "stream",
     "text": [
      "{\n",
      "    \"global\": {\n",
      "        \"calibration\": \"CPU1\", \n",
      "        \"default_policy\": \"SCHED_OTHER\", \n",
      "        \"duration\": -1, \n",
      "        \"logdir\": \"/root/devlib-target\"\n",
      "    }, \n",
      "    \"tasks\": {\n",
      "        \"task_p20\": {\n",
      "            \"cpus\": [\n",
      "                0\n",
      "            ], \n",
      "            \"loop\": 1, \n",
      "            \"phases\": {\n",
      "                \"p000001\": {\n",
      "                    \"loop\": 50, \n",
      "                    \"run\": 20000, \n",
      "                    \"timer\": {\n",
      "                        \"period\": 100000, \n",
      "                        \"ref\": \"task_p20\"\n",
      "                    }\n",
      "                }\n",
      "            }, \n",
      "            \"policy\": \"SCHED_OTHER\"\n",
      "        }, \n",
      "        \"task_r20_5-60\": {\n",
      "            \"cpus\": [\n",
      "                5\n",
      "            ], \n",
      "            \"loop\": 1, \n",
      "            \"phases\": {\n",
      "                \"p000001\": {\n",
      "                    \"loop\": 10, \n",
      "                    \"run\": 5000, \n",
      "                    \"timer\": {\n",
      "                        \"period\": 100000, \n",
      "                        \"ref\": \"task_r20_5-60\"\n",
      "                    }\n",
      "                }, \n",
      "                \"p000002\": {\n",
      "                    \"loop\": 10, \n",
      "                    \"run\": 25000, \n",
      "                    \"timer\": {\n",
      "                        \"period\": 100000, \n",
      "                        \"ref\": \"task_r20_5-60\"\n",
      "                    }\n",
      "                }, \n",
      "                \"p000003\": {\n",
      "                    \"loop\": 10, \n",
      "                    \"run\": 45000, \n",
      "                    \"timer\": {\n",
      "                        \"period\": 100000, \n",
      "                        \"ref\": \"task_r20_5-60\"\n",
      "                    }\n",
      "                }, \n",
      "                \"p000004\": {\n",
      "                    \"loop\": 10, \n",
      "                    \"run\": 65000, \n",
      "                    \"timer\": {\n",
      "                        \"period\": 100000, \n",
      "                        \"ref\": \"task_r20_5-60\"\n",
      "                    }\n",
      "                }\n",
      "            }, \n",
      "            \"policy\": \"SCHED_OTHER\"\n",
      "        }\n",
      "    }\n",
      "}\n"
     ]
    }
   ],
   "source": [
    "# Inspect the JSON file used to run the application\n",
    "with open('{}/simple_00.json'.format(te.res_dir), 'r') as fh:\n",
    "    rtapp_json = json.load(fh, )\n",
    "logging.info('Generated RTApp JSON file:')\n",
    "print json.dumps(rtapp_json, indent=4, sort_keys=True)"
   ]
  },
  {
   "cell_type": "code",
   "execution_count": 9,
   "metadata": {
    "collapsed": false
   },
   "outputs": [
    {
     "name": "stderr",
     "output_type": "stream",
     "text": [
      "06:29:54  INFO    : Energy: /home/derkling/Code/lisa/results/20160225_182940/energy.json\n"
     ]
    },
    {
     "name": "stdout",
     "output_type": "stream",
     "text": [
      "{\n",
      "    \"LITTLE\": \"9.734375\", \n",
      "    \"big\": \"4.190309\"\n",
      "}\n"
     ]
    }
   ],
   "source": [
    "# Dump the energy measured for the LITTLE and big clusters\n",
    "logging.info('Energy: %s', nrg_report.report_file)\n",
    "print json.dumps(nrg_report.channels, indent=4, sort_keys=True)"
   ]
  },
  {
   "cell_type": "code",
   "execution_count": 10,
   "metadata": {
    "collapsed": false
   },
   "outputs": [
    {
     "name": "stderr",
     "output_type": "stream",
     "text": [
      "06:29:54  INFO    : Platform description: /home/derkling/Code/lisa/results/20160225_182940/platform.json\n"
     ]
    },
    {
     "name": "stdout",
     "output_type": "stream",
     "text": [
      "{\n",
      "    \"clusters\": {\n",
      "        \"big\": [\n",
      "            1, \n",
      "            2\n",
      "        ], \n",
      "        \"little\": [\n",
      "            0, \n",
      "            3, \n",
      "            4, \n",
      "            5\n",
      "        ]\n",
      "    }, \n",
      "    \"cpus_count\": 6, \n",
      "    \"freqs\": {\n",
      "        \"big\": [\n",
      "            450000, \n",
      "            625000, \n",
      "            800000, \n",
      "            950000, \n",
      "            1100000\n",
      "        ], \n",
      "        \"little\": [\n",
      "            450000, \n",
      "            575000, \n",
      "            700000, \n",
      "            775000, \n",
      "            850000\n",
      "        ]\n",
      "    }, \n",
      "    \"nrg_model\": {\n",
      "        \"big\": {\n",
      "            \"cluster\": {\n",
      "                \"nrg_max\": 64\n",
      "            }, \n",
      "            \"cpu\": {\n",
      "                \"cap_max\": 1024, \n",
      "                \"nrg_max\": 616\n",
      "            }\n",
      "        }, \n",
      "        \"little\": {\n",
      "            \"cluster\": {\n",
      "                \"nrg_max\": 57\n",
      "            }, \n",
      "            \"cpu\": {\n",
      "                \"cap_max\": 447, \n",
      "                \"nrg_max\": 93\n",
      "            }\n",
      "        }\n",
      "    }, \n",
      "    \"topology\": [\n",
      "        [\n",
      "            0, \n",
      "            3, \n",
      "            4, \n",
      "            5\n",
      "        ], \n",
      "        [\n",
      "            1, \n",
      "            2\n",
      "        ]\n",
      "    ]\n",
      "}\n"
     ]
    }
   ],
   "source": [
    "# Dump the platform descriptor, which could be useful for further analysis\n",
    "# of the generated results\n",
    "logging.info('Platform description: %s', plt_file)\n",
    "print json.dumps(plt, indent=4, sort_keys=True)"
   ]
  },
  {
   "cell_type": "markdown",
   "metadata": {},
   "source": [
    "# Trace inspection"
   ]
  },
  {
   "cell_type": "code",
   "execution_count": 11,
   "metadata": {
    "collapsed": false
   },
   "outputs": [
    {
     "data": {
      "text/html": [
       "<style>\n",
       "/*\n",
       "\n",
       " *    Copyright 2015-2016 ARM Limited\n",
       "\n",
       " *\n",
       "\n",
       " * Licensed under the Apache License, Version 2.0 (the \"License\");\n",
       "\n",
       " * you may not use this file except in compliance with the License.\n",
       "\n",
       " * You may obtain a copy of the License at\n",
       "\n",
       " *\n",
       "\n",
       " *     http://www.apache.org/licenses/LICENSE-2.0\n",
       "\n",
       " *\n",
       "\n",
       " * Unless required by applicable law or agreed to in writing, software\n",
       "\n",
       " * distributed under the License is distributed on an \"AS IS\" BASIS,\n",
       "\n",
       " * WITHOUT WARRANTIES OR CONDITIONS OF ANY KIND, either express or implied.\n",
       "\n",
       " * See the License for the specific language governing permissions and\n",
       "\n",
       " * limitations under the License.\n",
       "\n",
       " */\n",
       "\n",
       "\n",
       "\n",
       ".d3-tip {\n",
       "\n",
       "  line-height: 1;\n",
       "\n",
       "  padding: 12px;\n",
       "\n",
       "  background: rgba(0, 0, 0, 0.6);\n",
       "\n",
       "  color: #fff;\n",
       "\n",
       "  border-radius: 2px;\n",
       "\n",
       "  position: absolute !important;\n",
       "\n",
       "  z-index: 99999;\n",
       "\n",
       "}\n",
       "\n",
       "\n",
       "\n",
       ".d3-tip:after {\n",
       "\n",
       "  box-sizing: border-box;\n",
       "\n",
       "  pointer-events: none;\n",
       "\n",
       "  display: inline;\n",
       "\n",
       "  font-size: 10px;\n",
       "\n",
       "  width: 100%;\n",
       "\n",
       "  line-height: 1;\n",
       "\n",
       "  color: rgba(0, 0, 0, 0.6);\n",
       "\n",
       "  content: \"\\25BC\";\n",
       "\n",
       "  position: absolute !important;\n",
       "\n",
       "  z-index: 99999;\n",
       "\n",
       "  text-align: center;\n",
       "\n",
       "}\n",
       "\n",
       "\n",
       "\n",
       ".d3-tip.n:after {\n",
       "\n",
       "  margin: -1px 0 0 0;\n",
       "\n",
       "  top: 100%;\n",
       "\n",
       "  left: 0;\n",
       "\n",
       "}\n",
       "\n",
       "\n",
       "\n",
       ".contextRect {\n",
       "\n",
       "  fill: lightgray;\n",
       "\n",
       "  fill-opacity: 0.5;\n",
       "\n",
       "  stroke: black;\n",
       "\n",
       "  stroke-width: 1;\n",
       "\n",
       "  stroke-opacity: 1;\n",
       "\n",
       "  pointer-events: none;\n",
       "\n",
       "  shape-rendering: crispEdges;\n",
       "\n",
       "}\n",
       "\n",
       "\n",
       "\n",
       ".chart {\n",
       "\n",
       "  shape-rendering: crispEdges;\n",
       "\n",
       "}\n",
       "\n",
       "\n",
       "\n",
       ".mini text {\n",
       "\n",
       "  font: 9px sans-serif;\n",
       "\n",
       "}\n",
       "\n",
       "\n",
       "\n",
       ".main text {\n",
       "\n",
       "  font: 12px sans-serif;\n",
       "\n",
       "}\n",
       "\n",
       "\n",
       "\n",
       ".axis line, .axis path {\n",
       "\n",
       "  stroke: black;\n",
       "\n",
       "}\n",
       "\n",
       "\n",
       "\n",
       ".miniItem {\n",
       "\n",
       "  stroke-width: 8;\n",
       "\n",
       "}\n",
       "\n",
       "\n",
       "\n",
       ".brush .extent {\n",
       "\n",
       "\n",
       "\n",
       "  stroke: #000;\n",
       "\n",
       "  fill-opacity: .125;\n",
       "\n",
       "  shape-rendering: crispEdges;\n",
       "\n",
       "}\n",
       "\n",
       "</style>\n",
       "<div id=\"fig_071d2212c17d417c93598b874c9aeede\" class=\"eventplot\">\n",
       "        <script>\n",
       "            var req = require.config( {\n",
       "\n",
       "                paths: {\n",
       "\n",
       "                    \"EventPlot\": '/nbextensions/plotter_scripts/EventPlot/EventPlot',\n",
       "                    \"d3-tip\": '/nbextensions/plotter_scripts/EventPlot/d3.tip.v0.6.3',\n",
       "                    \"d3-plotter\": '/nbextensions/plotter_scripts/EventPlot/d3.min'\n",
       "                },\n",
       "                shim: {\n",
       "                    \"d3-plotter\" : {\n",
       "                        \"exports\" : \"d3\"\n",
       "                    },\n",
       "                    \"d3-tip\": [\"d3-plotter\"],\n",
       "                    \"EventPlot\": {\n",
       "\n",
       "                        \"deps\": [\"d3-tip\", \"d3-plotter\" ],\n",
       "                        \"exports\":  \"EventPlot\"\n",
       "                    }\n",
       "                }\n",
       "            });\n",
       "            req([\"require\", \"EventPlot\"], function() {\n",
       "               EventPlot.generate('fig_071d2212c17d417c93598b874c9aeede', '/nbextensions/');\n",
       "            });\n",
       "        </script>\n",
       "        </div>"
      ],
      "text/plain": [
       "<IPython.core.display.HTML object>"
      ]
     },
     "metadata": {},
     "output_type": "display_data"
    }
   ],
   "source": [
    "# Suport for FTrace events parsing and visualization\n",
    "import trappy\n",
    "\n",
    "# NOTE: The interactive trace visualization is available only if you run\n",
    "#       the workload to generate a new trace-file\n",
    "trappy.plotter.plot_trace(te.res_dir)"
   ]
  },
  {
   "cell_type": "markdown",
   "metadata": {},
   "source": [
    "# RTApp task performance plots"
   ]
  },
  {
   "cell_type": "code",
   "execution_count": 12,
   "metadata": {
    "collapsed": false
   },
   "outputs": [
    {
     "name": "stderr",
     "output_type": "stream",
     "text": [
      "06:29:55  INFO    : PerfIndex, Task [task_p20] avg: 0.59, std: 0.00\n",
      "06:29:55  INFO    : PerfIndex, Task [task_r20_5-60] avg: -0.25, std: 1.33\n"
     ]
    },
    {
     "data": {
      "image/png": "[encoded data removed]",
      "text/plain": [
       "<matplotlib.figure.Figure at 0x7f08f8a11490>"
      ]
     },
     "metadata": {},
     "output_type": "display_data"
    },
    {
     "data": {
      "image/png": "[encoded data removed]",
      "text/plain": [
       "<matplotlib.figure.Figure at 0x7f08f7685f10>"
      ]
     },
     "metadata": {},
     "output_type": "display_data"
    }
   ],
   "source": [
    "# Support for performance analysis of RTApp workloads\n",
    "from perf_analysis import PerfAnalysis\n",
    "\n",
    "# Parse the RT-App generate log files to compute performance metrics\n",
    "pa = PerfAnalysis(te.res_dir)\n",
    "\n",
    "# For each task which has generated a logfile, plot  its performance metrics\n",
    "for task in pa.tasks():\n",
    "    pa.plotPerf(task, \"Performance plots for task [{}] \".format(task))"
   ]
  }
 ],
 "metadata": {
  "celltoolbar": "Raw Cell Format",
  "kernelspec": {
   "display_name": "Python 2",
   "language": "python",
   "name": "python2"
  },
  "language_info": {
   "codemirror_mode": {
    "name": "ipython",
    "version": 2
   },
   "file_extension": ".py",
   "mimetype": "text/x-python",
   "name": "python",
   "nbconvert_exporter": "python",
   "pygments_lexer": "ipython2",
   "version": "2.7.12"
  }
 },
 "nbformat": 4,
 "nbformat_minor": 0
}
