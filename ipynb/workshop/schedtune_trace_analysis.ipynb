{
 "cells": [
  {
   "cell_type": "markdown",
   "metadata": {},
   "source": [
    "# SchedTune Trace Analysis on JUNO"
   ]
  },
  {
   "cell_type": "markdown",
   "metadata": {},
   "source": [
    "This notebook shows how to analyze the trace files for schedtune."
   ]
  },
  {
   "cell_type": "code",
   "execution_count": 1,
   "metadata": {},
   "outputs": [],
   "source": [
    "import logging\n",
    "reload(logging)\n",
    "logging.basicConfig(\n",
    "    format='%(asctime)-9s %(levelname)-8s: %(message)s',\n",
    "    datefmt='%I:%M:%S')\n",
    "\n",
    "# Enable logging at INFO level\n",
    "logging.getLogger().setLevel(logging.INFO)"
   ]
  },
  {
   "cell_type": "code",
   "execution_count": 2,
   "metadata": {},
   "outputs": [],
   "source": [
    "# Generate plots inline\n",
    "%matplotlib inline\n",
    "\n",
    "import json\n",
    "import os\n",
    "\n",
    "# Support for trace events analysis\n",
    "from trace import Trace\n",
    "\n",
    "# Support for performance analysis of RTApp workloads\n",
    "from perf_analysis import PerfAnalysis\n",
    "\n",
    "# Suport for FTrace events parsing and visualization\n",
    "import trappy"
   ]
  },
  {
   "cell_type": "markdown",
   "metadata": {},
   "source": [
    "# Test setup"
   ]
  },
  {
   "cell_type": "code",
   "execution_count": 3,
   "metadata": {},
   "outputs": [
    {
     "name": "stderr",
     "output_type": "stream",
     "text": [
      "03:55:59  INFO    : Content of the output folder ../../results/nosetests_schedstune\n"
     ]
    },
    {
     "name": "stdout",
     "output_type": "stream",
     "text": [
      "../../results/nosetests_schedstune [error opening dir]\r\n",
      "\r\n",
      "0 directories, 0 files\r\n"
     ]
    }
   ],
   "source": [
    "# Base folder where tests folder are located\n",
    "res_dir = '../../results/nosetests_schedstune'\n",
    "logging.info('Content of the output folder %s', res_dir)\n",
    "!tree {res_dir}"
   ]
  },
  {
   "cell_type": "markdown",
   "metadata": {},
   "source": [
    "# Configuration"
   ]
  },
  {
   "cell_type": "code",
   "execution_count": 4,
   "metadata": {},
   "outputs": [],
   "source": [
    "# Full analysis function\n",
    "def analysis(test_id, t_min=None, t_max=None):\n",
    "    \n",
    "    test_dir = '{}/rtapp:{}:mixprof'.format(res_dir, test_id)\n",
    "    run_dir = '{}/1'.format(test_dir)\n",
    "    platform_json = '{}/platform.json'.format(test_dir)\n",
    "    trace_file = '{}/trace.dat'.format(run_dir)\n",
    "    logging.info(\"trace_file={}\".format(trace_file))\n",
    "    \n",
    "    # Load platform description data\n",
    "    with open(platform_json, 'r') as fh:\n",
    "        platform = json.load(fh)\n",
    "\n",
    "    # Load RTApp Performance data\n",
    "    pa = PerfAnalysis(run_dir)\n",
    "    logging.info(\"Loaded performance data for tasks: %s\", pa.tasks())\n",
    "    \n",
    "    # Load Trace data\n",
    "    events = [\n",
    "            \"cpu_frequency\",\n",
    "            \"sched_load_avg_cpu\",\n",
    "            \"sched_load_avg_task\",\n",
    "            \"sched_switch\",\n",
    "            \"dequeue_task_fair\",\n",
    "            \"enqueue_task_fair\", \n",
    "            \"set_next_entity\",\n",
    "            \"cpu_capacity\",\n",
    "            \"sched_blocked_reason\",\n",
    "            \"sched_boost_cpu\",\n",
    "            \"sched_boost_task\",\n",
    "            \"sched_contrib_scale_f\",\n",
    "            \"sched_cpu_hotplug\",\n",
    "            \"sched_energy_diff\",\n",
    "            \"sched_kthread_stop\",\n",
    "            \"sched_kthread_stop_ret\",\n",
    "            \"sched_load_avg_cpu\",\n",
    "            \"sched_load_avg_task\",\n",
    "            \"sched_migrate_task\",\n",
    "            \"sched_move_numa\",\n",
    "            \"sched_pi_setprio\",\n",
    "            \"sched_process_exec\",\n",
    "            \"sched_process_exit\",\n",
    "            \"sched_process_fork\",\n",
    "            \"sched_process_free\",\n",
    "            \"sched_process_wait\",\n",
    "            \"sched_stat_blocked\",\n",
    "            \"sched_stat_iowait\",\n",
    "            \"sched_stat_runtime\",\n",
    "            \"sched_stat_sleep\",\n",
    "            \"sched_stat_wait\",\n",
    "            \"sched_stick_numa\",\n",
    "            \"sched_swap_numa\",\n",
    "            \"sched_switch\",\n",
    "            \"sched_tune_boostgroup_update\",\n",
    "            \"sched_tune_config\",\n",
    "            \"sched_tune_tasks_update\",\n",
    "            \"sched_tune_filter\",\n",
    "            \"sched_wait_task\",\n",
    "            \"sched_wake_idle_without_ipi\",\n",
    "            \"sched_wakeup\",\n",
    "            \"sched_wakeup_new\",\n",
    "    ]\n",
    "    trace = Trace(platform, run_dir, events)\n",
    "    \n",
    "    # Define time ranges for all the temporal plots\n",
    "    trace.setXTimeRange(t_min, t_max)\n",
    "    \n",
    "    # Tasks plots\n",
    "#     trace.analysis.tasks.plotTasks()\n",
    "    # Tasks plots\n",
    "    trace.analysis.tasks.plotTasks(pa.tasks())\n",
    "    for task in pa.tasks():\n",
    "        pa.plotPerf(task)\n",
    "\n",
    "    # Cluster plots\n",
    "    trace.analysis.frequency.plotClusterFrequencies()\n"
   ]
  },
  {
   "cell_type": "markdown",
   "metadata": {},
   "source": [
    "# Results"
   ]
  },
  {
   "cell_type": "markdown",
   "metadata": {},
   "source": [
    "## No Boosting"
   ]
  },
  {
   "cell_type": "code",
   "execution_count": 5,
   "metadata": {
    "scrolled": false
   },
   "outputs": [
    {
     "name": "stderr",
     "output_type": "stream",
     "text": [
      "03:56:00  INFO    : trace_file=../../results/nosetests_schedstune/rtapp:noboost:mixprof/1/trace.dat\n"
     ]
    },
    {
     "ename": "IOError",
     "evalue": "[Errno 2] No such file or directory: '../../results/nosetests_schedstune/rtapp:noboost:mixprof/platform.json'",
     "output_type": "error",
     "traceback": [
      "\u001b[0;31m\u001b[0m",
      "\u001b[0;31mIOError\u001b[0mTraceback (most recent call last)",
      "\u001b[0;32m<ipython-input-5-6f3cdda592c7>\u001b[0m in \u001b[0;36m<module>\u001b[0;34m()\u001b[0m\n\u001b[0;32m----> 1\u001b[0;31m \u001b[0manalysis\u001b[0m\u001b[0;34m(\u001b[0m\u001b[0;34m'noboost'\u001b[0m\u001b[0;34m)\u001b[0m\u001b[0;34m\u001b[0m\u001b[0m\n\u001b[0m",
      "\u001b[0;32m<ipython-input-4-2c09ad6ca37d>\u001b[0m in \u001b[0;36manalysis\u001b[0;34m(test_id, t_min, t_max)\u001b[0m\n\u001b[1;32m      9\u001b[0m \u001b[0;34m\u001b[0m\u001b[0m\n\u001b[1;32m     10\u001b[0m     \u001b[0;31m# Load platform description data\u001b[0m\u001b[0;34m\u001b[0m\u001b[0;34m\u001b[0m\u001b[0m\n\u001b[0;32m---> 11\u001b[0;31m     \u001b[0;32mwith\u001b[0m \u001b[0mopen\u001b[0m\u001b[0;34m(\u001b[0m\u001b[0mplatform_json\u001b[0m\u001b[0;34m,\u001b[0m \u001b[0;34m'r'\u001b[0m\u001b[0;34m)\u001b[0m \u001b[0;32mas\u001b[0m \u001b[0mfh\u001b[0m\u001b[0;34m:\u001b[0m\u001b[0;34m\u001b[0m\u001b[0m\n\u001b[0m\u001b[1;32m     12\u001b[0m         \u001b[0mplatform\u001b[0m \u001b[0;34m=\u001b[0m \u001b[0mjson\u001b[0m\u001b[0;34m.\u001b[0m\u001b[0mload\u001b[0m\u001b[0;34m(\u001b[0m\u001b[0mfh\u001b[0m\u001b[0;34m)\u001b[0m\u001b[0;34m\u001b[0m\u001b[0m\n\u001b[1;32m     13\u001b[0m \u001b[0;34m\u001b[0m\u001b[0m\n",
      "\u001b[0;31mIOError\u001b[0m: [Errno 2] No such file or directory: '../../results/nosetests_schedstune/rtapp:noboost:mixprof/platform.json'"
     ]
    }
   ],
   "source": [
    "analysis('noboost')"
   ]
  },
  {
   "cell_type": "markdown",
   "metadata": {},
   "source": [
    "## Boost 15%"
   ]
  },
  {
   "cell_type": "code",
   "execution_count": null,
   "metadata": {
    "scrolled": false
   },
   "outputs": [],
   "source": [
    "analysis('boost15')"
   ]
  },
  {
   "cell_type": "markdown",
   "metadata": {},
   "source": [
    "## Boost 30%"
   ]
  },
  {
   "cell_type": "code",
   "execution_count": null,
   "metadata": {
    "scrolled": false
   },
   "outputs": [],
   "source": [
    "analysis('boost30')"
   ]
  },
  {
   "cell_type": "markdown",
   "metadata": {},
   "source": [
    "# Boost 60%"
   ]
  },
  {
   "cell_type": "code",
   "execution_count": null,
   "metadata": {},
   "outputs": [],
   "source": [
    "analysis('boost60')"
   ]
  },
  {
   "cell_type": "code",
   "execution_count": null,
   "metadata": {},
   "outputs": [],
   "source": []
  }
 ],
 "metadata": {
  "kernelspec": {
   "display_name": "Python 2",
   "language": "python",
   "name": "python2"
  },
  "language_info": {
   "codemirror_mode": {
    "name": "ipython",
    "version": 2
   },
   "file_extension": ".py",
   "mimetype": "text/x-python",
   "name": "python",
   "nbconvert_exporter": "python",
   "pygments_lexer": "ipython2",
   "version": "2.7.6"
  }
 },
 "nbformat": 4,
 "nbformat_minor": 1
}
