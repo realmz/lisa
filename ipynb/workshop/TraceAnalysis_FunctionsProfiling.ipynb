{
 "cells": [
  {
   "cell_type": "markdown",
   "metadata": {},
   "source": [
    "# Kernel Functions Profiling"
   ]
  },
  {
   "cell_type": "code",
   "execution_count": 1,
   "metadata": {
    "collapsed": true
   },
   "outputs": [],
   "source": [
    "import logging\n",
    "reload(logging)\n",
    "logging.basicConfig(\n",
    "    format='%(asctime)-9s %(levelname)-8s: %(message)s',\n",
    "    datefmt='%I:%M:%S')\n",
    "\n",
    "# Enable logging at INFO level\n",
    "logging.getLogger().setLevel(logging.INFO)"
   ]
  },
  {
   "cell_type": "code",
   "execution_count": 2,
   "metadata": {
    "collapsed": false
   },
   "outputs": [],
   "source": [
    "# Generate plots inline\n",
    "%matplotlib inline\n",
    "\n",
    "import json\n",
    "import os\n",
    "\n",
    "# Support to access the remote target\n",
    "import devlib\n",
    "from env import TestEnv\n",
    "\n",
    "# RTApp configurator for generation of PERIODIC tasks\n",
    "from wlgen import RTA, Ramp\n",
    "\n",
    "# Support for trace events analysis\n",
    "from trace import Trace"
   ]
  },
  {
   "cell_type": "markdown",
   "metadata": {},
   "source": [
    "# Target Configuration"
   ]
  },
  {
   "cell_type": "code",
   "execution_count": 26,
   "metadata": {
    "collapsed": false
   },
   "outputs": [],
   "source": [
    "# Setup target configuration\n",
    "my_conf = {\n",
    "\n",
    "    # Target platform and board\n",
    "    \"platform\"    : 'android',\n",
    "    \"board\"       : 'juno',\n",
    "    \"host\"        : '10.169.36.25',\n",
    "\n",
    "    # Folder where all the results will be collected\n",
    "    \"results_dir\" : \"TraceAnalysis_FunctionsProfiling\",\n",
    "\n",
    "    # Define devlib modules to load\n",
    "    \"exclude_modules\" : [ 'hwmon' ],\n",
    "\n",
    "    # FTrace events to collect for all the tests configuration which have\n",
    "    # the \"ftrace\" flag enabled\n",
    "    \"ftrace\"  : {\n",
    "        \"functions\" : [\n",
    "            \"pick_next_task_fair\",\n",
    "            \"select_task_rq_fair\",\n",
    "            \"enqueue_task_fair\",\n",
    "            \"update_curr_fair\",\n",
    "            \"dequeue_task_fair\",\n",
    "            \n",
    "            # for tests\n",
    "            \"scheduler_timeout\",\n",
    "            \"tick_sched_timer\",\n",
    "            \"tick_sched_do_timer\",\n",
    "            \"schedtune_cpu_boost\",\n",
    "            \"schedtune_task_boost\",\n",
    "            \"schedtune_prefer_idle\",\n",
    "            \"schedtune_enqueue_task\",\n",
    "            \"schedtune_dequeue_task\",\n",
    "        ],\n",
    "        \n",
    "         \"buffsize\" : 100 * 1024,\n",
    "    },\n",
    "\n",
    "    # Tools required by the experiments\n",
    "    \"tools\"   : [ 'trace-cmd', 'rt-app' ],\n",
    "    \n",
    "    # Comment this line to calibrate RTApp in your own platform\n",
    "    \"rtapp-calib\" :  {\"0\": 360, \"1\": 142, \"2\": 138, \"3\": 352, \"4\": 352, \"5\": 353},\n",
    "}"
   ]
  },
  {
   "cell_type": "code",
   "execution_count": 27,
   "metadata": {
    "collapsed": false,
    "scrolled": false
   },
   "outputs": [
    {
     "name": "stderr",
     "output_type": "stream",
     "text": [
      "05:17:24  INFO    :         Target - Using base path: /data/lisa_fork/lisa\n",
      "05:17:24  INFO    :         Target - Loading custom (inline) target configuration\n",
      "05:17:24  DEBUG   :         Target - Target configuration {'platform': 'android', 'host': '10.169.36.25', 'ftrace': {'buffsize': 102400, 'functions': ['pick_next_task_fair', 'select_task_rq_fair', 'enqueue_task_fair', 'update_curr_fair', 'dequeue_task_fair', 'scheduler_timeout', 'tick_sched_timer', 'tick_sched_do_timer', 'schedtune_cpu_boost', 'schedtune_task_boost', 'schedtune_prefer_idle', 'schedtune_enqueue_task', 'schedtune_dequeue_task']}, 'board': 'juno', 'rtapp-calib': {'1': 142, '0': 360, '3': 352, '2': 138, '5': 353, '4': 352}, 'exclude_modules': ['hwmon'], 'tools': ['trace-cmd', 'rt-app'], 'results_dir': 'TraceAnalysis_FunctionsProfiling'}\n",
      "05:17:24  INFO    :         Target - External tools using:\n",
      "05:17:24  INFO    :         Target -    ANDROID_HOME: /home/zhifei/zyang/android-sdk-linux\n",
      "05:17:24  INFO    :         Target -    CATAPULT_HOME: /data/lisa_fork/lisa/tools/catapult\n",
      "05:17:24  INFO    :         Target - Devlib modules to load: ['bl', 'cpufreq']\n",
      "05:17:24  INFO    :         Target - Connecting Android target [10.169.36.25:5555]\n",
      "05:17:24  INFO    :         Target - Connection settings:\n",
      "05:17:24  INFO    :         Target -    {'device': '10.169.36.25:5555'}\n",
      "05:17:24  DEBUG   :         Target - Setup ANDROID target...\n",
      "05:17:24  DEBUG   : Installing module vexpress-u-boot\n",
      "05:17:24  DEBUG   : Installing module vexpress-dtr\n",
      "05:17:24  DEBUG   : Installing module vexpress-vemsd\n",
      "05:17:24  DEBUG   : adb disconnect 10.169.36.25:5555\n",
      "05:17:24  DEBUG   : adb connect 10.169.36.25:5555\n",
      "05:17:24  DEBUG   : adb -s 10.169.36.25:5555 shell \"ls / > /dev/null\"\n",
      "05:17:24  DEBUG   : adb -s 10.169.36.25:5555 shell '(ls); echo \"\n",
      "$?\"'\n",
      "05:17:24  DEBUG   : adb -s 10.169.36.25:5555 shell \"if [ -e '/data/local/tmp/bin' ]; then echo 1; else echo 0; fi\"\n",
      "05:17:24  DEBUG   : adb -s 10.169.36.25:5555 shell \"ls -1 /\"\n",
      "05:17:24  DEBUG   : adb -s 10.169.36.25:5555 shell \"ls -1 /data/local/tmp/bin\"\n",
      "05:17:25  DEBUG   : adb -s 10.169.36.25:5555 shell \"cat /proc/cpuinfo\"\n",
      "05:17:25  DEBUG   : adb -s 10.169.36.25:5555 shell \"getprop\"\n",
      "05:17:25  DEBUG   : Installing module bl\n",
      "05:17:25  DEBUG   : adb -s 10.169.36.25:5555 shell \"getprop\"\n",
      "05:17:25  DEBUG   : adb -s 10.169.36.25:5555 shell \"if [ -e '/sys/devices/system/cpu/cpufreq' ]; then echo 1; else echo 0; fi\"\n",
      "05:17:25  DEBUG   : Installing module cpufreq\n",
      "05:17:25  DEBUG   : adb -s 10.169.36.25:5555 shell \"getprop\"\n",
      "05:17:25  DEBUG   :         Target - Checking target connection...\n",
      "05:17:25  DEBUG   :         Target - Target info:\n",
      "05:17:25  DEBUG   :         Target -       ABI: arm64\n",
      "05:17:25  DEBUG   :         Target -      CPUs: CpuInfo(['A53', 'A57', 'A57', 'A53', 'A53', 'A53'])\n",
      "05:17:25  DEBUG   :         Target -  Clusters: [0, 1, 1, 0, 0, 0]\n",
      "05:17:25  INFO    :         Target - Initializing target workdir:\n",
      "05:17:25  INFO    :         Target -    /data/local/tmp/devlib-target\n",
      "05:17:25  DEBUG   : adb -s 10.169.36.25:5555 shell \"mkdir -p /data/local/tmp/devlib-target\"\n",
      "05:17:25  DEBUG   : adb -s 10.169.36.25:5555 shell \"mkdir -p /data/local/tmp/bin\"\n",
      "05:17:25  DEBUG   : adb -s 10.169.36.25:5555 shell \"mount\"\n",
      "05:17:25  DEBUG   : adb -s 10.169.36.25:5555 push '/data/lisa_fork/lisa/libs/devlib/devlib/bin/arm64/busybox' '/data/local/tmp/devlib-target/busybox'\n",
      "05:17:27  DEBUG   : adb -s 10.169.36.25:5555 shell \"id\"\n",
      "05:17:27  DEBUG   : adb -s 10.169.36.25:5555 shell \"cp /data/local/tmp/devlib-target/busybox /data/local/tmp/bin/busybox\"\n",
      "05:17:27  DEBUG   : adb -s 10.169.36.25:5555 shell \"rm -rf /data/local/tmp/devlib-target/busybox\"\n",
      "05:17:27  DEBUG   : adb -s 10.169.36.25:5555 shell \"chmod 0777 '/data/local/tmp/bin/busybox'\"\n",
      "05:17:27  DEBUG   : adb -s 10.169.36.25:5555 shell \"mount\"\n",
      "05:17:27  DEBUG   : adb -s 10.169.36.25:5555 push '/data/lisa_fork/lisa/libs/devlib/devlib/bin/scripts/shutils' '/data/local/tmp/devlib-target/shutils'\n",
      "05:17:27  DEBUG   : adb -s 10.169.36.25:5555 shell \"cp /data/local/tmp/devlib-target/shutils /data/local/tmp/bin/shutils\"\n",
      "05:17:27  DEBUG   : adb -s 10.169.36.25:5555 shell \"rm -rf /data/local/tmp/devlib-target/shutils\"\n",
      "05:17:27  DEBUG   : adb -s 10.169.36.25:5555 shell \"chmod 0777 '/data/local/tmp/bin/shutils'\"\n",
      "05:17:28  DEBUG   : adb -s 10.169.36.25:5555 shell \"mount\"\n",
      "05:17:28  DEBUG   : adb -s 10.169.36.25:5555 push '/data/lisa_fork/lisa/tools/arm64/taskset' '/data/local/tmp/devlib-target/taskset'\n",
      "05:17:28  DEBUG   : adb -s 10.169.36.25:5555 shell \"cp /data/local/tmp/devlib-target/taskset /data/local/tmp/bin/taskset\"\n",
      "05:17:28  DEBUG   : adb -s 10.169.36.25:5555 shell \"rm -rf /data/local/tmp/devlib-target/taskset\"\n",
      "05:17:28  DEBUG   : adb -s 10.169.36.25:5555 shell \"chmod 0777 '/data/local/tmp/bin/taskset'\"\n",
      "05:17:28  DEBUG   : adb -s 10.169.36.25:5555 shell \"mount\"\n",
      "05:17:28  DEBUG   : adb -s 10.169.36.25:5555 push '/data/lisa_fork/lisa/tools/scripts/cgroup_run_into.sh' '/data/local/tmp/devlib-target/cgroup_run_into.sh'\n",
      "05:17:28  DEBUG   : adb -s 10.169.36.25:5555 shell \"cp /data/local/tmp/devlib-target/cgroup_run_into.sh /data/local/tmp/bin/cgroup_run_into.sh\"\n",
      "05:17:28  DEBUG   : adb -s 10.169.36.25:5555 shell \"rm -rf /data/local/tmp/devlib-target/cgroup_run_into.sh\"\n",
      "05:17:28  DEBUG   : adb -s 10.169.36.25:5555 shell \"chmod 0777 '/data/local/tmp/bin/cgroup_run_into.sh'\"\n",
      "05:17:28  DEBUG   : adb -s 10.169.36.25:5555 shell \"mount\"\n",
      "05:17:29  DEBUG   : adb -s 10.169.36.25:5555 push '/data/lisa_fork/lisa/tools/arm64/trace-cmd' '/data/local/tmp/devlib-target/trace-cmd'\n",
      "05:17:29  DEBUG   : adb -s 10.169.36.25:5555 shell \"cp /data/local/tmp/devlib-target/trace-cmd /data/local/tmp/bin/trace-cmd\"\n",
      "05:17:29  DEBUG   : adb -s 10.169.36.25:5555 shell \"rm -rf /data/local/tmp/devlib-target/trace-cmd\"\n",
      "05:17:29  DEBUG   : adb -s 10.169.36.25:5555 shell \"chmod 0777 '/data/local/tmp/bin/trace-cmd'\"\n",
      "05:17:29  DEBUG   : adb -s 10.169.36.25:5555 shell \"mount\"\n",
      "05:17:29  DEBUG   : adb -s 10.169.36.25:5555 push '/data/lisa_fork/lisa/tools/arm64/rt-app' '/data/local/tmp/devlib-target/rt-app'\n",
      "05:17:29  DEBUG   : adb -s 10.169.36.25:5555 shell \"cp /data/local/tmp/devlib-target/rt-app /data/local/tmp/bin/rt-app\"\n",
      "05:17:29  DEBUG   : adb -s 10.169.36.25:5555 shell \"rm -rf /data/local/tmp/devlib-target/rt-app\"\n",
      "05:17:30  DEBUG   : adb -s 10.169.36.25:5555 shell \"chmod 0777 '/data/local/tmp/bin/rt-app'\"\n",
      "05:17:30  DEBUG   : adb -s 10.169.36.25:5555 shell \"mount\"\n",
      "05:17:30  DEBUG   : adb -s 10.169.36.25:5555 push '/data/lisa_fork/lisa/tools/arm64/perf' '/data/local/tmp/devlib-target/perf'\n",
      "05:17:30  DEBUG   : adb -s 10.169.36.25:5555 shell \"cp /data/local/tmp/devlib-target/perf /data/local/tmp/bin/perf\"\n",
      "05:17:30  DEBUG   : adb -s 10.169.36.25:5555 shell \"rm -rf /data/local/tmp/devlib-target/perf\"\n",
      "05:17:30  DEBUG   : adb -s 10.169.36.25:5555 shell \"chmod 0777 '/data/local/tmp/bin/perf'\"\n",
      "05:17:30  DEBUG   : adb -s 10.169.36.25:5555 shell \"mkdir -p /data/local/tmp/devlib-target/.file-cache\"\n",
      "05:17:30  DEBUG   :         Target - Check for module [bl]...\n",
      "05:17:30  DEBUG   :         Target - Check for module [cpufreq]...\n",
      "05:17:30  INFO    :         Target - Topology:\n",
      "05:17:30  INFO    :         Target -    [[0, 3, 4, 5], [1, 2]]\n",
      "05:17:30  DEBUG   : adb -s 10.169.36.25:5555 shell \"cat '/sys/devices/system/cpu/online'\"\n",
      "05:17:30  DEBUG   : adb -s 10.169.36.25:5555 shell \"cat /sys/devices/system/cpu/cpu0/cpufreq/scaling_available_frequencies\"\n",
      "05:17:30  DEBUG   : adb -s 10.169.36.25:5555 shell \"cat '/sys/devices/system/cpu/online'\"\n",
      "05:17:30  DEBUG   : adb -s 10.169.36.25:5555 shell \"cat /sys/devices/system/cpu/cpu1/cpufreq/scaling_available_frequencies\"\n",
      "05:17:30  DEBUG   :       Platform - Trying to load default EM from /data/lisa_fork/lisa/libs/utils/platforms/juno.json\n",
      "05:17:30  INFO    :       Platform - Loading default EM:\n",
      "05:17:30  INFO    :       Platform -    /data/lisa_fork/lisa/libs/utils/platforms/juno.json\n",
      "05:17:30  DEBUG   : loading JSON...\n",
      "05:17:30  DEBUG   : Loaded JSON configuration:\n",
      "{u'nrg_model': {u'big': {u'cluster': {u'nrg_max': 64}, u'cpu': {u'cap_max': 1024, u'nrg_max': 616}}, u'little': {u'cluster': {u'nrg_max': 57}, u'cpu': {u'cap_max': 447, u'nrg_max': 93}}}}\n",
      "05:17:30  DEBUG   :       Platform - Platform descriptor initialized\n",
      "{'nrg_model': {u'big': {u'cluster': {u'nrg_max': 64}, u'cpu': {u'cap_max': 1024, u'nrg_max': 616}}, u'little': {u'cluster': {u'nrg_max': 57}, u'cpu': {u'cap_max': 447, u'nrg_max': 93}}}, 'clusters': {'big': [1, 2], 'little': [0, 3, 4, 5]}, 'cpus_count': 6, 'freqs': {'big': [450000, 625000, 800000, 950000, 1100000], 'little': [450000, 575000, 700000, 775000, 850000]}, 'topology': [[0, 3, 4, 5], [1, 2]]}\n",
      "05:17:31  DEBUG   : adb -s 10.169.36.25:5555 shell \"mount\"\n",
      "05:17:31  DEBUG   : adb -s 10.169.36.25:5555 push '/data/lisa_fork/lisa/libs/devlib/devlib/bin/arm64/trace-cmd' '/data/local/tmp/devlib-target/trace-cmd'\n",
      "05:17:31  DEBUG   : adb -s 10.169.36.25:5555 shell \"cp /data/local/tmp/devlib-target/trace-cmd /data/local/tmp/bin/trace-cmd\"\n",
      "05:17:31  DEBUG   : adb -s 10.169.36.25:5555 shell \"rm -rf /data/local/tmp/devlib-target/trace-cmd\"\n",
      "05:17:31  DEBUG   : adb -s 10.169.36.25:5555 shell \"chmod 0777 '/data/local/tmp/bin/trace-cmd'\"\n",
      "05:17:31  DEBUG   : adb -s 10.169.36.25:5555 shell \"echo 'cat /sys/kernel/debug/tracing/available_events' | su\"\n",
      "05:17:31  DEBUG   : adb -s 10.169.36.25:5555 shell \"if [ -e '/sys/kernel/debug/tracing/function_profile_enabled' ]; then echo 1; else echo 0; fi\"\n",
      "05:17:31  DEBUG   : adb -s 10.169.36.25:5555 shell \"echo 'cat /sys/kernel/debug/tracing/available_filter_functions' | su\"\n",
      "05:17:32  WARNING : Function [scheduler_timeout] not available for profiling\n",
      "05:17:32  INFO    :         FTrace - Enabled tracepoints:\n",
      "05:17:32  INFO    :         FTrace -   sched:*\n",
      "05:17:32  INFO    :         FTrace - Kernel functions profiled:\n",
      "05:17:32  INFO    :         FTrace -   pick_next_task_fair\n",
      "05:17:32  INFO    :         FTrace -   select_task_rq_fair\n",
      "05:17:32  INFO    :         FTrace -   enqueue_task_fair\n",
      "05:17:32  INFO    :         FTrace -   update_curr_fair\n",
      "05:17:32  INFO    :         FTrace -   dequeue_task_fair\n",
      "05:17:32  INFO    :         FTrace -   scheduler_timeout\n",
      "05:17:32  INFO    :         FTrace -   tick_sched_timer\n",
      "05:17:32  INFO    :         FTrace -   tick_sched_do_timer\n",
      "05:17:32  INFO    :         FTrace -   schedtune_cpu_boost\n",
      "05:17:32  INFO    :         FTrace -   schedtune_task_boost\n",
      "05:17:32  INFO    :         FTrace -   schedtune_prefer_idle\n",
      "05:17:32  INFO    :         FTrace -   schedtune_enqueue_task\n",
      "05:17:32  INFO    :         FTrace -   schedtune_dequeue_task\n",
      "05:17:32  WARNING :         Target - Using configuration provided RTApp calibration\n",
      "05:17:32  INFO    :         Target - Using RT-App calibration values:\n",
      "05:17:32  INFO    :         Target -    {\"0\": 360, \"1\": 142, \"2\": 138, \"3\": 352, \"4\": 352, \"5\": 353}\n",
      "05:17:32  DEBUG   :    EnergyMeter - using default energy meter for [juno]\n",
      "05:17:32  INFO    :          HWMon - HWMON module not enabled\n",
      "05:17:32  WARNING :          HWMon - Energy sampling disabled by configuration\n",
      "05:17:32  DEBUG   :    EnergyMeter - Results dir: /data/lisa_fork/lisa/results/TraceAnalysis_FunctionsProfiling\n",
      "05:17:32  INFO    :        TestEnv - Set results folder to:\n",
      "05:17:32  INFO    :        TestEnv -    /data/lisa_fork/lisa/results/TraceAnalysis_FunctionsProfiling\n",
      "05:17:32  INFO    :        TestEnv - Experiment results available also in:\n",
      "05:17:32  INFO    :        TestEnv -    /data/lisa_fork/lisa/results_latest\n"
     ]
    }
   ],
   "source": [
    "# Initialize a test environment using:\n",
    "te = TestEnv(my_conf, wipe=False, force_new=True)\n",
    "target = te.target"
   ]
  },
  {
   "cell_type": "markdown",
   "metadata": {},
   "source": [
    "# Workload Execution and Functions Profiling Data Collection"
   ]
  },
  {
   "cell_type": "code",
   "execution_count": 28,
   "metadata": {
    "collapsed": true
   },
   "outputs": [],
   "source": [
    "def experiment(te):\n",
    "\n",
    "    # Create and RTApp RAMP task\n",
    "    rtapp = RTA(te.target, 'ramp', calibration=te.calibration())\n",
    "    rtapp.conf(kind='profile',\n",
    "               params={\n",
    "                    'ramp' : Ramp(\n",
    "                        start_pct =  60,\n",
    "                        end_pct   =  20,\n",
    "                        delta_pct =   5,\n",
    "                        time_s    =   0.5).get()\n",
    "              })\n",
    "\n",
    "    # FTrace the execution of this workload\n",
    "    te.ftrace.start()\n",
    "    rtapp.run(out_dir=te.res_dir)\n",
    "    te.ftrace.stop()\n",
    "\n",
    "    # Collect and keep track of the trace\n",
    "    trace_file = os.path.join(te.res_dir, 'trace.dat')\n",
    "    te.ftrace.get_trace(trace_file)\n",
    "    \n",
    "    # Collect and keep track of the Kernel Functions performance data\n",
    "    stats_file = os.path.join(te.res_dir, 'trace.stats')\n",
    "    te.ftrace.get_stats(stats_file)\n",
    "\n",
    "    # Dump platform descriptor\n",
    "    te.platform_dump(te.res_dir)"
   ]
  },
  {
   "cell_type": "code",
   "execution_count": 29,
   "metadata": {
    "collapsed": false
   },
   "outputs": [
    {
     "name": "stderr",
     "output_type": "stream",
     "text": [
      "05:17:32  INFO    :          WlGen - Setup new workload ramp\n",
      "05:17:32  DEBUG   :          WlGen - Setup step [postrun] callback to [__postrun] function\n",
      "05:17:32  DEBUG   :          WlGen - Configuring a profile-based workload...\n",
      "05:17:32  DEBUG   :          RTApp - ref on big cpu: 1\n",
      "05:17:32  INFO    :          RTApp - Workload duration defined by longest task\n",
      "05:17:32  INFO    :          RTApp - Default policy: SCHED_OTHER\n",
      "05:17:32  INFO    :          RTApp - ------------------------\n",
      "05:17:32  INFO    :          RTApp - task [ramp], sched: using default policy\n",
      "05:17:32  INFO    :          RTApp -  | calibration CPU: 1\n",
      "05:17:32  INFO    :          RTApp -  | loops count: 1\n",
      "05:17:32  INFO    :          RTApp - + phase_000001: duration 0.500000 [s] (5 loops)\n",
      "05:17:32  INFO    :          RTApp - |  period   100000 [us], duty_cycle  60 %\n",
      "05:17:32  INFO    :          RTApp - |  run_time  60000 [us], sleep_time  40000 [us]\n",
      "05:17:32  INFO    :          RTApp - + phase_000002: duration 0.500000 [s] (5 loops)\n",
      "05:17:32  INFO    :          RTApp - |  period   100000 [us], duty_cycle  55 %\n",
      "05:17:32  INFO    :          RTApp - |  run_time  55000 [us], sleep_time  45000 [us]\n",
      "05:17:32  INFO    :          RTApp - + phase_000003: duration 0.500000 [s] (5 loops)\n",
      "05:17:32  INFO    :          RTApp - |  period   100000 [us], duty_cycle  50 %\n",
      "05:17:32  INFO    :          RTApp - |  run_time  50000 [us], sleep_time  50000 [us]\n",
      "05:17:32  INFO    :          RTApp - + phase_000004: duration 0.500000 [s] (5 loops)\n",
      "05:17:32  INFO    :          RTApp - |  period   100000 [us], duty_cycle  45 %\n",
      "05:17:32  INFO    :          RTApp - |  run_time  45000 [us], sleep_time  55000 [us]\n",
      "05:17:32  INFO    :          RTApp - + phase_000005: duration 0.500000 [s] (5 loops)\n",
      "05:17:32  INFO    :          RTApp - |  period   100000 [us], duty_cycle  40 %\n",
      "05:17:32  INFO    :          RTApp - |  run_time  40000 [us], sleep_time  60000 [us]\n",
      "05:17:32  INFO    :          RTApp - + phase_000006: duration 0.500000 [s] (5 loops)\n",
      "05:17:32  INFO    :          RTApp - |  period   100000 [us], duty_cycle  35 %\n",
      "05:17:32  INFO    :          RTApp - |  run_time  35000 [us], sleep_time  65000 [us]\n",
      "05:17:32  INFO    :          RTApp - + phase_000007: duration 0.500000 [s] (5 loops)\n",
      "05:17:32  INFO    :          RTApp - |  period   100000 [us], duty_cycle  30 %\n",
      "05:17:32  INFO    :          RTApp - |  run_time  30000 [us], sleep_time  70000 [us]\n",
      "05:17:32  INFO    :          RTApp - + phase_000008: duration 0.500000 [s] (5 loops)\n",
      "05:17:32  INFO    :          RTApp - |  period   100000 [us], duty_cycle  25 %\n",
      "05:17:32  INFO    :          RTApp - |  run_time  25000 [us], sleep_time  75000 [us]\n",
      "05:17:32  INFO    :          RTApp - + phase_000009: duration 0.500000 [s] (5 loops)\n",
      "05:17:32  INFO    :          RTApp - |  period   100000 [us], duty_cycle  20 %\n",
      "05:17:32  INFO    :          RTApp - |  run_time  20000 [us], sleep_time  80000 [us]\n",
      "05:17:32  DEBUG   : adb -s 10.169.36.25:5555 push 'ramp_00.json' '/data/local/tmp/devlib-target'\n",
      "05:17:32  DEBUG   : adb -s 10.169.36.25:5555 shell \"echo 'echo 102400 > '\\\\''/sys/kernel/debug/tracing/buffer_size_kb'\\\\''' | su\"\n",
      "05:17:32  DEBUG   : adb -s 10.169.36.25:5555 shell \"cat '/sys/kernel/debug/tracing/buffer_size_kb'\"\n",
      "05:17:32  DEBUG   : adb -s 10.169.36.25:5555 shell \"echo '/data/local/tmp/bin/trace-cmd reset' | su\"\n",
      "05:17:33  DEBUG   : adb -s 10.169.36.25:5555 shell \"echo '/data/local/tmp/bin/trace-cmd start -e sched:*' | su\"\n",
      "05:17:34  DEBUG   : adb -s 10.169.36.25:5555 shell \"echo 'echo TRACE_MARKER_START > '\\\\''/sys/kernel/debug/tracing/trace_marker'\\\\''' | su\"\n",
      "05:17:34  DEBUG   : Trace CPUFreq frequencies\n",
      "05:17:34  DEBUG   : adb -s 10.169.36.25:5555 shell \"echo '/data/local/tmp/bin/shutils cpufreq_trace_all_frequencies' | su\"\n",
      "05:17:34  DEBUG   : adb -s 10.169.36.25:5555 shell \"echo 'echo nop > /sys/kernel/debug/tracing/current_tracer' | su\"\n",
      "05:17:35  DEBUG   : adb -s 10.169.36.25:5555 shell \"echo 'echo 0 > /sys/kernel/debug/tracing/function_profile_enabled' | su\"\n",
      "05:17:35  DEBUG   : adb -s 10.169.36.25:5555 shell \"echo 'echo pick_next_task_fair select_task_rq_fair enqueue_task_fair update_curr_fair dequeue_task_fair tick_sched_timer tick_sched_do_timer schedtune_cpu_boost schedtune_task_boost schedtune_prefer_idle schedtune_enqueue_task schedtune_dequeue_task > /sys/kernel/debug/tracing/set_ftrace_filter' | su\"\n",
      "05:17:35  DEBUG   : adb -s 10.169.36.25:5555 shell \"echo 'echo 1 > /sys/kernel/debug/tracing/function_profile_enabled' | su\"\n",
      "05:17:35  INFO    :          WlGen - Workload execution START:\n",
      "05:17:35  INFO    :          WlGen -    /data/local/tmp/bin/rt-app /data/local/tmp/devlib-target/ramp_00.json 2>&1\n",
      "05:17:35  DEBUG   : adb -s 10.169.36.25:5555 shell \"/data/local/tmp/bin/rt-app /data/local/tmp/devlib-target/ramp_00.json 2>&1\"\n",
      "05:17:40  DEBUG   :          WlGen - Callback [postrun]...\n",
      "05:17:40  DEBUG   :          RTApp - Pulling logfiles to [/data/lisa_fork/lisa/results/TraceAnalysis_FunctionsProfiling]...\n",
      "05:17:40  DEBUG   : adb -s 10.169.36.25:5555 shell ls '/data/local/tmp/devlib-target/*ramp*.log'\n",
      "05:17:40  DEBUG   : adb -s 10.169.36.25:5555 pull '/data/local/tmp/devlib-target/rt-app-ramp-0.log' '/data/lisa_fork/lisa/results/TraceAnalysis_FunctionsProfiling'\n",
      "05:17:40  DEBUG   : adb -s 10.169.36.25:5555 pull '/data/local/tmp/devlib-target/rt-app-ramp_1-0.log' '/data/lisa_fork/lisa/results/TraceAnalysis_FunctionsProfiling'\n",
      "05:17:40  DEBUG   : adb -s 10.169.36.25:5555 pull '/data/local/tmp/devlib-target/rt-app-ramp_1-1.log' '/data/lisa_fork/lisa/results/TraceAnalysis_FunctionsProfiling'\n",
      "05:17:41  DEBUG   : adb -s 10.169.36.25:5555 pull '/data/local/tmp/devlib-target/rt-app-ramp_2-2.log' '/data/lisa_fork/lisa/results/TraceAnalysis_FunctionsProfiling'\n",
      "05:17:41  DEBUG   :          RTApp - Pulling JSON to [/data/lisa_fork/lisa/results/TraceAnalysis_FunctionsProfiling]...\n",
      "05:17:41  DEBUG   : adb -s 10.169.36.25:5555 pull '/data/local/tmp/devlib-target/ramp_00.json' '/data/lisa_fork/lisa/results/TraceAnalysis_FunctionsProfiling'\n",
      "05:17:41  DEBUG   :          RTApp - Saving output on [/data/lisa_fork/lisa/results/TraceAnalysis_FunctionsProfiling/output.log]...\n",
      "05:17:41  DEBUG   :          WlGen - Workload execution COMPLETED\n",
      "05:17:41  DEBUG   : adb -s 10.169.36.25:5555 shell \"echo 'echo 1 > /sys/kernel/debug/tracing/function_profile_enabled' | su\"\n",
      "05:17:41  DEBUG   : Trace CPUFreq frequencies\n",
      "05:17:41  DEBUG   : adb -s 10.169.36.25:5555 shell \"echo '/data/local/tmp/bin/shutils cpufreq_trace_all_frequencies' | su\"\n",
      "05:17:41  DEBUG   : adb -s 10.169.36.25:5555 shell \"echo 'echo TRACE_MARKER_STOP > '\\\\''/sys/kernel/debug/tracing/trace_marker'\\\\''' | su\"\n",
      "05:17:41  DEBUG   : adb -s 10.169.36.25:5555 shell \"echo '/data/local/tmp/bin/trace-cmd stop' | su\"\n",
      "05:17:41  DEBUG   : adb -s 10.169.36.25:5555 shell \"echo '/data/local/tmp/bin/trace-cmd extract -o /data/local/tmp/devlib-target/trace.dat' | su\"\n",
      "05:17:43  DEBUG   : adb -s 10.169.36.25:5555 pull '/data/local/tmp/devlib-target/trace.dat' '/data/lisa_fork/lisa/results/TraceAnalysis_FunctionsProfiling/trace.dat'\n",
      "05:17:43  DEBUG   : adb -s 10.169.36.25:5555 shell \"echo '/data/local/tmp/bin/shutils ftrace_get_function_stats' | su\"\n",
      "05:17:43  DEBUG   : Processing stats for CPU0...\n",
      "05:17:43  DEBUG   :  dequeue_task_fair: {'hits': 266, 'avg': 17.626, 's_2': 63.1, 'time': 4688.7}\n",
      "05:17:43  DEBUG   :  select_task_rq_fair: {'hits': 117, 'avg': 16.149, 's_2': 113.202, 'time': 1889.46}\n",
      "05:17:43  DEBUG   :  tick_sched_timer: {'hits': 44, 'avg': 23.595, 's_2': 176.369, 'time': 1038.2}\n",
      "05:17:43  DEBUG   :  schedtune_dequeue_task: {'hits': 266, 'avg': 3.02, 's_2': 1.73, 'time': 803.5}\n",
      "05:17:43  DEBUG   :  pick_next_task_fair: {'hits': 268, 'avg': 2.727, 's_2': 29.504, 'time': 731.06}\n",
      "05:17:43  DEBUG   :  enqueue_task_fair: {'hits': 45, 'avg': 10.384, 's_2': 30.567, 'time': 467.3}\n",
      "05:17:43  DEBUG   :  schedtune_task_boost: {'hits': 388, 'avg': 0.707, 's_2': 0.055, 'time': 274.56}\n",
      "05:17:43  DEBUG   :  schedtune_enqueue_task: {'hits': 45, 'avg': 2.462, 's_2': 1.873, 'time': 110.82}\n",
      "05:17:43  DEBUG   :  tick_sched_do_timer: {'hits': 44, 'avg': 2.38, 's_2': 5.15, 'time': 104.74}\n",
      "05:17:43  DEBUG   : Processing stats for CPU1...\n",
      "05:17:43  DEBUG   :  tick_sched_timer: {'hits': 846, 'avg': 10.926, 's_2': 26.733, 'time': 9243.4}\n",
      "05:17:43  DEBUG   :  dequeue_task_fair: {'hits': 548, 'avg': 8.912, 's_2': 18.46, 'time': 4883.86}\n",
      "05:17:43  DEBUG   :  pick_next_task_fair: {'hits': 1213, 'avg': 3.474, 's_2': 16.631, 'time': 4215.12}\n",
      "05:17:43  DEBUG   :  enqueue_task_fair: {'hits': 492, 'avg': 7.903, 's_2': 11.731, 'time': 3888.7}\n",
      "05:17:43  DEBUG   :  select_task_rq_fair: {'hits': 441, 'avg': 7.313, 's_2': 74.198, 'time': 3225.14}\n",
      "05:17:43  DEBUG   :  tick_sched_do_timer: {'hits': 846, 'avg': 2.228, 's_2': 3.598, 'time': 1885.66}\n",
      "05:17:43  DEBUG   :  schedtune_dequeue_task: {'hits': 548, 'avg': 1.557, 's_2': 0.55, 'time': 853.58}\n",
      "05:17:43  DEBUG   :  schedtune_enqueue_task: {'hits': 492, 'avg': 1.691, 's_2': 0.537, 'time': 832.24}\n",
      "05:17:43  DEBUG   :  schedtune_task_boost: {'hits': 858, 'avg': 0.438, 's_2': 0.01, 'time': 375.96}\n",
      "05:17:43  DEBUG   : Processing stats for CPU2...\n",
      "05:17:43  DEBUG   :  dequeue_task_fair: {'hits': 405, 'avg': 10.451, 's_2': 27.577, 'time': 4232.86}\n",
      "05:17:43  DEBUG   :  select_task_rq_fair: {'hits': 343, 'avg': 9.712, 's_2': 104.951, 'time': 3331.48}\n",
      "05:17:43  DEBUG   :  tick_sched_timer: {'hits': 106, 'avg': 15.186, 's_2': 79.506, 'time': 1609.74}\n",
      "05:17:43  DEBUG   :  enqueue_task_fair: {'hits': 172, 'avg': 7.9, 's_2': 13.977, 'time': 1358.8}\n",
      "05:17:43  DEBUG   :  pick_next_task_fair: {'hits': 419, 'avg': 1.776, 's_2': 11.317, 'time': 744.46}\n",
      "05:17:43  DEBUG   :  schedtune_dequeue_task: {'hits': 405, 'avg': 1.743, 's_2': 0.693, 'time': 706.2}\n",
      "05:17:43  DEBUG   :  schedtune_task_boost: {'hits': 835, 'avg': 0.438, 's_2': 0.015, 'time': 366.42}\n",
      "05:17:43  DEBUG   :  schedtune_enqueue_task: {'hits': 172, 'avg': 1.801, 's_2': 0.997, 'time': 309.94}\n",
      "05:17:43  DEBUG   :  tick_sched_do_timer: {'hits': 106, 'avg': 2.611, 's_2': 3.949, 'time': 276.78}\n",
      "05:17:43  DEBUG   : Processing stats for CPU3...\n",
      "05:17:43  DEBUG   :  dequeue_task_fair: {'hits': 178, 'avg': 12.399, 's_2': 56.776, 'time': 2207.16}\n",
      "05:17:43  DEBUG   :  select_task_rq_fair: {'hits': 108, 'avg': 15.209, 's_2': 191.652, 'time': 1642.64}\n",
      "05:17:43  DEBUG   :  tick_sched_timer: {'hits': 73, 'avg': 17.224, 's_2': 62.809, 'time': 1257.42}\n",
      "05:17:43  DEBUG   :  pick_next_task_fair: {'hits': 196, 'avg': 5.264, 's_2': 56.114, 'time': 1031.92}\n",
      "05:17:43  DEBUG   :  enqueue_task_fair: {'hits': 60, 'avg': 10.218, 's_2': 27.021, 'time': 613.1}\n",
      "05:17:43  DEBUG   :  schedtune_dequeue_task: {'hits': 178, 'avg': 2.105, 's_2': 1.791, 'time': 374.74}\n",
      "05:17:43  DEBUG   :  schedtune_task_boost: {'hits': 490, 'avg': 0.585, 's_2': 0.022, 'time': 286.84}\n",
      "05:17:43  DEBUG   :  tick_sched_do_timer: {'hits': 73, 'avg': 1.903, 's_2': 2.967, 'time': 138.92}\n",
      "05:17:43  DEBUG   :  schedtune_enqueue_task: {'hits': 60, 'avg': 2.268, 's_2': 1.636, 'time': 136.08}\n",
      "05:17:43  DEBUG   : Processing stats for CPU4...\n",
      "05:17:43  DEBUG   :  dequeue_task_fair: {'hits': 425, 'avg': 11.096, 's_2': 63.129, 'time': 4715.86}\n",
      "05:17:43  DEBUG   :  pick_next_task_fair: {'hits': 424, 'avg': 2.479, 's_2': 45.236, 'time': 1051.24}\n",
      "05:17:43  DEBUG   :  tick_sched_timer: {'hits': 26, 'avg': 33.643, 's_2': 174.81, 'time': 874.72}\n",
      "05:17:43  DEBUG   :  schedtune_dequeue_task: {'hits': 425, 'avg': 1.927, 's_2': 1.489, 'time': 819.24}\n",
      "05:17:43  DEBUG   :  select_task_rq_fair: {'hits': 38, 'avg': 18.227, 's_2': 277.024, 'time': 692.66}\n",
      "05:17:43  DEBUG   :  enqueue_task_fair: {'hits': 35, 'avg': 11.679, 's_2': 26.92, 'time': 408.78}\n",
      "05:17:43  DEBUG   :  schedtune_task_boost: {'hits': 163, 'avg': 0.663, 's_2': 0.014, 'time': 108.12}\n",
      "05:17:43  DEBUG   :  schedtune_enqueue_task: {'hits': 35, 'avg': 2.764, 's_2': 1.632, 'time': 96.76}\n",
      "05:17:43  DEBUG   :  tick_sched_do_timer: {'hits': 26, 'avg': 2.682, 's_2': 9.992, 'time': 69.74}\n",
      "05:17:43  DEBUG   : Processing stats for CPU5...\n",
      "05:17:43  DEBUG   :  dequeue_task_fair: {'hits': 82, 'avg': 14.355, 's_2': 69.66, 'time': 1177.16}\n",
      "05:17:43  DEBUG   :  tick_sched_timer: {'hits': 27, 'avg': 25.871, 's_2': 66.687, 'time': 698.54}\n",
      "05:17:43  DEBUG   :  select_task_rq_fair: {'hits': 26, 'avg': 19.659, 's_2': 482.759, 'time': 511.14}\n",
      "05:17:43  DEBUG   :  pick_next_task_fair: {'hits': 82, 'avg': 5.526, 's_2': 65.883, 'time': 453.18}\n",
      "05:17:43  DEBUG   :  enqueue_task_fair: {'hits': 30, 'avg': 7.992, 's_2': 16.436, 'time': 239.76}\n",
      "05:17:43  DEBUG   :  schedtune_dequeue_task: {'hits': 82, 'avg': 2.376, 's_2': 1.774, 'time': 194.88}\n",
      "05:17:43  DEBUG   :  schedtune_task_boost: {'hits': 145, 'avg': 0.634, 's_2': 0.019, 'time': 91.96}\n",
      "05:17:43  DEBUG   :  tick_sched_do_timer: {'hits': 27, 'avg': 2.246, 's_2': 6.556, 'time': 60.66}\n",
      "05:17:43  DEBUG   :  schedtune_enqueue_task: {'hits': 30, 'avg': 1.91, 's_2': 1.257, 'time': 57.3}\n",
      "05:17:43  DEBUG   : FTrace stats output [/data/lisa_fork/lisa/results/TraceAnalysis_FunctionsProfiling/trace.stats]...\n",
      "05:17:43  DEBUG   : FTrace function stats save in [/data/lisa_fork/lisa/results/TraceAnalysis_FunctionsProfiling/trace.stats]\n",
      "05:17:43  DEBUG   :       Platform - Dump platform descriptor in [/data/lisa_fork/lisa/results/TraceAnalysis_FunctionsProfiling/platform.json]\n"
     ]
    }
   ],
   "source": [
    "experiment(te)"
   ]
  },
  {
   "cell_type": "markdown",
   "metadata": {},
   "source": [
    "# Parse Trace and Profiling Data"
   ]
  },
  {
   "cell_type": "code",
   "execution_count": 30,
   "metadata": {
    "collapsed": false
   },
   "outputs": [
    {
     "name": "stderr",
     "output_type": "stream",
     "text": [
      "05:17:44  INFO    : Content of the output folder /data/lisa_fork/lisa/results/TraceAnalysis_FunctionsProfiling\n"
     ]
    },
    {
     "name": "stdout",
     "output_type": "stream",
     "text": [
      "\u001b[01;34m/data/lisa_fork/lisa/results/TraceAnalysis_FunctionsProfiling\u001b[00m\r\n",
      "├── output.log\r\n",
      "├── platform.json\r\n",
      "├── ramp_00.json\r\n",
      "├── rt-app-ramp-0.log\r\n",
      "├── rt-app-ramp_1-0.log\r\n",
      "├── rt-app-ramp_1-1.log\r\n",
      "├── rt-app-ramp_2-2.log\r\n",
      "├── trace.dat\r\n",
      "├── trace.raw.txt\r\n",
      "├── trace.stats\r\n",
      "└── trace.txt\r\n",
      "\r\n",
      "0 directories, 11 files\r\n"
     ]
    }
   ],
   "source": [
    "# Base folder where tests folder are located\n",
    "res_dir = te.res_dir\n",
    "logging.info('Content of the output folder %s', res_dir)\n",
    "!tree {res_dir}"
   ]
  },
  {
   "cell_type": "code",
   "execution_count": 31,
   "metadata": {
    "collapsed": false
   },
   "outputs": [
    {
     "name": "stderr",
     "output_type": "stream",
     "text": [
      "05:17:44  INFO    : LITTLE cluster max capacity: 447\n"
     ]
    }
   ],
   "source": [
    "with open(os.path.join(res_dir, 'platform.json'), 'r') as fh:\n",
    "    platform = json.load(fh)\n",
    "#print json.dumps(platform, indent=4)\n",
    "logging.info('LITTLE cluster max capacity: %d',\n",
    "             platform['nrg_model']['little']['cpu']['cap_max'])"
   ]
  },
  {
   "cell_type": "code",
   "execution_count": 32,
   "metadata": {
    "collapsed": false
   },
   "outputs": [
    {
     "name": "stderr",
     "output_type": "stream",
     "text": [
      "05:17:44  DEBUG   : Loading [sched] events from trace in [/data/lisa_fork/lisa/results/TraceAnalysis_FunctionsProfiling]...\n",
      "05:17:44  DEBUG   : Parsing events: []\n",
      "05:17:44  INFO    : Parsing FTrace format...\n",
      "05:17:44  DEBUG   : Loading functions profiling data from [/data/lisa_fork/lisa/results/TraceAnalysis_FunctionsProfiling/trace.stats]...\n",
      "05:17:44  DEBUG   : Events found on trace:\n",
      "05:17:44  INFO    : Trace contains only functions stats\n",
      "05:17:44  INFO    : Collected events spans a 0.000 [s] time interval\n",
      "05:17:44  INFO    : Set plots time range to (0.000000, 0.000000)[s]\n",
      "05:17:44  DEBUG   : Registering [<trace.Trace object at 0x7fcd498e52d0>] local data frames\n",
      "05:17:44  DEBUG   :    functions_stats\n",
      "05:17:44  DEBUG   :    trace_event\n",
      "05:17:44  DEBUG   :       Analysis - Analysis: /data/lisa_fork/lisa/libs/utils/analysis\n",
      "05:17:44  DEBUG   :       Analysis - Syspath: ['/data/lisa_fork/lisa/libs/utils/analysis', '/data/lisa_fork/lisa/libs/utils/analysis', '/data/lisa_fork/lisa/libs/utils/analysis', '', '/data/lisa_fork/lisa/libs/bart', '/data/lisa_fork/lisa/libs/trappy', '/data/lisa_fork/lisa/libs/devlib', '/data/lisa_fork/lisa/libs/wlgen', '/data/lisa_fork/lisa/libs/utils', '/data/lisa_fork/lisa/ipynb/workshop', '/usr/lib/python2.7', '/usr/lib/python2.7/plat-x86_64-linux-gnu', '/usr/lib/python2.7/lib-tk', '/usr/lib/python2.7/lib-old', '/usr/lib/python2.7/lib-dynload', '/usr/local/lib/python2.7/dist-packages', '/usr/lib/python2.7/dist-packages', '/usr/local/lib/python2.7/dist-packages/IPython/extensions', '/home/zhifei/.ipython']\n",
      "05:17:44  INFO    : Registering trace analysis modules:\n",
      "05:17:44  DEBUG   :       Analysis - Filename: tasks_analysis\n",
      "05:17:44  DEBUG   : Registering [<tasks_analysis.TasksAnalysis object at 0x7fcd49684a90>] local data frames\n",
      "05:17:44  DEBUG   :    rt_tasks\n",
      "05:17:44  DEBUG   :    top_big_tasks\n",
      "05:17:44  DEBUG   :    top_wakeup_tasks\n",
      "05:17:44  DEBUG   :    trace_event\n",
      "05:17:44  INFO    :    tasks\n",
      "05:17:44  DEBUG   :       Analysis - Filename: idle_analysis\n",
      "05:17:44  DEBUG   : Registering [<idle_analysis.IdleAnalysis object at 0x7fcd498e5750>] local data frames\n",
      "05:17:44  DEBUG   :    cluster_idle_state_residency\n",
      "05:17:44  DEBUG   :    cpu_idle_state_residency\n",
      "05:17:44  DEBUG   :    trace_event\n",
      "05:17:44  INFO    :    idle\n",
      "05:17:44  DEBUG   :       Analysis - Filename: latency_analysis\n",
      "05:17:44  DEBUG   : Registering [<latency_analysis.LatencyAnalysis object at 0x7fcd498e5490>] local data frames\n",
      "05:17:44  DEBUG   :    latency_df\n",
      "05:17:44  DEBUG   :    latency_preemption_df\n",
      "05:17:44  DEBUG   :    latency_wakeup_df\n",
      "05:17:44  DEBUG   :    trace_event\n",
      "05:17:44  INFO    :    latency\n",
      "05:17:44  DEBUG   :       Analysis - Filename: functions_analysis\n",
      "05:17:44  DEBUG   : Registering [<functions_analysis.FunctionsAnalysis object at 0x7fcd498e5510>] local data frames\n",
      "05:17:44  DEBUG   :    trace_event\n",
      "05:17:44  INFO    :    functions\n",
      "05:17:44  DEBUG   :       Analysis - Filename: frequency_analysis\n",
      "05:17:44  DEBUG   : Registering [<frequency_analysis.FrequencyAnalysis object at 0x7fcd498e5a10>] local data frames\n",
      "05:17:44  DEBUG   :    cluster_frequency_residency\n",
      "05:17:44  DEBUG   :    cpu_frequency_residency\n",
      "05:17:44  DEBUG   :    trace_event\n",
      "05:17:44  INFO    :    frequency\n",
      "05:17:44  DEBUG   :       Analysis - Filename: status_analysis\n",
      "05:17:44  DEBUG   : Registering [<status_analysis.StatusAnalysis object at 0x7fcd498e58d0>] local data frames\n",
      "05:17:44  DEBUG   :    overutilized\n",
      "05:17:44  DEBUG   :    trace_event\n",
      "05:17:44  INFO    :    status\n",
      "05:17:44  DEBUG   :       Analysis - Filename: eas_analysis\n",
      "05:17:44  DEBUG   : Registering [<eas_analysis.EasAnalysis object at 0x7fcd498e5f90>] local data frames\n",
      "05:17:44  DEBUG   :    trace_event\n",
      "05:17:44  INFO    :    eas\n",
      "05:17:44  DEBUG   :       Analysis - Filename: cpus_analysis\n",
      "05:17:44  DEBUG   : Registering [<cpus_analysis.CpusAnalysis object at 0x7fcd498e5dd0>] local data frames\n",
      "05:17:44  DEBUG   :    context_switches\n",
      "05:17:44  DEBUG   :    trace_event\n",
      "05:17:44  INFO    :    cpus\n"
     ]
    }
   ],
   "source": [
    "trace = Trace(platform, res_dir, events=[])"
   ]
  },
  {
   "cell_type": "markdown",
   "metadata": {},
   "source": [
    "# Report Functions Profiling Data"
   ]
  },
  {
   "cell_type": "code",
   "execution_count": 33,
   "metadata": {
    "collapsed": false
   },
   "outputs": [
    {
     "data": {
      "text/html": [
       "<div>\n",
       "<table border=\"1\" class=\"dataframe\">\n",
       "  <thead>\n",
       "    <tr style=\"text-align: right;\">\n",
       "      <th></th>\n",
       "      <th></th>\n",
       "      <th>hits</th>\n",
       "      <th>avg</th>\n",
       "      <th>time</th>\n",
       "      <th>s_2</th>\n",
       "    </tr>\n",
       "  </thead>\n",
       "  <tbody>\n",
       "    <tr>\n",
       "      <th rowspan=\"2\" valign=\"top\">0</th>\n",
       "      <th>dequeue_task_fair</th>\n",
       "      <td>266</td>\n",
       "      <td>17.626</td>\n",
       "      <td>4688.70</td>\n",
       "      <td>63.100</td>\n",
       "    </tr>\n",
       "    <tr>\n",
       "      <th>enqueue_task_fair</th>\n",
       "      <td>45</td>\n",
       "      <td>10.384</td>\n",
       "      <td>467.30</td>\n",
       "      <td>30.567</td>\n",
       "    </tr>\n",
       "    <tr>\n",
       "      <th rowspan=\"2\" valign=\"top\">1</th>\n",
       "      <th>dequeue_task_fair</th>\n",
       "      <td>548</td>\n",
       "      <td>8.912</td>\n",
       "      <td>4883.86</td>\n",
       "      <td>18.460</td>\n",
       "    </tr>\n",
       "    <tr>\n",
       "      <th>enqueue_task_fair</th>\n",
       "      <td>492</td>\n",
       "      <td>7.903</td>\n",
       "      <td>3888.70</td>\n",
       "      <td>11.731</td>\n",
       "    </tr>\n",
       "    <tr>\n",
       "      <th rowspan=\"2\" valign=\"top\">2</th>\n",
       "      <th>dequeue_task_fair</th>\n",
       "      <td>405</td>\n",
       "      <td>10.451</td>\n",
       "      <td>4232.86</td>\n",
       "      <td>27.577</td>\n",
       "    </tr>\n",
       "    <tr>\n",
       "      <th>enqueue_task_fair</th>\n",
       "      <td>172</td>\n",
       "      <td>7.900</td>\n",
       "      <td>1358.80</td>\n",
       "      <td>13.977</td>\n",
       "    </tr>\n",
       "    <tr>\n",
       "      <th rowspan=\"2\" valign=\"top\">3</th>\n",
       "      <th>dequeue_task_fair</th>\n",
       "      <td>178</td>\n",
       "      <td>12.399</td>\n",
       "      <td>2207.16</td>\n",
       "      <td>56.776</td>\n",
       "    </tr>\n",
       "    <tr>\n",
       "      <th>enqueue_task_fair</th>\n",
       "      <td>60</td>\n",
       "      <td>10.218</td>\n",
       "      <td>613.10</td>\n",
       "      <td>27.021</td>\n",
       "    </tr>\n",
       "    <tr>\n",
       "      <th rowspan=\"2\" valign=\"top\">4</th>\n",
       "      <th>dequeue_task_fair</th>\n",
       "      <td>425</td>\n",
       "      <td>11.096</td>\n",
       "      <td>4715.86</td>\n",
       "      <td>63.129</td>\n",
       "    </tr>\n",
       "    <tr>\n",
       "      <th>enqueue_task_fair</th>\n",
       "      <td>35</td>\n",
       "      <td>11.679</td>\n",
       "      <td>408.78</td>\n",
       "      <td>26.920</td>\n",
       "    </tr>\n",
       "    <tr>\n",
       "      <th rowspan=\"2\" valign=\"top\">5</th>\n",
       "      <th>dequeue_task_fair</th>\n",
       "      <td>82</td>\n",
       "      <td>14.355</td>\n",
       "      <td>1177.16</td>\n",
       "      <td>69.660</td>\n",
       "    </tr>\n",
       "    <tr>\n",
       "      <th>enqueue_task_fair</th>\n",
       "      <td>30</td>\n",
       "      <td>7.992</td>\n",
       "      <td>239.76</td>\n",
       "      <td>16.436</td>\n",
       "    </tr>\n",
       "  </tbody>\n",
       "</table>\n",
       "</div>"
      ],
      "text/plain": [
       "                     hits     avg     time     s_2\n",
       "0 dequeue_task_fair   266  17.626  4688.70  63.100\n",
       "  enqueue_task_fair    45  10.384   467.30  30.567\n",
       "1 dequeue_task_fair   548   8.912  4883.86  18.460\n",
       "  enqueue_task_fair   492   7.903  3888.70  11.731\n",
       "2 dequeue_task_fair   405  10.451  4232.86  27.577\n",
       "  enqueue_task_fair   172   7.900  1358.80  13.977\n",
       "3 dequeue_task_fair   178  12.399  2207.16  56.776\n",
       "  enqueue_task_fair    60  10.218   613.10  27.021\n",
       "4 dequeue_task_fair   425  11.096  4715.86  63.129\n",
       "  enqueue_task_fair    35  11.679   408.78  26.920\n",
       "5 dequeue_task_fair    82  14.355  1177.16  69.660\n",
       "  enqueue_task_fair    30   7.992   239.76  16.436"
      ]
     },
     "execution_count": 33,
     "metadata": {},
     "output_type": "execute_result"
    }
   ],
   "source": [
    "# Get the DataFrame for the specified list of kernel functions\n",
    "df = trace.data_frame.functions_stats(['enqueue_task_fair', 'dequeue_task_fair'])\n",
    "df"
   ]
  },
  {
   "cell_type": "code",
   "execution_count": 34,
   "metadata": {
    "collapsed": false
   },
   "outputs": [
    {
     "data": {
      "text/html": [
       "<div>\n",
       "<table border=\"1\" class=\"dataframe\">\n",
       "  <thead>\n",
       "    <tr style=\"text-align: right;\">\n",
       "      <th></th>\n",
       "      <th></th>\n",
       "      <th>hits</th>\n",
       "      <th>avg</th>\n",
       "      <th>time</th>\n",
       "      <th>s_2</th>\n",
       "    </tr>\n",
       "  </thead>\n",
       "  <tbody>\n",
       "    <tr>\n",
       "      <th>0</th>\n",
       "      <th>select_task_rq_fair</th>\n",
       "      <td>117</td>\n",
       "      <td>16.149</td>\n",
       "      <td>1889.46</td>\n",
       "      <td>113.202</td>\n",
       "    </tr>\n",
       "    <tr>\n",
       "      <th>1</th>\n",
       "      <th>select_task_rq_fair</th>\n",
       "      <td>441</td>\n",
       "      <td>7.313</td>\n",
       "      <td>3225.14</td>\n",
       "      <td>74.198</td>\n",
       "    </tr>\n",
       "    <tr>\n",
       "      <th>2</th>\n",
       "      <th>select_task_rq_fair</th>\n",
       "      <td>343</td>\n",
       "      <td>9.712</td>\n",
       "      <td>3331.48</td>\n",
       "      <td>104.951</td>\n",
       "    </tr>\n",
       "    <tr>\n",
       "      <th>3</th>\n",
       "      <th>select_task_rq_fair</th>\n",
       "      <td>108</td>\n",
       "      <td>15.209</td>\n",
       "      <td>1642.64</td>\n",
       "      <td>191.652</td>\n",
       "    </tr>\n",
       "    <tr>\n",
       "      <th>4</th>\n",
       "      <th>select_task_rq_fair</th>\n",
       "      <td>38</td>\n",
       "      <td>18.227</td>\n",
       "      <td>692.66</td>\n",
       "      <td>277.024</td>\n",
       "    </tr>\n",
       "    <tr>\n",
       "      <th>5</th>\n",
       "      <th>select_task_rq_fair</th>\n",
       "      <td>26</td>\n",
       "      <td>19.659</td>\n",
       "      <td>511.14</td>\n",
       "      <td>482.759</td>\n",
       "    </tr>\n",
       "  </tbody>\n",
       "</table>\n",
       "</div>"
      ],
      "text/plain": [
       "                       hits     avg     time      s_2\n",
       "0 select_task_rq_fair   117  16.149  1889.46  113.202\n",
       "1 select_task_rq_fair   441   7.313  3225.14   74.198\n",
       "2 select_task_rq_fair   343   9.712  3331.48  104.951\n",
       "3 select_task_rq_fair   108  15.209  1642.64  191.652\n",
       "4 select_task_rq_fair    38  18.227   692.66  277.024\n",
       "5 select_task_rq_fair    26  19.659   511.14  482.759"
      ]
     },
     "execution_count": 34,
     "metadata": {},
     "output_type": "execute_result"
    }
   ],
   "source": [
    "# Get the DataFrame for the single specified kernel function\n",
    "df = trace.data_frame.functions_stats('select_task_rq_fair')\n",
    "df"
   ]
  },
  {
   "cell_type": "markdown",
   "metadata": {},
   "source": [
    "# Plot Functions Profiling Data"
   ]
  },
  {
   "cell_type": "code",
   "execution_count": 35,
   "metadata": {
    "collapsed": false
   },
   "outputs": [
    {
     "data": {
      "image/png": "[encoded data removed]",
      "text/plain": [
       "<matplotlib.figure.Figure at 0x7fcd498e5210>"
      ]
     },
     "metadata": {},
     "output_type": "display_data"
    },
    {
     "data": {
      "image/png": "[encoded data removed]",
      "text/plain": [
       "<matplotlib.figure.Figure at 0x7fcd498e56d0>"
      ]
     },
     "metadata": {},
     "output_type": "display_data"
    }
   ],
   "source": [
    "# Plot Average and Total execution time for the specified\n",
    "# list of kernel functions\n",
    "trace.analysis.functions.plotProfilingStats(\n",
    "    functions = [\n",
    "        'select_task_rq_fair',\n",
    "        'enqueue_task_fair',\n",
    "        'dequeue_task_fair'\n",
    "    ],\n",
    "    metrics = [\n",
    "        'avg',\n",
    "        'time',\n",
    "    ]\n",
    ")"
   ]
  },
  {
   "cell_type": "code",
   "execution_count": 39,
   "metadata": {
    "collapsed": false
   },
   "outputs": [
    {
     "data": {
      "image/png": "[encoded data removed]",
      "text/plain": [
       "<matplotlib.figure.Figure at 0x7fcd4b05d110>"
      ]
     },
     "metadata": {},
     "output_type": "display_data"
    }
   ],
   "source": [
    "# Plot Average execution time for the single specified kernel function\n",
    "trace.analysis.functions.plotProfilingStats(\n",
    "    functions = [\n",
    "            \"scheduler_timeout\",\n",
    "            \"schedtune_dequeue_task\",\n",
    "            \"schedtune_task_boost\",        \n",
    "                ]\n",
    ")"
   ]
  },
  {
   "cell_type": "code",
   "execution_count": null,
   "metadata": {
    "collapsed": true
   },
   "outputs": [],
   "source": []
  }
 ],
 "metadata": {
  "kernelspec": {
   "display_name": "Python 2",
   "language": "python",
   "name": "python2"
  },
  "language_info": {
   "codemirror_mode": {
    "name": "ipython",
    "version": 2
   },
   "file_extension": ".py",
   "mimetype": "text/x-python",
   "name": "python",
   "nbconvert_exporter": "python",
   "pygments_lexer": "ipython2",
   "version": "2.7.12"
  },
  "toc": {
   "toc_cell": false,
   "toc_number_sections": true,
   "toc_threshold": 6,
   "toc_window_display": false
  }
 },
 "nbformat": 4,
 "nbformat_minor": 0
}
