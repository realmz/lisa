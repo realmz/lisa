{
 "cells": [
  {
   "cell_type": "markdown",
   "metadata": {},
   "source": [
    "# Kernel Functions Profiling"
   ]
  },
  {
   "cell_type": "code",
   "execution_count": 1,
   "metadata": {
    "collapsed": true
   },
   "outputs": [],
   "source": [
    "import logging\n",
    "reload(logging)\n",
    "logging.basicConfig(\n",
    "    format='%(asctime)-9s %(levelname)-8s: %(message)s',\n",
    "    datefmt='%I:%M:%S')\n",
    "\n",
    "# Enable logging at INFO level\n",
    "logging.getLogger().setLevel(logging.INFO)"
   ]
  },
  {
   "cell_type": "code",
   "execution_count": 2,
   "metadata": {},
   "outputs": [],
   "source": [
    "# Generate plots inline\n",
    "%matplotlib inline\n",
    "\n",
    "import json\n",
    "import os\n",
    "\n",
    "# Support to access the remote target\n",
    "import devlib\n",
    "from env import TestEnv\n",
    "\n",
    "# RTApp configurator for generation of PERIODIC tasks\n",
    "from wlgen import RTA, Ramp\n",
    "\n",
    "# Support for trace events analysis\n",
    "from trace import Trace"
   ]
  },
  {
   "cell_type": "markdown",
   "metadata": {},
   "source": [
    "# Target Configuration"
   ]
  },
  {
   "cell_type": "code",
   "execution_count": 3,
   "metadata": {},
   "outputs": [],
   "source": [
    "# Setup target configuration\n",
    "my_conf = {\n",
    "\n",
    "    \"platform\"    : 'android',\n",
    "    \"board\"       : \"hikey960\",\n",
    "    \"device\" : \"0123456789ABCDEF\",\n",
    "    \n",
    "    \"ANDROID_HOME\" : \"/media/build/workspace/android-sdk\",\n",
    "    \"rtapp-calib\" : {\"0\": 302, \"1\": 302, \"2\": 304, \"3\": 304, \"4\": 136, \"5\": 137, \"6\": 136, \"7\": 136},\n",
    "\n",
    "     \"emeter\" : {\n",
    "        \"instrument\" : \"acme\",\n",
    "        \"conf\" : {\n",
    "            # Absolute path to the iio-capture binary on the host\n",
    "            'iio-capture' : '/usr/bin/iio-capture',\n",
    "            # Default host name of the BeagleBone Black\n",
    "            'ip_address'     : 'baylibre-acme.local',\n",
    "        },\n",
    "        \"channel_map\" : {\n",
    "            \"Device0\" : 0, # iio:device0\n",
    "        }\n",
    "    },  \n",
    "\n",
    "    # Folder where all the results will be collected\n",
    "    \"results_dir\" : \"TraceAnalysis_FunctionsProfiling\",\n",
    "\n",
    "    # Define devlib modules to load\n",
    "    \"exclude_modules\" : [ 'hwmon' ],\n",
    "\n",
    "    # FTrace events to collect for all the tests configuration which have\n",
    "    # the \"ftrace\" flag enabled\n",
    "    \"ftrace\"  : {\n",
    "        \"functions\" : [\n",
    "            \"pick_next_task_fair\",\n",
    "            \"select_task_rq_fair\",\n",
    "            \"enqueue_task_fair\",\n",
    "            \"update_curr_fair\",\n",
    "            \"dequeue_task_fair\",\n",
    "            \n",
    "            # for tests\n",
    "            \"scheduler_timeout\",\n",
    "            \"tick_sched_timer\",\n",
    "            \"tick_sched_do_timer\",\n",
    "            \"schedtune_cpu_boost\",\n",
    "            \"schedtune_task_boost\",\n",
    "            \"schedtune_prefer_idle\",\n",
    "            \"schedtune_enqueue_task\",\n",
    "            \"schedtune_dequeue_task\",\n",
    "        ],\n",
    "        \n",
    "         \"buffsize\" : 100 * 1024,\n",
    "    },\n",
    "\n",
    "    # Tools required by the experiments\n",
    "    \"tools\"   : [ 'trace-cmd', 'rt-app' ],\n",
    "    \n",
    "\n",
    "}"
   ]
  },
  {
   "cell_type": "code",
   "execution_count": 4,
   "metadata": {
    "scrolled": false
   },
   "outputs": [
    {
     "name": "stderr",
     "output_type": "stream",
     "text": [
      "01:54:37  INFO    : Using base path: /media/build/workspace/lisa-github\n",
      "01:54:37  INFO    : Loading custom (inline) target configuration\n",
      "01:54:37  INFO    : External tools using:\n",
      "01:54:37  INFO    :    ANDROID_HOME: /media/build/workspace/android-sdk\n",
      "01:54:37  INFO    :    CATAPULT_HOME: /media/build/workspace/lisa-github/tools/catapult\n",
      "01:54:37  INFO    : Devlib modules to load: ['bl', 'cpuidle', 'cpufreq']\n",
      "01:54:37  INFO    : Connecting Android target [0123456789ABCDEF]\n",
      "01:54:37  INFO    : Connection settings:\n",
      "01:54:37  INFO    :    {'device': '0123456789ABCDEF'}\n",
      "01:54:38  INFO    : Initializing target workdir:\n",
      "01:54:38  INFO    :    /data/local/tmp/devlib-target\n",
      "01:54:43  INFO    : Attempting to read energy model from target\n",
      "01:54:47  INFO    : Topology:\n",
      "01:54:47  INFO    :    [[0, 1, 2, 3], [4, 5, 6, 7]]\n",
      "01:54:47  INFO    : Loading default EM:\n",
      "01:54:47  INFO    :    /media/build/workspace/lisa-github/libs/utils/platforms/hikey960.json\n",
      "01:54:49  WARNING : Function [scheduler_timeout] not available for profiling\n",
      "01:54:49  WARNING : Function [tick_sched_do_timer] not available for profiling\n",
      "01:54:49  INFO    : Enabled tracepoints:\n",
      "01:54:49  INFO    :    sched:*\n",
      "01:54:49  INFO    : Kernel functions profiled:\n",
      "01:54:49  INFO    :    pick_next_task_fair\n",
      "01:54:49  INFO    :    select_task_rq_fair\n",
      "01:54:49  INFO    :    enqueue_task_fair\n",
      "01:54:49  INFO    :    update_curr_fair\n",
      "01:54:49  INFO    :    dequeue_task_fair\n",
      "01:54:49  INFO    :    scheduler_timeout\n",
      "01:54:49  INFO    :    tick_sched_timer\n",
      "01:54:49  INFO    :    tick_sched_do_timer\n",
      "01:54:49  INFO    :    schedtune_cpu_boost\n",
      "01:54:49  INFO    :    schedtune_task_boost\n",
      "01:54:49  INFO    :    schedtune_prefer_idle\n",
      "01:54:49  INFO    :    schedtune_enqueue_task\n",
      "01:54:49  INFO    :    schedtune_dequeue_task\n",
      "01:54:49  WARNING : Using configuration provided RTApp calibration\n",
      "01:54:49  INFO    : Using RT-App calibration values:\n",
      "01:54:49  INFO    :    {\"0\": 302, \"1\": 302, \"2\": 304, \"3\": 304, \"4\": 136, \"5\": 137, \"6\": 136, \"7\": 136}\n",
      "01:54:49  INFO    : ACME configuration:\n",
      "01:54:49  INFO    :     binary: /usr/bin/iio-capture\n",
      "01:54:49  INFO    :     device: baylibre-acme.local\n",
      "01:54:49  INFO    :   channels:\n",
      "01:54:49  INFO    :      Device0 (iio:device0)\n",
      "01:54:49  INFO    : Set results folder to:\n",
      "01:54:49  INFO    :    /media/build/workspace/lisa-github/results/TraceAnalysis_FunctionsProfiling\n",
      "01:54:49  INFO    : Experiment results available also in:\n",
      "01:54:49  INFO    :    /media/build/workspace/lisa-github/results_latest\n"
     ]
    }
   ],
   "source": [
    "# Initialize a test environment using:\n",
    "te = TestEnv(my_conf, wipe=False, force_new=True)\n",
    "target = te.target"
   ]
  },
  {
   "cell_type": "markdown",
   "metadata": {},
   "source": [
    "# Workload Execution and Functions Profiling Data Collection"
   ]
  },
  {
   "cell_type": "code",
   "execution_count": 14,
   "metadata": {
    "collapsed": true
   },
   "outputs": [],
   "source": [
    "def experiment(te):\n",
    "\n",
    "    # Create and RTApp RAMP task\n",
    "    rtapp = RTA(te.target, 'ramp', calibration=te.calibration())\n",
    "    rtapp.conf(kind='profile',\n",
    "               params={\n",
    "                    'ramp' : Ramp(\n",
    "                        start_pct =  60,\n",
    "                        end_pct   =  20,\n",
    "                        delta_pct =   5,\n",
    "                        time_s    =   0.5).get()\n",
    "              })\n",
    "\n",
    "    # FTrace the execution of this workload\n",
    "    te.ftrace.start()\n",
    "    rtapp.run(out_dir=te.res_dir)\n",
    "    te.ftrace.stop()\n",
    "\n",
    "    # Collect and keep track of the trace\n",
    "    trace_file = os.path.join(te.res_dir, 'trace.dat')\n",
    "    te.ftrace.get_trace(trace_file)\n",
    "    \n",
    "    # Collect and keep track of the Kernel Functions performance data\n",
    "    stats_file = os.path.join(te.res_dir, 'trace.stats')\n",
    "    te.ftrace.get_stats(stats_file)\n",
    "\n",
    "    # Dump platform descriptor\n",
    "    te.platform_dump(te.res_dir)"
   ]
  },
  {
   "cell_type": "code",
   "execution_count": 15,
   "metadata": {},
   "outputs": [
    {
     "name": "stderr",
     "output_type": "stream",
     "text": [
      "02:08:52  INFO    : Setup new workload ramp\n",
      "02:08:52  INFO    : Workload duration defined by longest task\n",
      "02:08:52  INFO    : Default policy: SCHED_OTHER\n",
      "02:08:52  INFO    : ------------------------\n",
      "02:08:52  INFO    : task [ramp], sched: using default policy\n",
      "02:08:52  INFO    :  | loops count: 1\n",
      "02:08:52  INFO    : + phase_000001: duration 0.500000 [s] (5 loops)\n",
      "02:08:52  INFO    : |  period   100000 [us], duty_cycle  60 %\n",
      "02:08:52  INFO    : |  run_time  60000 [us], sleep_time  40000 [us]\n",
      "02:08:52  INFO    : + phase_000002: duration 0.500000 [s] (5 loops)\n",
      "02:08:52  INFO    : |  period   100000 [us], duty_cycle  55 %\n",
      "02:08:52  INFO    : |  run_time  55000 [us], sleep_time  45000 [us]\n",
      "02:08:52  INFO    : + phase_000003: duration 0.500000 [s] (5 loops)\n",
      "02:08:52  INFO    : |  period   100000 [us], duty_cycle  50 %\n",
      "02:08:52  INFO    : |  run_time  50000 [us], sleep_time  50000 [us]\n",
      "02:08:52  INFO    : + phase_000004: duration 0.500000 [s] (5 loops)\n",
      "02:08:52  INFO    : |  period   100000 [us], duty_cycle  45 %\n",
      "02:08:52  INFO    : |  run_time  45000 [us], sleep_time  55000 [us]\n",
      "02:08:52  INFO    : + phase_000005: duration 0.500000 [s] (5 loops)\n",
      "02:08:52  INFO    : |  period   100000 [us], duty_cycle  40 %\n",
      "02:08:52  INFO    : |  run_time  40000 [us], sleep_time  60000 [us]\n",
      "02:08:52  INFO    : + phase_000006: duration 0.500000 [s] (5 loops)\n",
      "02:08:52  INFO    : |  period   100000 [us], duty_cycle  35 %\n",
      "02:08:52  INFO    : |  run_time  35000 [us], sleep_time  65000 [us]\n",
      "02:08:52  INFO    : + phase_000007: duration 0.500000 [s] (5 loops)\n",
      "02:08:52  INFO    : |  period   100000 [us], duty_cycle  30 %\n",
      "02:08:52  INFO    : |  run_time  30000 [us], sleep_time  70000 [us]\n",
      "02:08:52  INFO    : + phase_000008: duration 0.500000 [s] (5 loops)\n",
      "02:08:52  INFO    : |  period   100000 [us], duty_cycle  25 %\n",
      "02:08:52  INFO    : |  run_time  25000 [us], sleep_time  75000 [us]\n",
      "02:08:52  INFO    : + phase_000009: duration 0.500000 [s] (5 loops)\n",
      "02:08:52  INFO    : |  period   100000 [us], duty_cycle  20 %\n",
      "02:08:52  INFO    : |  run_time  20000 [us], sleep_time  80000 [us]\n"
     ]
    },
    {
     "name": "stdout",
     "output_type": "stream",
     "text": [
      "\n"
     ]
    },
    {
     "name": "stderr",
     "output_type": "stream",
     "text": [
      "02:08:56  INFO    : Workload execution START:\n",
      "02:08:56  INFO    :    /data/local/tmp/bin/rt-app /data/local/tmp/devlib-target/ramp_00.json 2>&1\n"
     ]
    }
   ],
   "source": [
    "experiment(te)"
   ]
  },
  {
   "cell_type": "markdown",
   "metadata": {},
   "source": [
    "# Parse Trace and Profiling Data"
   ]
  },
  {
   "cell_type": "code",
   "execution_count": 7,
   "metadata": {},
   "outputs": [
    {
     "name": "stderr",
     "output_type": "stream",
     "text": [
      "01:55:48  INFO    : Content of the output folder /media/build/workspace/lisa-github/results/TraceAnalysis_FunctionsProfiling\n"
     ]
    },
    {
     "name": "stdout",
     "output_type": "stream",
     "text": [
      "\u001b[01;34m/media/build/workspace/lisa-github/results/TraceAnalysis_FunctionsProfiling\u001b[00m\r\n",
      "├── output.log\r\n",
      "├── platform.json\r\n",
      "├── ramp_00.json\r\n",
      "├── rt-app-ramp-0.log\r\n",
      "├── rt-app-ramp_1-2.log\r\n",
      "├── rt-app-ramp_2-3.log\r\n",
      "├── trace.dat\r\n",
      "└── trace.stats\r\n",
      "\r\n",
      "0 directories, 8 files\r\n"
     ]
    }
   ],
   "source": [
    "# Base folder where tests folder are located\n",
    "res_dir = te.res_dir\n",
    "logging.info('Content of the output folder %s', res_dir)\n",
    "!tree {res_dir}"
   ]
  },
  {
   "cell_type": "code",
   "execution_count": 8,
   "metadata": {},
   "outputs": [
    {
     "name": "stderr",
     "output_type": "stream",
     "text": [
      "01:56:21  INFO    : LITTLE cluster max capacity: 402\n"
     ]
    }
   ],
   "source": [
    "with open(os.path.join(res_dir, 'platform.json'), 'r') as fh:\n",
    "    platform = json.load(fh)\n",
    "#print json.dumps(platform, indent=4)\n",
    "logging.info('LITTLE cluster max capacity: %d',\n",
    "             platform['nrg_model']['little']['cpu']['cap_max'])"
   ]
  },
  {
   "cell_type": "code",
   "execution_count": 9,
   "metadata": {},
   "outputs": [
    {
     "name": "stderr",
     "output_type": "stream",
     "text": [
      "01:56:22  INFO    : Trace contains only functions stats\n"
     ]
    }
   ],
   "source": [
    "trace = Trace(platform, res_dir, events=[])"
   ]
  },
  {
   "cell_type": "markdown",
   "metadata": {},
   "source": [
    "# Report Functions Profiling Data"
   ]
  },
  {
   "cell_type": "code",
   "execution_count": 10,
   "metadata": {},
   "outputs": [
    {
     "data": {
      "text/html": [
       "<div>\n",
       "<style>\n",
       "    .dataframe thead tr:only-child th {\n",
       "        text-align: right;\n",
       "    }\n",
       "\n",
       "    .dataframe thead th {\n",
       "        text-align: left;\n",
       "    }\n",
       "\n",
       "    .dataframe tbody tr th {\n",
       "        vertical-align: top;\n",
       "    }\n",
       "</style>\n",
       "<table border=\"1\" class=\"dataframe\">\n",
       "  <thead>\n",
       "    <tr style=\"text-align: right;\">\n",
       "      <th></th>\n",
       "      <th></th>\n",
       "      <th>hits</th>\n",
       "      <th>avg</th>\n",
       "      <th>time</th>\n",
       "      <th>s_2</th>\n",
       "    </tr>\n",
       "  </thead>\n",
       "  <tbody>\n",
       "    <tr>\n",
       "      <th rowspan=\"2\" valign=\"top\">0</th>\n",
       "      <th>dequeue_task_fair</th>\n",
       "      <td>1380</td>\n",
       "      <td>11.617</td>\n",
       "      <td>16032.300</td>\n",
       "      <td>53.007</td>\n",
       "    </tr>\n",
       "    <tr>\n",
       "      <th>enqueue_task_fair</th>\n",
       "      <td>1436</td>\n",
       "      <td>15.338</td>\n",
       "      <td>22025.490</td>\n",
       "      <td>63.408</td>\n",
       "    </tr>\n",
       "    <tr>\n",
       "      <th rowspan=\"2\" valign=\"top\">1</th>\n",
       "      <th>dequeue_task_fair</th>\n",
       "      <td>114</td>\n",
       "      <td>15.638</td>\n",
       "      <td>1782.808</td>\n",
       "      <td>48.898</td>\n",
       "    </tr>\n",
       "    <tr>\n",
       "      <th>enqueue_task_fair</th>\n",
       "      <td>36</td>\n",
       "      <td>17.375</td>\n",
       "      <td>625.528</td>\n",
       "      <td>84.854</td>\n",
       "    </tr>\n",
       "    <tr>\n",
       "      <th rowspan=\"2\" valign=\"top\">2</th>\n",
       "      <th>dequeue_task_fair</th>\n",
       "      <td>326</td>\n",
       "      <td>3.613</td>\n",
       "      <td>1178.110</td>\n",
       "      <td>14.564</td>\n",
       "    </tr>\n",
       "    <tr>\n",
       "      <th>enqueue_task_fair</th>\n",
       "      <td>13</td>\n",
       "      <td>16.746</td>\n",
       "      <td>217.707</td>\n",
       "      <td>71.154</td>\n",
       "    </tr>\n",
       "    <tr>\n",
       "      <th rowspan=\"2\" valign=\"top\">3</th>\n",
       "      <th>dequeue_task_fair</th>\n",
       "      <td>16</td>\n",
       "      <td>11.686</td>\n",
       "      <td>186.978</td>\n",
       "      <td>41.591</td>\n",
       "    </tr>\n",
       "    <tr>\n",
       "      <th>enqueue_task_fair</th>\n",
       "      <td>3</td>\n",
       "      <td>20.139</td>\n",
       "      <td>60.418</td>\n",
       "      <td>51.626</td>\n",
       "    </tr>\n",
       "    <tr>\n",
       "      <th rowspan=\"2\" valign=\"top\">4</th>\n",
       "      <th>dequeue_task_fair</th>\n",
       "      <td>78</td>\n",
       "      <td>4.740</td>\n",
       "      <td>369.790</td>\n",
       "      <td>5.866</td>\n",
       "    </tr>\n",
       "    <tr>\n",
       "      <th>enqueue_task_fair</th>\n",
       "      <td>19</td>\n",
       "      <td>5.921</td>\n",
       "      <td>112.500</td>\n",
       "      <td>7.120</td>\n",
       "    </tr>\n",
       "    <tr>\n",
       "      <th rowspan=\"2\" valign=\"top\">5</th>\n",
       "      <th>dequeue_task_fair</th>\n",
       "      <td>84</td>\n",
       "      <td>3.714</td>\n",
       "      <td>311.978</td>\n",
       "      <td>6.234</td>\n",
       "    </tr>\n",
       "    <tr>\n",
       "      <th>enqueue_task_fair</th>\n",
       "      <td>28</td>\n",
       "      <td>3.199</td>\n",
       "      <td>89.583</td>\n",
       "      <td>5.199</td>\n",
       "    </tr>\n",
       "    <tr>\n",
       "      <th rowspan=\"2\" valign=\"top\">6</th>\n",
       "      <th>dequeue_task_fair</th>\n",
       "      <td>541</td>\n",
       "      <td>4.098</td>\n",
       "      <td>2217.189</td>\n",
       "      <td>5.630</td>\n",
       "    </tr>\n",
       "    <tr>\n",
       "      <th>enqueue_task_fair</th>\n",
       "      <td>110</td>\n",
       "      <td>4.910</td>\n",
       "      <td>540.101</td>\n",
       "      <td>7.299</td>\n",
       "    </tr>\n",
       "    <tr>\n",
       "      <th rowspan=\"2\" valign=\"top\">7</th>\n",
       "      <th>dequeue_task_fair</th>\n",
       "      <td>249</td>\n",
       "      <td>4.087</td>\n",
       "      <td>1017.706</td>\n",
       "      <td>4.484</td>\n",
       "    </tr>\n",
       "    <tr>\n",
       "      <th>enqueue_task_fair</th>\n",
       "      <td>98</td>\n",
       "      <td>3.039</td>\n",
       "      <td>297.919</td>\n",
       "      <td>4.646</td>\n",
       "    </tr>\n",
       "  </tbody>\n",
       "</table>\n",
       "</div>"
      ],
      "text/plain": [
       "                     hits     avg       time     s_2\n",
       "0 dequeue_task_fair  1380  11.617  16032.300  53.007\n",
       "  enqueue_task_fair  1436  15.338  22025.490  63.408\n",
       "1 dequeue_task_fair   114  15.638   1782.808  48.898\n",
       "  enqueue_task_fair    36  17.375    625.528  84.854\n",
       "2 dequeue_task_fair   326   3.613   1178.110  14.564\n",
       "  enqueue_task_fair    13  16.746    217.707  71.154\n",
       "3 dequeue_task_fair    16  11.686    186.978  41.591\n",
       "  enqueue_task_fair     3  20.139     60.418  51.626\n",
       "4 dequeue_task_fair    78   4.740    369.790   5.866\n",
       "  enqueue_task_fair    19   5.921    112.500   7.120\n",
       "5 dequeue_task_fair    84   3.714    311.978   6.234\n",
       "  enqueue_task_fair    28   3.199     89.583   5.199\n",
       "6 dequeue_task_fair   541   4.098   2217.189   5.630\n",
       "  enqueue_task_fair   110   4.910    540.101   7.299\n",
       "7 dequeue_task_fair   249   4.087   1017.706   4.484\n",
       "  enqueue_task_fair    98   3.039    297.919   4.646"
      ]
     },
     "execution_count": 10,
     "metadata": {},
     "output_type": "execute_result"
    }
   ],
   "source": [
    "# Get the DataFrame for the specified list of kernel functions\n",
    "df = trace.data_frame.functions_stats(['enqueue_task_fair', 'dequeue_task_fair'])\n",
    "df"
   ]
  },
  {
   "cell_type": "code",
   "execution_count": 11,
   "metadata": {},
   "outputs": [
    {
     "data": {
      "text/html": [
       "<div>\n",
       "<style>\n",
       "    .dataframe thead tr:only-child th {\n",
       "        text-align: right;\n",
       "    }\n",
       "\n",
       "    .dataframe thead th {\n",
       "        text-align: left;\n",
       "    }\n",
       "\n",
       "    .dataframe tbody tr th {\n",
       "        vertical-align: top;\n",
       "    }\n",
       "</style>\n",
       "<table border=\"1\" class=\"dataframe\">\n",
       "  <thead>\n",
       "    <tr style=\"text-align: right;\">\n",
       "      <th></th>\n",
       "      <th></th>\n",
       "      <th>hits</th>\n",
       "      <th>avg</th>\n",
       "      <th>time</th>\n",
       "      <th>s_2</th>\n",
       "    </tr>\n",
       "  </thead>\n",
       "  <tbody>\n",
       "    <tr>\n",
       "      <th>0</th>\n",
       "      <th>select_task_rq_fair</th>\n",
       "      <td>1445</td>\n",
       "      <td>16.987</td>\n",
       "      <td>24546.330</td>\n",
       "      <td>171.888</td>\n",
       "    </tr>\n",
       "    <tr>\n",
       "      <th>1</th>\n",
       "      <th>select_task_rq_fair</th>\n",
       "      <td>38</td>\n",
       "      <td>19.092</td>\n",
       "      <td>725.520</td>\n",
       "      <td>189.290</td>\n",
       "    </tr>\n",
       "    <tr>\n",
       "      <th>2</th>\n",
       "      <th>select_task_rq_fair</th>\n",
       "      <td>14</td>\n",
       "      <td>14.583</td>\n",
       "      <td>204.168</td>\n",
       "      <td>66.941</td>\n",
       "    </tr>\n",
       "    <tr>\n",
       "      <th>3</th>\n",
       "      <th>select_task_rq_fair</th>\n",
       "      <td>4</td>\n",
       "      <td>19.140</td>\n",
       "      <td>76.563</td>\n",
       "      <td>154.869</td>\n",
       "    </tr>\n",
       "    <tr>\n",
       "      <th>4</th>\n",
       "      <th>select_task_rq_fair</th>\n",
       "      <td>19</td>\n",
       "      <td>7.154</td>\n",
       "      <td>135.936</td>\n",
       "      <td>24.258</td>\n",
       "    </tr>\n",
       "    <tr>\n",
       "      <th>5</th>\n",
       "      <th>select_task_rq_fair</th>\n",
       "      <td>38</td>\n",
       "      <td>4.153</td>\n",
       "      <td>157.816</td>\n",
       "      <td>19.010</td>\n",
       "    </tr>\n",
       "    <tr>\n",
       "      <th>6</th>\n",
       "      <th>select_task_rq_fair</th>\n",
       "      <td>121</td>\n",
       "      <td>4.511</td>\n",
       "      <td>545.834</td>\n",
       "      <td>22.625</td>\n",
       "    </tr>\n",
       "    <tr>\n",
       "      <th>7</th>\n",
       "      <th>select_task_rq_fair</th>\n",
       "      <td>95</td>\n",
       "      <td>4.221</td>\n",
       "      <td>401.044</td>\n",
       "      <td>22.500</td>\n",
       "    </tr>\n",
       "  </tbody>\n",
       "</table>\n",
       "</div>"
      ],
      "text/plain": [
       "                       hits     avg       time      s_2\n",
       "0 select_task_rq_fair  1445  16.987  24546.330  171.888\n",
       "1 select_task_rq_fair    38  19.092    725.520  189.290\n",
       "2 select_task_rq_fair    14  14.583    204.168   66.941\n",
       "3 select_task_rq_fair     4  19.140     76.563  154.869\n",
       "4 select_task_rq_fair    19   7.154    135.936   24.258\n",
       "5 select_task_rq_fair    38   4.153    157.816   19.010\n",
       "6 select_task_rq_fair   121   4.511    545.834   22.625\n",
       "7 select_task_rq_fair    95   4.221    401.044   22.500"
      ]
     },
     "execution_count": 11,
     "metadata": {},
     "output_type": "execute_result"
    }
   ],
   "source": [
    "# Get the DataFrame for the single specified kernel function\n",
    "df = trace.data_frame.functions_stats('select_task_rq_fair')\n",
    "df"
   ]
  },
  {
   "cell_type": "markdown",
   "metadata": {},
   "source": [
    "# Plot Functions Profiling Data"
   ]
  },
  {
   "cell_type": "code",
   "execution_count": 12,
   "metadata": {},
   "outputs": [
    {
     "data": {
      "image/png": "[encoded data removed]",
      "text/plain": [
       "<matplotlib.figure.Figure at 0x7f7183779c10>"
      ]
     },
     "metadata": {},
     "output_type": "display_data"
    },
    {
     "data": {
      "image/png": "[encoded data removed]",
      "text/plain": [
       "<matplotlib.figure.Figure at 0x7f7183779ad0>"
      ]
     },
     "metadata": {},
     "output_type": "display_data"
    }
   ],
   "source": [
    "# Plot Average and Total execution time for the specified\n",
    "# list of kernel functions\n",
    "trace.analysis.functions.plotProfilingStats(\n",
    "    functions = [\n",
    "        'select_task_rq_fair',\n",
    "        'enqueue_task_fair',\n",
    "        'dequeue_task_fair'\n",
    "    ],\n",
    "    metrics = [\n",
    "        'avg',\n",
    "        'time',\n",
    "    ]\n",
    ")"
   ]
  },
  {
   "cell_type": "code",
   "execution_count": 13,
   "metadata": {},
   "outputs": [
    {
     "data": {
      "image/png": "[encoded data removed]",
      "text/plain": [
       "<matplotlib.figure.Figure at 0x7f71824dadd0>"
      ]
     },
     "metadata": {},
     "output_type": "display_data"
    }
   ],
   "source": [
    "# Plot Average execution time for the single specified kernel function\n",
    "trace.analysis.functions.plotProfilingStats(\n",
    "    functions = [\n",
    "            \"scheduler_timeout\",\n",
    "            \"schedtune_dequeue_task\",\n",
    "            \"schedtune_task_boost\",        \n",
    "                ]\n",
    ")"
   ]
  },
  {
   "cell_type": "code",
   "execution_count": null,
   "metadata": {
    "collapsed": true
   },
   "outputs": [],
   "source": []
  }
 ],
 "metadata": {
  "kernelspec": {
   "display_name": "Python 2",
   "language": "python",
   "name": "python2"
  },
  "language_info": {
   "codemirror_mode": {
    "name": "ipython",
    "version": 2
   },
   "file_extension": ".py",
   "mimetype": "text/x-python",
   "name": "python",
   "nbconvert_exporter": "python",
   "pygments_lexer": "ipython2",
   "version": "2.7.12"
  },
  "toc": {
   "toc_cell": false,
   "toc_number_sections": true,
   "toc_threshold": 6,
   "toc_window_display": false
  }
 },
 "nbformat": 4,
 "nbformat_minor": 1
}
