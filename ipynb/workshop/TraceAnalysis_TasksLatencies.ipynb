{
 "cells": [
  {
   "cell_type": "markdown",
   "metadata": {},
   "source": [
    "<font size=\"8\">Trace Analysis Examples</font>\n",
    "<br>\n",
    "<font size=\"5\">Tasks Latencies</font>\n",
    "<br>\n",
    "<hr>"
   ]
  },
  {
   "cell_type": "markdown",
   "metadata": {},
   "source": [
    "# Import Required Modules"
   ]
  },
  {
   "cell_type": "code",
   "execution_count": 1,
   "metadata": {
    "collapsed": true,
    "run_control": {
     "marked": false
    }
   },
   "outputs": [],
   "source": [
    "import logging\n",
    "reload(logging)\n",
    "logging.basicConfig(\n",
    "    format='%(asctime)-9s %(levelname)-8s: %(message)s',\n",
    "    datefmt='%I:%M:%S')\n",
    "\n",
    "# Enable logging at INFO level\n",
    "logging.getLogger().setLevel(logging.INFO)"
   ]
  },
  {
   "cell_type": "code",
   "execution_count": 2,
   "metadata": {
    "collapsed": false,
    "run_control": {
     "marked": false
    }
   },
   "outputs": [],
   "source": [
    "# Generate plots inline\n",
    "%matplotlib inline\n",
    "\n",
    "import json\n",
    "import os\n",
    "\n",
    "# Support to access the remote target\n",
    "import devlib\n",
    "from env import TestEnv\n",
    "\n",
    "# Support for workload generation\n",
    "from wlgen import RTA, Ramp\n",
    "\n",
    "# Support for trace analysis\n",
    "from trace import Trace\n",
    "from trace_analysis import TraceAnalysis\n",
    "\n",
    "# Support for plotting\n",
    "import numpy\n",
    "import pandas as pd\n",
    "import matplotlib.pyplot as plt\n",
    "import trappy"
   ]
  },
  {
   "cell_type": "markdown",
   "metadata": {},
   "source": [
    "# Target Configuration"
   ]
  },
  {
   "cell_type": "code",
   "execution_count": 3,
   "metadata": {
    "collapsed": false,
    "run_control": {
     "marked": false
    }
   },
   "outputs": [],
   "source": [
    "# Setup target configuration\n",
    "my_conf = {\n",
    "\n",
    "    # Target platform and board\n",
    "    \"platform\"    : 'android',\n",
    "    \"board\"       : 'juno',\n",
    "    \"host\"        : '192.168.1.101',\n",
    "\n",
    "    # Folder where all the results will be collected\n",
    "    \"results_dir\" : \"Task_Latencies\",\n",
    "\n",
    "    # Define devlib modules to load\n",
    "    \"exclude_modules\" : [ 'hwmon' ],\n",
    "\n",
    "    # FTrace events to collect for all the tests configuration which have\n",
    "    # the \"ftrace\" flag enabled\n",
    "    \"ftrace\"  : {\n",
    "        \"events\" : [\n",
    "            \"sched_switch\",\n",
    "            \"sched_wakeup\",\n",
    "            \"sched_load_avg_cpu\",\n",
    "            \"sched_load_avg_task\",\n",
    "        ],\n",
    "        \n",
    "         \"buffsize\" : 100 * 1024,\n",
    "    },\n",
    "\n",
    "    # Tools required by the experiments\n",
    "    \"tools\"   : [ 'trace-cmd', 'rt-app' ],\n",
    "    \n",
    "    # Comment this line to calibrate RTApp in your own platform\n",
    "    \"rtapp-calib\" :  {\"0\": 360, \"1\": 142, \"2\": 138, \"3\": 352, \"4\": 352, \"5\": 353},\n",
    "}"
   ]
  },
  {
   "cell_type": "code",
   "execution_count": 4,
   "metadata": {
    "collapsed": false,
    "scrolled": false
   },
   "outputs": [
    {
     "name": "stderr",
     "output_type": "stream",
     "text": [
      "05:26:03  INFO    :         Target - Using base path: /data/lisa_fork/lisa\n",
      "05:26:03  INFO    :         Target - Loading custom (inline) target configuration\n",
      "05:26:03  INFO    :         Target - External tools using:\n",
      "05:26:03  INFO    :         Target -    ANDROID_HOME: /home/zhifei/zyang/android-sdk-linux\n",
      "05:26:03  INFO    :         Target -    CATAPULT_HOME: /data/lisa_fork/lisa/tools/catapult\n",
      "05:26:03  INFO    :         Target - Devlib modules to load: ['bl', 'cpufreq']\n",
      "05:26:03  INFO    :         Target - Connecting Android target [192.168.1.101:5555]\n",
      "05:26:03  INFO    :         Target - Connection settings:\n",
      "05:26:03  INFO    :         Target -    {'device': '192.168.1.101:5555'}\n",
      "05:26:04  INFO    :         Target - Initializing target workdir:\n",
      "05:26:04  INFO    :         Target -    /data/local/tmp/devlib-target\n",
      "05:26:10  INFO    :         Target - Topology:\n",
      "05:26:10  INFO    :         Target -    [[0, 3, 4, 5], [1, 2]]\n",
      "05:26:10  INFO    :       Platform - Loading default EM:\n",
      "05:26:10  INFO    :       Platform -    /data/lisa_fork/lisa/libs/utils/platforms/juno.json\n",
      "05:26:11  INFO    :         FTrace - Enabled tracepoints:\n",
      "05:26:11  INFO    :         FTrace -   sched_switch\n",
      "05:26:11  INFO    :         FTrace -   sched_wakeup\n",
      "05:26:11  INFO    :         FTrace -   sched_load_avg_cpu\n",
      "05:26:11  INFO    :         FTrace -   sched_load_avg_task\n",
      "05:26:11  WARNING :         Target - Using configuration provided RTApp calibration\n",
      "05:26:11  INFO    :         Target - Using RT-App calibration values:\n",
      "05:26:11  INFO    :         Target -    {\"0\": 360, \"1\": 142, \"2\": 138, \"3\": 352, \"4\": 352, \"5\": 353}\n",
      "05:26:11  INFO    :          HWMon - HWMON module not enabled\n",
      "05:26:11  WARNING :          HWMon - Energy sampling disabled by configuration\n",
      "05:26:11  INFO    :        TestEnv - Set results folder to:\n",
      "05:26:11  INFO    :        TestEnv -    /data/lisa_fork/lisa/results/Task_Latencies\n",
      "05:26:11  INFO    :        TestEnv - Experiment results available also in:\n",
      "05:26:11  INFO    :        TestEnv -    /data/lisa_fork/lisa/results_latest\n"
     ]
    }
   ],
   "source": [
    "# Initialize a test environment using:\n",
    "te = TestEnv(my_conf, wipe=False, force_new=True)\n",
    "target = te.target"
   ]
  },
  {
   "cell_type": "markdown",
   "metadata": {},
   "source": [
    "# Workload Execution"
   ]
  },
  {
   "cell_type": "code",
   "execution_count": 5,
   "metadata": {
    "collapsed": true
   },
   "outputs": [],
   "source": [
    "def experiment(te):\n",
    "\n",
    "    # Create and RTApp RAMP task\n",
    "    rtapp = RTA(te.target, 'ramp', calibration=te.calibration())\n",
    "    rtapp.conf(kind='profile',\n",
    "               params={\n",
    "                    'ramp' : Ramp(\n",
    "                        start_pct =  60,\n",
    "                        end_pct   =  20,\n",
    "                        delta_pct =   5,\n",
    "                        time_s    =   0.5).get()\n",
    "              })\n",
    "\n",
    "    # FTrace the execution of this workload\n",
    "    te.ftrace.start()\n",
    "    rtapp.run(out_dir=te.res_dir)\n",
    "    te.ftrace.stop()\n",
    "\n",
    "    # Collect and keep track of the trace\n",
    "    trace_file = os.path.join(te.res_dir, 'trace.dat')\n",
    "    te.ftrace.get_trace(trace_file)\n",
    "    \n",
    "    # Collect and keep track of the Kernel Functions performance data\n",
    "    stats_file = os.path.join(te.res_dir, 'trace.stats')\n",
    "    te.ftrace.get_stats(stats_file)\n",
    "\n",
    "    # Dump platform descriptor\n",
    "    te.platform_dump(te.res_dir)"
   ]
  },
  {
   "cell_type": "code",
   "execution_count": 6,
   "metadata": {
    "collapsed": false
   },
   "outputs": [
    {
     "name": "stderr",
     "output_type": "stream",
     "text": [
      "05:26:12  INFO    :          WlGen - Setup new workload ramp\n",
      "05:26:12  DEBUG   :          WlGen - Setup step [postrun] callback to [__postrun] function\n",
      "05:26:12  DEBUG   :          WlGen - Configuring a profile-based workload...\n",
      "05:26:12  DEBUG   :          RTApp - ref on big cpu: 1\n",
      "05:26:12  INFO    :          RTApp - Workload duration defined by longest task\n",
      "05:26:12  INFO    :          RTApp - Default policy: SCHED_OTHER\n",
      "05:26:12  INFO    :          RTApp - ------------------------\n",
      "05:26:12  INFO    :          RTApp - task [ramp], sched: using default policy\n",
      "05:26:12  INFO    :          RTApp -  | calibration CPU: 1\n",
      "05:26:12  INFO    :          RTApp -  | loops count: 1\n",
      "05:26:12  INFO    :          RTApp - + phase_000001: duration 0.500000 [s] (5 loops)\n",
      "05:26:12  INFO    :          RTApp - |  period   100000 [us], duty_cycle  60 %\n",
      "05:26:12  INFO    :          RTApp - |  run_time  60000 [us], sleep_time  40000 [us]\n",
      "05:26:12  INFO    :          RTApp - + phase_000002: duration 0.500000 [s] (5 loops)\n",
      "05:26:12  INFO    :          RTApp - |  period   100000 [us], duty_cycle  55 %\n",
      "05:26:12  INFO    :          RTApp - |  run_time  55000 [us], sleep_time  45000 [us]\n",
      "05:26:12  INFO    :          RTApp - + phase_000003: duration 0.500000 [s] (5 loops)\n",
      "05:26:12  INFO    :          RTApp - |  period   100000 [us], duty_cycle  50 %\n",
      "05:26:12  INFO    :          RTApp - |  run_time  50000 [us], sleep_time  50000 [us]\n",
      "05:26:12  INFO    :          RTApp - + phase_000004: duration 0.500000 [s] (5 loops)\n",
      "05:26:12  INFO    :          RTApp - |  period   100000 [us], duty_cycle  45 %\n",
      "05:26:12  INFO    :          RTApp - |  run_time  45000 [us], sleep_time  55000 [us]\n",
      "05:26:12  INFO    :          RTApp - + phase_000005: duration 0.500000 [s] (5 loops)\n",
      "05:26:12  INFO    :          RTApp - |  period   100000 [us], duty_cycle  40 %\n",
      "05:26:12  INFO    :          RTApp - |  run_time  40000 [us], sleep_time  60000 [us]\n",
      "05:26:12  INFO    :          RTApp - + phase_000006: duration 0.500000 [s] (5 loops)\n",
      "05:26:12  INFO    :          RTApp - |  period   100000 [us], duty_cycle  35 %\n",
      "05:26:12  INFO    :          RTApp - |  run_time  35000 [us], sleep_time  65000 [us]\n",
      "05:26:12  INFO    :          RTApp - + phase_000007: duration 0.500000 [s] (5 loops)\n",
      "05:26:12  INFO    :          RTApp - |  period   100000 [us], duty_cycle  30 %\n",
      "05:26:12  INFO    :          RTApp - |  run_time  30000 [us], sleep_time  70000 [us]\n",
      "05:26:12  INFO    :          RTApp - + phase_000008: duration 0.500000 [s] (5 loops)\n",
      "05:26:12  INFO    :          RTApp - |  period   100000 [us], duty_cycle  25 %\n",
      "05:26:12  INFO    :          RTApp - |  run_time  25000 [us], sleep_time  75000 [us]\n",
      "05:26:12  INFO    :          RTApp - + phase_000009: duration 0.500000 [s] (5 loops)\n",
      "05:26:12  INFO    :          RTApp - |  period   100000 [us], duty_cycle  20 %\n",
      "05:26:12  INFO    :          RTApp - |  run_time  20000 [us], sleep_time  80000 [us]\n",
      "05:26:12  DEBUG   : adb -s 192.168.1.101:5555 push 'ramp_00.json' '/data/local/tmp/devlib-target'\n",
      "05:26:12  DEBUG   : adb -s 192.168.1.101:5555 shell \"echo 'echo 102400 > '\\\\''/sys/kernel/debug/tracing/buffer_size_kb'\\\\''' | su\"\n",
      "05:26:12  DEBUG   : adb -s 192.168.1.101:5555 shell \"cat '/sys/kernel/debug/tracing/buffer_size_kb'\"\n",
      "05:26:12  DEBUG   : adb -s 192.168.1.101:5555 shell \"echo '/data/local/tmp/bin/trace-cmd reset' | su\"\n",
      "05:26:13  DEBUG   : adb -s 192.168.1.101:5555 shell \"echo '/data/local/tmp/bin/trace-cmd start -e sched_switch -e sched_wakeup -e sched_load_avg_cpu -e sched_load_avg_task' | su\"\n",
      "05:26:14  DEBUG   : adb -s 192.168.1.101:5555 shell \"echo 'echo TRACE_MARKER_START > '\\\\''/sys/kernel/debug/tracing/trace_marker'\\\\''' | su\"\n",
      "05:26:14  DEBUG   : Trace CPUFreq frequencies\n",
      "05:26:14  DEBUG   : adb -s 192.168.1.101:5555 shell \"echo '/data/local/tmp/bin/shutils cpufreq_trace_all_frequencies' | su\"\n",
      "05:26:14  INFO    :          WlGen - Workload execution START:\n",
      "05:26:14  INFO    :          WlGen -    /data/local/tmp/bin/rt-app /data/local/tmp/devlib-target/ramp_00.json 2>&1\n",
      "05:26:14  DEBUG   : adb -s 192.168.1.101:5555 shell \"/data/local/tmp/bin/rt-app /data/local/tmp/devlib-target/ramp_00.json 2>&1\"\n",
      "05:26:19  DEBUG   :          WlGen - Callback [postrun]...\n",
      "05:26:19  DEBUG   :          RTApp - Pulling logfiles to [/data/lisa_fork/lisa/results/Task_Latencies]...\n",
      "05:26:19  DEBUG   : adb -s 192.168.1.101:5555 shell ls '/data/local/tmp/devlib-target/*ramp*.log'\n",
      "05:26:19  DEBUG   : adb -s 192.168.1.101:5555 pull '/data/local/tmp/devlib-target/rt-app-ramp-0.log' '/data/lisa_fork/lisa/results/Task_Latencies'\n",
      "05:26:19  DEBUG   :          RTApp - Pulling JSON to [/data/lisa_fork/lisa/results/Task_Latencies]...\n",
      "05:26:19  DEBUG   : adb -s 192.168.1.101:5555 pull '/data/local/tmp/devlib-target/ramp_00.json' '/data/lisa_fork/lisa/results/Task_Latencies'\n",
      "05:26:19  DEBUG   :          RTApp - Saving output on [/data/lisa_fork/lisa/results/Task_Latencies/output.log]...\n",
      "05:26:19  DEBUG   :          WlGen - Workload execution COMPLETED\n",
      "05:26:19  DEBUG   : Trace CPUFreq frequencies\n",
      "05:26:19  DEBUG   : adb -s 192.168.1.101:5555 shell \"echo '/data/local/tmp/bin/shutils cpufreq_trace_all_frequencies' | su\"\n",
      "05:26:19  DEBUG   : adb -s 192.168.1.101:5555 shell \"echo 'echo TRACE_MARKER_STOP > '\\\\''/sys/kernel/debug/tracing/trace_marker'\\\\''' | su\"\n",
      "05:26:19  DEBUG   : adb -s 192.168.1.101:5555 shell \"echo '/data/local/tmp/bin/trace-cmd stop' | su\"\n",
      "05:26:19  DEBUG   : adb -s 192.168.1.101:5555 shell \"echo '/data/local/tmp/bin/trace-cmd extract -o /data/local/tmp/devlib-target/trace.dat' | su\"\n",
      "05:26:22  DEBUG   : adb -s 192.168.1.101:5555 pull '/data/local/tmp/devlib-target/trace.dat' '/data/lisa_fork/lisa/results/Task_Latencies/trace.dat'\n",
      "05:26:23  DEBUG   :       Platform - Dump platform descriptor in [/data/lisa_fork/lisa/results/Task_Latencies/platform.json]\n"
     ]
    }
   ],
   "source": [
    "experiment(te)"
   ]
  },
  {
   "cell_type": "markdown",
   "metadata": {},
   "source": [
    "# Parse Trace and Profiling Data"
   ]
  },
  {
   "cell_type": "code",
   "execution_count": 7,
   "metadata": {
    "collapsed": false,
    "run_control": {
     "marked": false
    }
   },
   "outputs": [
    {
     "name": "stderr",
     "output_type": "stream",
     "text": [
      "05:26:23  INFO    : Content of the output folder /data/lisa_fork/lisa/results/Task_Latencies\n"
     ]
    },
    {
     "name": "stdout",
     "output_type": "stream",
     "text": [
      "\u001b[01;34m/data/lisa_fork/lisa/results/Task_Latencies\u001b[00m\r\n",
      "├── output.log\r\n",
      "├── platform.json\r\n",
      "├── ramp_00.json\r\n",
      "├── rt-app-ramp-0.log\r\n",
      "├── rt-app-ramp_1-0.log\r\n",
      "├── rt-app-ramp_1-1.log\r\n",
      "├── rt-app-ramp_2-2.log\r\n",
      "├── \u001b[01;35mtask_latencies_1552_1552__ramp,_rt-app.png\u001b[00m\r\n",
      "├── trace.dat\r\n",
      "├── trace.raw.txt\r\n",
      "└── trace.txt\r\n",
      "\r\n",
      "0 directories, 11 files\r\n"
     ]
    }
   ],
   "source": [
    "# Base folder where tests folder are located\n",
    "res_dir = te.res_dir\n",
    "logging.info('Content of the output folder %s', res_dir)\n",
    "!tree {res_dir}"
   ]
  },
  {
   "cell_type": "code",
   "execution_count": 8,
   "metadata": {
    "collapsed": false,
    "run_control": {
     "marked": false
    }
   },
   "outputs": [
    {
     "name": "stderr",
     "output_type": "stream",
     "text": [
      "05:26:23  INFO    : LITTLE cluster max capacity: 447\n"
     ]
    }
   ],
   "source": [
    "with open(os.path.join(res_dir, 'platform.json'), 'r') as fh:\n",
    "    platform = json.load(fh)\n",
    "#print json.dumps(platform, indent=4)\n",
    "logging.info('LITTLE cluster max capacity: %d',\n",
    "             platform['nrg_model']['little']['cpu']['cap_max'])"
   ]
  },
  {
   "cell_type": "code",
   "execution_count": 9,
   "metadata": {
    "collapsed": false,
    "run_control": {
     "marked": false
    }
   },
   "outputs": [
    {
     "name": "stderr",
     "output_type": "stream",
     "text": [
      "05:26:23  DEBUG   : Loading [sched] events from trace in [/data/lisa_fork/lisa/results/Task_Latencies/trace.dat]...\n",
      "05:26:23  DEBUG   : Parsing events: ['sched_switch', 'sched_wakeup', 'sched_load_avg_cpu', 'sched_load_avg_task']\n",
      "05:26:23  INFO    : Parsing FTrace format...\n",
      "05:26:23  DEBUG   : Events found on trace:\n",
      "05:26:23  DEBUG   :  - sched_load_avg_cpu\n",
      "05:26:23  DEBUG   :  - sched_load_avg_task\n",
      "05:26:23  DEBUG   :  - sched_switch\n",
      "05:26:23  DEBUG   :  - sched_wakeup\n",
      "05:26:23  DEBUG   : Lookup dataset for tasks...\n",
      "05:26:23  INFO    : Collected events spans a 5.350 [s] time interval\n",
      "05:26:23  INFO    : Set plots time range to (0.000000, 5.350288)[s]\n",
      "05:26:23  DEBUG   : Registering [<trace.Trace object at 0x7fd9fc028690>] local data frames\n",
      "05:26:23  DEBUG   :    functions_stats\n",
      "05:26:23  DEBUG   :    trace_event\n",
      "05:26:23  DEBUG   :       Analysis - Analysis: /data/lisa_fork/lisa/libs/utils/analysis\n",
      "05:26:23  DEBUG   :       Analysis - Syspath: ['/data/lisa_fork/lisa/libs/utils/analysis', '', '/data/lisa_fork/lisa/libs/bart', '/data/lisa_fork/lisa/libs/trappy', '/data/lisa_fork/lisa/libs/devlib', '/data/lisa_fork/lisa/libs/wlgen', '/data/lisa_fork/lisa/libs/utils', '/data/lisa_fork/lisa/ipynb/workshop', '/usr/lib/python2.7', '/usr/lib/python2.7/plat-x86_64-linux-gnu', '/usr/lib/python2.7/lib-tk', '/usr/lib/python2.7/lib-old', '/usr/lib/python2.7/lib-dynload', '/usr/local/lib/python2.7/dist-packages', '/usr/lib/python2.7/dist-packages', '/usr/local/lib/python2.7/dist-packages/IPython/extensions', '/home/zhifei/.ipython']\n",
      "05:26:23  INFO    : Registering trace analysis modules:\n",
      "05:26:23  DEBUG   :       Analysis - Filename: tasks_analysis\n",
      "05:26:23  DEBUG   : Registering [<tasks_analysis.TasksAnalysis object at 0x7fd9f6f5e410>] local data frames\n",
      "05:26:23  DEBUG   :    rt_tasks\n",
      "05:26:23  DEBUG   :    top_big_tasks\n",
      "05:26:23  DEBUG   :    top_wakeup_tasks\n",
      "05:26:23  DEBUG   :    trace_event\n",
      "05:26:23  INFO    :    tasks\n",
      "05:26:23  DEBUG   :       Analysis - Filename: idle_analysis\n",
      "05:26:23  DEBUG   : Registering [<idle_analysis.IdleAnalysis object at 0x7fd9f6f5e8d0>] local data frames\n",
      "05:26:23  DEBUG   :    cluster_idle_state_residency\n",
      "05:26:23  DEBUG   :    cpu_idle_state_residency\n",
      "05:26:23  DEBUG   :    trace_event\n",
      "05:26:23  INFO    :    idle\n",
      "05:26:23  DEBUG   :       Analysis - Filename: latency_analysis\n",
      "05:26:23  DEBUG   : Registering [<latency_analysis.LatencyAnalysis object at 0x7fd9f6f5ee90>] local data frames\n",
      "05:26:23  DEBUG   :    latency_df\n",
      "05:26:23  DEBUG   :    latency_preemption_df\n",
      "05:26:23  DEBUG   :    latency_wakeup_df\n",
      "05:26:23  DEBUG   :    trace_event\n",
      "05:26:23  INFO    :    latency\n",
      "05:26:23  DEBUG   :       Analysis - Filename: functions_analysis\n",
      "05:26:23  DEBUG   : Registering [<functions_analysis.FunctionsAnalysis object at 0x7fd9f6db0190>] local data frames\n",
      "05:26:23  DEBUG   :    trace_event\n",
      "05:26:23  INFO    :    functions\n",
      "05:26:23  DEBUG   :       Analysis - Filename: frequency_analysis\n",
      "05:26:23  DEBUG   : Registering [<frequency_analysis.FrequencyAnalysis object at 0x7fd9f6db0410>] local data frames\n",
      "05:26:23  DEBUG   :    cluster_frequency_residency\n",
      "05:26:23  DEBUG   :    cpu_frequency_residency\n",
      "05:26:23  DEBUG   :    trace_event\n",
      "05:26:23  INFO    :    frequency\n",
      "05:26:23  DEBUG   :       Analysis - Filename: status_analysis\n",
      "05:26:23  DEBUG   : Registering [<status_analysis.StatusAnalysis object at 0x7fd9f6db0610>] local data frames\n",
      "05:26:23  DEBUG   :    overutilized\n",
      "05:26:23  DEBUG   :    trace_event\n",
      "05:26:23  INFO    :    status\n",
      "05:26:23  DEBUG   :       Analysis - Filename: eas_analysis\n",
      "05:26:23  DEBUG   : Registering [<eas_analysis.EasAnalysis object at 0x7fd9f6db0a50>] local data frames\n",
      "05:26:23  DEBUG   :    trace_event\n",
      "05:26:23  INFO    :    eas\n",
      "05:26:23  DEBUG   :       Analysis - Filename: cpus_analysis\n",
      "05:26:23  DEBUG   : Registering [<cpus_analysis.CpusAnalysis object at 0x7fd9f6db0b90>] local data frames\n",
      "05:26:23  DEBUG   :    context_switches\n",
      "05:26:23  DEBUG   :    trace_event\n",
      "05:26:23  INFO    :    cpus\n"
     ]
    }
   ],
   "source": [
    "trace_file = os.path.join(res_dir, 'trace.dat')\n",
    "trace = Trace(platform, trace_file, events=my_conf['ftrace']['events'])"
   ]
  },
  {
   "cell_type": "markdown",
   "metadata": {
    "collapsed": true
   },
   "source": [
    "# Trace visualization"
   ]
  },
  {
   "cell_type": "code",
   "execution_count": 10,
   "metadata": {
    "collapsed": false,
    "run_control": {
     "marked": false
    }
   },
   "outputs": [
    {
     "data": {
      "text/html": [
       "<style>\n",
       "/*\n",
       " *    Copyright 2015-2016 ARM Limited\n",
       " *\n",
       " * Licensed under the Apache License, Version 2.0 (the \"License\");\n",
       " * you may not use this file except in compliance with the License.\n",
       " * You may obtain a copy of the License at\n",
       " *\n",
       " *     http://www.apache.org/licenses/LICENSE-2.0\n",
       " *\n",
       " * Unless required by applicable law or agreed to in writing, software\n",
       " * distributed under the License is distributed on an \"AS IS\" BASIS,\n",
       " * WITHOUT WARRANTIES OR CONDITIONS OF ANY KIND, either express or implied.\n",
       " * See the License for the specific language governing permissions and\n",
       " * limitations under the License.\n",
       " */\n",
       "\n",
       ".d3-tip {\n",
       "  line-height: 1;\n",
       "  padding: 12px;\n",
       "  background: rgba(0, 0, 0, 0.6);\n",
       "  color: #fff;\n",
       "  border-radius: 2px;\n",
       "  position: absolute !important;\n",
       "  z-index: 99999;\n",
       "}\n",
       "\n",
       ".d3-tip:after {\n",
       "  box-sizing: border-box;\n",
       "  pointer-events: none;\n",
       "  display: inline;\n",
       "  font-size: 10px;\n",
       "  width: 100%;\n",
       "  line-height: 1;\n",
       "  color: rgba(0, 0, 0, 0.6);\n",
       "  content: \"\\25BC\";\n",
       "  position: absolute !important;\n",
       "  z-index: 99999;\n",
       "  text-align: center;\n",
       "}\n",
       "\n",
       ".d3-tip.n:after {\n",
       "  margin: -1px 0 0 0;\n",
       "  top: 100%;\n",
       "  left: 0;\n",
       "}\n",
       "\n",
       ".contextRect {\n",
       "  fill: lightgray;\n",
       "  fill-opacity: 0.5;\n",
       "  stroke: black;\n",
       "  stroke-width: 1;\n",
       "  stroke-opacity: 1;\n",
       "  pointer-events: none;\n",
       "  shape-rendering: crispEdges;\n",
       "}\n",
       "\n",
       ".chart {\n",
       "  shape-rendering: crispEdges;\n",
       "}\n",
       "\n",
       ".mini text {\n",
       "  font: 9px sans-serif;\n",
       "}\n",
       "\n",
       ".main text {\n",
       "  font: 12px sans-serif;\n",
       "}\n",
       "\n",
       ".axis line, .axis path {\n",
       "  stroke: black;\n",
       "}\n",
       "\n",
       ".miniItem {\n",
       "  stroke-width: 8;\n",
       "}\n",
       "\n",
       ".brush .extent {\n",
       "\n",
       "  stroke: #000;\n",
       "  fill-opacity: .125;\n",
       "  shape-rendering: crispEdges;\n",
       "}\n",
       "</style>\n",
       "<div id=\"fig_e31bb70f16ee46de8e4a08d38a46a509\" class=\"eventplot\">\n",
       "<!-- TRAPPY_PUBLISH_SOURCE_LIB = \"https://cdnjs.cloudflare.com/ajax/libs/d3/3.5.6/d3.min.js\" -->\n",
       "<!-- TRAPPY_PUBLISH_SOURCE_LIB = \"http://labratrevenge.com/d3-tip/javascripts/d3.tip.v0.6.3.js\" -->\n",
       "\n",
       "        <script>\n",
       "            /* TRAPPY_PUBLISH_IMPORT = \"plotter/js/EventPlot.js\" */\n",
       "            /* TRAPPY_PUBLISH_REMOVE_START */\n",
       "            var req = require.config( {\n",
       "\n",
       "                paths: {\n",
       "\n",
       "                    \"EventPlot\": '/nbextensions/plotter_scripts/EventPlot/EventPlot',\n",
       "                    \"d3-tip\": '/nbextensions/plotter_scripts/EventPlot/d3.tip.v0.6.3',\n",
       "                    \"d3-plotter\": '/nbextensions/plotter_scripts/EventPlot/d3.min'\n",
       "                },\n",
       "                waitSeconds: 15,\n",
       "                shim: {\n",
       "                    \"d3-plotter\" : {\n",
       "                        \"exports\" : \"d3\"\n",
       "                    },\n",
       "                    \"d3-tip\": [\"d3-plotter\"],\n",
       "                    \"EventPlot\": {\n",
       "\n",
       "                        \"deps\": [\"d3-tip\", \"d3-plotter\" ],\n",
       "                        \"exports\":  \"EventPlot\"\n",
       "                    }\n",
       "                }\n",
       "            });\n",
       "            /* TRAPPY_PUBLISH_REMOVE_STOP */\n",
       "            \n",
       "        req([\"require\", \"EventPlot\"], function() { /* TRAPPY_PUBLISH_REMOVE_LINE */\n",
       "            EventPlot.generate('fig_e31bb70f16ee46de8e4a08d38a46a509', '/nbextensions/', {\"lanes\": [{\"id\": 0, \"label\": \"CPU :0\"}, {\"id\": 1, \"label\": \"CPU :1\"}, {\"id\": 2, \"label\": \"CPU :2\"}, {\"id\": 3, \"label\": \"CPU :3\"}, {\"id\": 4, \"label\": \"CPU :4\"}, {\"id\": 5, \"label\": \"CPU :5\"}], \"colorMap\": null, \"keys\": [\"rt-app-3083\", \"ramp-3083\", \"sh-3073\", \"sh-3098\", \"sh-3102\", \"sh-3092\", \"sh-3077\", \"sh-3078\", \"sh-3093\", \"sh-3086\", \"adbd-3070\", \"adbd-3095\", \"adbd-3080\", \"adbd-3074\", \"sh-3099\", \"shutils-3079\", \"sh-3084\", \"adbd-3099\", \"shutils-3094\", \"sh-3089\", \"adbd-3089\", \"sh-3074\", \"sh-3082\", \"sh-3080\", \"adbd-3084\", \"sh-3072\", \"sh-3068\", \"sh-3097\", \"sh-3076\", \"sh-3101\", \"sh-3065\", \"shutils-3093\", \"shutils-3078\", \"sh-3091\", \"adbd-3087\", \"rt-app-3082\", \"sh-3070\", \"sh-3095\", \"netd-2958\", \"adbd-173\", \"adbd-3088\", \"sh-3103\", \"kworker/1:1-41\", \"kworker/3:1-40\", \"<-host-2888\", \"jbd2/sda5-8-134\", \"shell srvc 3080-3081\", \"shell srvc 3074-3075\", \"shell srvc 3070-3071\", \"service 33-3088\", \"->host-2887\", \"shell srvc 3065-3066\", \"adbd-3085\", \"service 33-3087\", \"shell srvc 3089-3090\", \"shell srvc 3095-3096\", \"kworker/2:1-33\", \"kworker/4:1-39\", \"shell srvc 3084-3085\", \"kworker/0:2-1699\", \"kworker/u12:1-106\", \"kschedfreq:0-2405\", \"adbd-3090\", \"adbd-3100\", \"adbd-3075\", \"ksoftirqd/1-12\", \"adbd-3081\", \"kschedfreq:1-2406\", \"usb-storage-125\", \"adbd-3071\", \"shell srvc 3099-3100\", \"adbd-3096\", \"ksoftirqd/2-16\", \"ksoftirqd/0-3\", \"rcu_preempt-7\", \"rcu_sched-8\", \"kworker/1:1H-157\"], \"stride\": false, \"showSummary\": true, \"xDomain\": [1.9999988580821082e-06, 5.3502879999996367], \"data\": {\"kworker/1:1H-157\": {\"1\": [[0.45809399999961897, 0.45810299999902782], [0.46332299999994575, 0.46332900000015798], [0.46622600000046077, 0.46623199999885401]]}, \"->host-2887\": {\"1\": [[0.00021999999989930075, 0.00035699999898497481], [0.0021739999992860248, 0.002263999998831423], [0.0040349999999307329, 0.0040399999998044223], [0.0040539999990869546, 0.0041069999988394557], [0.0050400000000081491, 0.0050439999995433027], [0.0050539999992906814, 0.0051009999988309573], [0.0069079999993846286, 0.0069119999989197822], [0.046947999999247259, 0.046953999999459484], [0.048450999998749467, 0.048528999999689404], [0.051138999999238877, 0.051149999999324791], [0.051250999998956104, 0.051352999998925952], [0.079552999999577878, 0.079679000000396627], [0.080645000000004075, 0.080648999999539228], [0.080660999999963678, 0.080706999999165419], [0.081255999999484629, 0.081260999999358319], [0.11917700000049081, 0.11918899999909627], [0.12113399999907415, 0.1212070000001404], [0.12241600000015751, 0.1224739999997837], [0.17158299999937299, 0.17159299999912037], [0.17162400000052003, 0.17174599999998463], [0.17419499999959953, 0.17436900000029709], [0.17507300000033865, 0.17508599999928265], [0.21523200000046927, 0.21524099999987811], [0.21669499999916297, 0.21679899999980989], [0.21786799999972573, 0.21788500000002387], [0.21790599999985716, 0.21795699999893259], [0.22890000000006694, 0.2290130000001227], [0.22909400000025926, 0.22915399999874353], [0.23049600000013015, 0.23050899999907415], [0.23062500000014552, 0.23073999999905936], [0.23183500000050117, 0.23183900000003632], [4.729497000000265, 4.7296740000001591], [4.7316819999996369, 4.7319439999992028], [4.7339389999997366, 4.7339489999994839], [4.7339749999991909, 4.7340729999996256], [4.7350329999990208, 4.7350420000002487], [4.7750159999995958, 4.7750240000004851], [4.7769479999988107, 4.7769649999991088], [4.7769919999991544, 4.7770989999989979], [4.7837449999988166, 4.7838019999999233], [4.8082549999999173, 4.8082589999994525], [4.8082720000002155, 4.8083239999996295], [4.8087469999991299, 4.8087510000004841], [5.2356159999999363, 5.2356820000004518], [5.2360399999997753, 5.2361220000002504], [5.2786020000003191, 5.2787040000002889]], \"2\": [[0.17005599999902188, 0.17019499999878462], [0.17076199999974051, 0.17096399999900314], [4.8056770000002871, 4.8057379999991099], [4.8068569999995816, 4.8068650000004709], [4.807517999999618, 4.8076039999996283], [4.8472779999992781, 4.8473089999988588], [4.847552999999607, 4.8477050000001327], [4.8491849999991246, 4.8493729999991046], [4.8494019999998272, 4.8494989999999234], [4.8511029999990569, 4.8511199999993551], [4.8915909999996074, 4.8917540000002191], [4.8917929999988701, 4.8919559999994817], [4.8932059999988269, 4.8932239999994636], [4.9312579999987065, 4.9313389999988431], [4.9315119999992021, 4.9315690000003087], [4.9325250000001688, 4.932528999999704], [4.9327359999988403, 4.9331939999992755], [4.9349579999998241, 4.9349650000003749], [4.9754579999989801, 4.9754699999994045], [4.9756529999995109, 4.9757449999997334], [4.9759809999995923, 4.9760219999989204], [4.9775959999988117, 4.9776000000001659], [5.0153510000000097, 5.01535899999908], [5.0156749999987369, 5.0158169999995152], [5.0179549999993469, 5.0180509999991045], [5.018062999999529, 5.0181080000002112], [5.0218580000000657, 5.0218669999994745], [5.0595510000002832, 5.0597129999987374], [5.0597419999994599, 5.0598489999993035], [5.0613030000004073, 5.0613119999998162], [5.0994169999994483, 5.0994959999989078], [5.0996699999996054, 5.099899999999252], [5.1029209999996965, 5.1029299999991053], [5.1437819999991916, 5.143938999999591], [5.1439709999995102, 5.1439900000004855], [5.1441830000003392, 5.1442389999992884], [5.1460699999988719, 5.1460749999987456], [5.1833069999993313, 5.1833150000002206], [5.1855579999992187, 5.1856790000001638], [5.1867569999994885, 5.1868149999991147], [5.2363900000000285, 5.2363939999995637], [5.2364059999999881, 5.2364619999989372], [5.2372450000002573, 5.237250000000131], [5.2372589999995398, 5.2372980000000098], [5.2465879999999743, 5.246592999999848], [5.2478229999996984, 5.2478869999995368], [5.2486829999998008, 5.248686999999336], [5.2487239999991289, 5.2487639999999374], [5.2794809999995778, 5.2794849999991129], [5.2794969999995374, 5.2795429999987391], [5.2800960000004125, 5.2800999999999476], [5.3191079999996873, 5.3191269999988435], [5.3207019999990735, 5.3208020000001852], [5.3227389999992738, 5.3228129999988596]]}, \"adbd-3081\": {\"2\": [[0.21670599999924889, 0.21675099999993108]]}, \"adbd-3087\": {\"1\": [[4.8475089999992633, 4.8479939999997441]]}, \"adbd-3084\": {\"0\": [[4.775763999999981, 4.7769410000000789]], \"4\": [[4.7753479999992123, 4.775722999998834]]}, \"adbd-3085\": {\"4\": [[4.7768479999995179, 4.7769200000002456], [4.7769549999993615, 4.7770199999995384], [4.7770519999994576, 4.7771519999987504]]}, \"ksoftirqd/1-12\": {\"1\": [[0.014132000000245171, 0.014153000000078464], [0.45803700000033132, 0.45809399999961897], [0.45812800000021525, 0.45813699999962409], [0.46328499999981432, 0.46332299999994575], [0.46339999999872816, 0.46340599999894039], [0.46620599999914702, 0.46622600000046077], [0.46626999999898544, 0.46627900000021327], [5.2501979999997275, 5.2502499999991414], [5.2902119999998831, 5.2902309999990393], [5.3302430000003369, 5.3302640000001702]]}, \"adbd-3088\": {\"0\": [[5.0155560000002879, 5.0158620000001974]]}, \"adbd-3089\": {\"0\": [[5.1837429999995948, 5.1862089999995078]]}, \"shell srvc 3099-3100\": {\"1\": [[5.3227279999991879, 5.3227669999996579]]}, \"adbd-3080\": {\"0\": [[0.21559200000046985, 0.2262959999989107]]}, \"ksoftirqd/0-3\": {\"0\": [[0.0021679999990737997, 0.0021849999993719393], [5.322212999999465, 5.3222399999995105]]}, \"service 33-3088\": {\"1\": [[5.0179559999996854, 5.0180060000002413], [5.0180820000005042, 5.0180989999989833], [5.0595119999998133, 5.0596079999995709], [5.0597820000002685, 5.0598119999995106], [5.0994040000005043, 5.0994879999998375], [5.0995719999991707, 5.09958000000006], [5.1437409999998636, 5.1439979999995558]]}, \"sh-3074\": {\"0\": [[0.12620500000048196, 0.12694399999963935], [0.1269720000000234, 0.13108699999975215]], \"1\": [[0.13496499999928346, 0.13501199999882374], [0.16962899999998626, 0.17015799999899173], [0.17018599999937578, 0.17039199999999255]]}, \"sh-3077\": {\"0\": [[0.13108699999975215, 0.15039599999909115], [0.16869899999983318, 0.16952099999980419]]}, \"sh-3076\": {\"2\": [[0.13424699999995937, 0.13496899999881862]]}, \"kworker/1:1-41\": {\"1\": [[0.13439499999913096, 0.13440499999887834], [0.41423299999951269, 0.41430399999990186], [0.41433899999901769, 0.41448899999886635], [0.6823050000002695, 0.68231600000035542], [1.4142809999993915, 1.4144440000000031], [2.0222830000002432, 2.0223819999991974], [2.4142789999987144, 2.4144419999993261], [3.4143160000003263, 3.4145179999995889], [4.4142780000001949, 4.4144409999989875], [4.7342459999999846, 4.7343729999993229]]}, \"sh-3070\": {\"2\": [[0.059825999998793122, 0.059871999999813852], [0.078720999999859487, 0.079378999998880317]]}, \"sh-3073\": {\"0\": [[0.058651999999710824, 0.078658999998879153]]}, \"sh-3072\": {\"2\": [[0.058350999999674968, 0.059825999998793122], [0.059871999999813852, 0.059881999999561231]]}, \"sh-3097\": {\"1\": [[5.2581470000004629, 5.2588849999992817]]}, \"netd-2958\": {\"3\": [[2.8714619999991555, 2.8718749999989086]]}, \"kworker/u12:1-106\": {\"1\": [[0.0021629999992001103, 0.0021739999992860248], [0.13421899999957532, 0.13439499999913096], [0.21820699999989301, 0.21822299999985262], [0.51419799999894167, 0.51420800000050804], [0.68229099999916798, 0.6823050000002695], [1.4142629999987548, 1.4142809999993915], [2.0222649999996065, 2.0222830000002432], [2.4142620000002353, 2.4142789999987144], [2.8782869999995455, 2.878300999998828], [3.4143000000003667, 3.4143160000003263], [4.4142609999998967, 4.4142780000001949], [4.7342179999996006, 4.7342459999999846]], \"2\": [[0.11839700000018638, 0.11842900000010559], [0.4142809999993915, 0.41434300000037183], [4.8462839999992866, 4.8463169999995444], [4.9744950000003882, 4.9745320000001811], [5.0983400000004622, 5.0983589999996184], [5.2021409999997559, 5.2021540000005189], [5.2381629999999859, 5.2382859999997891], [5.3023130000001402, 5.3023249999987456]]}, \"kschedfreq:0-2405\": {\"0\": [[0.0061359999999694992, 0.0061690000002272427], [0.0062020000004849862, 0.0062089999992167577], [0.0077760000003763707, 0.0078020000000833534], [0.007836999999199179, 0.0078610000000480795], [0.0091689999990194337, 0.0092050000002927845], [0.010632999999870663, 0.010645000000295113], [0.010677000000214321, 0.010688000000300235], [4.7754169999989244, 4.7754549999990559], [4.7769410000000789, 4.7769799999987299], [4.7770069999987754, 4.7770369999998366], [4.7781649999997171, 4.7781880000002275], [4.7783500000005006, 4.7783999999992375], [4.7798999999995431, 4.7799199999990378], [4.779951999998957, 4.7799679999989166], [4.8064209999993182, 4.8064359999989392], [4.8301529999989725, 4.8301899999987654], [4.8316329999997834, 4.8316569999988133], [4.831689999999071, 4.8317109999989043], [4.8341609999988577, 4.8341980000004696], [4.8357519999990473, 4.8357679999990069], [4.8357999999989261, 4.8358119999993505], [4.8474679999999353, 4.8475189999990107], [4.8860910000003059, 4.8861909999995987], [4.887801999999283, 4.8878519999998389], [4.8878709999989951, 4.8879049999995914], [4.8892159999995783, 4.8892589999995835], [4.891287000000375, 4.8913250000005064], [4.8913510000002134, 4.891405999998824], [4.9680559999997058, 4.9681179999988672], [4.969543999999587, 4.9695709999996325], [4.9696039999998902, 4.9696249999997235], [4.9701939999995375, 4.9702099999994971], [4.9709380000003875, 4.9709739999998419], [4.9724019999994198, 4.9724139999998442], [4.9724459999997634, 4.9724559999995108], [5.015531999999439, 5.0155560000002879], [5.0226060000004509, 5.0226540000003297], [5.0242429999998421, 5.0242889999990439], [5.0243069999996806, 5.0243360000004031], [5.1264219999993657, 5.1264539999992849], [5.1862089999995078, 5.1862839999994321], [5.1877089999998134, 5.1877309999999852], [5.1877609999992274, 5.1877779999995255], [5.190177999998923, 5.1901899999993475], [5.2296200000000681, 5.2296409999999014], [5.2343459999992774, 5.234361999999237], [5.2378929999995307, 5.237927000000127], [5.2381889999996929, 5.2382020000004559], [5.2394249999997555, 5.239449999999124], [5.2394829999993817, 5.2395070000002306], [5.240814999999202, 5.2408489999997983], [5.2423550000003161, 5.2423679999992601], [5.2423989999988407, 5.2424099999989267]]}, \"sh-3093\": {\"0\": [[5.2164009999996779, 5.2296200000000681]]}, \"sh-3078\": {\"0\": [[0.15039599999909115, 0.16368399999919347]]}, \"kworker/0:2-1699\": {\"0\": [[0.0021849999993719393, 0.0023189999992609955], [0.12617099999988568, 0.12620500000048196], [0.12694399999963935, 0.1269720000000234], [1.1262310000001889, 1.1262599999990925], [1.12693599999875, 1.1269589999992604], [2.1262339999993856, 2.1262539999988803], [2.1269329999995534, 2.126948999999513], [3.1262279999991733, 3.1263060000001133], [3.1269830000001093, 3.1269990000000689], [4.1262210000004416, 4.1262399999995978], [4.1269199999987904, 4.126933999999892], [4.9681179999988672, 4.9681710000004387], [5.1264539999992849, 5.1265239999993355], [5.1271820000001753, 5.1272189999999682], [5.1901899999993475, 5.1902379999992263], [5.1904240000003483, 5.1904529999992519], [5.1906419999995705, 5.1906589999998687]]}, \"service 33-3087\": {\"1\": [[4.8492169999990438, 4.8493079999989277], [4.8494470000005094, 4.8494829999999638], [4.8916019999996934, 4.8916919999992388], [4.89183199999934, 4.8918689999991329], [4.931257000000187, 4.9313270000002376], [4.9313869999987219, 4.9314229999999952], [4.932622000000265, 4.9326299999993353]], \"2\": [[4.9754940000002534, 4.9756529999995109], [4.9757449999997334, 4.9757730000001175], [4.9759269999995013, 4.9759809999995923]]}, \"rcu_preempt-7\": {\"1\": [[0.002263999998831423, 0.0022749999989173375], [0.010126999999556574, 0.010136999999303953], [0.014153000000078464, 0.014165000000502914], [0.018129000000044471, 0.018136999999114778], [0.022296999999525724, 0.022306999999273103], [0.67826299999978801, 0.67828100000042468], [0.6822809999994206, 0.68229099999916798], [0.68622099999993225, 0.68623099999967963], [0.69026699999994889, 0.6902749999990192], [0.69422800000029383, 0.69424099999923783], [2.8742799999999988, 2.8742929999989428], [4.9341430000004038, 4.9341519999998127], [4.9381369999991875, 4.9381479999992735], [4.9422089999989112, 4.942218000000139], [4.9703549999994721, 4.9703799999988405], [5.1021440000004077, 5.1021529999998165], [5.1061529999988124, 5.1061659999995754], [5.1102069999997184, 5.1102159999991272], [5.1461339999987104, 5.1461419999995996], [5.1502069999987725, 5.1502179999988584], [5.1542140000001382, 5.154222999999547], [5.1861449999996694, 5.1861539999990782], [5.1901309999993828, 5.1901440000001458], [5.1903129999991506, 5.1903279999987717], [5.1941379999989294, 5.1941489999990154], [5.2022809999998572, 5.2022909999996045], [5.2061359999988781, 5.2061419999990903], [5.2102070000000822, 5.210215999999491], [5.2142079999994166, 5.2142160000003059], [5.2182039999988774, 5.2182179999999789], [5.222208999999566, 5.2222179999989748], [5.2262040000005072, 5.2262129999999161], [5.2302079999990383, 5.2302209999998013], [5.2342069999995147, 5.2342159999989235], [5.2381329999989248, 5.2381409999998141], [5.242127999999866, 5.2421369999992748], [5.2461270000003424, 5.2461359999997512], [5.2502499999991414, 5.2502759999988484], [5.2541280000004917, 5.254133999998885], [5.2541479999999865, 5.2541569999993953], [5.2541659999988042, 5.2541789999995672], [5.2581279999994877, 5.2581470000004629], [5.2621289999988221, 5.2621359999993729], [5.2621650000000955, 5.2621719999988272], [5.2662139999993087, 5.2662229999987176], [5.2702319999989413, 5.2702410000001692], [5.2742729999990843, 5.2742820000003121], [5.2781329999997979, 5.2781429999995453], [5.2821359999998094, 5.2821449999992183], [5.2861300000004121, 5.2861379999994824], [5.2902309999990393, 5.2902450000001409], [5.2942949999996927, 5.2943059999997786], [5.298291999999492, 5.2983009999989008], [5.3022909999999683, 5.3023020000000542]], \"2\": [[0.022321999998894171, 0.022332000000460539], [0.030265999999755877, 0.030275999999503256], [0.034267999999428866, 0.034276999998837709], [0.050132999998822925, 0.050142000000050757], [0.054190999999264022, 0.054211999999097316], [0.058294000000387314, 0.058350999999674968], [0.062131999999110121, 0.062139999999999418], [0.066258999999263324, 0.066276999999899999], [0.070262999999613385, 0.070279999999911524], [0.074262000000089756, 0.074279000000387896], [0.07827499999984866, 0.078290999999808264], [0.08213400000022375, 0.082142999999632593], [0.086127000000487897, 0.08613599999989674], [0.0903070000003936, 0.090319999999337597], [0.094273999999131775, 0.094283999998879153], [0.0982769999991433, 0.098286999998890678], [0.10226999999940745, 0.10227899999881629], [0.12213499999961641, 0.12214300000050571], [0.12613099999907718, 0.12613899999996647], [0.13020599999981641, 0.13022099999943748], [0.13422299999911047, 0.13424699999995937], [0.13812899999902584, 0.13813899999877322], [0.14220799999930023, 0.14221699999870907], [0.14623099999880651, 0.14624100000037288], [0.15027600000030361, 0.15028399999937392], [0.15423299999929441, 0.15424299999904179], [0.1582749999997759, 0.15828299999884621], [0.1622319999987667, 0.16224099999999453], [0.16646399999990535, 0.16647799999918789], [0.17019499999878462, 0.17021199999908276], [0.17426899999918533, 0.17429900000024645], [0.17813099999875703, 0.17813999999998487], [0.18220900000051188, 0.1822199999987788], [0.18631300000015472, 0.18632599999909871], [0.19032299999889801, 0.19033300000046438], [0.19430699999975332, 0.19431599999916216], [0.19827199999963341, 0.19828199999938079], [0.20227200000044832, 0.20228099999985716], [0.21814699999958975, 0.2181559999989986], [0.22221100000024308, 0.22222099999999045], [0.22629199999937555, 0.22632700000031036], [0.23016900000038731, 0.230186999999205], [0.23412800000005518, 0.23413599999912549], [0.23812600000019302, 0.23813299999892479], [0.2421249999988504, 0.24213199999940116], [0.24612600000000384, 0.24613200000021607], [0.25012400000014168, 0.2501300000003539], [2.8785179999995307, 2.8785339999994903], [2.8822799999998097, 2.882289999999557], [2.8902209999996558, 2.8902349999989383], [4.7302179999987857, 4.7302419999996346], [4.7341689999993832, 4.7341990000004444], [4.7381599999989703, 4.7381800000002841], [4.7422769999993761, 4.742287999999462], [4.7464579999996204, 4.7464729999992414], [4.7502779999995255, 4.7502860000004148], [4.7543179999993299, 4.7543320000004314], [4.7583180000001448, 4.7583340000001044], [4.7623149999999441, 4.7623289999992267], [4.7781299999987823, 4.7781369999993331], [4.7822070000001986, 4.7822209999994811], [4.7861369999991439, 4.7861439999996946], [4.7902930000000197, 4.7903150000001915], [4.7943519999989803, 4.7943720000002941], [4.7982030000002851, 4.7982119999996939], [4.8022079999991547, 4.802216000000044], [4.8061340000003838, 4.8061419999994541], [4.8101349999997183, 4.8101449999994657], [4.8141279999999824, 4.8141359999990527], [4.8183069999995496, 4.8183209999988321], [4.8222769999993034, 4.8222850000001927], [4.8262759999997797, 4.8262859999995271], [4.8302229999990232, 4.8302329999987705], [4.8342059999995399, 4.8342149999989488], [4.8382050000000163, 4.8382139999994251], [4.9744659999996657, 4.9744950000003882], [4.9781329999987065, 4.9781419999999343], [4.9821250000004511, 4.9821319999991829], [4.9902039999997214, 4.9902149999998073], [4.9942809999993187, 4.9942909999990661], [4.9982739999995829, 4.9982829999989917], [5.1982680000000983, 5.1983079999990878], [5.3062649999992573, 5.3062879999997676], [5.3102079999989655, 5.3102149999995163], [5.3223539999999048, 5.3223779999989347], [5.3261349999993399, 5.3261430000002292], [5.3302329999987705, 5.3302549999989424], [5.338329000000158, 5.3383479999993142], [5.3422730000002048, 5.3422809999992751], [5.3462469999994937, 5.3462559999989026], [5.3502749999988737, 5.3502879999996367]]}, \"shell srvc 3084-3085\": {\"2\": [[4.7837120000003779, 4.7837390000004234], [4.805527999998958, 4.8055619999995542], [4.8068650000004709, 4.8069099999993341], [4.8073329999988346, 4.8074789999991481]]}, \"kworker/4:1-39\": {\"4\": [[4.7782200000001467, 4.778320999999778]]}, \"shell srvc 3074-3075\": {\"2\": [[0.12239199999930861, 0.12241600000015751], [0.16984599999886996, 0.16989199999989069], [0.169992999999522, 0.17005599999902188], [0.17050100000051316, 0.17076199999974051], [0.17096399999900314, 0.17104099999960454]]}, \"adbd-173\": {\"1\": [[0.17061800000010408, 0.17086699999890698], [0.22879699999975855, 0.22890000000006694], [0.22915399999874353, 0.22922199999993609], [4.8056290000004083, 4.8056949999991048], [4.8068260000000009, 4.8068920000005164], [4.8074669999987236, 4.8075609999996232], [4.846983999999793, 4.8470299999989948], [4.8470500000003085, 4.8475089999992633], [4.8489699999990989, 4.8492169999990438], [4.8493079999989277, 4.8494470000005094], [4.8508870000005118, 4.8510889999997744], [4.891299999999319, 4.8913819999997941], [4.891407999999501, 4.8916019999996934], [4.8916919999992388, 4.89183199999934], [4.8929919999991398, 4.8931909999992058], [4.9311230000002979, 4.931257000000187], [4.9313270000002376, 4.9313869999987219], [4.9324969999997847, 4.932622000000265], [4.9347870000001421, 4.9348509999999806], [4.9753509999991365, 4.9757140000001527], [4.9759099999992031, 4.9759409999987838], [4.975959999999759, 4.9760189999997237], [4.9775689999987662, 4.9776259999998729], [5.0152159999997821, 5.015451999999641], [5.0178180000002612, 5.0179559999996854], [5.0180060000002413, 5.0180820000005042], [5.0217199999988225, 5.0218379999987519], [5.0592509999987669, 5.0595119999998133], [5.0596079999995709, 5.0597820000002685], [5.0610109999997803, 5.0611189999999624], [5.0992690000002767, 5.0994040000005043], [5.0994879999998375, 5.0995719999991707], [5.1027569999987463, 5.1029049999997369], [5.1434939999999187, 5.1437409999998636], [5.1439979999995558, 5.1440829999992275], [5.1460409999999683, 5.1460950000000594], [5.1831559999991441, 5.1836519999997108], [5.185233000000153, 5.1855839999989257], [5.1866269999991346, 5.1867149999998219], [5.235501999999542, 5.2355639999987034], [5.2363619999996445, 5.2364309999993566], [5.2372139999988576, 5.2373129999996308], [5.2465599999995902, 5.2469479999999749], [5.247667999999976, 5.2478909999990719], [5.2486529999987397, 5.2487419999997655], [5.2794510000003356, 5.2795289999994566], [5.280070999999225, 5.2801220000001194], [5.3189569999995001, 5.3194489999987127], [5.3203780000003462, 5.3207149999998364]], \"2\": [[0.00014000000010128133, 0.00024099999973259401], [0.0020409999997355044, 0.0021600000000034925], [0.0040019999996729894, 0.0040829999998095445], [0.0050149999988207128, 0.0050819999996747356], [0.0068780000001424924, 0.0069359999997686828], [0.04688700000042445, 0.047366999999212567], [0.048281999999744585, 0.048526000000492786], [0.051052999999228632, 0.051285999999890919], [0.079437999998845044, 0.079510999999911292], [0.079524999999193824, 0.079598000000260072], [0.080619000000297092, 0.080694000000221422], [0.081231000000116182, 0.08128000000033353], [0.1190679999999702, 0.11994199999935518], [0.12083299999903829, 0.12107099999957427], [0.12230799999997544, 0.12239199999930861], [0.16989199999989069, 0.169992999999522], [0.17151000000012573, 0.17168800000035844], [0.17406200000004901, 0.17426899999918533], [0.17499499999939871, 0.17514200000005076], [0.215078999999605, 0.21557699999902979], [0.21644299999934447, 0.21670599999924889], [0.21782899999925576, 0.21791800000028161], [0.23041799999919022, 0.23066800000015064], [0.23180999999931373, 0.23186100000020815], [4.7293689999987691, 4.7295569999987492], [4.7314079999996466, 4.7318130000003293], [4.7338760000002367, 4.7340359999998327], [4.7349549999998999, 4.7351070000004256], [4.7748169999995298, 4.7753109999994194], [4.7766990000000078, 4.776888999998846], [4.7769140000000334, 4.7769420000004175], [4.7769769999995333, 4.7769900000002963], [4.7770710000004328, 4.7771049999992101], [4.783622999999352, 4.7837120000003779], [4.8082259999991948, 4.8082969999995839], [4.8087209999994229, 4.8087699999996403], [5.2359459999988758, 5.2360109999990527], [5.2360219999991386, 5.2360669999998208], [5.2785399999993388, 5.2786469999991823], [5.3225889999994251, 5.3227389999992738]]}, \"rt-app-3083\": {\"0\": [[0.22896799999944051, 0.41422099999908824]]}, \"rt-app-3082\": {\"0\": [[4.7294129999991128, 4.7298859999991691]]}, \"kschedfreq:1-2406\": {\"1\": [[9.4999999419087544e-05, 0.00010300000030838419], [0.0001339999998890562, 0.00013899999976274557], [0.050214999999298016, 0.050235999999131309], [0.051808000000164611, 0.051836999999068212], [0.051872000000003027, 0.051887999999962631], [0.054250999999567284, 0.054265999999188352], [0.058332000000518747, 0.058388999999806401], [0.05987499999901047, 0.059889000000111992], [0.059922999998889281, 0.059930999999778578], [0.11015799999950104, 0.1101859999998851], [0.11189500000000407, 0.11193300000013551], [0.11202699999921606, 0.11204699999871082], [0.11839399999917077, 0.1184369999991759], [0.11882499999956053, 0.1188399999991816], [0.11996199999884993, 0.11997299999893585], [0.12002299999949173, 0.12003199999890057], [0.17015799999899173, 0.17018599999937578], [0.17191800000000512, 0.17194500000005064], [0.17197399999895424, 0.17198999999891385], [0.1741569999994681, 0.17419499999959953], [0.17483100000026752, 0.17484499999955005], [0.17575199999919278, 0.17575899999974354], [0.17579599999953643, 0.17580400000042573], [0.22598999999900116, 0.22601500000018859], [0.22628199999962817, 0.22630199999912293], [0.22759899999982736, 0.22763399999894318], [0.22767199999907461, 0.22769999999945867], [0.22869700000046578, 0.22871399999894493], [0.2290130000001227, 0.22903699999915261], [0.23015599999962433, 0.23018899999988207], [0.23035299999901326, 0.23036700000011479], [0.23161699999945995, 0.23162699999920733], [0.23165999999946507, 0.23166800000035437], [0.28189099999872269, 0.28191999999944528], [0.28336599999965983, 0.28338799999983166], [0.28342299999894749, 0.28343800000038755], [0.41421799999989162, 0.41423299999951269], [0.41430399999990186, 0.41433899999901769], [0.41600499999913154, 0.41602599999896483], [0.41612499999973807, 0.41613700000016252], [0.41823199999998906, 0.41826099999889266], [0.41983299999992596, 0.41984500000035041], [0.41996599999947648, 0.41997300000002724], [0.62929699999949662, 0.62932499999988067], [0.63013999999930093, 0.63014699999985169], [0.63092099999994389, 0.63094199999977718], [0.63104099999873142, 0.63105499999983294], [0.63236499999948137, 0.6323869999996532], [0.63396199999988312, 0.63397400000030757], [0.63409599999977218, 0.6341019999999844], [0.69421099999999569, 0.69422800000029383], [0.69610199999988254, 0.69614000000001397], [0.69623499999943306, 0.69625400000040827], [0.72938499999872874, 0.72943599999962316], [0.7301499999994121, 0.73015999999915948], [0.73102099999960046, 0.73104199999943376], [0.73114199999872653, 0.73115700000016659], [0.73246399999879941, 0.73248599999897124], [0.73406099999920116, 0.73407299999962561], [0.73419499999909021, 0.73420299999997951], [0.82929499999954714, 0.82932400000026973], [0.83015100000011444, 0.83015999999952328], [0.83093799999915063, 0.83096699999987322], [0.83106599999882746, 0.83108499999980268], [0.83239700000012817, 0.83242799999970885], [0.83400099999926169, 0.83401299999968614], [0.83413499999915075, 0.83414099999936298], [0.92929699999876902, 0.92932499999915308], [0.93015100000047823, 0.93016100000022561], [0.93094099999871105, 0.93096999999943364], [0.93106900000020687, 0.93108799999936309], [0.93239899999935005, 0.93242900000041118], [0.93400199999996403, 0.93401499999890802], [0.93413700000019162, 0.93414300000040384], [1.0292939999999362, 1.0293209999999817], [1.030150999999023, 1.0301600000002509], [1.0309379999998782, 1.0309669999987818], [1.0310649999992165, 1.0310849999987113], [1.0323960000005172, 1.0324259999997594], [1.0339999999996508, 1.0340120000000752], [1.0341339999995398, 1.0341420000004291], [1.1292919999996229, 1.1293179999993299], [1.1301559999992605, 1.1301650000004884], [1.1309349999992264, 1.130963999999949], [1.1310629999989033, 1.1310819999998785], [1.1323929999998654, 1.1324229999991076], [1.1339969999989989, 1.1340089999994234], [1.134130999998888, 1.1341379999994388], [1.2292939999988448, 1.2293200000003708], [1.2301509999997506, 1.230160999999498], [1.2309370000002673, 1.2309659999991709], [1.2310649999999441, 1.2310839999991003], [1.2323959999994258, 1.2324250000001484], [1.2339990000000398, 1.2340119999989838], [1.2341329999999289, 1.2341409999989992], [1.3292949999995471, 1.3293219999995927], [1.3301510000001144, 1.3301599999995233], [1.3309399999998277, 1.3309689999987313], [1.3310679999995045, 1.3310870000004797], [1.3323980000004667, 1.3324269999993703], [1.3340009999992617, 1.3340140000000247], [1.3341359999994893, 1.33414300000004], [1.4292949999999109, 1.4293209999996179], [1.4301510000004782, 1.4301610000002256], [1.4309369999991759, 1.4309659999998985], [1.4310640000003332, 1.4310839999998279], [1.4323949999998149, 1.432424999999057], [1.4339980000004289, 1.4340099999990343], [1.4341320000003179, 1.4341389999990497], [1.5292939999999362, 1.5293209999999817], [1.530150999999023, 1.5301609999987704], [1.5309379999998782, 1.5309669999987818], [1.5310649999992165, 1.5310840000001917], [1.5323960000005172, 1.5324259999997594], [1.5339999999996508, 1.5340120000000752], [1.5341339999995398, 1.5341410000000906], [1.6292949999988195, 1.6293210000003455], [1.6301509999993868, 1.6301599999987957], [1.630938000000242, 1.6309669999991456], [1.6310659999999189, 1.6310849999990751], [1.632395999999062, 1.6324249999997846], [1.6340000000000146, 1.634012000000439], [1.6341339999999036, 1.6341410000004544], [1.7292949999991833, 1.7293219999992289], [1.7301509999997506, 1.7301800000004732], [1.7301960000004328, 1.7302230000004784], [1.7309379999987868, 1.730980999998792], [1.7310660000002827, 1.7310829999987618], [1.7342479999988427, 1.7342879999996512], [1.7358530000001338, 1.7358649999987392], [1.7359859999996843, 1.735993000000235], [1.8292949999995471, 1.8293209999992541], [1.8301499999997759, 1.8301599999995233], [1.8309369999988121, 1.8309669999998732], [1.8310650000003079, 1.8310839999994641], [1.8323959999997896, 1.8324250000005122], [1.8339990000004036, 1.8340109999990091], [1.8341330000002927, 1.8341399999990244], [1.9292949999999109, 1.9293219999999565], [1.9301500000001397, 1.9301599999998871], [1.9309379999995144, 1.9309679999987566], [1.9310659999991913, 1.9310850000001665], [1.932397000000492, 1.9324259999993956], [1.933999999999287, 1.9340119999997114], [1.934133999999176, 1.9341409999997268], [2.0292959999987943, 2.0293220000003203], [2.030150999999023, 2.0301600000002509], [2.0309390000002168, 2.0309689999994589], [2.0310669999998936, 2.0310859999990498], [2.0323979999993753, 2.0324280000004364], [2.0340429999996559, 2.0340550000000803], [2.0341769999995449, 2.0341829999997572], [2.1292899999989459, 2.1293160000004718], [2.1301559999992605, 2.1301659999990079], [2.1309330000003683, 2.1309619999992719], [2.1310610000000452, 2.1310799999992014], [2.1323909999991884, 2.1324210000002495], [2.1339950000001409, 2.1340079999990849], [2.1341300000003685, 2.1341359999987617], [2.2292930000003253, 2.2293209999988903], [2.2301509999997506, 2.230160999999498], [2.2309370000002673, 2.2309659999991709], [2.2310649999999441, 2.2310839999991003], [2.2323949999990873, 2.2324250000001484], [2.2339990000000398, 2.2340110000004643], [2.2341329999999289, 2.2341400000004796], [2.3292939999992086, 2.3293209999992541], [2.3301510000001144, 2.3301609999998618], [2.3309379999991506, 2.3309669999998732], [2.3310650000003079, 2.3310860000001412], [2.3323959999997896, 2.3324259999990318], [2.3340009999992617, 2.3340129999996861], [2.3341349999991508, 2.3341419999997015], [2.429296999998769, 2.4293219999999565], [2.4301510000004782, 2.4301610000002256], [2.430938999999853, 2.4309689999990951], [2.4310679999998683, 2.431086000000505], [2.4323979999990115, 2.4324269999997341], [2.434001999999964, 2.4340140000003885], [2.4341359999998531, 2.4341430000004038], [2.5292929999995977, 2.5293199999996432], [2.530150999999023, 2.5301600000002509], [2.5309369999995397, 2.5309660000002623], [2.531063999998878, 2.5310829999998532], [2.5323960000005172, 2.5324249999994208], [2.5339989999993122, 2.5340109999997367], [2.5341339999995398, 2.5341410000000906], [2.6292940000003, 2.6293219999988651], [2.6301509999993868, 2.6301599999987957], [2.630938000000242, 2.6309689999998227], [2.6310649999995803, 2.6310849999990751], [2.6323969999994006, 2.6324260000001232], [2.6340000000000146, 2.634012000000439], [2.6341339999999036, 2.6341410000004544], [2.7292939999988448, 2.7293209999988903], [2.7301509999997506, 2.7301800000004732], [2.7301939999997558, 2.730225999999675], [2.7309379999987868, 2.730980999998792], [2.7310669999988022, 2.7310839999991003], [2.7342479999988427, 2.7342869999993127], [2.7358519999997952, 2.7358649999987392], [2.7359859999996843, 2.735993000000235], [2.8292949999995471, 2.8293219999995927], [2.8301510000001144, 2.8301599999995233], [2.8309399999998277, 2.8309689999987313], [2.8310679999995045, 2.8310870000004797], [2.8323989999989863, 2.8324279999997088], [2.8340029999999388, 2.8340150000003632], [2.8341369999998278, 2.8341440000003786], [2.8786010000003444, 2.8786099999997532], [2.8824860000004264, 2.882502000000386], [2.8825109999997949, 2.88251499999933], [2.8842549999990297, 2.884275999998863], [2.8859749999992346, 2.8860110000005079], [2.886105999999927, 2.8861649999998917], [2.8874779999987368, 2.887510000000475], [2.8891939999994065, 2.8892139999989013], [2.8893100000004779, 2.8893200000002253], [3.4142730000003212, 3.4143000000003667], [3.4160069999998086, 3.416042999999263], [3.4161380000005011, 3.4161579999999958], [3.4302649999990535, 3.4303139999992709], [3.4318769999990764, 3.4318899999998393], [3.4320109999989654, 3.4320179999995162], [3.5291859999997541, 3.5292119999994611], [3.5301550000003772, 3.530163999999786], [3.5308289999993576, 3.5308580000000802], [3.5309569999990345, 3.5309749999996711], [3.5322859999996581, 3.5323159999989002], [3.533886999999595, 3.533900000000358], [3.5340240000004997, 3.5340309999992314], [3.6291849999997794, 3.6292109999994864], [3.6301569999995991, 3.6301669999993464], [3.6308279999993829, 3.6308570000001055], [3.6309559999990597, 3.6309750000000349], [3.6322860000000219, 3.632315999999264], [3.6338859999996203, 3.6338980000000447], [3.6340229999987059, 3.6340299999992567], [3.7292159999997239, 3.7292440000001079], [3.7301530000004277, 3.7301809999989928], [3.7301950000000943, 3.7302239999989979], [3.7308589999993274, 3.7309019999993325], [3.7309869999990042, 3.7310049999996409], [3.7342479999988427, 3.7342879999996512], [3.7358530000001338, 3.7358649999987392], [3.7359859999996843, 3.735993000000235], [3.8292979999987438, 3.8293240000002697], [3.830152000000453, 3.8301620000002004], [3.8309399999998277, 3.8309689999987313], [3.831066999999166, 3.8310860000001412], [3.8323970000001282, 3.8324269999993703], [3.8340009999992617, 3.8340140000000247], [3.8341349999991508, 3.8341419999997015], [3.9292960000002495, 3.9293219999999565], [3.9301599999998871, 3.9301689999992959], [3.9309379999995144, 3.930967000000237], [3.9310649999988527, 3.9310839999998279], [3.9323960000001534, 3.932424999999057], [3.9339989999989484, 3.9340109999993729], [3.9341329999988375, 3.9341399999993882], [4.0292959999987943, 4.0293220000003203], [4.030150999999023, 4.0301609999987704], [4.0309379999998782, 4.0309679999991204], [4.0310659999995551, 4.0310849999987113], [4.0323969999990368, 4.0324259999997594], [4.0340409999989788, 4.0340529999994033], [4.0341749999988679, 4.0341819999994186], [4.1292919999996229, 4.1293179999993299], [4.1301569999995991, 4.1301669999993464], [4.1309339999988879, 4.130963999999949], [4.1310620000003837, 4.1310809999995399], [4.1323929999998654, 4.1324229999991076], [4.1339960000004794, 4.1340079999990849], [4.134130999998888, 4.1341369999991002], [4.2292989999987185, 4.2293250000002445], [4.2301539999989473, 4.2301630000001751], [4.230942000000141, 4.2309719999993831], [4.2310699999998178, 4.2310880000004545], [4.2324019999996381, 4.2324319999988802], [4.2340059999987716, 4.234017999999196], [4.2341400000004796, 4.2341459999988729], [4.3292939999992086, 4.3293199999989156], [4.330152000000453, 4.3301609999998618], [4.3309369999988121, 4.3309659999995347], [4.3310639999999694, 4.3310829999991256], [4.3323949999994511, 4.3324240000001737], [4.3339980000000651, 4.3340109999990091], [4.3341339999988122, 4.334140999999363], [4.4292939999995724, 4.4293209999996179], [4.4301529999993363, 4.4301619999987452], [4.4309379999995144, 4.430967000000237], [4.4310649999988527, 4.4310839999998279], [4.4323949999998149, 4.432424999999057], [4.4339989999989484, 4.4340119999997114], [4.4341329999988375, 4.4341399999993882], [4.5292950000002747, 4.5293209999999817], [4.5301529999997001, 4.530161999999109], [4.5309379999998782, 4.5309669999987818], [4.5310669999998936, 4.5310869999993884], [4.5323979999993753, 4.5324280000004364], [4.5340020000003278, 4.5340139999989333], [4.5341360000002169, 4.5341429999989487], [4.6292929999999615, 4.629320000000007], [4.6301519999997254, 4.6301619999994728], [4.630935999999565, 4.6309650000002875], [4.6310639999992418, 4.631083000000217], [4.6323949999987235, 4.6324239999994461], [4.6339979999993375, 4.6340110000001005], [4.6341329999995651, 4.6341400000001158], [4.7292959999995219, 4.7293269999991026], [4.7301489999990736, 4.7301630000001751], [4.7301819999993313, 4.7301950000000943], [4.7309719999993831, 4.7310139999990497], [4.7310379999998986, 4.7310600000000704], [4.734204000000318, 4.7342179999996006], [4.7381549999990966, 4.73819100000037], [4.7397519999994984, 4.7397590000000491], [4.739795999999842, 4.7398020000000542], [4.7747349999990547, 4.7747459999991406], [4.7899880000004487, 4.7900099999988015], [4.7902780000003986, 4.7902869999998074], [4.7916229999991629, 4.7916519999998854], [4.7916889999996783, 4.7917079999988346], [4.7930189999988215, 4.7930489999998827], [4.7944420000003447, 4.7944599999991624], [4.794716000000335, 4.7947279999989405], [4.7947619999995368, 4.7947700000004261], [4.8450099999990925, 4.8450410000004922], [4.8462879999988218, 4.8462999999992462], [4.8467229999987467, 4.8467529999998078], [4.8469679999998334, 4.846983999999793], [4.8470299999989948, 4.8470500000003085], [4.8903730000001815, 4.8904039999997622], [4.8912159999999858, 4.8912380000001576], [4.8913819999997941, 4.891407999999501], [4.8941820000000007, 4.8942059999990306], [4.8943959999996878, 4.8944090000004508], [4.9445180000002438, 4.9445409999989351], [4.9463359999990644, 4.9463759999998729], [4.9465390000004845, 4.9465600000003178], [4.9742989999995189, 4.9743529999996099], [4.9753349999991769, 4.9753509999991365], [4.9758949999995821, 4.9759099999992031], [4.9759489999996731, 4.975959999999759], [5.0261520000003657, 5.0261780000000726], [5.0279630000004545, 5.0280079999993177], [5.0282549999992625, 5.0282740000002377], [5.0584129999988363, 5.0584679999992659], [5.0590849999989587, 5.059094999998706], [5.0602889999991021, 5.0603119999996125], [5.0603449999998702, 5.0603579999988142], [5.1104670000004262, 5.1104919999997946], [5.1122749999994994, 5.1123159999988275], [5.1125649999994494, 5.1125859999992826], [5.1424150000002555, 5.1424709999992047], [5.143315999999686, 5.1433259999994334], [5.144148999999743, 5.1441599999998289], [5.1445549999989453, 5.1445629999998346], [5.1946699999989505, 5.1946919999991223], [5.1961410000003525, 5.1961620000001858], [5.1961959999989631, 5.1962110000004031], [5.1981699999996636, 5.198233999999502], [5.1982559999996738, 5.1982699999989563], [5.1996340000005148, 5.1996449999987817], [5.1996810000000551, 5.1996909999998024], [5.2497949999997218, 5.2498120000000199], [5.2501819999997679, 5.2501979999997275], [5.2512790000000678, 5.2513019999987591], [5.2513359999993554, 5.2513539999999921], [5.2526610000004439, 5.252688999999009], [5.2541569999993953, 5.2541659999988042], [5.254200999999739, 5.2542069999999512], [5.2588849999992817, 5.2588990000003832], [5.3043139999990672, 5.3043309999993653], [5.3058440000004339, 5.3058650000002672], [5.3058979999987059, 5.3059119999998074], [5.3061669999988226, 5.3061779999989085], [5.3072269999993296, 5.3072549999997136], [5.3088260000004084, 5.3088389999993524], [5.3089600000002974, 5.3089669999990292], [5.3189430000002176, 5.3189569999995001]]}, \"shutils-3079\": {\"0\": [[0.16368399999919347, 0.16682000000037078]]}, \"shutils-3078\": {\"3\": [[0.16613700000016252, 0.16618500000004133], [0.1663669999998092, 0.16638899999998102], [0.16640899999947578, 0.16642200000023877], [0.16660799999954179, 0.16662600000017846], [0.16686800000024959, 0.16870199999902979]]}, \"shutils-3094\": {\"0\": [[5.2297529999996186, 5.232267999999749]]}, \"kworker/3:1-40\": {\"3\": [[0.67824599999948987, 0.67827699999907054], [2.8741719999998168, 2.8742889999994077], [4.7310340000003634, 4.7312380000003031]]}, \"shell srvc 3065-3066\": {\"1\": [[1.9999988580821082e-06, 6.8999999712104909e-05], [0.0015110000003915047, 0.0015359999997599516], [0.0017059999991033692, 0.0017539999989821808], [0.001983000000109314, 0.0021629999992001103]]}, \"shutils-3093\": {\"0\": [[5.2296409999999014, 5.2297529999996186]], \"3\": [[5.2317779999993945, 5.2318080000004556], [5.2319960000004357, 5.232017000000269], [5.2321890000002895, 5.2322079999994457], [5.2323779999987892, 5.2341909999995551]]}, \"sh-3102\": {\"0\": [[5.3305749999999534, 5.3500729999996111]]}, \"sh-3092\": {\"0\": [[5.196909999998752, 5.2164009999996779], [5.234361999999237, 5.2352329999994254]]}, \"adbd-3090\": {\"1\": [[5.1855839999989257, 5.1856379999990168]]}, \"adbd-3100\": {\"1\": [[5.3207149999998364, 5.3207669999992504]]}, \"adbd-3095\": {\"0\": [[5.246900000000096, 5.2579699999987497]]}, \"shell srvc 3080-3081\": {\"1\": [[0.21788500000002387, 0.21790599999985716], [0.22871399999894493, 0.22879699999975855], [0.22903699999915261, 0.22909400000025926], [4.7293269999991026, 4.7293769999996584], [4.7301310000002559, 4.7301489999990736], [4.7301630000001751, 4.7301819999993313], [4.7301950000000943, 4.7302569999992556], [4.7310139999990497, 4.7310379999998986], [4.7310600000000704, 4.731512999998813]]}, \"adbd-3096\": {\"1\": [[5.2478909999990719, 5.2479270000003453]]}, \"adbd-3099\": {\"0\": [[5.3194709999988845, 5.322212999999465]]}, \"adbd-3071\": {\"2\": [[0.048526000000492786, 0.048565999999482301]]}, \"adbd-3070\": {\"0\": [[0.047386000000187778, 0.058651999999710824]]}, \"sh-3091\": {\"1\": [[5.198233999999502, 5.1982559999996738], [5.1982699999989563, 5.1996340000005148], [5.1996449999987817, 5.1996810000000551], [5.1996909999998024, 5.199717999999848]]}, \"adbd-3074\": {\"0\": [[0.11997399999927438, 0.12617099999988568]]}, \"<-host-2888\": {\"1\": [[0.0038970000005065231, 0.0039459999989048811], [0.0049930000004678732, 0.0050240000000485452], [0.0068539999992935918, 0.0068879999998898711], [0.046736000000237254, 0.046831999999994878], [0.050881999999546679, 0.050977999999304302], [0.08058799999889743, 0.080631999999241089], [0.081210000000282889, 0.081240999999863561], [0.1188399999991816, 0.11901799999941431], [0.12214700000004086, 0.12219699999877776], [0.17145200000049954, 0.17153599999983271], [0.17400499999894237, 0.17408599999907892], [0.17484499999955005, 0.17493199999989884], [0.21474200000011479, 0.21486499999991793], [0.21778599999925063, 0.21784300000035728], [0.23036700000011479, 0.23045900000033726], [0.23178499999994528, 0.23181999999906111], [4.731512999998813, 4.7316819999996369], [4.7338220000001456, 4.733898999998928], [4.7347969999991619, 4.7348769999989599], [4.7747459999991406, 4.7748410000003787], [4.783516999999847, 4.7835660000000644], [4.8067849999988539, 4.8068260000000009], [4.8082049999993615, 4.8082359999989421], [4.8086999999995896, 4.8087299999988318], [5.3224549999995361, 5.3225439999987429]], \"2\": [[4.8468159999993077, 4.8470170000000508], [4.8487489999988611, 4.848904999998922], [4.8506839999990916, 4.8508249999995314], [4.8910909999995056, 4.891327999999703], [4.8927929999990738, 4.8929289999996399], [4.9309300000004441, 4.931070999999065], [4.9324699999997392, 4.9325090000002092], [4.9346750000004249, 4.9347129999987374], [4.9751759999999194, 4.9753729999993084], [4.9775489999992715, 4.9775749999989785], [5.0150219999995898, 5.0151630000000296], [5.0176730000002863, 5.0177650000005087], [5.0215869999992719, 5.0216679999994085], [5.0591019999992568, 5.0592930000002525], [5.0609559999993508, 5.0610379999998258], [5.0990769999989425, 5.0992159999987052], [5.1024839999990945, 5.1025300000001153], [5.1433329999999842, 5.1435239999991609], [5.1460159999987809, 5.1460539999989123], [5.1829649999999674, 5.1831039999997301], [5.1865139999990788, 5.1865799999995943], [5.2363399999994726, 5.2363719999993918], [5.2371910000001662, 5.2372340000001714], [5.2465329999995447, 5.2465709999996761], [5.2486239999998361, 5.2486649999991641], [5.2794249999988097, 5.2794620000004215], [5.2800470000001951, 5.2800809999989724], [5.3186040000000503, 5.3186669999995502]]}, \"sh-3095\": {\"2\": [[5.2588859999996203, 5.2589260000004288], [5.2777489999989484, 5.2783399999989342]]}, \"sh-3065\": {\"2\": [[0.0013039999994362006, 0.0019859999993059319]]}, \"sh-3084\": {\"0\": [[4.7769799999987299, 4.7770069999987754], [4.7770369999998366, 4.7781649999997171], [4.7781880000002275, 4.7783500000005006], [4.7783999999992375, 4.7798999999995431], [4.7799199999990378, 4.779951999998957], [4.7799679999989166, 4.7883459999993647]], \"3\": [[4.8063380000003235, 4.8073370000001887]]}, \"adbd-3075\": {\"2\": [[0.12107099999957427, 0.12111799999911455]]}, \"sh-3068\": {\"0\": [[0.00032399999872723129, 0.0013070000004518079]]}, \"sh-3080\": {\"3\": [[4.7299439999987953, 4.7310340000003634]]}, \"sh-3082\": {\"0\": [[0.22705899999891699, 0.22896799999944051]], \"1\": [[0.22624999999970896, 0.22628199999962817], [0.22630199999912293, 0.22695299999941199]]}, \"sh-3099\": {\"0\": [[5.3222399999995105, 5.3305749999999534]], \"1\": [[5.3310399999991205, 5.3310920000003534]]}, \"shell srvc 3089-3090\": {\"1\": [[5.1867149999998219, 5.1867399999991903], [5.2354670000004262, 5.235501999999542], [5.2355639999987034, 5.2356159999999363], [5.2358899999999267, 5.2360399999997753]]}, \"kworker/2:1-33\": {\"2\": [[0.67812899999989895, 0.67814899999939371], [1.678128999999899, 1.67814399999952], [1.730212999998912, 1.7303099999990081], [2.7302149999995891, 2.7302490000001853], [3.7302139999992505, 3.7303699999993114], [4.7302419999996346, 4.7302769999987504]]}, \"sh-3086\": {\"0\": [[4.7886660000003758, 4.8062389999995503]], \"4\": [[4.788340999999491, 4.7886399999988498]]}, \"ksoftirqd/2-16\": {\"2\": [[0.014210999999704654, 0.014232999999876483], [0.0902829999995447, 0.0903070000003936], [0.18629200000032142, 0.18631300000015472], [4.8182839999990392, 4.8183069999995496]]}, \"sh-3103\": {\"0\": [[5.3500729999996111, 5.3502879999996367]]}, \"rcu_sched-8\": {\"2\": [[0.0021600000000034925, 0.0021789999991597142], [0.006304999998974381, 0.0063149999987217598], [0.014232999999876483, 0.014246999999159016], [0.018202999999630265, 0.018211999999039108]]}, \"shell srvc 3070-3071\": {\"1\": [[0.051170999999158084, 0.051218999999036896], [0.079021999999895343, 0.079084999999395222], [0.0793759999996837, 0.079540999999153428]]}, \"shell srvc 3095-3096\": {\"1\": [[5.2779989999999088, 5.2780459999994491], [5.2784090000004653, 5.2785509999994247]], \"2\": [[5.2486939999998867, 5.2487129999990429]]}, \"usb-storage-125\": {\"1\": [[0.13440499999887834, 0.1344279999993887], [0.13455099999919184, 0.13456799999948998], [0.45503900000039721, 0.45505599999887636], [0.45802199999889126, 0.45803700000033132], [0.45810299999902782, 0.45812800000021525], [0.45833700000002864, 0.45839399999931629], [0.46292100000027858, 0.4629320000003645], [0.46327299999938987, 0.46328499999981432], [0.46340599999894039, 0.46342000000004191], [0.46357299999908719, 0.46358599999985017], [0.46382199999970908, 0.46383099999911792], [0.46619599999939965, 0.46620599999914702], [4.7298620000001392, 4.7298899999987043], [4.7300219999997353, 4.7300529999993159], [4.9670559999995021, 4.9670939999996335], [4.9677990000000136, 4.9678289999992558], [5.2382789999992383, 5.2382949999991979], [5.2384769999989658, 5.2384929999989254]]}, \"ramp-3083\": {\"2\": [[0.41434300000037183, 0.52282100000047649], [0.52921900000001187, 0.58864399999947636], [0.62923000000046159, 0.67812899999989895], [0.67814899999939371, 0.69062899999880756], [0.72929699999986042, 0.78603599999951257], [0.82922800000051211, 0.88643000000047323], [0.92922899999939546, 0.98642900000049849], [1.0292279999994207, 1.0864540000002307], [1.1292249999987689, 1.1864459999997052], [1.2292269999998098, 1.2813669999995909], [1.3292289999990317, 1.3814259999999194], [1.4292279999990569, 1.4813599999997678], [1.5292279999994207, 1.5814190000000963], [1.6292279999997845, 1.678128999999899], [1.67814399999952, 1.6813739999997779], [1.7292280000001483, 1.730212999998912], [1.7303099999990081, 1.7777549999991606], [1.8292280000005121, 1.8764599999994971], [1.9292289999993955, 1.9764589999995223], [2.0292289999997593, 2.0764870000002702], [2.1292229999999108, 2.1765500000001339], [2.2292269999998098, 2.2715769999995246], [2.3292280000005121, 2.3714989999989484], [2.4292310000000725, 2.4715230000001611], [2.5292269999990822, 2.5715330000002723], [2.6292279999997845, 2.6715480000002572], [2.7292280000001483, 2.7302149999995891], [2.7302490000001853, 2.7677609999991546], [2.8292289999990317, 2.8665639999999257], [2.9292189999996481, 2.9639119999992545], [3.0292190000000119, 3.0638359999993554], [3.1292149999990215, 3.1639400000003661], [3.2292180000004009, 3.2589520000001357], [3.3292199999996228, 3.3590299999996205], [3.4292449999993551, 3.4604529999996885], [3.5291189999989001, 3.561453000000256], [3.6291179999989254, 3.661443999999392], [3.7291499999992084, 3.7302139999992505], [3.7303699999993114, 3.7578020000000834], [3.8292309999997087, 3.8566699999992125], [3.9292289999993955, 3.9567210000004707], [4.0292279999994207, 4.0567069999997329], [4.1292240000002494, 4.1566499999989901], [4.2292319999996835, 4.2517420000003767], [4.3292280000005121, 4.3517579999988811], [4.4292279999990569, 4.451759999999922], [4.5292279999994207, 4.5517319999999017], [4.6292279999997845, 4.651585999999952], [4.7292280000001483, 4.7293549999994866]]}, \"sh-3101\": {\"2\": [[5.3302549999989424, 5.330974000000424]]}, \"sh-3098\": {\"0\": [[5.2579699999987497, 5.2776869999997871]]}, \"jbd2/sda5-8-134\": {\"1\": [[0.46332900000015798, 0.46339999999872816], [0.46623199999885401, 0.46626999999898544]], \"2\": [[0.22887900000023365, 0.22910599999886472]]}, \"sh-3089\": {\"0\": [[5.1862839999994321, 5.1877089999998134], [5.1877309999999852, 5.1877609999992274], [5.1877779999995255, 5.190177999998923], [5.1902379999992263, 5.1904240000003483], [5.1904529999992519, 5.1906419999995705], [5.1906589999998687, 5.196909999998752]], \"2\": [[5.1997109999992972, 5.1997559999999794], [5.2352940000000672, 5.2358919999987847]]}}});\n",
       "        }); /* TRAPPY_PUBLISH_REMOVE_LINE */\n",
       "        </script>\n",
       "        </div>"
      ],
      "text/plain": [
       "<IPython.core.display.HTML object>"
      ]
     },
     "metadata": {},
     "output_type": "display_data"
    }
   ],
   "source": [
    "trappy.plotter.plot_trace(trace.ftrace)"
   ]
  },
  {
   "cell_type": "markdown",
   "metadata": {},
   "source": [
    "# Latency DataFrames"
   ]
  },
  {
   "cell_type": "code",
   "execution_count": 11,
   "metadata": {
    "collapsed": false
   },
   "outputs": [
    {
     "data": {
      "text/html": [
       "<div>\n",
       "<table border=\"1\" class=\"dataframe\">\n",
       "  <thead>\n",
       "    <tr style=\"text-align: right;\">\n",
       "      <th></th>\n",
       "      <th>target_cpu</th>\n",
       "      <th>__cpu</th>\n",
       "      <th>curr_state</th>\n",
       "      <th>next_state</th>\n",
       "      <th>t_start</th>\n",
       "      <th>t_delta</th>\n",
       "    </tr>\n",
       "    <tr>\n",
       "      <th>Time</th>\n",
       "      <th></th>\n",
       "      <th></th>\n",
       "      <th></th>\n",
       "      <th></th>\n",
       "      <th></th>\n",
       "      <th></th>\n",
       "    </tr>\n",
       "  </thead>\n",
       "  <tbody>\n",
       "    <tr>\n",
       "      <th>0.228968</th>\n",
       "      <td>NaN</td>\n",
       "      <td>0.0</td>\n",
       "      <td>A</td>\n",
       "      <td>R</td>\n",
       "      <td>0.228968</td>\n",
       "      <td>0.185253</td>\n",
       "    </tr>\n",
       "    <tr>\n",
       "      <th>0.414221</th>\n",
       "      <td>NaN</td>\n",
       "      <td>0.0</td>\n",
       "      <td>R</td>\n",
       "      <td>A</td>\n",
       "      <td>0.414221</td>\n",
       "      <td>0.000122</td>\n",
       "    </tr>\n",
       "    <tr>\n",
       "      <th>0.414343</th>\n",
       "      <td>NaN</td>\n",
       "      <td>2.0</td>\n",
       "      <td>A</td>\n",
       "      <td>S</td>\n",
       "      <td>0.414343</td>\n",
       "      <td>0.108478</td>\n",
       "    </tr>\n",
       "    <tr>\n",
       "      <th>0.522821</th>\n",
       "      <td>NaN</td>\n",
       "      <td>2.0</td>\n",
       "      <td>S</td>\n",
       "      <td>W</td>\n",
       "      <td>0.522821</td>\n",
       "      <td>0.006381</td>\n",
       "    </tr>\n",
       "    <tr>\n",
       "      <th>0.529202</th>\n",
       "      <td>2.0</td>\n",
       "      <td>NaN</td>\n",
       "      <td>W</td>\n",
       "      <td>A</td>\n",
       "      <td>0.529202</td>\n",
       "      <td>0.000017</td>\n",
       "    </tr>\n",
       "  </tbody>\n",
       "</table>\n",
       "</div>"
      ],
      "text/plain": [
       "          target_cpu  __cpu curr_state next_state   t_start   t_delta\n",
       "Time                                                                 \n",
       "0.228968         NaN    0.0          A          R  0.228968  0.185253\n",
       "0.414221         NaN    0.0          R          A  0.414221  0.000122\n",
       "0.414343         NaN    2.0          A          S  0.414343  0.108478\n",
       "0.522821         NaN    2.0          S          W  0.522821  0.006381\n",
       "0.529202         2.0    NaN          W          A  0.529202  0.000017"
      ]
     },
     "execution_count": 11,
     "metadata": {},
     "output_type": "execute_result"
    }
   ],
   "source": [
    "# Report full set of task status informations available from the trace\n",
    "trace.data_frame.latency_df('ramp').head()"
   ]
  },
  {
   "cell_type": "code",
   "execution_count": 12,
   "metadata": {
    "collapsed": false
   },
   "outputs": [
    {
     "data": {
      "text/html": [
       "<div>\n",
       "<table border=\"1\" class=\"dataframe\">\n",
       "  <thead>\n",
       "    <tr style=\"text-align: right;\">\n",
       "      <th></th>\n",
       "      <th>__comm</th>\n",
       "      <th>__cpu</th>\n",
       "      <th>__pid</th>\n",
       "      <th>next_comm</th>\n",
       "      <th>next_pid</th>\n",
       "      <th>next_prio</th>\n",
       "      <th>prev_comm</th>\n",
       "      <th>prev_pid</th>\n",
       "      <th>prev_prio</th>\n",
       "      <th>prev_state</th>\n",
       "    </tr>\n",
       "    <tr>\n",
       "      <th>Time</th>\n",
       "      <th></th>\n",
       "      <th></th>\n",
       "      <th></th>\n",
       "      <th></th>\n",
       "      <th></th>\n",
       "      <th></th>\n",
       "      <th></th>\n",
       "      <th></th>\n",
       "      <th></th>\n",
       "      <th></th>\n",
       "    </tr>\n",
       "  </thead>\n",
       "  <tbody>\n",
       "    <tr>\n",
       "      <th>0.000006</th>\n",
       "      <td>&lt;idle&gt;</td>\n",
       "      <td>2</td>\n",
       "      <td>0</td>\n",
       "      <td>shell srvc 1534</td>\n",
       "      <td>1535</td>\n",
       "      <td>120</td>\n",
       "      <td>swapper/2</td>\n",
       "      <td>0</td>\n",
       "      <td>120</td>\n",
       "      <td>0</td>\n",
       "    </tr>\n",
       "    <tr>\n",
       "      <th>0.000118</th>\n",
       "      <td>shell</td>\n",
       "      <td>2</td>\n",
       "      <td>1535</td>\n",
       "      <td>swapper/2</td>\n",
       "      <td>0</td>\n",
       "      <td>120</td>\n",
       "      <td>shell srvc 1534</td>\n",
       "      <td>1535</td>\n",
       "      <td>120</td>\n",
       "      <td>1</td>\n",
       "    </tr>\n",
       "    <tr>\n",
       "      <th>0.000197</th>\n",
       "      <td>&lt;idle&gt;</td>\n",
       "      <td>1</td>\n",
       "      <td>0</td>\n",
       "      <td>adbd</td>\n",
       "      <td>174</td>\n",
       "      <td>120</td>\n",
       "      <td>swapper/1</td>\n",
       "      <td>0</td>\n",
       "      <td>120</td>\n",
       "      <td>0</td>\n",
       "    </tr>\n",
       "    <tr>\n",
       "      <th>0.000246</th>\n",
       "      <td>trace-cmd</td>\n",
       "      <td>3</td>\n",
       "      <td>1538</td>\n",
       "      <td>swapper/3</td>\n",
       "      <td>0</td>\n",
       "      <td>120</td>\n",
       "      <td>trace-cmd</td>\n",
       "      <td>1538</td>\n",
       "      <td>120</td>\n",
       "      <td>64</td>\n",
       "    </tr>\n",
       "    <tr>\n",
       "      <th>0.000367</th>\n",
       "      <td>&lt;idle&gt;</td>\n",
       "      <td>2</td>\n",
       "      <td>0</td>\n",
       "      <td>sh</td>\n",
       "      <td>1537</td>\n",
       "      <td>120</td>\n",
       "      <td>swapper/2</td>\n",
       "      <td>0</td>\n",
       "      <td>120</td>\n",
       "      <td>0</td>\n",
       "    </tr>\n",
       "  </tbody>\n",
       "</table>\n",
       "</div>"
      ],
      "text/plain": [
       "             __comm  __cpu  __pid        next_comm  next_pid  next_prio  \\\n",
       "Time                                                                      \n",
       "0.000006     <idle>      2      0  shell srvc 1534      1535        120   \n",
       "0.000118      shell      2   1535        swapper/2         0        120   \n",
       "0.000197     <idle>      1      0             adbd       174        120   \n",
       "0.000246  trace-cmd      3   1538        swapper/3         0        120   \n",
       "0.000367     <idle>      2      0               sh      1537        120   \n",
       "\n",
       "                prev_comm  prev_pid  prev_prio  prev_state  \n",
       "Time                                                        \n",
       "0.000006        swapper/2         0        120           0  \n",
       "0.000118  shell srvc 1534      1535        120           1  \n",
       "0.000197        swapper/1         0        120           0  \n",
       "0.000246        trace-cmd      1538        120          64  \n",
       "0.000367        swapper/2         0        120           0  "
      ]
     },
     "execution_count": 12,
     "metadata": {},
     "output_type": "execute_result"
    }
   ],
   "source": [
    "df = trace.data_frame.trace_event('sched_switch')\n",
    "df.head()"
   ]
  },
  {
   "cell_type": "code",
   "execution_count": 13,
   "metadata": {
    "collapsed": false
   },
   "outputs": [
    {
     "data": {
      "text/html": [
       "<div>\n",
       "<table border=\"1\" class=\"dataframe\">\n",
       "  <thead>\n",
       "    <tr style=\"text-align: right;\">\n",
       "      <th></th>\n",
       "      <th>wakeup_latency</th>\n",
       "    </tr>\n",
       "    <tr>\n",
       "      <th>Time</th>\n",
       "      <th></th>\n",
       "    </tr>\n",
       "  </thead>\n",
       "  <tbody>\n",
       "    <tr>\n",
       "      <th>0.375050</th>\n",
       "      <td>0.000010</td>\n",
       "    </tr>\n",
       "    <tr>\n",
       "      <th>0.475102</th>\n",
       "      <td>0.000021</td>\n",
       "    </tr>\n",
       "    <tr>\n",
       "      <th>0.575101</th>\n",
       "      <td>0.000020</td>\n",
       "    </tr>\n",
       "    <tr>\n",
       "      <th>0.675103</th>\n",
       "      <td>0.000021</td>\n",
       "    </tr>\n",
       "    <tr>\n",
       "      <th>0.775102</th>\n",
       "      <td>0.000021</td>\n",
       "    </tr>\n",
       "  </tbody>\n",
       "</table>\n",
       "</div>"
      ],
      "text/plain": [
       "          wakeup_latency\n",
       "Time                    \n",
       "0.375050        0.000010\n",
       "0.475102        0.000021\n",
       "0.575101        0.000020\n",
       "0.675103        0.000021\n",
       "0.775102        0.000021"
      ]
     },
     "execution_count": 13,
     "metadata": {},
     "output_type": "execute_result"
    }
   ],
   "source": [
    "# Report WAKEUP events and their duration\n",
    "trace.data_frame.latency_wakeup_df('ramp').head()"
   ]
  },
  {
   "cell_type": "code",
   "execution_count": 14,
   "metadata": {
    "collapsed": false
   },
   "outputs": [
    {
     "data": {
      "text/html": [
       "<div>\n",
       "<table border=\"1\" class=\"dataframe\">\n",
       "  <thead>\n",
       "    <tr style=\"text-align: right;\">\n",
       "      <th></th>\n",
       "      <th>preempt_latency</th>\n",
       "    </tr>\n",
       "    <tr>\n",
       "      <th>Time</th>\n",
       "      <th></th>\n",
       "    </tr>\n",
       "  </thead>\n",
       "  <tbody>\n",
       "    <tr>\n",
       "      <th>0.289829</th>\n",
       "      <td>0.000559</td>\n",
       "    </tr>\n",
       "    <tr>\n",
       "      <th>0.313554</th>\n",
       "      <td>0.000051</td>\n",
       "    </tr>\n",
       "    <tr>\n",
       "      <th>0.315149</th>\n",
       "      <td>0.000008</td>\n",
       "    </tr>\n",
       "    <tr>\n",
       "      <th>0.315197</th>\n",
       "      <td>0.000010</td>\n",
       "    </tr>\n",
       "    <tr>\n",
       "      <th>1.001528</th>\n",
       "      <td>0.000059</td>\n",
       "    </tr>\n",
       "  </tbody>\n",
       "</table>\n",
       "</div>"
      ],
      "text/plain": [
       "          preempt_latency\n",
       "Time                     \n",
       "0.289829         0.000559\n",
       "0.313554         0.000051\n",
       "0.315149         0.000008\n",
       "0.315197         0.000010\n",
       "1.001528         0.000059"
      ]
     },
     "execution_count": 14,
     "metadata": {},
     "output_type": "execute_result"
    }
   ],
   "source": [
    "# Report PREEMPTION events and their duration\n",
    "trace.data_frame.latency_preemption_df('ramp').head()"
   ]
  },
  {
   "cell_type": "markdown",
   "metadata": {},
   "source": [
    "## Latency Plots"
   ]
  },
  {
   "cell_type": "code",
   "execution_count": 15,
   "metadata": {
    "collapsed": false
   },
   "outputs": [
    {
     "name": "stderr",
     "output_type": "stream",
     "text": [
      "01:18:36  INFO    : Found:    45 WAKEUP latencies\n",
      "01:18:36  INFO    : Found:   100 PREEMPT latencies\n",
      "01:18:36  INFO    : Total:   145 latency events\n",
      "01:18:37  WARNING : Event [sched_overutilized] not found, plot DISABLED!\n"
     ]
    },
    {
     "data": {
      "image/png": "[encoded data removed]",
      "text/plain": [
       "<matplotlib.figure.Figure at 0x7f613a40c510>"
      ]
     },
     "metadata": {},
     "output_type": "display_data"
    }
   ],
   "source": [
    "# Plot latency events for a specified task\n",
    "latency_stats_df = trace.analysis.latency.plotLatency('ramp')"
   ]
  },
  {
   "cell_type": "code",
   "execution_count": 16,
   "metadata": {
    "collapsed": false
   },
   "outputs": [
    {
     "data": {
      "text/html": [
       "<div>\n",
       "<table border=\"1\" class=\"dataframe\">\n",
       "  <thead>\n",
       "    <tr style=\"text-align: right;\">\n",
       "      <th></th>\n",
       "      <th>count</th>\n",
       "      <th>mean</th>\n",
       "      <th>std</th>\n",
       "      <th>min</th>\n",
       "      <th>50%</th>\n",
       "      <th>95%</th>\n",
       "      <th>99%</th>\n",
       "      <th>max</th>\n",
       "    </tr>\n",
       "  </thead>\n",
       "  <tbody>\n",
       "    <tr>\n",
       "      <th>latency</th>\n",
       "      <td>145.0</td>\n",
       "      <td>0.000029</td>\n",
       "      <td>0.00005</td>\n",
       "      <td>0.000005</td>\n",
       "      <td>0.000021</td>\n",
       "      <td>0.000073</td>\n",
       "      <td>0.000143</td>\n",
       "      <td>0.000559</td>\n",
       "    </tr>\n",
       "  </tbody>\n",
       "</table>\n",
       "</div>"
      ],
      "text/plain": [
       "         count      mean      std       min       50%       95%       99%  \\\n",
       "latency  145.0  0.000029  0.00005  0.000005  0.000021  0.000073  0.000143   \n",
       "\n",
       "              max  \n",
       "latency  0.000559  "
      ]
     },
     "execution_count": 16,
     "metadata": {},
     "output_type": "execute_result"
    }
   ],
   "source": [
    "# Plot statistics on task latencies\n",
    "latency_stats_df.T"
   ]
  },
  {
   "cell_type": "code",
   "execution_count": 17,
   "metadata": {
    "collapsed": false
   },
   "outputs": [
    {
     "data": {
      "image/png": "[encoded data removed]",
      "text/plain": [
       "<matplotlib.figure.Figure at 0x7f6138479dd0>"
      ]
     },
     "metadata": {},
     "output_type": "display_data"
    }
   ],
   "source": [
    "# Plot latency events for a specified task\n",
    "trace.analysis.latency.plotLatencyBands('ramp')"
   ]
  },
  {
   "cell_type": "code",
   "execution_count": 20,
   "metadata": {
    "collapsed": false
   },
   "outputs": [
    {
     "name": "stderr",
     "output_type": "stream",
     "text": [
      "01:19:49  INFO    : Set plots time range to (2.970000, 3.020000)[s]\n"
     ]
    },
    {
     "data": {
      "image/png": "[encoded data removed]",
      "text/plain": [
       "<matplotlib.figure.Figure at 0x7f613931c5d0>"
      ]
     },
     "metadata": {},
     "output_type": "display_data"
    }
   ],
   "source": [
    "# Zoom into a spefific time frame\n",
    "#trace.setXTimeRange(3.445, 3.45)\n",
    "trace.setXTimeRange(2.97, 3.02)\n",
    "trace.analysis.latency.plotLatencyBands('ramp')"
   ]
  },
  {
   "cell_type": "code",
   "execution_count": null,
   "metadata": {
    "collapsed": true
   },
   "outputs": [],
   "source": []
  }
 ],
 "metadata": {
  "kernelspec": {
   "display_name": "Python 2",
   "language": "python",
   "name": "python2"
  },
  "language_info": {
   "codemirror_mode": {
    "name": "ipython",
    "version": 2
   },
   "file_extension": ".py",
   "mimetype": "text/x-python",
   "name": "python",
   "nbconvert_exporter": "python",
   "pygments_lexer": "ipython2",
   "version": "2.7.12"
  },
  "toc": {
   "toc_cell": false,
   "toc_number_sections": true,
   "toc_threshold": 6,
   "toc_window_display": false
  }
 },
 "nbformat": 4,
 "nbformat_minor": 0
}
