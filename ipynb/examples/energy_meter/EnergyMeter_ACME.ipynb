{
 "cells": [
  {
   "cell_type": "markdown",
   "metadata": {},
   "source": [
    "# Energy Meter Examples\n",
    "\n",
    "## BayLibre's ACME Cape and IIOCapture\n",
    "\n",
    "More information can be found at https://github.com/ARM-software/lisa/wiki/Energy-Meters-Requirements#iiocapture---baylibre-acme-cape."
   ]
  },
  {
   "cell_type": "code",
   "execution_count": 1,
   "metadata": {},
   "outputs": [
    {
     "name": "stderr",
     "output_type": "stream",
     "text": [
      "2017-08-14 14:27:37,769 INFO    : root         : Using LISA logging configuration:\n",
      "2017-08-14 14:27:37,770 INFO    : root         :   /media/build/workspace/lisa-github/logging.conf\n"
     ]
    }
   ],
   "source": [
    "import logging\n",
    "from conf import LisaLogging\n",
    "LisaLogging.setup()"
   ]
  },
  {
   "cell_type": "markdown",
   "metadata": {},
   "source": [
    "#### Import required modules"
   ]
  },
  {
   "cell_type": "code",
   "execution_count": 2,
   "metadata": {},
   "outputs": [],
   "source": [
    "# Generate plots inline\n",
    "%matplotlib inline\n",
    "\n",
    "import os\n",
    "\n",
    "# Support to access the remote target\n",
    "import devlib\n",
    "from env import TestEnv\n",
    "\n",
    "# RTApp configurator for generation of PERIODIC tasks\n",
    "from wlgen import RTA, Ramp"
   ]
  },
  {
   "cell_type": "markdown",
   "metadata": {},
   "source": [
    "## Target Configuration\n",
    "The target configuration is used to describe and configure your test environment.\n",
    "You can find more details in **examples/utils/testenv_example.ipynb**."
   ]
  },
  {
   "cell_type": "code",
   "execution_count": 3,
   "metadata": {},
   "outputs": [],
   "source": [
    "# Setup target configuration\n",
    "my_conf = {\n",
    "\n",
    "    \"platform\"    : 'android',\n",
    "    \"board\"       : \"hikey960\",\n",
    "    \"device\" : \"0123456789ABCDEF\",\n",
    "    \n",
    "    \"ANDROID_HOME\" : \"/media/build/workspace/android-sdk\",\n",
    "    \"rtapp-calib\" : {\"0\": 302, \"1\": 302, \"2\": 304, \"3\": 304, \"4\": 136, \"5\": 137, \"6\": 136, \"7\": 136},\n",
    "\n",
    "     \"emeter\" : {\n",
    "        \"instrument\" : \"acme\",\n",
    "        \"conf\" : {\n",
    "            # Absolute path to the iio-capture binary on the host\n",
    "            'iio-capture' : '/usr/bin/iio-capture',\n",
    "            # Default host name of the BeagleBone Black\n",
    "            'ip_address'     : '10.169.36.36',\n",
    "        },\n",
    "        'channel_map' : {\n",
    "            'Device0' : 0,\n",
    "            'Device1' : 1,\n",
    "        }\n",
    "    },\n",
    "\n",
    "    # Folder where all the results will be collected\n",
    "    \"results_dir\" : \"EnergyMeter_IIOCapture\",\n",
    "\n",
    "    # Define devlib modules to load\n",
    "    \"modules\" : [\"cpufreq\"], # Required by rt-app calibration\n",
    "    \"exclude_modules\" : [ 'hwmon' ],\n",
    "\n",
    "    \n",
    "    # Tools required by the experiments\n",
    "    \"tools\"   : [ 'trace-cmd', 'rt-app' ],\n",
    "    \n",
    "    # Comment this line to calibrate RTApp in your own platform\n",
    "    # \"rtapp-calib\" :  {\"0\": 360, \"1\": 142, \"2\": 138, \"3\": 352, \"4\": 352, \"5\": 353},\n",
    "}"
   ]
  },
  {
   "cell_type": "code",
   "execution_count": 4,
   "metadata": {
    "scrolled": false
   },
   "outputs": [
    {
     "name": "stderr",
     "output_type": "stream",
     "text": [
      "2017-08-14 14:27:47,410 INFO    : TestEnv      : Using base path: /media/build/workspace/lisa-github\n",
      "2017-08-14 14:27:47,411 INFO    : TestEnv      : Loading custom (inline) target configuration\n",
      "2017-08-14 14:27:47,413 INFO    : TestEnv      : External tools using:\n",
      "2017-08-14 14:27:47,416 INFO    : TestEnv      :    ANDROID_HOME: /media/build/workspace/android-sdk\n",
      "2017-08-14 14:27:47,417 INFO    : TestEnv      :    CATAPULT_HOME: /media/build/workspace/lisa-github/tools/catapult\n",
      "2017-08-14 14:27:47,418 INFO    : TestEnv      : Devlib modules to load: ['bl', 'cpuidle', 'cpufreq']\n",
      "2017-08-14 14:27:47,422 INFO    : TestEnv      : Connecting Android target [0123456789ABCDEF]\n",
      "2017-08-14 14:27:47,423 INFO    : TestEnv      : Connection settings:\n",
      "2017-08-14 14:27:47,424 INFO    : TestEnv      :    {'device': '0123456789ABCDEF'}\n",
      "2017-08-14 14:27:49,194 INFO    : TestEnv      : Initializing target workdir:\n",
      "2017-08-14 14:27:49,198 INFO    : TestEnv      :    /data/local/tmp/devlib-target\n",
      "2017-08-14 14:27:54,135 INFO    : TestEnv      : Attempting to read energy model from target\n",
      "2017-08-14 14:27:54,205 ERROR   : TestEnv      : Couldn't read target energy model: Energy Model not exposed in sysfs. Check CONFIG_SCHED_DEBUG is enabled.\n",
      "2017-08-14 14:27:54,211 INFO    : TestEnv      : Topology:\n",
      "2017-08-14 14:27:54,213 INFO    : TestEnv      :    [[0, 1, 2, 3], [4, 5, 6, 7]]\n",
      "2017-08-14 14:27:54,532 INFO    : TestEnv      : Loading default EM:\n",
      "2017-08-14 14:27:54,534 INFO    : TestEnv      :    /media/build/workspace/lisa-github/libs/utils/platforms/hikey960.json\n",
      "2017-08-14 14:27:54,598 WARNING : TestEnv      : Using configuration provided RTApp calibration\n",
      "2017-08-14 14:27:54,599 INFO    : TestEnv      : Using RT-App calibration values:\n",
      "2017-08-14 14:27:54,600 INFO    : TestEnv      :    {\"0\": 302, \"1\": 302, \"2\": 304, \"3\": 304, \"4\": 136, \"5\": 137, \"6\": 136, \"7\": 136}\n",
      "2017-08-14 14:27:54,600 INFO    : EnergyMeter  : ACME configuration:\n",
      "2017-08-14 14:27:54,601 INFO    : EnergyMeter  :     binary: /usr/bin/iio-capture\n",
      "2017-08-14 14:27:54,602 INFO    : EnergyMeter  :     device: 10.169.36.36\n",
      "2017-08-14 14:27:54,602 INFO    : EnergyMeter  :   channels:\n",
      "2017-08-14 14:27:54,603 INFO    : EnergyMeter  :      Device1 (iio:device1)\n",
      "2017-08-14 14:27:54,604 INFO    : EnergyMeter  :      Device0 (iio:device0)\n",
      "2017-08-14 14:27:54,620 INFO    : TestEnv      : Set results folder to:\n",
      "2017-08-14 14:27:54,622 INFO    : TestEnv      :    /media/build/workspace/lisa-github/results/EnergyMeter_IIOCapture\n",
      "2017-08-14 14:27:54,623 INFO    : TestEnv      : Experiment results available also in:\n",
      "2017-08-14 14:27:54,623 INFO    : TestEnv      :    /media/build/workspace/lisa-github/results_latest\n"
     ]
    }
   ],
   "source": [
    "# Initialize a test environment using:\n",
    "te = TestEnv(my_conf, wipe=False, force_new=True)\n",
    "target = te.target"
   ]
  },
  {
   "cell_type": "markdown",
   "metadata": {},
   "source": [
    "## Workload Execution and Power Consumptions Samping\n",
    "\n",
    "Detailed information on RTApp can be found in **examples/wlgen/rtapp_example.ipynb**.\n",
    "\n",
    "Each **EnergyMeter** derived class has two main methods: **reset** and **report**.\n",
    " - The **reset** method will reset the energy meter and start sampling from channels specified in the target configuration. <br>\n",
    " - The **report** method will stop capture and will retrieve the energy consumption data. This returns an EnergyReport composed of the measured channels energy and the report file. Each of the samples can also be obtained, as you can see below."
   ]
  },
  {
   "cell_type": "code",
   "execution_count": 7,
   "metadata": {},
   "outputs": [
    {
     "name": "stderr",
     "output_type": "stream",
     "text": [
      "2017-08-14 14:32:47,842 INFO    : Workload     : Setup new workload ramp\n",
      "2017-08-14 14:32:47,923 INFO    : Workload     : Workload duration defined by longest task\n",
      "2017-08-14 14:32:47,924 INFO    : Workload     : Default policy: SCHED_OTHER\n",
      "2017-08-14 14:32:47,926 INFO    : Workload     : ------------------------\n",
      "2017-08-14 14:32:47,927 INFO    : Workload     : task [ramp], sched: using default policy\n",
      "2017-08-14 14:32:47,930 INFO    : Workload     :  | loops count: 1\n",
      "2017-08-14 14:32:47,930 INFO    : Workload     : + phase_000001: duration 0.500000 [s] (5 loops)\n",
      "2017-08-14 14:32:47,931 INFO    : Workload     : |  period   100000 [us], duty_cycle  60 %\n",
      "2017-08-14 14:32:47,932 INFO    : Workload     : |  run_time  60000 [us], sleep_time  40000 [us]\n",
      "2017-08-14 14:32:47,934 INFO    : Workload     : + phase_000002: duration 0.500000 [s] (5 loops)\n",
      "2017-08-14 14:32:47,941 INFO    : Workload     : |  period   100000 [us], duty_cycle  55 %\n",
      "2017-08-14 14:32:47,944 INFO    : Workload     : |  run_time  55000 [us], sleep_time  45000 [us]\n",
      "2017-08-14 14:32:47,945 INFO    : Workload     : + phase_000003: duration 0.500000 [s] (5 loops)\n",
      "2017-08-14 14:32:47,946 INFO    : Workload     : |  period   100000 [us], duty_cycle  50 %\n",
      "2017-08-14 14:32:47,946 INFO    : Workload     : |  run_time  50000 [us], sleep_time  50000 [us]\n",
      "2017-08-14 14:32:47,947 INFO    : Workload     : + phase_000004: duration 0.500000 [s] (5 loops)\n",
      "2017-08-14 14:32:47,948 INFO    : Workload     : |  period   100000 [us], duty_cycle  45 %\n",
      "2017-08-14 14:32:47,949 INFO    : Workload     : |  run_time  45000 [us], sleep_time  55000 [us]\n",
      "2017-08-14 14:32:47,950 INFO    : Workload     : + phase_000005: duration 0.500000 [s] (5 loops)\n",
      "2017-08-14 14:32:47,950 INFO    : Workload     : |  period   100000 [us], duty_cycle  40 %\n",
      "2017-08-14 14:32:47,951 INFO    : Workload     : |  run_time  40000 [us], sleep_time  60000 [us]\n",
      "2017-08-14 14:32:47,952 INFO    : Workload     : + phase_000006: duration 0.500000 [s] (5 loops)\n",
      "2017-08-14 14:32:47,953 INFO    : Workload     : |  period   100000 [us], duty_cycle  35 %\n",
      "2017-08-14 14:32:47,954 INFO    : Workload     : |  run_time  35000 [us], sleep_time  65000 [us]\n",
      "2017-08-14 14:32:47,955 INFO    : Workload     : + phase_000007: duration 0.500000 [s] (5 loops)\n",
      "2017-08-14 14:32:47,956 INFO    : Workload     : |  period   100000 [us], duty_cycle  30 %\n",
      "2017-08-14 14:32:47,956 INFO    : Workload     : |  run_time  30000 [us], sleep_time  70000 [us]\n",
      "2017-08-14 14:32:47,957 INFO    : Workload     : + phase_000008: duration 0.500000 [s] (5 loops)\n",
      "2017-08-14 14:32:47,957 INFO    : Workload     : |  period   100000 [us], duty_cycle  25 %\n",
      "2017-08-14 14:32:47,958 INFO    : Workload     : |  run_time  25000 [us], sleep_time  75000 [us]\n",
      "2017-08-14 14:32:47,962 INFO    : Workload     : + phase_000009: duration 0.500000 [s] (5 loops)\n",
      "2017-08-14 14:32:47,962 INFO    : Workload     : |  period   100000 [us], duty_cycle  20 %\n",
      "2017-08-14 14:32:47,963 INFO    : Workload     : |  run_time  20000 [us], sleep_time  80000 [us]\n",
      "2017-08-14 14:32:49,136 INFO    : Workload     : Workload execution START:\n",
      "2017-08-14 14:32:49,137 INFO    : Workload     :    /data/local/tmp/bin/rt-app /data/local/tmp/devlib-target/ramp_00.json 2>&1\n"
     ]
    }
   ],
   "source": [
    "# Create and RTApp RAMP task\n",
    "rtapp = RTA(te.target, 'ramp', calibration=te.calibration())\n",
    "rtapp.conf(kind='profile',\n",
    "           params={\n",
    "                'ramp' : Ramp(\n",
    "                    start_pct =  60,\n",
    "                    end_pct   =  20,\n",
    "                    delta_pct =   5,\n",
    "                    time_s    =   0.5).get()\n",
    "          })\n",
    "\n",
    "# EnergyMeter Start\n",
    "te.emeter.reset()\n",
    "\n",
    "rtapp.run(out_dir=te.res_dir)\n",
    "\n",
    "# EnergyMeter Stop and samples collection\n",
    "nrg_report = te.emeter.report(te.res_dir)"
   ]
  },
  {
   "cell_type": "code",
   "execution_count": 8,
   "metadata": {},
   "outputs": [
    {
     "name": "stderr",
     "output_type": "stream",
     "text": [
      "2017-08-14 14:33:39,248 INFO    : root         : Collected data:\n"
     ]
    },
    {
     "name": "stdout",
     "output_type": "stream",
     "text": [
      "\u001b[01;34m/media/build/workspace/lisa-github/results/EnergyMeter_IIOCapture\u001b[00m\r\n",
      "├── energy.json\r\n",
      "├── energy_stats.json\r\n",
      "├── output.log\r\n",
      "├── ramp_00.json\r\n",
      "├── rt-app-ramp-0.log\r\n",
      "├── samples_Device0.csv\r\n",
      "└── samples_Device1.csv\r\n",
      "\r\n",
      "0 directories, 7 files\r\n"
     ]
    }
   ],
   "source": [
    "logging.info(\"Collected data:\")\n",
    "!tree $te.res_dir"
   ]
  },
  {
   "cell_type": "markdown",
   "metadata": {},
   "source": [
    "## Power Measurements Data"
   ]
  },
  {
   "cell_type": "code",
   "execution_count": 9,
   "metadata": {},
   "outputs": [
    {
     "name": "stderr",
     "output_type": "stream",
     "text": [
      "2017-08-14 14:33:44,269 INFO    : root         : Measured channels energy:\n",
      "2017-08-14 14:33:44,270 INFO    : root         : {'Device1': 36294.74, 'Device0': 0.0}\n"
     ]
    }
   ],
   "source": [
    "logging.info(\"Measured channels energy:\")\n",
    "logging.info(\"%s\", nrg_report.channels)"
   ]
  },
  {
   "cell_type": "code",
   "execution_count": 10,
   "metadata": {},
   "outputs": [
    {
     "name": "stderr",
     "output_type": "stream",
     "text": [
      "2017-08-14 14:33:49,185 INFO    : root         : Returned energy file:\n",
      "2017-08-14 14:33:49,186 INFO    : root         :   /media/build/workspace/lisa-github/results/EnergyMeter_IIOCapture/energy.json\n"
     ]
    },
    {
     "name": "stdout",
     "output_type": "stream",
     "text": [
      "{\r\n",
      "    \"Device0\": 0.0, \r\n",
      "    \"Device1\": 36294.74\r\n",
      "}"
     ]
    }
   ],
   "source": [
    "logging.info(\"Returned energy file:\")\n",
    "logging.info(\"  %s\", nrg_report.report_file)\n",
    "!cat $nrg_report.report_file"
   ]
  },
  {
   "cell_type": "code",
   "execution_count": 11,
   "metadata": {},
   "outputs": [
    {
     "name": "stderr",
     "output_type": "stream",
     "text": [
      "2017-08-14 14:34:06,615 INFO    : root         : Complete energy stats:\n",
      "2017-08-14 14:34:06,619 INFO    : root         :   /media/build/workspace/lisa-github/results/EnergyMeter_IIOCapture/energy_stats.json\n"
     ]
    },
    {
     "name": "stdout",
     "output_type": "stream",
     "text": [
      "{\r\n",
      "    \"Device0\": {\r\n",
      "        \"cmax\": 0.0, \r\n",
      "        \"cmin\": 0.0, \r\n",
      "        \"energy\": 0.0, \r\n",
      "        \"pavg\": 0.0, \r\n",
      "        \"pmax\": 0.0, \r\n",
      "        \"pmin\": 0.0, \r\n",
      "        \"vmax\": 0.0\r\n",
      "    }, \r\n",
      "    \"Device1\": {\r\n",
      "        \"cmax\": 3152.0, \r\n",
      "        \"cmin\": 1190.0, \r\n",
      "        \"energy\": 36294.74, \r\n",
      "        \"pavg\": 6465.0, \r\n",
      "        \"pmax\": 13025.0, \r\n",
      "        \"pmin\": 4950.0, \r\n",
      "        \"vmax\": 4157.5\r\n",
      "    }\r\n",
      "}"
     ]
    }
   ],
   "source": [
    "stats_file = nrg_report.report_file.replace('.json', '_stats.json')\n",
    "logging.info(\"Complete energy stats:\")\n",
    "logging.info(\"  %s\", stats_file)\n",
    "!cat $stats_file"
   ]
  },
  {
   "cell_type": "code",
   "execution_count": 12,
   "metadata": {},
   "outputs": [
    {
     "name": "stderr",
     "output_type": "stream",
     "text": [
      "2017-08-14 14:34:21,951 INFO    : root         : Device0 stats (head)\n"
     ]
    },
    {
     "name": "stdout",
     "output_type": "stream",
     "text": [
      "\"vshunt mV\", \"vbus mV\", \"power mW\", \"current mA\", \"timestamp ms\"\r\n",
      "0.0, 0.0, 0.0, 0.0, 0.0\r\n",
      "0.0, 0.0, 0.0, 0.0, 9.2\r\n",
      "0.0, 0.0, 0.0, 0.0, 17.9\r\n",
      "0.0, 0.0, 0.0, 0.0, 26.8\r\n",
      "-0.0, 0.0, 0.0, 0.0, 35.6\r\n",
      "-0.0, 0.0, 0.0, 0.0, 44.3\r\n",
      "0.0, 0.0, 0.0, 0.0, 52.9\r\n",
      "0.0, 0.0, 0.0, 0.0, 61.5\r\n",
      "0.0, 0.0, 0.0, 0.0, 70.1\r\n"
     ]
    }
   ],
   "source": [
    "logging.info(\"Device0 stats (head)\")\n",
    "samples_file = os.path.join(te.res_dir, 'samples_Device0.csv')\n",
    "!head $samples_file"
   ]
  },
  {
   "cell_type": "code",
   "execution_count": 13,
   "metadata": {},
   "outputs": [
    {
     "name": "stderr",
     "output_type": "stream",
     "text": [
      "2017-08-14 14:34:23,852 INFO    : root         : Device1 stats (head)\n"
     ]
    },
    {
     "name": "stdout",
     "output_type": "stream",
     "text": [
      "\"vshunt mV\", \"vbus mV\", \"power mW\", \"current mA\", \"timestamp ms\"\r\n",
      "12.2, 4157.5, 5050.0, 1216.0, 0.0\r\n",
      "12.2, 4156.2, 5075.0, 1222.0, 8.6\r\n",
      "12.2, 4156.2, 5000.0, 1206.0, 17.2\r\n",
      "12.1, 4155.0, 5075.0, 1223.0, 26.0\r\n",
      "12.2, 4155.0, 4975.0, 1196.0, 35.0\r\n",
      "12.0, 4155.0, 5075.0, 1221.0, 43.6\r\n",
      "12.2, 4155.0, 5025.0, 1208.0, 52.2\r\n",
      "12.1, 4155.0, 5075.0, 1222.0, 60.9\r\n",
      "12.2, 4155.0, 5025.0, 1210.0, 71.4\r\n"
     ]
    }
   ],
   "source": [
    "logging.info(\"Device1 stats (head)\")\n",
    "samples_file = os.path.join(te.res_dir, 'samples_Device1.csv')\n",
    "!head $samples_file"
   ]
  },
  {
   "cell_type": "code",
   "execution_count": null,
   "metadata": {
    "collapsed": true
   },
   "outputs": [],
   "source": []
  },
  {
   "cell_type": "code",
   "execution_count": null,
   "metadata": {
    "collapsed": true
   },
   "outputs": [],
   "source": []
  }
 ],
 "metadata": {
  "kernelspec": {
   "display_name": "Python 2",
   "language": "python",
   "name": "python2"
  },
  "language_info": {
   "codemirror_mode": {
    "name": "ipython",
    "version": 2
   },
   "file_extension": ".py",
   "mimetype": "text/x-python",
   "name": "python",
   "nbconvert_exporter": "python",
   "pygments_lexer": "ipython2",
   "version": "2.7.12"
  },
  "toc": {
   "toc_cell": false,
   "toc_number_sections": true,
   "toc_threshold": 6,
   "toc_window_display": false
  }
 },
 "nbformat": 4,
 "nbformat_minor": 1
}
