{
 "cells": [
  {
   "cell_type": "markdown",
   "metadata": {},
   "source": [
    "# Antutu benchmark on Android"
   ]
  },
  {
   "cell_type": "markdown",
   "metadata": {},
   "source": [
    "The goal of this experiment is to run benchmarks on a hikey960 board running Android with an IPA kernel and collect results. The analysis phase will consist in comparing IPA summary with:\n",
    "    \n",
    "The benchmark we will be using is ***Antutu 3Dbench*** (http://www.antutu.com/en). You will need to **manually install** the app on the Android device in order to run this Notebook.\n",
    "\n",
    "the goals of this notebook:\n",
    "1. Check different thermal behaviour for different thermal governor, stepwise vs ipa\n",
    "1. Compare the real power usage of SOC for different thermal governor, stepwise vs ipa"
   ]
  },
  {
   "cell_type": "code",
   "execution_count": 1,
   "metadata": {},
   "outputs": [
    {
     "name": "stderr",
     "output_type": "stream",
     "text": [
      "2018-05-09 14:11:22,478 INFO    : root         : Using LISA logging configuration:\n",
      "2018-05-09 14:11:22,480 INFO    : root         :   /home/steven/lisa/lisa-github/logging.conf\n"
     ]
    }
   ],
   "source": [
    "import logging\n",
    "from conf import LisaLogging\n",
    "LisaLogging.setup()"
   ]
  },
  {
   "cell_type": "code",
   "execution_count": 2,
   "metadata": {},
   "outputs": [
    {
     "name": "stdout",
     "output_type": "stream",
     "text": [
      "Populating the interactive namespace from numpy and matplotlib\n"
     ]
    }
   ],
   "source": [
    "%pylab inline\n",
    "\n",
    "import copy\n",
    "import os\n",
    "from time import sleep\n",
    "from subprocess import Popen\n",
    "import pandas as pd\n",
    "\n",
    "# Support to access the remote target\n",
    "import devlib\n",
    "from env import TestEnv\n",
    "\n",
    "# Support for trace events analysis\n",
    "from trace import Trace\n",
    "\n",
    "# Suport for FTrace events parsing and visualization\n",
    "import trappy"
   ]
  },
  {
   "cell_type": "markdown",
   "metadata": {},
   "source": [
    "## Test environment setup\n",
    "\n",
    "For more details on this please check out **examples/utils/testenv_example.ipynb**."
   ]
  },
  {
   "cell_type": "markdown",
   "metadata": {},
   "source": [
    "In case more than one Android device are conencted to the host, you must specify the ID of the device you want to target in `my_target_conf`. Run `adb devices` on your host to get the ID. Also, you have to specify the path to your android sdk in ANDROID_HOME."
   ]
  },
  {
   "cell_type": "code",
   "execution_count": 4,
   "metadata": {},
   "outputs": [],
   "source": [
    "# Setup a target configuration\n",
    "androidsdk_path=os.path.join(os.getcwd(), \"../../../android-sdk\")\n",
    "\n",
    "my_target_conf = {\n",
    "    \n",
    "#     # Target platform and board\n",
    "#     \"platform\"    : 'android',\n",
    "\n",
    "#     # Add target support\n",
    "#     \"board\" : 'pixel',\n",
    "    \n",
    "#     # Device ID\n",
    "#     \"device\" : \"HT6670300102\",\n",
    "    \n",
    "#     \"ANDROID_HOME\" : \"/home/vagrant/lisa/tools/android-sdk-linux/\",\n",
    "    \n",
    "    \"platform\"    : 'android',\n",
    "    \"board\"       : \"hikey960\",\n",
    "    \"device\" : \"0123456789ABCDEF\",\n",
    "    \n",
    "    \"ANDROID_HOME\" : androidsdk_path,\n",
    "    \"rtapp-calib\" : {\"0\": 302, \"1\": 302, \"2\": 304, \"3\": 304, \"4\": 136, \"5\": 137, \"6\": 136, \"7\": 136},\n",
    "\n",
    "     \"emeter\" : {\n",
    "        \"instrument\" : \"acme\",\n",
    "        \"conf\" : {\n",
    "            # Absolute path to the iio-capture binary on the host\n",
    "            'iio-capture' : '/usr/bin/iio-capture',\n",
    "            # Default host name of the BeagleBone Black\n",
    "            'ip_address'     : '10.169.36.36',\n",
    "        },\n",
    "        \"channel_map\" : {\n",
    "            \"Device0\" : 0, # iio:device0\n",
    "            \"Device1\" : 1, # iio:device0\n",
    "        }\n",
    "    },\n",
    "    \n",
    "    # FTrace events to collect for all the tests configuration which have\n",
    "    # the \"ftrace\" flag enabled\n",
    "    \"ftrace\"  : {\n",
    "         \"events\" : [\n",
    "            \"cpu_capacity\",\n",
    "            \"cpu_frequency\",\n",
    "            \"thermal_power_devfreq_limit\",\n",
    "            \"thermal_power_devfreq_get_power\",\n",
    "            \"thermal_power_cpu_limit\",\n",
    "            \"thermal_power_cpu_get_power\",\n",
    "            \"thermal_zone_trip\",\n",
    "            \"cdev_update\",\n",
    "            \"thermal_temperature\",\n",
    "            \"thermal_power_allocator_pid\",\n",
    "            \"thermal_power_allocator\",\n",
    "         ],\n",
    "         \"buffsize\" : 100 * 1024,\n",
    "    },\n",
    "\n",
    "    # Tools required by the experiments\n",
    "    \"tools\"   : [ 'trace-cmd', 'taskset'],\n",
    "    \n",
    "    # Define devlib modules to load\n",
    "    \"modules\"     : [\n",
    "        'cpufreq'       # enable CPUFreq support\n",
    "    ],\n",
    "    \n",
    "    \"results_dir\" : \"Android_Antutu3_governor\",\n",
    "\n",
    "}"
   ]
  },
  {
   "cell_type": "code",
   "execution_count": 5,
   "metadata": {
    "scrolled": false
   },
   "outputs": [],
   "source": [
    "my_tests_conf = {\n",
    "\n",
    "    # Folder where all the results will be collected\n",
    "\n",
    "    # Platform configurations to test\n",
    "    \"confs\" : [\n",
    "        {\n",
    "            \"tag\"            : \"antutu\",\n",
    "            \"flags\"          : \"ftrace\",           # Enable FTrace events\n",
    "            \"sched_features\" : \"ENERGY_AWARE\",     # enable EAS\n",
    "        },\n",
    "    ],\n",
    "}"
   ]
  },
  {
   "cell_type": "code",
   "execution_count": 6,
   "metadata": {},
   "outputs": [
    {
     "name": "stderr",
     "output_type": "stream",
     "text": [
      "2018-05-09 14:11:44,012 INFO    : TestEnv      : Using base path: /home/steven/lisa/lisa-github\n",
      "2018-05-09 14:11:44,014 INFO    : TestEnv      : Loading custom (inline) target configuration\n",
      "2018-05-09 14:11:44,015 INFO    : TestEnv      : Loading custom (inline) test configuration\n",
      "2018-05-09 14:11:44,017 INFO    : TestEnv      : External tools using:\n",
      "2018-05-09 14:11:44,019 INFO    : TestEnv      :    ANDROID_HOME: /home/steven/lisa/lisa-github/ipynb/ipa/../../../android-sdk\n",
      "2018-05-09 14:11:44,020 INFO    : TestEnv      :    CATAPULT_HOME: /home/steven/lisa/lisa-github/tools/catapult\n",
      "2018-05-09 14:11:44,022 INFO    : TestEnv      : Devlib modules to load: ['bl', 'cpuidle', 'cpufreq']\n",
      "2018-05-09 14:11:44,023 INFO    : TestEnv      : Connecting Android target [0123456789ABCDEF]\n",
      "2018-05-09 14:11:44,025 INFO    : TestEnv      : Connection settings:\n",
      "2018-05-09 14:11:44,026 INFO    : TestEnv      :    {'device': '0123456789ABCDEF'}\n",
      "2018-05-09 14:11:45,148 INFO    : TestEnv      : Initializing target workdir:\n",
      "2018-05-09 14:11:45,153 INFO    : TestEnv      :    /data/local/tmp/devlib-target\n",
      "2018-05-09 14:11:46,272 INFO    : TestEnv      : Attempting to read energy model from target\n",
      "2018-05-09 14:11:46,942 INFO    : TestEnv      : Topology:\n",
      "2018-05-09 14:11:46,944 INFO    : TestEnv      :    [[0, 1, 2, 3], [4, 5, 6, 7]]\n",
      "2018-05-09 14:11:47,029 INFO    : TestEnv      : Loading default EM:\n",
      "2018-05-09 14:11:47,031 INFO    : TestEnv      :    /home/steven/lisa/lisa-github/libs/utils/platforms/hikey960.json\n",
      "2018-05-09 14:11:47,437 INFO    : TestEnv      : Enabled tracepoints:\n",
      "2018-05-09 14:11:47,438 INFO    : TestEnv      :    sched_switch\n",
      "2018-05-09 14:11:47,439 INFO    : TestEnv      :    cpu_capacity\n",
      "2018-05-09 14:11:47,440 INFO    : TestEnv      :    cpu_frequency\n",
      "2018-05-09 14:11:47,441 INFO    : TestEnv      :    thermal_power_devfreq_limit\n",
      "2018-05-09 14:11:47,442 INFO    : TestEnv      :    thermal_power_devfreq_get_power\n",
      "2018-05-09 14:11:47,443 INFO    : TestEnv      :    thermal_power_cpu_limit\n",
      "2018-05-09 14:11:47,444 INFO    : TestEnv      :    thermal_power_cpu_get_power\n",
      "2018-05-09 14:11:47,445 INFO    : TestEnv      :    thermal_zone_trip\n",
      "2018-05-09 14:11:47,446 INFO    : TestEnv      :    cdev_update\n",
      "2018-05-09 14:11:47,447 INFO    : TestEnv      :    thermal_temperature\n",
      "2018-05-09 14:11:47,449 INFO    : TestEnv      :    thermal_power_allocator_pid\n",
      "2018-05-09 14:11:47,450 INFO    : TestEnv      :    thermal_power_allocator\n",
      "2018-05-09 14:11:47,451 INFO    : EnergyMeter  : ACME configuration:\n",
      "2018-05-09 14:11:47,452 INFO    : EnergyMeter  :     binary: /usr/bin/iio-capture\n",
      "2018-05-09 14:11:47,453 INFO    : EnergyMeter  :     device: 10.169.36.36\n",
      "2018-05-09 14:11:47,454 INFO    : EnergyMeter  :   channels:\n",
      "2018-05-09 14:11:47,455 INFO    : EnergyMeter  :      Device1 (iio:device1)\n",
      "2018-05-09 14:11:47,456 INFO    : EnergyMeter  :      Device0 (iio:device0)\n",
      "2018-05-09 14:11:47,465 INFO    : TestEnv      : Set results folder to:\n",
      "2018-05-09 14:11:47,467 INFO    : TestEnv      :    /home/steven/lisa/lisa-github/results/Android_Antutu3_sustainable\n",
      "2018-05-09 14:11:47,468 INFO    : TestEnv      : Experiment results available also in:\n",
      "2018-05-09 14:11:47,470 INFO    : TestEnv      :    /home/steven/lisa/lisa-github/results_latest\n"
     ]
    }
   ],
   "source": [
    "# Initialize a test environment using:\n",
    "# the provided target configuration (my_target_conf)\n",
    "# the provided test configuration   (my_test_conf)\n",
    "te = TestEnv(target_conf=my_target_conf, test_conf=my_tests_conf)\n",
    "target = te.target"
   ]
  },
  {
   "cell_type": "markdown",
   "metadata": {},
   "source": [
    "## Support Functions"
   ]
  },
  {
   "cell_type": "markdown",
   "metadata": {},
   "source": [
    "This set of support functions will help us running the benchmark using different CPUFreq governors."
   ]
  },
  {
   "cell_type": "code",
   "execution_count": 7,
   "metadata": {},
   "outputs": [],
   "source": [
    "def wait_for_cooling():\n",
    "    print \"wait for cooling\"\n",
    "    while True:\n",
    "        temp=target.read_int('/sys/class/thermal/thermal_zone0/temp')\n",
    "        print temp\n",
    "        if temp < 55000:\n",
    "            break\n",
    "        sleep(10)\n",
    "    print \"cooling done, start test\""
   ]
  },
  {
   "cell_type": "code",
   "execution_count": 8,
   "metadata": {},
   "outputs": [],
   "source": [
    "def set_test1():\n",
    "    wait_for_cooling()\n",
    "    target.execute('echo step_wise > /sys/class/thermal/thermal_zone0/policy')\n",
    "    print target.read_value('/sys/class/thermal/thermal_zone0/policy')\n",
    "\n",
    "def set_test2():\n",
    "    wait_for_cooling()\n",
    "    target.execute('echo power_allocator > /sys/class/thermal/thermal_zone0/policy')\n",
    "    print target.read_value('/sys/class/thermal/thermal_zone0/policy')"
   ]
  },
  {
   "cell_type": "code",
   "execution_count": 9,
   "metadata": {},
   "outputs": [],
   "source": [
    "# CPUFreq configurations to test\n",
    "confs = {\n",
    "#     'performance' : {\n",
    "#         'label' : 'prf',\n",
    "#         'set' :  set_performance,\n",
    "#     },\n",
    "    #'powersave' : {\n",
    "    #    'label' : 'pws',\n",
    "    #    'set' :  set_powersave,\n",
    "    #},\n",
    "#      'interactive' : {\n",
    "#          'label' : 'int',\n",
    "#          'set' :  set_interactive,\n",
    "#      },\n",
    "    'test1' : {\n",
    "       'label' : 'test1',\n",
    "       'set' :  set_test1,\n",
    "    },\n",
    "    'test2' : {\n",
    "       'label' : 'test2',\n",
    "       'set' :  set_test2,\n",
    "    },\n",
    "    #'ondemand' : {\n",
    "    #    'label' : 'odm',\n",
    "    #    'set' :  set_ondemand,\n",
    "    #}\n",
    "}\n",
    "\n",
    "# The set of results for each comparison test\n",
    "results = {}"
   ]
  },
  {
   "cell_type": "code",
   "execution_count": 10,
   "metadata": {},
   "outputs": [],
   "source": [
    "#Check if PCMark si available on the device\n",
    "\n",
    "def check_packages(pkgname):\n",
    "    try:\n",
    "        output = target.execute('pm list packages -f | grep -i {}'.format(pkgname))\n",
    "    except Exception:\n",
    "        raise RuntimeError('Package: [{}] not availabe on target'.format(pkgname))\n",
    "\n",
    "# Check for specified PKG name being available on target\n",
    "check_packages('com.antutu.ABenchMark')\n",
    "target.adb_root(force=True)"
   ]
  },
  {
   "cell_type": "code",
   "execution_count": 11,
   "metadata": {},
   "outputs": [
    {
     "name": "stderr",
     "output_type": "stream",
     "text": [
      "2018-05-09 14:13:12,992 INFO    : Screen       : Force manual orientation\n",
      "2018-05-09 14:13:12,994 INFO    : Screen       : Set orientation: PORTRAIT\n",
      "2018-05-09 14:13:14,169 INFO    : Screen       : Set brightness: 0%\n"
     ]
    },
    {
     "data": {
      "text/plain": [
       "''"
      ]
     },
     "execution_count": 11,
     "metadata": {},
     "output_type": "execute_result"
    }
   ],
   "source": [
    "from android import Screen\n",
    "\n",
    "target.execute('am force-stop {}'.format(\"com.antutu.ABenchMark\"))\n",
    "target.execute('input keyevent 4')\n",
    "Screen.set_orientation(target, auto=False, portrait=True)\n",
    "Screen.set_brightness(target, auto=False, percent=0)\n",
    "target.cpufreq.set_all_governors('schedutil')\n",
    "\n",
    "# Start PCMark on the target device\n",
    "#target.execute('monkey --pct-syskeys 0 -p com.antutu.ABenchMark -c android.intent.category.LAUNCHER 1')\n",
    "# Wait few seconds to make sure the app is loaded\n",
    "# Screen.set_orientation(target, auto=False, portrait=True)\n",
    "#sleep(10)\n",
    "#target.execute('input tap 961 202')\n",
    "# Wait few seconds to make sure the app is loaded\n",
    "# sleep(5)\n",
    "    \n",
    "\n",
    "# Run performance workload (assume screen is vertical)\n"
   ]
  },
  {
   "cell_type": "code",
   "execution_count": 12,
   "metadata": {},
   "outputs": [],
   "source": [
    "# Function that helps run a Antutu experiment\n",
    "from android import Screen\n",
    "from devlib.utils.android import adb_command\n",
    "\n",
    "def benchmark_run(exp_dir):\n",
    "    # Unlock device screen (assume no password required)\n",
    "    target.execute('am force-stop {}'.format(\"com.antutu.ABenchMark\"))\n",
    "    target.execute('input keyevent 82')\n",
    "    Screen.set_brightness(target, auto=False, percent=0)\n",
    "\n",
    "    # Start PCMark on the target device\n",
    "    target.execute('monkey --pct-syskeys 0 -p com.antutu.ABenchMark  1')\n",
    "#     Screen.set_orientation(target, auto=False, portrait=True)\n",
    "\n",
    "    # Wait few seconds to make sure the app is loaded\n",
    "    sleep(5)\n",
    "    \n",
    "    # Flush entire log\n",
    "    target.clear_logcat()\n",
    "    target.execute('input tap 860 1000')\n",
    "    sleep(1)\n",
    "    Screen.set_orientation(target, auto=False, portrait=True)\n",
    "    # Run performance workload (assume screen is vertical)\n",
    "    target.execute('input tap 960 200')\n",
    "    # Wait for completion (10 minutes in total) and collect log\n",
    "#     log_file = os.path.join(exp_dir, 'log.txt')\n",
    "    # Wait 5 minutes\n",
    "    sleep(30)\n",
    "    # Start collecting the log\n",
    "#     with open(log_file, 'w') as log:\n",
    "#         logcat = Popen(['adb logcat', 'com.antutu.ABenchMark.VirtualMachineState:*', '*:S'],\n",
    "#                        stdout=log,\n",
    "#                        shell=True)\n",
    "#         # Wait additional two minutes for benchmark to complete\n",
    "#         sleep(300)\n",
    "\n",
    "#         # Terminate logcat\n",
    "#         logcat.kill()\n",
    "\n",
    "#     # Get scores from logcat\n",
    "#     score_file = os.path.join(exp_dir, 'score.txt')\n",
    "#     os.popen('grep -o \".*_SCORE .*\" {} | sed \"s/ = / /g\" | sort -u > {}'.format(log_file, score_file))\n",
    "    \n",
    "    # Close application\n",
    "    adb_command(target.adb_name, 'shell screencap -p /data/local/tmp/screen.png')\n",
    "    adb_command(target.adb_name, 'pull /data/local/tmp/screen.png {}'.format(exp_dir))\n",
    "    target.execute('am force-stop com.antutu.ABenchMark')\n",
    "    target.execute('am force-stop com.antutu.benchmark.full')\n",
    "\n",
    "  "
   ]
  },
  {
   "cell_type": "code",
   "execution_count": 13,
   "metadata": {},
   "outputs": [],
   "source": [
    "# Function that helps run PCMark for different governors\n",
    "\n",
    "def experiment(governor, exp_dir):\n",
    "    os.system('mkdir -p {}'.format(exp_dir));\n",
    "    trace_file = os.path.join(exp_dir, 'trace.dat')\n",
    "\n",
    "    logging.info('------------------------')\n",
    "    logging.info('Run workload using %s governor', governor)\n",
    "    confs[governor]['set']()\n",
    "\n",
    "    ### Run the benchmark ###\n",
    "    te.ftrace.start()\n",
    "\n",
    "    benchmark_run(exp_dir)\n",
    "    \n",
    "    te.ftrace.stop()\n",
    "    te.ftrace.get_trace(trace_file)\n",
    "\n",
    "    # return all the experiment data\n",
    "    return {\n",
    "        'dir'        : exp_dir,\n",
    "    }"
   ]
  },
  {
   "cell_type": "markdown",
   "metadata": {},
   "source": [
    "## Run Antutu and collect scores"
   ]
  },
  {
   "cell_type": "code",
   "execution_count": 14,
   "metadata": {
    "scrolled": true
   },
   "outputs": [
    {
     "name": "stderr",
     "output_type": "stream",
     "text": [
      "2018-05-09 14:13:28,985 INFO    : root         : ------------------------\n",
      "2018-05-09 14:13:28,986 INFO    : root         : Run workload using test1 governor\n"
     ]
    },
    {
     "name": "stdout",
     "output_type": "stream",
     "text": [
      "wait for cooling\n",
      "52735\n",
      "cooling done, start test\n",
      "step_wise\n"
     ]
    },
    {
     "name": "stderr",
     "output_type": "stream",
     "text": [
      "2018-05-09 14:13:33,855 INFO    : Screen       : Set brightness: 0%\n",
      "2018-05-09 14:13:40,611 INFO    : Screen       : Force manual orientation\n",
      "2018-05-09 14:13:40,613 INFO    : Screen       : Set orientation: PORTRAIT\n",
      "2018-05-09 14:14:21,540 INFO    : root         : ------------------------\n",
      "2018-05-09 14:14:21,542 INFO    : root         : Run workload using test2 governor\n"
     ]
    },
    {
     "name": "stdout",
     "output_type": "stream",
     "text": [
      "/home/steven/lisa/lisa-github/results/Android_Antutu3_sustainable/test1\n",
      "wait for cooling\n",
      "70136\n",
      "61129\n",
      "58467\n",
      "56830\n",
      "55192\n",
      "53759\n",
      "cooling done, start test\n",
      "power_allocator\n"
     ]
    },
    {
     "name": "stderr",
     "output_type": "stream",
     "text": [
      "2018-05-09 14:15:16,801 INFO    : Screen       : Set brightness: 0%\n",
      "2018-05-09 14:15:23,579 INFO    : Screen       : Force manual orientation\n",
      "2018-05-09 14:15:23,581 INFO    : Screen       : Set orientation: PORTRAIT\n"
     ]
    },
    {
     "name": "stdout",
     "output_type": "stream",
     "text": [
      "/home/steven/lisa/lisa-github/results/Android_Antutu3_sustainable/test2\n"
     ]
    }
   ],
   "source": [
    "# Run the benchmark in all the configured governors\n",
    "testresult_list=[]\n",
    "for testname in confs:\n",
    "    test_dir = os.path.join(te.res_dir, testname)\n",
    "    res = experiment(testname, test_dir)\n",
    "    testresult_list.append(test_dir)\n",
    "    print test_dir"
   ]
  },
  {
   "cell_type": "markdown",
   "metadata": {},
   "source": [
    "After running the benchmark for the specified governors we can show and plot the scores:"
   ]
  },
  {
   "cell_type": "code",
   "execution_count": 15,
   "metadata": {},
   "outputs": [],
   "source": [
    "map_label = {\"00000000,000000f0\": \"big\", \"00000000,0000000f\": \"LITTLE\"}\n",
    "actor_order = [\"GPU\", \"big\", \"LITTLE\"]\n",
    "runs = [(\"stepwise\", os.path.join(te.res_dir, 'test1', 'trace.dat')), (\"ipa\", os.path.join(te.res_dir, 'test2', 'trace.dat'))]"
   ]
  },
  {
   "cell_type": "code",
   "execution_count": 16,
   "metadata": {},
   "outputs": [
    {
     "data": {
      "text/plain": [
       "[('stepwise',\n",
       "  '/home/steven/lisa/lisa-github/results/Android_Antutu3_sustainable/test1/trace.dat'),\n",
       " ('ipa',\n",
       "  '/home/steven/lisa/lisa-github/results/Android_Antutu3_sustainable/test2/trace.dat')]"
      ]
     },
     "execution_count": 16,
     "metadata": {},
     "output_type": "execute_result"
    }
   ],
   "source": [
    "runs"
   ]
  },
  {
   "cell_type": "code",
   "execution_count": 27,
   "metadata": {},
   "outputs": [],
   "source": [
    "# te.ftrace.get_trace(te.res_dir)\n",
    "te.ftrace.report(os.path.join(te.res_dir, 'test1', 'trace.dat'), os.path.join(te.res_dir, 'test1', 'trace.txt'))\n",
    "te.ftrace.report(os.path.join(te.res_dir, 'test2', 'trace.dat'), os.path.join(te.res_dir, 'test2', 'trace.txt'))"
   ]
  },
  {
   "cell_type": "code",
   "execution_count": 17,
   "metadata": {},
   "outputs": [
    {
     "name": "stdout",
     "output_type": "stream",
     "text": [
      "\u001b[01;34m/home/steven/lisa/lisa-github/results/Android_Antutu3_sustainable\u001b[00m\r\n",
      "├── \u001b[01;34mtest1\u001b[00m\r\n",
      "│   ├── \u001b[01;35mscreen.png\u001b[00m\r\n",
      "│   └── trace.dat\r\n",
      "└── \u001b[01;34mtest2\u001b[00m\r\n",
      "    ├── \u001b[01;35mscreen.png\u001b[00m\r\n",
      "    └── trace.dat\r\n",
      "\r\n",
      "2 directories, 4 files\r\n"
     ]
    }
   ],
   "source": [
    "!tree {te.res_dir}"
   ]
  },
  {
   "cell_type": "code",
   "execution_count": 26,
   "metadata": {},
   "outputs": [
    {
     "data": {
      "text/plain": [
       "'/home/steven/lisa/lisa-github/results/Android_Antutu/sched'"
      ]
     },
     "execution_count": 26,
     "metadata": {},
     "output_type": "execute_result"
    }
   ],
   "source": [
    "testresult_list"
   ]
  },
  {
   "cell_type": "code",
   "execution_count": 18,
   "metadata": {},
   "outputs": [],
   "source": [
    "ftrace1=trappy.FTrace(name='stepwise', path=os.path.join(te.res_dir, 'test1', 'trace.dat'), scope=\"thermal\")\n",
    "ftrace2=trappy.FTrace(name='ipa', path=os.path.join(te.res_dir, 'test2', 'trace.dat'), scope=\"thermal\")"
   ]
  },
  {
   "cell_type": "code",
   "execution_count": 20,
   "metadata": {},
   "outputs": [
    {
     "data": {
      "image/png": "[encoded data removed]",
      "text/plain": [
       "<matplotlib.figure.Figure at 0x7fb84aa8da10>"
      ]
     },
     "metadata": {},
     "output_type": "display_data"
    }
   ],
   "source": [
    "import trappy.plot_utils\n",
    "\n",
    "trappy.plot_utils.plot_temperature([ftrace1, ftrace2], 15,7)"
   ]
  },
  {
   "cell_type": "code",
   "execution_count": null,
   "metadata": {},
   "outputs": [],
   "source": []
  }
 ],
 "metadata": {
  "kernelspec": {
   "display_name": "Python 2",
   "language": "python",
   "name": "python2"
  },
  "language_info": {
   "codemirror_mode": {
    "name": "ipython",
    "version": 2
   },
   "file_extension": ".py",
   "mimetype": "text/x-python",
   "name": "python",
   "nbconvert_exporter": "python",
   "pygments_lexer": "ipython2",
   "version": "2.7.6"
  },
  "toc": {
   "toc_cell": false,
   "toc_number_sections": true,
   "toc_threshold": 6,
   "toc_window_display": false
  }
 },
 "nbformat": 4,
 "nbformat_minor": 1
}
