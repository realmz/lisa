{
 "cells": [
  {
   "cell_type": "markdown",
   "metadata": {},
   "source": [
    "# Antutu benchmark on Android"
   ]
  },
  {
   "cell_type": "markdown",
   "metadata": {},
   "source": [
    "The goal of this experiment is to run benchmarks on a hikey960 board running Android with an IPA kernel and collect results. The analysis phase will consist in comparing IPA summary with:\n",
    "    \n",
    "The benchmark we will be using is ***Antutu 3Dbench*** (http://www.antutu.com/en). You will need to **manually install** the app on the Android device in order to run this Notebook.\n",
    "\n",
    "the goals of this notebook:\n",
    "1. analyse the thermal zone temperature\n",
    "1. analyse the CPU’s busy load based on current frequency,  and the normalized busy load based on the max frequency.\n",
    "1. analyse PID algorithm, the SOC’s guaranteed power in one time, and check CPU/GPU requested power and allocated power. \n"
   ]
  },
  {
   "cell_type": "code",
   "execution_count": 5,
   "metadata": {},
   "outputs": [
    {
     "name": "stderr",
     "output_type": "stream",
     "text": [
      "2017-12-04 08:48:19,191 INFO    : root         : Using LISA logging configuration:\n",
      "2017-12-04 08:48:19,192 INFO    : root         :   /home/lisa/lisa-github/logging.conf\n"
     ]
    }
   ],
   "source": [
    "import logging\n",
    "from conf import LisaLogging\n",
    "LisaLogging.setup()"
   ]
  },
  {
   "cell_type": "code",
   "execution_count": 6,
   "metadata": {},
   "outputs": [
    {
     "name": "stdout",
     "output_type": "stream",
     "text": [
      "Populating the interactive namespace from numpy and matplotlib\n"
     ]
    },
    {
     "name": "stderr",
     "output_type": "stream",
     "text": [
      "/usr/local/lib/python2.7/dist-packages/IPython/core/magics/pylab.py:161: UserWarning: pylab import has clobbered these variables: ['copy']\n",
      "`%matplotlib` prevents importing * from pylab and numpy\n",
      "  \"\\n`%matplotlib` prevents importing * from pylab and numpy\"\n"
     ]
    }
   ],
   "source": [
    "%pylab inline\n",
    "\n",
    "import copy\n",
    "import os\n",
    "from time import sleep\n",
    "from subprocess import Popen\n",
    "import pandas as pd\n",
    "\n",
    "# Support to access the remote target\n",
    "import devlib\n",
    "from env import TestEnv\n",
    "\n",
    "# Support for trace events analysis\n",
    "from trace import Trace\n",
    "\n",
    "# Suport for FTrace events parsing and visualization\n",
    "import trappy"
   ]
  },
  {
   "cell_type": "markdown",
   "metadata": {},
   "source": [
    "## Test environment setup\n",
    "\n",
    "For more details on this please check out **examples/utils/testenv_example.ipynb**."
   ]
  },
  {
   "cell_type": "markdown",
   "metadata": {},
   "source": [
    "In case more than one Android device are conencted to the host, you must specify the ID of the device you want to target in `my_target_conf`. Run `adb devices` on your host to get the ID. Also, you have to specify the path to your android sdk in ANDROID_HOME."
   ]
  },
  {
   "cell_type": "code",
   "execution_count": 7,
   "metadata": {
    "collapsed": true
   },
   "outputs": [],
   "source": [
    "# Setup a target configuration\n",
    "my_target_conf = {\n",
    "    \n",
    "#     # Target platform and board\n",
    "#     \"platform\"    : 'android',\n",
    "\n",
    "#     # Add target support\n",
    "#     \"board\" : 'pixel',\n",
    "    \n",
    "#     # Device ID\n",
    "#     \"device\" : \"HT6670300102\",\n",
    "    \n",
    "#     \"ANDROID_HOME\" : \"/home/vagrant/lisa/tools/android-sdk-linux/\",\n",
    "    \n",
    "    \"platform\"    : 'android',\n",
    "    \"board\"       : \"hikey960\",\n",
    "    \"device\" : \"0123456789ABCDEF\",\n",
    "    \n",
    "    \"ANDROID_HOME\" : \"/home/lisa/android-sdk\",\n",
    "    \"rtapp-calib\" : {\"0\": 302, \"1\": 302, \"2\": 304, \"3\": 304, \"4\": 136, \"5\": 137, \"6\": 136, \"7\": 136},\n",
    "\n",
    "     \"emeter\" : {\n",
    "        \"instrument\" : \"acme\",\n",
    "        \"conf\" : {\n",
    "            # Absolute path to the iio-capture binary on the host\n",
    "            'iio-capture' : '/usr/bin/iio-capture',\n",
    "            # Default host name of the BeagleBone Black\n",
    "            'ip_address'     : '10.169.36.36',\n",
    "        },\n",
    "        \"channel_map\" : {\n",
    "            \"Device0\" : 0, # iio:device0\n",
    "            \"Device1\" : 1, # iio:device0\n",
    "        }\n",
    "    },\n",
    "    \n",
    "    # FTrace events to collect for all the tests configuration which have\n",
    "    # the \"ftrace\" flag enabled\n",
    "    \"ftrace\"  : {\n",
    "         \"events\" : [\n",
    "            \"sched_switch\",\n",
    "            \"cpu_capacity\",\n",
    "            \"cpu_frequency\",\n",
    "            \"thermal_power_devfreq_limit\",\n",
    "            \"thermal_power_devfreq_get_power\",\n",
    "            \"thermal_power_cpu_limit\",\n",
    "            \"thermal_power_cpu_get_power\",\n",
    "            \"thermal_zone_trip\",\n",
    "            \"cdev_update\",\n",
    "            \"thermal_temperature\",\n",
    "            \"thermal_power_allocator_pid\",\n",
    "            \"thermal_power_allocator\",\n",
    "         ],\n",
    "         \"buffsize\" : 100 * 1024,\n",
    "    },\n",
    "\n",
    "    # Tools required by the experiments\n",
    "    \"tools\"   : [ 'trace-cmd', 'taskset'],\n",
    "    \n",
    "    # Define devlib modules to load\n",
    "    \"modules\"     : [\n",
    "        'cpufreq'       # enable CPUFreq support\n",
    "    ],\n",
    "}"
   ]
  },
  {
   "cell_type": "code",
   "execution_count": 8,
   "metadata": {
    "collapsed": true,
    "scrolled": false
   },
   "outputs": [],
   "source": [
    "my_tests_conf = {\n",
    "\n",
    "    # Folder where all the results will be collected\n",
    "    \"results_dir\" : \"Android_Antutu\",\n",
    "\n",
    "    # Platform configurations to test\n",
    "    \"confs\" : [\n",
    "        {\n",
    "            \"tag\"            : \"antutu\",\n",
    "            \"flags\"          : \"ftrace\",           # Enable FTrace events\n",
    "            \"sched_features\" : \"ENERGY_AWARE\",     # enable EAS\n",
    "        },\n",
    "    ],\n",
    "}"
   ]
  },
  {
   "cell_type": "code",
   "execution_count": 9,
   "metadata": {},
   "outputs": [
    {
     "name": "stderr",
     "output_type": "stream",
     "text": [
      "2017-12-04 08:48:23,626 INFO    : TestEnv      : Using base path: /home/lisa/lisa-github\n",
      "2017-12-04 08:48:23,628 INFO    : TestEnv      : Loading custom (inline) target configuration\n",
      "2017-12-04 08:48:23,629 INFO    : TestEnv      : Loading custom (inline) test configuration\n",
      "2017-12-04 08:48:23,630 WARNING : TestEnv      : Wipe previous contents of the results folder:\n",
      "2017-12-04 08:48:23,631 WARNING : TestEnv      :    /home/lisa/lisa-github/results/Android_Antutu\n",
      "2017-12-04 08:48:23,679 INFO    : TestEnv      : External tools using:\n",
      "2017-12-04 08:48:23,680 INFO    : TestEnv      :    ANDROID_HOME: /home/lisa/android-sdk\n",
      "2017-12-04 08:48:23,681 INFO    : TestEnv      :    CATAPULT_HOME: /home/lisa/lisa-github/tools/catapult\n",
      "2017-12-04 08:48:23,682 INFO    : TestEnv      : Devlib modules to load: ['bl', 'cpuidle', 'cpufreq']\n",
      "2017-12-04 08:48:23,683 INFO    : TestEnv      : Connecting Android target [0123456789ABCDEF]\n",
      "2017-12-04 08:48:23,684 INFO    : TestEnv      : Connection settings:\n",
      "2017-12-04 08:48:23,685 INFO    : TestEnv      :    {'device': '0123456789ABCDEF'}\n",
      "2017-12-04 08:48:25,832 INFO    : TestEnv      : Initializing target workdir:\n",
      "2017-12-04 08:48:25,834 INFO    : TestEnv      :    /data/local/tmp/devlib-target\n",
      "2017-12-04 08:48:27,479 INFO    : TestEnv      : Attempting to read energy model from target\n",
      "2017-12-04 08:48:28,817 INFO    : TestEnv      : Topology:\n",
      "2017-12-04 08:48:28,818 INFO    : TestEnv      :    [[0, 1, 2, 3], [4, 5, 6, 7]]\n",
      "2017-12-04 08:48:28,995 INFO    : TestEnv      : Loading default EM:\n",
      "2017-12-04 08:48:28,997 INFO    : TestEnv      :    /home/lisa/lisa-github/libs/utils/platforms/hikey960.json\n",
      "2017-12-04 08:48:29,691 INFO    : TestEnv      : Enabled tracepoints:\n",
      "2017-12-04 08:48:29,693 INFO    : TestEnv      :    sched_switch\n",
      "2017-12-04 08:48:29,695 INFO    : TestEnv      :    cpu_capacity\n",
      "2017-12-04 08:48:29,696 INFO    : TestEnv      :    cpu_frequency\n",
      "2017-12-04 08:48:29,698 INFO    : TestEnv      :    thermal_power_devfreq_limit\n",
      "2017-12-04 08:48:29,699 INFO    : TestEnv      :    thermal_power_devfreq_get_power\n",
      "2017-12-04 08:48:29,700 INFO    : TestEnv      :    thermal_power_cpu_limit\n",
      "2017-12-04 08:48:29,701 INFO    : TestEnv      :    thermal_power_cpu_get_power\n",
      "2017-12-04 08:48:29,702 INFO    : TestEnv      :    thermal_zone_trip\n",
      "2017-12-04 08:48:29,703 INFO    : TestEnv      :    cdev_update\n",
      "2017-12-04 08:48:29,704 INFO    : TestEnv      :    thermal_temperature\n",
      "2017-12-04 08:48:29,705 INFO    : TestEnv      :    thermal_power_allocator_pid\n",
      "2017-12-04 08:48:29,707 INFO    : TestEnv      :    thermal_power_allocator\n",
      "2017-12-04 08:48:29,708 INFO    : EnergyMeter  : ACME configuration:\n",
      "2017-12-04 08:48:29,709 INFO    : EnergyMeter  :     binary: /usr/bin/iio-capture\n",
      "2017-12-04 08:48:29,710 INFO    : EnergyMeter  :     device: 10.169.36.36\n",
      "2017-12-04 08:48:29,711 INFO    : EnergyMeter  :   channels:\n",
      "2017-12-04 08:48:29,713 INFO    : EnergyMeter  :      Device1 (iio:device1)\n",
      "2017-12-04 08:48:29,714 INFO    : EnergyMeter  :      Device0 (iio:device0)\n",
      "2017-12-04 08:48:29,729 INFO    : TestEnv      : Set results folder to:\n",
      "2017-12-04 08:48:29,731 INFO    : TestEnv      :    /home/lisa/lisa-github/results/Android_Antutu\n",
      "2017-12-04 08:48:29,732 INFO    : TestEnv      : Experiment results available also in:\n",
      "2017-12-04 08:48:29,734 INFO    : TestEnv      :    /home/lisa/lisa-github/results_latest\n"
     ]
    }
   ],
   "source": [
    "# Initialize a test environment using:\n",
    "# the provided target configuration (my_target_conf)\n",
    "# the provided test configuration   (my_test_conf)\n",
    "te = TestEnv(target_conf=my_target_conf, test_conf=my_tests_conf)\n",
    "target = te.target"
   ]
  },
  {
   "cell_type": "markdown",
   "metadata": {},
   "source": [
    "## Support Functions"
   ]
  },
  {
   "cell_type": "markdown",
   "metadata": {},
   "source": [
    "This set of support functions will help us running the benchmark using different CPUFreq governors."
   ]
  },
  {
   "cell_type": "code",
   "execution_count": 10,
   "metadata": {
    "collapsed": true
   },
   "outputs": [],
   "source": [
    "#Check if Benchmark si available on the device\n",
    "\n",
    "def check_packages(pkgname):\n",
    "    try:\n",
    "        output = target.execute('pm list packages -f | grep -i {}'.format(pkgname))\n",
    "    except Exception:\n",
    "        raise RuntimeError('Package: [{}] not availabe on target'.format(pkgname))\n",
    "\n",
    "# Check for specified PKG name being available on target\n",
    "check_packages('com.antutu.ABenchMark')\n",
    "target.adb_root(force=True)"
   ]
  },
  {
   "cell_type": "code",
   "execution_count": 11,
   "metadata": {
    "collapsed": true
   },
   "outputs": [],
   "source": [
    "# Function that helps run a Antutu experiment\n",
    "from android import Screen\n",
    "from devlib.utils.android import adb_command\n",
    "\n",
    "def benchmark_run(exp_dir):\n",
    "    # Unlock device screen (assume no password required)\n",
    "    target.execute('am force-stop {}'.format(\"com.antutu.ABenchMark\"))\n",
    "    target.execute('input keyevent 82')\n",
    "    Screen.set_brightness(target, auto=False, percent=0)\n",
    "\n",
    "    # Start Benchmark on the target device\n",
    "    target.execute('monkey --pct-syskeys 0 -p com.antutu.ABenchMark  1')\n",
    "#     Screen.set_orientation(target, auto=False, portrait=True)\n",
    "\n",
    "    # Wait few seconds to make sure the app is loaded\n",
    "    sleep(5)\n",
    "    \n",
    "    # Flush entire log\n",
    "    target.clear_logcat()\n",
    "    target.execute('input tap 860 1000')\n",
    "    sleep(1)\n",
    "    Screen.set_orientation(target, auto=False, portrait=True)\n",
    "    # Run performance workload (assume screen is vertical)\n",
    "    target.execute('input tap 960 200')\n",
    "    # Wait for completion (10 minutes in total) and collect log\n",
    "#     log_file = os.path.join(exp_dir, 'log.txt')\n",
    "    # Wait 5 minutes\n",
    "    sleep(30)\n",
    "    # Start collecting the log\n",
    "#     with open(log_file, 'w') as log:\n",
    "#         logcat = Popen(['adb logcat', 'com.antutu.ABenchMark.VirtualMachineState:*', '*:S'],\n",
    "#                        stdout=log,\n",
    "#                        shell=True)\n",
    "#         # Wait additional two minutes for benchmark to complete\n",
    "#         sleep(300)\n",
    "\n",
    "#         # Terminate logcat\n",
    "#         logcat.kill()\n",
    "\n",
    "#     # Get scores from logcat\n",
    "#     score_file = os.path.join(exp_dir, 'score.txt')\n",
    "#     os.popen('grep -o \".*_SCORE .*\" {} | sed \"s/ = / /g\" | sort -u > {}'.format(log_file, score_file))\n",
    "    \n",
    "    # Close application\n",
    "    adb_command(target.adb_name, 'shell screencap -p /data/local/tmp/screen.png')\n",
    "    adb_command(target.adb_name, 'pull /data/local/tmp/screen.png {}'.format(te.res_dir))\n",
    "    target.execute('am force-stop com.antutu.ABenchMark')\n",
    "    target.execute('am force-stop com.antutu.benchmark.full')\n",
    "\n",
    "  "
   ]
  },
  {
   "cell_type": "code",
   "execution_count": 12,
   "metadata": {
    "collapsed": true
   },
   "outputs": [],
   "source": [
    "# Function that helps run Benchmark for different governors\n",
    "\n",
    "def experiment(governor, exp_dir):\n",
    "    os.system('mkdir -p {}'.format(exp_dir));\n",
    "    trace_file = os.path.join(exp_dir, 'trace.dat')\n",
    "\n",
    "    logging.info('------------------------')\n",
    "    logging.info('Run workload using %s governor', governor)\n",
    "    ### Run the benchmark ###\n",
    "    te.ftrace.start()\n",
    "\n",
    "    benchmark_run(exp_dir)\n",
    "    \n",
    "    te.ftrace.stop()\n",
    "    te.ftrace.get_trace(trace_file)\n",
    "\n",
    "    # return all the experiment data\n",
    "    return {\n",
    "        'dir'        : exp_dir,\n",
    "    }"
   ]
  },
  {
   "cell_type": "markdown",
   "metadata": {},
   "source": [
    "## Run Antutu and collect scores"
   ]
  },
  {
   "cell_type": "code",
   "execution_count": 18,
   "metadata": {
    "scrolled": true
   },
   "outputs": [
    {
     "name": "stderr",
     "output_type": "stream",
     "text": [
      "2017-12-04 08:52:07,371 INFO    : root         : ------------------------\n",
      "2017-12-04 08:52:07,373 INFO    : root         : Run workload using thermal test governor\n"
     ]
    },
    {
     "name": "stdout",
     "output_type": "stream",
     "text": [
      "\n"
     ]
    },
    {
     "name": "stderr",
     "output_type": "stream",
     "text": [
      "2017-12-04 08:52:11,569 INFO    : Screen       : Set brightness: 0%\n",
      "2017-12-04 08:52:18,541 INFO    : Screen       : Force manual orientation\n",
      "2017-12-04 08:52:18,543 INFO    : Screen       : Set orientation: PORTRAIT\n"
     ]
    }
   ],
   "source": [
    "# Run the benchmark in all the configured governors\n",
    "res = experiment(\"thermal test\", te.res_dir)\n"
   ]
  },
  {
   "cell_type": "markdown",
   "metadata": {},
   "source": [
    "After running the benchmark for the specified governors we can show and plot the scores:"
   ]
  },
  {
   "cell_type": "code",
   "execution_count": 14,
   "metadata": {
    "collapsed": true
   },
   "outputs": [],
   "source": [
    "map_label = {\"00000000,000000f0\": \"big\", \"00000000,0000000f\": \"LITTLE\"}\n",
    "actor_order = [\"GPU\", \"big\", \"LITTLE\"]\n"
   ]
  },
  {
   "cell_type": "code",
   "execution_count": 15,
   "metadata": {
    "collapsed": true
   },
   "outputs": [],
   "source": [
    "# te.ftrace.get_trace(te.res_dir)\n",
    "te.ftrace.report(os.path.join(te.res_dir, 'trace.dat'), os.path.join(te.res_dir, 'trace.txt'))"
   ]
  },
  {
   "cell_type": "code",
   "execution_count": 16,
   "metadata": {},
   "outputs": [
    {
     "name": "stdout",
     "output_type": "stream",
     "text": [
      "\u001b[01;34m/home/lisa/lisa-github/results/Android_Antutu\u001b[00m\r\n",
      "|-- \u001b[01;35mscreen.png\u001b[00m\r\n",
      "|-- trace.dat\r\n",
      "`-- trace.txt\r\n",
      "\r\n",
      "0 directories, 3 files\r\n"
     ]
    }
   ],
   "source": [
    "!tree {te.res_dir}"
   ]
  },
  {
   "cell_type": "code",
   "execution_count": 19,
   "metadata": {
    "scrolled": true
   },
   "outputs": [
    {
     "ename": "KeyError",
     "evalue": "None",
     "output_type": "error",
     "traceback": [
      "\u001b[0;31m\u001b[0m",
      "\u001b[0;31mKeyError\u001b[0mTraceback (most recent call last)",
      "\u001b[0;32m<ipython-input-19-41223f449489>\u001b[0m in \u001b[0;36m<module>\u001b[0;34m()\u001b[0m\n\u001b[0;32m----> 1\u001b[0;31m \u001b[0mtrappy\u001b[0m\u001b[0;34m.\u001b[0m\u001b[0msummary_plots\u001b[0m\u001b[0;34m(\u001b[0m\u001b[0mactor_order\u001b[0m\u001b[0;34m,\u001b[0m \u001b[0mmap_label\u001b[0m\u001b[0;34m,\u001b[0m \u001b[0mpath\u001b[0m\u001b[0;34m=\u001b[0m\u001b[0mos\u001b[0m\u001b[0;34m.\u001b[0m\u001b[0mpath\u001b[0m\u001b[0;34m.\u001b[0m\u001b[0mjoin\u001b[0m\u001b[0;34m(\u001b[0m\u001b[0mte\u001b[0m\u001b[0;34m.\u001b[0m\u001b[0mres_dir\u001b[0m\u001b[0;34m,\u001b[0m \u001b[0;34m'trace.dat'\u001b[0m\u001b[0;34m)\u001b[0m\u001b[0;34m)\u001b[0m\u001b[0;34m\u001b[0m\u001b[0m\n\u001b[0m",
      "\u001b[0;32m/home/lisa/lisa-github/libs/trappy/trappy/compare_runs.pyc\u001b[0m in \u001b[0;36msummary_plots\u001b[0;34m(actor_order, map_label, **kwords)\u001b[0m\n\u001b[1;32m    105\u001b[0m     \u001b[0mtitle\u001b[0m \u001b[0;34m=\u001b[0m \u001b[0mkwords\u001b[0m\u001b[0;34m.\u001b[0m\u001b[0mpop\u001b[0m\u001b[0;34m(\u001b[0m\u001b[0;34m\"title\"\u001b[0m\u001b[0;34m,\u001b[0m \u001b[0;34m\"\"\u001b[0m\u001b[0;34m)\u001b[0m\u001b[0;34m\u001b[0m\u001b[0m\n\u001b[1;32m    106\u001b[0m \u001b[0;34m\u001b[0m\u001b[0m\n\u001b[0;32m--> 107\u001b[0;31m     \u001b[0;32mreturn\u001b[0m \u001b[0mcompare_runs\u001b[0m\u001b[0;34m(\u001b[0m\u001b[0mactor_order\u001b[0m\u001b[0;34m,\u001b[0m \u001b[0mmap_label\u001b[0m\u001b[0;34m,\u001b[0m \u001b[0;34m[\u001b[0m\u001b[0;34m(\u001b[0m\u001b[0mtitle\u001b[0m\u001b[0;34m,\u001b[0m \u001b[0mpath\u001b[0m\u001b[0;34m)\u001b[0m\u001b[0;34m]\u001b[0m\u001b[0;34m,\u001b[0m \u001b[0;34m**\u001b[0m\u001b[0mkwords\u001b[0m\u001b[0;34m)\u001b[0m\u001b[0;34m\u001b[0m\u001b[0m\n\u001b[0m",
      "\u001b[0;32m/home/lisa/lisa-github/libs/trappy/trappy/compare_runs.pyc\u001b[0m in \u001b[0;36mcompare_runs\u001b[0;34m(actor_order, map_label, runs, **kwords)\u001b[0m\n\u001b[1;32m     76\u001b[0m     \u001b[0mrun_data\u001b[0m \u001b[0;34m=\u001b[0m \u001b[0;34m[\u001b[0m\u001b[0;34m]\u001b[0m\u001b[0;34m\u001b[0m\u001b[0m\n\u001b[1;32m     77\u001b[0m     \u001b[0;32mfor\u001b[0m \u001b[0mname\u001b[0m\u001b[0;34m,\u001b[0m \u001b[0mpath\u001b[0m \u001b[0;32min\u001b[0m \u001b[0mruns\u001b[0m\u001b[0;34m:\u001b[0m\u001b[0;34m\u001b[0m\u001b[0m\n\u001b[0;32m---> 78\u001b[0;31m         \u001b[0mrun_data\u001b[0m\u001b[0;34m.\u001b[0m\u001b[0mappend\u001b[0m\u001b[0;34m(\u001b[0m\u001b[0mtrappy\u001b[0m\u001b[0;34m.\u001b[0m\u001b[0mFTrace\u001b[0m\u001b[0;34m(\u001b[0m\u001b[0mname\u001b[0m\u001b[0;34m=\u001b[0m\u001b[0mname\u001b[0m\u001b[0;34m,\u001b[0m \u001b[0mpath\u001b[0m\u001b[0;34m=\u001b[0m\u001b[0mpath\u001b[0m\u001b[0;34m,\u001b[0m \u001b[0mscope\u001b[0m\u001b[0;34m=\u001b[0m\u001b[0;34m\"thermal\"\u001b[0m\u001b[0;34m)\u001b[0m\u001b[0;34m)\u001b[0m\u001b[0;34m\u001b[0m\u001b[0m\n\u001b[0m\u001b[1;32m     79\u001b[0m         \u001b[0mtrappy\u001b[0m\u001b[0;34m.\u001b[0m\u001b[0mwa\u001b[0m\u001b[0;34m.\u001b[0m\u001b[0mSysfsExtractor\u001b[0m\u001b[0;34m(\u001b[0m\u001b[0mpath\u001b[0m\u001b[0;34m)\u001b[0m\u001b[0;34m.\u001b[0m\u001b[0mpretty_print_in_ipython\u001b[0m\u001b[0;34m(\u001b[0m\u001b[0;34m)\u001b[0m\u001b[0;34m\u001b[0m\u001b[0m\n\u001b[1;32m     80\u001b[0m \u001b[0;34m\u001b[0m\u001b[0m\n",
      "\u001b[0;32m/home/lisa/lisa-github/libs/trappy/trappy/ftrace.pyc\u001b[0m in \u001b[0;36m__init__\u001b[0;34m(self, path, name, normalize_time, scope, events, window, abs_window)\u001b[0m\n\u001b[1;32m    729\u001b[0m \u001b[0;34m\u001b[0m\u001b[0m\n\u001b[1;32m    730\u001b[0m         super(FTrace, self).__init__(name, normalize_time, scope, events,\n\u001b[0;32m--> 731\u001b[0;31m                                      window, abs_window)\n\u001b[0m\u001b[1;32m    732\u001b[0m \u001b[0;34m\u001b[0m\u001b[0m\n\u001b[1;32m    733\u001b[0m     \u001b[0;32mdef\u001b[0m \u001b[0m_parsing_setup\u001b[0m\u001b[0;34m(\u001b[0m\u001b[0mself\u001b[0m\u001b[0;34m)\u001b[0m\u001b[0;34m:\u001b[0m\u001b[0;34m\u001b[0m\u001b[0m\n",
      "\u001b[0;32m/home/lisa/lisa-github/libs/trappy/trappy/ftrace.pyc\u001b[0m in \u001b[0;36m__init__\u001b[0;34m(self, name, normalize_time, scope, events, window, abs_window)\u001b[0m\n\u001b[1;32m     97\u001b[0m         \u001b[0mself\u001b[0m\u001b[0;34m.\u001b[0m\u001b[0mmax_window\u001b[0m \u001b[0;34m=\u001b[0m \u001b[0;34m(\u001b[0m\u001b[0;36m0\u001b[0m\u001b[0;34m,\u001b[0m \u001b[0mNone\u001b[0m\u001b[0;34m)\u001b[0m\u001b[0;34m\u001b[0m\u001b[0m\n\u001b[1;32m     98\u001b[0m \u001b[0;34m\u001b[0m\u001b[0m\n\u001b[0;32m---> 99\u001b[0;31m         \u001b[0mself\u001b[0m\u001b[0;34m.\u001b[0m\u001b[0m_do_parse\u001b[0m\u001b[0;34m(\u001b[0m\u001b[0;34m)\u001b[0m\u001b[0;34m\u001b[0m\u001b[0m\n\u001b[0m\u001b[1;32m    100\u001b[0m \u001b[0;34m\u001b[0m\u001b[0m\n\u001b[1;32m    101\u001b[0m     \u001b[0;34m@\u001b[0m\u001b[0mclassmethod\u001b[0m\u001b[0;34m\u001b[0m\u001b[0m\n",
      "\u001b[0;32m/home/lisa/lisa-github/libs/trappy/trappy/ftrace.pyc\u001b[0m in \u001b[0;36m_do_parse\u001b[0;34m(self)\u001b[0m\n\u001b[1;32m    300\u001b[0m \u001b[0;34m\u001b[0m\u001b[0m\n\u001b[1;32m    301\u001b[0m         \u001b[0mself\u001b[0m\u001b[0;34m.\u001b[0m\u001b[0m__parse_trace_file\u001b[0m\u001b[0;34m(\u001b[0m\u001b[0mself\u001b[0m\u001b[0;34m.\u001b[0m\u001b[0mfile_to_parse\u001b[0m\u001b[0;34m)\u001b[0m\u001b[0;34m\u001b[0m\u001b[0m\n\u001b[0;32m--> 302\u001b[0;31m         \u001b[0mself\u001b[0m\u001b[0;34m.\u001b[0m\u001b[0mfinalize_objects\u001b[0m\u001b[0;34m(\u001b[0m\u001b[0;34m)\u001b[0m\u001b[0;34m\u001b[0m\u001b[0m\n\u001b[0m\u001b[1;32m    303\u001b[0m \u001b[0;34m\u001b[0m\u001b[0m\n\u001b[1;32m    304\u001b[0m         \u001b[0;31m# Update (or create) cache directory\u001b[0m\u001b[0;34m\u001b[0m\u001b[0;34m\u001b[0m\u001b[0m\n",
      "\u001b[0;32m/home/lisa/lisa-github/libs/trappy/trappy/bare_trace.pyc\u001b[0m in \u001b[0;36mfinalize_objects\u001b[0;34m(self)\u001b[0m\n\u001b[1;32m    138\u001b[0m                 \u001b[0;32mcontinue\u001b[0m\u001b[0;34m\u001b[0m\u001b[0m\n\u001b[1;32m    139\u001b[0m             \u001b[0mtrace_class\u001b[0m\u001b[0;34m.\u001b[0m\u001b[0mtracer\u001b[0m \u001b[0;34m=\u001b[0m \u001b[0mself\u001b[0m\u001b[0;34m\u001b[0m\u001b[0m\n\u001b[0;32m--> 140\u001b[0;31m             \u001b[0mtrace_class\u001b[0m\u001b[0;34m.\u001b[0m\u001b[0mcreate_dataframe\u001b[0m\u001b[0;34m(\u001b[0m\u001b[0;34m)\u001b[0m\u001b[0;34m\u001b[0m\u001b[0m\n\u001b[0m\u001b[1;32m    141\u001b[0m             \u001b[0mtrace_class\u001b[0m\u001b[0;34m.\u001b[0m\u001b[0mfinalize_object\u001b[0m\u001b[0;34m(\u001b[0m\u001b[0;34m)\u001b[0m\u001b[0;34m\u001b[0m\u001b[0m\n\u001b[1;32m    142\u001b[0m \u001b[0;34m\u001b[0m\u001b[0m\n",
      "\u001b[0;32m/home/lisa/lisa-github/libs/trappy/trappy/base.pyc\u001b[0m in \u001b[0;36mcreate_dataframe\u001b[0;34m(self)\u001b[0m\n\u001b[1;32m    262\u001b[0m \u001b[0;34m\u001b[0m\u001b[0m\n\u001b[1;32m    263\u001b[0m         \u001b[0mtime_idx\u001b[0m \u001b[0;34m=\u001b[0m \u001b[0mpd\u001b[0m\u001b[0;34m.\u001b[0m\u001b[0mIndex\u001b[0m\u001b[0;34m(\u001b[0m\u001b[0mself\u001b[0m\u001b[0;34m.\u001b[0m\u001b[0mtime_array\u001b[0m\u001b[0;34m,\u001b[0m \u001b[0mname\u001b[0m\u001b[0;34m=\u001b[0m\u001b[0;34m\"Time\"\u001b[0m\u001b[0;34m)\u001b[0m\u001b[0;34m\u001b[0m\u001b[0m\n\u001b[0;32m--> 264\u001b[0;31m         \u001b[0mself\u001b[0m\u001b[0;34m.\u001b[0m\u001b[0mdata_frame\u001b[0m \u001b[0;34m=\u001b[0m \u001b[0mpd\u001b[0m\u001b[0;34m.\u001b[0m\u001b[0mDataFrame\u001b[0m\u001b[0;34m(\u001b[0m\u001b[0mself\u001b[0m\u001b[0;34m.\u001b[0m\u001b[0mgenerate_parsed_data\u001b[0m\u001b[0;34m(\u001b[0m\u001b[0;34m)\u001b[0m\u001b[0;34m,\u001b[0m \u001b[0mindex\u001b[0m\u001b[0;34m=\u001b[0m\u001b[0mtime_idx\u001b[0m\u001b[0;34m)\u001b[0m\u001b[0;34m\u001b[0m\u001b[0m\n\u001b[0m\u001b[1;32m    265\u001b[0m \u001b[0;34m\u001b[0m\u001b[0m\n\u001b[1;32m    266\u001b[0m         \u001b[0mself\u001b[0m\u001b[0;34m.\u001b[0m\u001b[0mtime_array\u001b[0m \u001b[0;34m=\u001b[0m \u001b[0;34m[\u001b[0m\u001b[0;34m]\u001b[0m\u001b[0;34m\u001b[0m\u001b[0m\n",
      "\u001b[0;32m/usr/local/lib/python2.7/dist-packages/pandas/core/frame.pyc\u001b[0m in \u001b[0;36m__init__\u001b[0;34m(self, data, index, columns, dtype, copy)\u001b[0m\n\u001b[1;32m    307\u001b[0m         \u001b[0;32melif\u001b[0m \u001b[0misinstance\u001b[0m\u001b[0;34m(\u001b[0m\u001b[0mdata\u001b[0m\u001b[0;34m,\u001b[0m \u001b[0;34m(\u001b[0m\u001b[0mlist\u001b[0m\u001b[0;34m,\u001b[0m \u001b[0mtypes\u001b[0m\u001b[0;34m.\u001b[0m\u001b[0mGeneratorType\u001b[0m\u001b[0;34m)\u001b[0m\u001b[0;34m)\u001b[0m\u001b[0;34m:\u001b[0m\u001b[0;34m\u001b[0m\u001b[0m\n\u001b[1;32m    308\u001b[0m             \u001b[0;32mif\u001b[0m \u001b[0misinstance\u001b[0m\u001b[0;34m(\u001b[0m\u001b[0mdata\u001b[0m\u001b[0;34m,\u001b[0m \u001b[0mtypes\u001b[0m\u001b[0;34m.\u001b[0m\u001b[0mGeneratorType\u001b[0m\u001b[0;34m)\u001b[0m\u001b[0;34m:\u001b[0m\u001b[0;34m\u001b[0m\u001b[0m\n\u001b[0;32m--> 309\u001b[0;31m                 \u001b[0mdata\u001b[0m \u001b[0;34m=\u001b[0m \u001b[0mlist\u001b[0m\u001b[0;34m(\u001b[0m\u001b[0mdata\u001b[0m\u001b[0;34m)\u001b[0m\u001b[0;34m\u001b[0m\u001b[0m\n\u001b[0m\u001b[1;32m    310\u001b[0m             \u001b[0;32mif\u001b[0m \u001b[0mlen\u001b[0m\u001b[0;34m(\u001b[0m\u001b[0mdata\u001b[0m\u001b[0;34m)\u001b[0m \u001b[0;34m>\u001b[0m \u001b[0;36m0\u001b[0m\u001b[0;34m:\u001b[0m\u001b[0;34m\u001b[0m\u001b[0m\n\u001b[1;32m    311\u001b[0m                 \u001b[0;32mif\u001b[0m \u001b[0mis_list_like\u001b[0m\u001b[0;34m(\u001b[0m\u001b[0mdata\u001b[0m\u001b[0;34m[\u001b[0m\u001b[0;36m0\u001b[0m\u001b[0;34m]\u001b[0m\u001b[0;34m)\u001b[0m \u001b[0;32mand\u001b[0m \u001b[0mgetattr\u001b[0m\u001b[0;34m(\u001b[0m\u001b[0mdata\u001b[0m\u001b[0;34m[\u001b[0m\u001b[0;36m0\u001b[0m\u001b[0;34m]\u001b[0m\u001b[0;34m,\u001b[0m \u001b[0;34m'ndim'\u001b[0m\u001b[0;34m,\u001b[0m \u001b[0;36m1\u001b[0m\u001b[0;34m)\u001b[0m \u001b[0;34m==\u001b[0m \u001b[0;36m1\u001b[0m\u001b[0;34m:\u001b[0m\u001b[0;34m\u001b[0m\u001b[0m\n",
      "\u001b[0;32m/home/lisa/lisa-github/libs/trappy/trappy/base.pyc\u001b[0m in \u001b[0;36mgenerate_parsed_data\u001b[0;34m(self)\u001b[0m\n\u001b[1;32m    231\u001b[0m                                               self.data_array):\n\u001b[1;32m    232\u001b[0m             \u001b[0mdata_dict\u001b[0m \u001b[0;34m=\u001b[0m \u001b[0;34m{\u001b[0m\u001b[0;34m\"__comm\"\u001b[0m\u001b[0;34m:\u001b[0m \u001b[0mcomm\u001b[0m\u001b[0;34m,\u001b[0m \u001b[0;34m\"__pid\"\u001b[0m\u001b[0;34m:\u001b[0m \u001b[0mpid\u001b[0m\u001b[0;34m,\u001b[0m \u001b[0;34m\"__cpu\"\u001b[0m\u001b[0;34m:\u001b[0m \u001b[0mcpu\u001b[0m\u001b[0;34m,\u001b[0m \u001b[0;34m\"__line\"\u001b[0m\u001b[0;34m:\u001b[0m \u001b[0mline\u001b[0m\u001b[0;34m}\u001b[0m\u001b[0;34m\u001b[0m\u001b[0m\n\u001b[0;32m--> 233\u001b[0;31m             \u001b[0mdata_dict\u001b[0m\u001b[0;34m.\u001b[0m\u001b[0mupdate\u001b[0m\u001b[0;34m(\u001b[0m\u001b[0mself\u001b[0m\u001b[0;34m.\u001b[0m\u001b[0mgenerate_data_dict\u001b[0m\u001b[0;34m(\u001b[0m\u001b[0mdata_str\u001b[0m\u001b[0;34m)\u001b[0m\u001b[0;34m)\u001b[0m\u001b[0;34m\u001b[0m\u001b[0m\n\u001b[0m\u001b[1;32m    234\u001b[0m \u001b[0;34m\u001b[0m\u001b[0m\n\u001b[1;32m    235\u001b[0m             \u001b[0;31m# When running out of memory, Pandas has been observed to segfault\u001b[0m\u001b[0;34m\u001b[0m\u001b[0;34m\u001b[0m\u001b[0m\n",
      "\u001b[0;32m/home/lisa/lisa-github/libs/trappy/trappy/base.pyc\u001b[0m in \u001b[0;36mgenerate_data_dict\u001b[0;34m(self, data_str)\u001b[0m\n\u001b[1;32m    208\u001b[0m             \u001b[0;32mif\u001b[0m \u001b[0;34m\"=\"\u001b[0m \u001b[0;32mnot\u001b[0m \u001b[0;32min\u001b[0m \u001b[0mfield\u001b[0m\u001b[0;34m:\u001b[0m\u001b[0;34m\u001b[0m\u001b[0m\n\u001b[1;32m    209\u001b[0m                 \u001b[0;31m# Concatenation is supported only for \"string\" values\u001b[0m\u001b[0;34m\u001b[0m\u001b[0;34m\u001b[0m\u001b[0m\n\u001b[0;32m--> 210\u001b[0;31m                 \u001b[0;32mif\u001b[0m \u001b[0mtype\u001b[0m\u001b[0;34m(\u001b[0m\u001b[0mdata_dict\u001b[0m\u001b[0;34m[\u001b[0m\u001b[0mprev_key\u001b[0m\u001b[0;34m]\u001b[0m\u001b[0;34m)\u001b[0m \u001b[0;32mis\u001b[0m \u001b[0;32mnot\u001b[0m \u001b[0mstr\u001b[0m\u001b[0;34m:\u001b[0m\u001b[0;34m\u001b[0m\u001b[0m\n\u001b[0m\u001b[1;32m    211\u001b[0m                     \u001b[0;32mcontinue\u001b[0m\u001b[0;34m\u001b[0m\u001b[0m\n\u001b[1;32m    212\u001b[0m                 \u001b[0mdata_dict\u001b[0m\u001b[0;34m[\u001b[0m\u001b[0mprev_key\u001b[0m\u001b[0;34m]\u001b[0m \u001b[0;34m+=\u001b[0m \u001b[0;34m' '\u001b[0m \u001b[0;34m+\u001b[0m \u001b[0mfield\u001b[0m\u001b[0;34m\u001b[0m\u001b[0m\n",
      "\u001b[0;31mKeyError\u001b[0m: None"
     ]
    }
   ],
   "source": [
    "trappy.summary_plots(actor_order, map_label, path=os.path.join(te.res_dir, 'trace.dat'))"
   ]
  },
  {
   "cell_type": "code",
   "execution_count": null,
   "metadata": {},
   "outputs": [],
   "source": [
    "trappy.summary_plots(actor_order, map_label, path='/home/lisa/lisa-github/results/Android_Antutu/trace.dat')"
   ]
  },
  {
   "cell_type": "code",
   "execution_count": 43,
   "metadata": {},
   "outputs": [
    {
     "data": {
      "image/png": "[encoded data removed]",
      "text/plain": [
       "<matplotlib.figure.Figure at 0x7f408ffc3250>"
      ]
     },
     "metadata": {},
     "output_type": "display_data"
    }
   ],
   "source": [
    "import matplotlib.image as mpimg\n",
    "import matplotlib.pyplot as plt\n",
    "\n",
    "img=mpimg.imread( os.path.join(te.res_dir, 'screen.png'))\n",
    "imgplot = plt.imshow(img)\n",
    "\n"
   ]
  },
  {
   "cell_type": "code",
   "execution_count": 33,
   "metadata": {},
   "outputs": [
    {
     "data": {
      "text/plain": [
       "''"
      ]
     },
     "execution_count": 33,
     "metadata": {},
     "output_type": "execute_result"
    }
   ],
   "source": [
    "target.execute('am force-stop com.antutu.ABenchMark')\n",
    "target.execute('am force-stop com.antutu.benchmark.full')"
   ]
  },
  {
   "cell_type": "code",
   "execution_count": null,
   "metadata": {
    "collapsed": true
   },
   "outputs": [],
   "source": []
  }
 ],
 "metadata": {
  "kernelspec": {
   "display_name": "Python 2",
   "language": "python",
   "name": "python2"
  },
  "language_info": {
   "codemirror_mode": {
    "name": "ipython",
    "version": 2
   },
   "file_extension": ".py",
   "mimetype": "text/x-python",
   "name": "python",
   "nbconvert_exporter": "python",
   "pygments_lexer": "ipython2",
   "version": "2.7.12"
  },
  "toc": {
   "toc_cell": false,
   "toc_number_sections": true,
   "toc_threshold": 6,
   "toc_window_display": false
  }
 },
 "nbformat": 4,
 "nbformat_minor": 1
}
